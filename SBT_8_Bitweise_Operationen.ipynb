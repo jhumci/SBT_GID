{
 "cells": [
  {
   "cell_type": "markdown",
   "metadata": {},
   "source": [
    "<table style=\"width: 100%\">\n",
    "    <tr style=\"background: #ffffff\">\n",
    "        <td style=\"padding-top:25px;width: 180px\"><img src=\"https://mci.edu/templates/mci/images/logo.svg\" alt=\"Logo\"></td>\n",
    "        <td style=\"width: 100%\">\n",
    "            <div style=\"text-align:right; width: 100%; text-align:right\"><font style=\"font-size:38px\"><b>Grundlagen Programmierung</b></font></div>\n",
    "            <div style=\"padding-top:0px; width: 100%; text-align:right\"><font size=\"4\"><b>WS 2023</b></font></div>\n",
    "        </td>\n",
    "    </tr>\n",
    "</table>\n",
    "\n",
    "---\n",
    "\n",
    "# 8 Bitweise Operationen\n",
    "\n",
    "In der Informatik ist ein bitweiser Operator ein Operator, der auf ein oder zwei Bitketten, Bitfeldern, Bitfolgen oder Bitvektoren auf der Ebene der einzelnen Bits angewendet wird. Die zugrunde liegenden Operationen auf den einzelnen Bits sind schaltungstechnisch die allereinfachsten, und alle höheren Operationen lassen sich auf sie zurückführen. \n",
    "\n",
    "An machen Stellen z.B. hardware-naher Programmierung von Microkontrollern werden solche Funktionen benötigt."
   ]
  },
  {
   "cell_type": "markdown",
   "metadata": {},
   "source": [
    "## 8.1 Arbeiten mit Bitfeldern und Zahlendarstellungen\n",
    "\n",
    "Sie haben in der Vorlesung verschiedene Zahlendarstellungen kennengelernt. Python kann Bitfolgen in alle diesen Darstellungen verarbeiten:"
   ]
  },
  {
   "cell_type": "code",
   "execution_count": 1,
   "metadata": {},
   "outputs": [],
   "source": [
    "# Bitfolgen können im Python über vorangestelltes 0b eingegeben werden\n",
    "x = 0b0101"
   ]
  },
  {
   "cell_type": "code",
   "execution_count": 2,
   "metadata": {},
   "outputs": [
    {
     "data": {
      "text/plain": [
       "5"
      ]
     },
     "execution_count": 2,
     "metadata": {},
     "output_type": "execute_result"
    }
   ],
   "source": [
    "# Vor der Ausgabe werden diese automatisch in Dezimalzahlen umgewandelt\n",
    "x"
   ]
  },
  {
   "cell_type": "code",
   "execution_count": 3,
   "metadata": {},
   "outputs": [
    {
     "data": {
      "text/plain": [
       "'0b101'"
      ]
     },
     "execution_count": 3,
     "metadata": {},
     "output_type": "execute_result"
    }
   ],
   "source": [
    "#Die Funktion bin() verhindert dies und gibt stattdessen eine Zeichenkette aus\n",
    "# Man erkennt die Binärdarstellung am vorangestellten 0b\n",
    "bin(5)"
   ]
  },
  {
   "cell_type": "code",
   "execution_count": 4,
   "metadata": {},
   "outputs": [
    {
     "data": {
      "text/plain": [
       "'0x5'"
      ]
     },
     "execution_count": 4,
     "metadata": {},
     "output_type": "execute_result"
    }
   ],
   "source": [
    "# Analog kann man Bitfelder auch als Hexdezimalzahl anzeigen lassen\n",
    "hex(5)"
   ]
  },
  {
   "cell_type": "markdown",
   "metadata": {},
   "source": [
    "## 8.2 Bitweise Operatoren\n",
    "\n",
    "Es gibt fünf zentrale Bitweise Operatoren. Drei hiervon arbeiten auf einer eigenen Bitfolge / Bitfeld: \n",
    "- Eine Verschiebung des Bitfeldes nach links \n",
    "- oder recht. \n",
    "- Eine Negation jedes Bit eines Bitfeldes.\n",
    "Zudem gibt es eine Operation die mit zwei Bifeldern arbeitet und diese für jede einzelne stelle mit eine `und` oder `oder`-Operator vergleicht. Anders als bei der Addition von Binärzahlen gibt es hier keinen Übertrag!"
   ]
  },
  {
   "cell_type": "code",
   "execution_count": 5,
   "metadata": {},
   "outputs": [
    {
     "data": {
      "text/plain": [
       "'0b110'"
      ]
     },
     "execution_count": 5,
     "metadata": {},
     "output_type": "execute_result"
    }
   ],
   "source": [
    "# Bit shift nach links\n",
    "bin(0b0011 << 0b1)"
   ]
  },
  {
   "cell_type": "code",
   "execution_count": 6,
   "metadata": {},
   "outputs": [
    {
     "data": {
      "text/plain": [
       "'0b1'"
      ]
     },
     "execution_count": 6,
     "metadata": {},
     "output_type": "execute_result"
    }
   ],
   "source": [
    "# Bit shift nach rechts\n",
    "# Verlorenes Bit wird verworfen\n",
    "bin(0b0011 >> 0b1)"
   ]
  },
  {
   "cell_type": "code",
   "execution_count": 7,
   "metadata": {},
   "outputs": [
    {
     "data": {
      "text/plain": [
       "'0b1'"
      ]
     },
     "execution_count": 7,
     "metadata": {},
     "output_type": "execute_result"
    }
   ],
   "source": [
    "# Bitweises und --> kein Übertrag\n",
    "bin(0b0001 & 0b0011)"
   ]
  },
  {
   "cell_type": "code",
   "execution_count": 8,
   "metadata": {},
   "outputs": [
    {
     "data": {
      "text/plain": [
       "'0b11'"
      ]
     },
     "execution_count": 8,
     "metadata": {},
     "output_type": "execute_result"
    }
   ],
   "source": [
    "# Bitweises oder\n",
    "bin(0b0000 | 0b0011)"
   ]
  },
  {
   "cell_type": "code",
   "execution_count": 9,
   "metadata": {},
   "outputs": [
    {
     "data": {
      "text/plain": [
       "'-0b100'"
      ]
     },
     "execution_count": 9,
     "metadata": {},
     "output_type": "execute_result"
    }
   ],
   "source": [
    "# Bitweises not\n",
    "bin(~(0b0011))"
   ]
  },
  {
   "cell_type": "code",
   "execution_count": 10,
   "metadata": {},
   "outputs": [
    {
     "data": {
      "text/plain": [
       "'001'"
      ]
     },
     "execution_count": 10,
     "metadata": {},
     "output_type": "execute_result"
    }
   ],
   "source": [
    "\"1\".zfill(3)"
   ]
  },
  {
   "cell_type": "markdown",
   "metadata": {},
   "source": [
    "## 8.3 Anwendung bei der Verarbeitung von IP-Adressen"
   ]
  },
  {
   "cell_type": "markdown",
   "metadata": {},
   "source": [
    "Schreiben Sie eine Funktion, der eine IP-Adresse und eine Subnetzmaske als String übergeben wird und welche den Hostanteil und den Netzwerkteils als Binärzahl herausgibt. Zum Start wird Ihnen eine Funktion zur Umwandlung von IP-Adressen als String in Binärfolgen gegeben.\n",
    "\n"
   ]
  },
  {
   "cell_type": "code",
   "execution_count": 11,
   "metadata": {},
   "outputs": [],
   "source": [
    "ip = \"196.200.0.023\"\n",
    "subnetzmaske = \"255.255.255.0\"\n",
    "\n",
    "def ip_to_binary(ip):\n",
    "    \"\"\"Übernimmt eine IP-Adresse als String übernimmt und diese in einen Binärwert umwandelt\"\"\"\n",
    "    ip_binary = \"\"\n",
    "    for byte in ip.split(\".\"):\n",
    "        byte = '{0:b}'.format(int(byte))\n",
    "        byte = byte.zfill(8)\n",
    "        ip_binary=ip_binary + byte\n",
    "        ip_binary = bin(int(ip_binary, 2))\n",
    "    return ip_binary"
   ]
  },
  {
   "cell_type": "code",
   "execution_count": null,
   "metadata": {},
   "outputs": [],
   "source": []
  },
  {
   "cell_type": "code",
   "execution_count": 12,
   "metadata": {},
   "outputs": [
    {
     "data": {
      "text/plain": [
       "'0b11000100110010000000000000000000'"
      ]
     },
     "execution_count": 12,
     "metadata": {},
     "output_type": "execute_result"
    }
   ],
   "source": [
    "#@title ❓ Click `Show code` in the code cell to show the solution. { display-mode: \"form\" }\n",
    "\n",
    "def get_network_address(ip, subnetzmaske):\n",
    "    \"\"\"Übernimmt eine IP-Adresse und Subnetzmaske als String übernimmt und maskiert alles außer dem Netzwerkteil mit 0 \"\"\"\n",
    "    ip_binary = ip_to_binary(ip)\n",
    "    subnetzmaske_binary = ip_to_binary(subnetzmaske)   \n",
    "    \n",
    "    return bin(int(ip_binary,2) & int(subnetzmaske_binary,2))\n",
    "\n",
    "get_network_address(ip, subnetzmaske)\n",
    "\n",
    "\n"
   ]
  },
  {
   "cell_type": "code",
   "execution_count": 13,
   "metadata": {},
   "outputs": [
    {
     "data": {
      "text/plain": [
       "'0b10111'"
      ]
     },
     "execution_count": 13,
     "metadata": {},
     "output_type": "execute_result"
    }
   ],
   "source": [
    "#@title ❓ Click `Show code` in the code cell to show the solution. { display-mode: \"form\" }\n",
    "\n",
    "def get_host_address(ip, subnetzmaske):\n",
    "    \"\"\"Übernimmt eine IP-Adresse und Subnetzmaske als String übernimmt und maskiert alles außer dem Host-Teil mit 0 \"\"\"\n",
    "    ip_binary = ip_to_binary(ip)\n",
    "    subnetzmaske_binary = ip_to_binary(subnetzmaske)   \n",
    "    \n",
    "    return bin(int(ip_binary,2) & ~int(subnetzmaske_binary,2))\n",
    "\n",
    "get_host_address(ip, subnetzmaske)\n",
    "\n"
   ]
  }
 ],
 "metadata": {
  "kernelspec": {
   "display_name": "Python 3.8.8 ('base')",
   "language": "python",
   "name": "python3"
  },
  "language_info": {
   "codemirror_mode": {
    "name": "ipython",
    "version": 3
   },
   "file_extension": ".py",
   "mimetype": "text/x-python",
   "name": "python",
   "nbconvert_exporter": "python",
   "pygments_lexer": "ipython3",
   "version": "3.8.8"
  },
  "orig_nbformat": 4,
  "vscode": {
   "interpreter": {
    "hash": "91b5df634ae01e052c095f84ce6ac57f1bf815a7c386b368c11e7051e1049005"
   }
  }
 },
 "nbformat": 4,
 "nbformat_minor": 2
}
