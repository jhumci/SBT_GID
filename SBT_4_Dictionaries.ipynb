{
  "cells": [
    {
      "cell_type": "markdown",
      "metadata": {
        "id": "3zStIqHaj9VK"
      },
      "source": [
        "<table style=\"width: 100%\">\n",
        "    <tr style=\"background: #ffffff\">\n",
        "        <td style=\"padding-top:25px;width: 180px\"><img src=\"https://mci.edu/templates/mci/images/logo.svg\" alt=\"Logo\"></td>\n",
        "        <td style=\"width: 100%\">\n",
        "            <div style=\"text-align:right; width: 100%; text-align:right\"><font style=\"font-size:38px\"><b>Grundlagen Programmierung</b></font></div>\n",
        "            <div style=\"padding-top:0px; width: 100%; text-align:right\"><font size=\"4\"><b>WS 2023</b></font></div>\n",
        "        </td>\n",
        "    </tr>\n",
        "</table>\n",
        "\n",
        "---\n",
        "\n",
        "# 4 Dictionaries"
      ]
    },
    {
      "cell_type": "markdown",
      "metadata": {
        "id": "6xKZUH5ckD5d"
      },
      "source": [
        "## Dictionaries\n",
        "\n",
        "In diesem Kapitel lernen Sie Dictionaries kennen, die es Ihnen ermöglichen zusammenhängende Informationen zu verbinden. Sie lernen, wie man auf die Informationen zugreift, sobald sie in einem Dictionary sind, und wie Sie diese Informationen ändern können.\n",
        "Das Verständnis von Dictionaries ermöglicht es Ihnen, eine Vielzahl von realen\n",
        "Objekte genauer zu modellieren. Sie werden in der Lage sein, ein Dictionary zu erstellen, das eine Person darstellen und dann so viele Informationen über diese Person zu speichern, wie Sie möchten.\n",
        "Sie können ihren Namen, ihr Alter, ihren Wohnort, ihren Beruf und jeden anderen Aspekt einer Person speichern, den Sie beschreiben können."
      ]
    },
    {
      "cell_type": "markdown",
      "metadata": {
        "id": "UE6CVPAZkO8h"
      },
      "source": [
        "### Arbeiten mit Dictionaries\n",
        "Ein Dictionary in Python ist eine Sammlung von *Schlüssel-Wert-Paaren*. Jeder Schlüssel ist mit einem Wert verbunden, und Sie können einen Schlüssel verwenden, um auf den mit diesem Schlüssel verbundenen Wert zuzugreifen.\n",
        "Der Wert eines Schlüssels kann eine Zahl, eine Zeichenkette, eine Liste oder sogar ein anderes Dictionary sein.\n",
        "Tatsächlich können Sie jedes Objekt, das Sie in Python erstellen können, als Schlüssel in einem Dictionary verwenden.\n",
        "In Python wird ein Dictionary in geschweifte Klammern, `{}`, eingeschlossen, mit einer Reihe von Schlüssel-Wert-Paaren innerhalb der geschweiften Klammern, wie im vorherigen Beispiel gezeigt:"
      ]
    },
    {
      "cell_type": "code",
      "execution_count": null,
      "metadata": {
        "id": "X8taOI8dj59C"
      },
      "outputs": [],
      "source": [
        "experiment_0 = {'date': '21.03.2024', 'sample_weight_in_grams': 5}"
      ]
    },
    {
      "cell_type": "markdown",
      "metadata": {
        "id": "f4h10I0xkikT"
      },
      "source": [
        "Ein Schlüssel-Wert-Paar ist ein Satz von Daten, die miteinander verbunden sind. Wenn Sie einen Schlüssel angeben, gibt Python den mit diesem Schlüssel verbundenen Wert zurück. Jeder Schlüssel ist durch einen Doppelpunkt mit seinem Wert verbunden, und einzelne Schlüssel-Wert-Paare werden durch durch Kommas getrennt. Sie können so viele Schlüssel-Wert-Paare wie Sie wollen in einem Dictionary speichern.\n",
        "Das einfachste Dictionary hat genau ein Schlüssel-Wert-Paar, wie in dieser modifizierte Version des `experiment_0`-Dictionarys:"
      ]
    },
    {
      "cell_type": "code",
      "execution_count": null,
      "metadata": {
        "id": "k-_9vSJ_khDE"
      },
      "outputs": [],
      "source": [
        "experiment_0 = {'sample_weight_in_grams': 5}"
      ]
    },
    {
      "cell_type": "markdown",
      "metadata": {
        "id": "nzi_r8Nxkqmt"
      },
      "source": [
        "## Zugriff auf Werte in einem Dictionary\n",
        "\n",
        "Um den mit einem Schlüssel verbundenen Wert zu erhalten, geben Sie den Namen des Dictionary an und und setzen Sie den Schlüssel in eckige Klammern `[]`, wie hier gezeigt:\n",
        "\n",
        "\n"
      ]
    },
    {
      "cell_type": "code",
      "execution_count": null,
      "metadata": {
        "colab": {
          "base_uri": "https://localhost:8080/"
        },
        "id": "iIDE_M_pkdkk",
        "outputId": "cc609243-8767-4e36-f516-e291556cccdd"
      },
      "outputs": [
        {
          "name": "stdout",
          "output_type": "stream",
          "text": [
            "5\n"
          ]
        }
      ],
      "source": [
        "experiment_0 = {'sample_weight_in_grams': 5}\n",
        "print(experiment_0['sample_weight_in_grams'])"
      ]
    },
    {
      "cell_type": "markdown",
      "metadata": {
        "id": "SvKGIDYClLuo"
      },
      "source": [
        "Wir können auf alle Werte zugreifen, indem wir nach den Schlüsseln suchen:"
      ]
    },
    {
      "cell_type": "code",
      "execution_count": null,
      "metadata": {
        "colab": {
          "base_uri": "https://localhost:8080/"
        },
        "id": "j9EhXo5TkzHp",
        "outputId": "abbff6ee-57e0-4dc5-cf89-bccc849eaa79"
      },
      "outputs": [
        {
          "name": "stdout",
          "output_type": "stream",
          "text": [
            "The experiment was on 21.03.2024 and resulted in 5 grams.\n"
          ]
        }
      ],
      "source": [
        "experiment_0 = {'date': '21.03.2024', 'sample_weight_in_grams': 5}\n",
        "print(\"The experiment was on {} and resulted in {} grams.\".format(experiment_0['date'], experiment_0['sample_weight_in_grams']))"
      ]
    },
    {
      "cell_type": "markdown",
      "metadata": {
        "id": "eIMjhB_GlVcs"
      },
      "source": [
        "### Hinzufügen neuer Schlüssel-Wert-Paare\n",
        "Dictionaries sind dynamische Strukturen, und Sie können jederzeit neue Schlüssel-Wert-Paare\n",
        "zu einem Dictionary jederzeit hinzufügen. Um zum Beispiel ein neues Schlüssel-Wert-Paar hinzuzufügen, geben Sie\n",
        "den Namen des Dictionarys, gefolgt von dem neuen Schlüssel in eckigen\n",
        "in eckigen Klammern zusammen mit dem neuen Wert.\n",
        "\n",
        "Wir wollen zum Beispiel ein neues Experiment an dem Tag anlegen, an dem wir es starten, und erst später einen Betreuer und ein Ergebnis hinzufügen:"
      ]
    },
    {
      "cell_type": "code",
      "execution_count": null,
      "metadata": {
        "colab": {
          "base_uri": "https://localhost:8080/"
        },
        "id": "ITSLhOAblIpr",
        "outputId": "495047cd-30a7-4f42-8b05-5dee61ba6178"
      },
      "outputs": [
        {
          "name": "stdout",
          "output_type": "stream",
          "text": [
            "{'date': '21.03.2024'}\n",
            "{'date': '21.03.2024', 'supervisor': 'Alex', 'sample_weight_in_grams': 10}\n"
          ]
        }
      ],
      "source": [
        "experiment_0 = {'date': '21.03.2024'}\n",
        "print(experiment_0)\n",
        "\n",
        "experiment_0['supervisor'] = 'Alex'\n",
        "experiment_0['sample_weight_in_grams'] = 10\n",
        "\n",
        "print(experiment_0)\n",
        "\n"
      ]
    },
    {
      "cell_type": "markdown",
      "metadata": {
        "id": "7Uy4C0Ycl7hk"
      },
      "source": [
        "Python erlaubt es uns sogar, leere Wörterbücher zu erstellen:"
      ]
    },
    {
      "cell_type": "code",
      "execution_count": null,
      "metadata": {
        "id": "2rMvapCplnGM"
      },
      "outputs": [],
      "source": [
        "experiment_0 = {}\n",
        "print(experiment_0)\n"
      ]
    },
    {
      "cell_type": "markdown",
      "metadata": {
        "id": "JOww01UVmtRf"
      },
      "source": [
        "### Ändern von Werten in einem Dictionary\n",
        "\n",
        "Wollen Sie einen Wert zu einem Schlüssel ändern, können Sie das einfach tun:\n"
      ]
    },
    {
      "cell_type": "code",
      "execution_count": null,
      "metadata": {
        "colab": {
          "base_uri": "https://localhost:8080/"
        },
        "id": "BhMWClEpnFeP",
        "outputId": "c4bcce9f-6352-476b-9e30-d33ff73956f3"
      },
      "outputs": [
        {
          "name": "stdout",
          "output_type": "stream",
          "text": [
            "{'date': '21.03.2024', 'supervisor': 'Alex', 'sample_weight_in_grams': 10}\n",
            "{'date': '21.03.2024', 'supervisor': 'Werner', 'sample_weight_in_grams': 10}\n"
          ]
        }
      ],
      "source": [
        "experiment_0 = {'date': '21.03.2024', 'supervisor': 'Alex', 'sample_weight_in_grams': 10}\n",
        "\n",
        "print(experiment_0)\n",
        "\n",
        "experiment_0['supervisor'] = 'Werner'\n",
        "\n",
        "print(experiment_0)"
      ]
    },
    {
      "cell_type": "markdown",
      "metadata": {
        "id": "dW7_MDSzmvF2"
      },
      "source": [
        "### Entfernen von Schlüssel-Werte-Paaren\n",
        "\n",
        "\n"
      ]
    },
    {
      "cell_type": "code",
      "execution_count": null,
      "metadata": {
        "colab": {
          "base_uri": "https://localhost:8080/"
        },
        "id": "mdpGmmdDm5yG",
        "outputId": "cc48a0c3-3a6e-4dad-c417-5d5a46bf2f84"
      },
      "outputs": [
        {
          "name": "stdout",
          "output_type": "stream",
          "text": [
            "{'date': '21.03.2024', 'supervisor': 'Alex', 'sample_weight_in_grams': 10}\n",
            "{'date': '21.03.2024', 'sample_weight_in_grams': 10}\n"
          ]
        }
      ],
      "source": [
        "experiment_0 = {'date': '21.03.2024', 'supervisor': 'Alex', 'sample_weight_in_grams': 10}\n",
        "\n",
        "print(experiment_0)\n",
        "\n",
        "del experiment_0['supervisor']\n",
        "\n",
        "print(experiment_0)"
      ]
    },
    {
      "cell_type": "markdown",
      "metadata": {
        "id": "EsKC2v4tmcMu"
      },
      "source": [
        "✍️ **Aufgabe**\n",
        "\n",
        "Geben die folgende Liste mit Namen. Erstellen Sie mittels `for` Loop ein dictionary, welches als Wert die Wohlfühltemperatur jeder Person (22°C) Enthält. Ändern Sie die Wohlfühltemperatur eine Person und Löschen Sie eine Person."
      ]
    },
    {
      "cell_type": "code",
      "execution_count": null,
      "metadata": {},
      "outputs": [],
      "source": [
        "# Erstellen eines leeren Dictionary\n",
        "\n",
        "# Loop durch die Liste und Befüllen eines Dictionaries\n",
        "\n",
        "# Ändern eines Wertes\n",
        "\n",
        "# Löschen einer Person"
      ]
    },
    {
      "cell_type": "code",
      "execution_count": 2,
      "metadata": {
        "id": "lOc03rLvl44N"
      },
      "outputs": [
        {
          "data": {
            "text/plain": [
              "{'Julian': '23°C', 'Andreas': '22°C', 'Philipp': '22°C'}"
            ]
          },
          "execution_count": 2,
          "metadata": {},
          "output_type": "execute_result"
        }
      ],
      "source": [
        "#@title ❓ Click `Show code` in the code cell to show the solution. { display-mode: \"form\" }\n",
        "\n",
        "my_dict ={}\n",
        "\n",
        "persons = [\"Julian\", \"Andreas\", \"Philipp\", \"Manuel\"]\n",
        "\n",
        "for person in persons:\n",
        "    my_dict[person] = \"22°C\"\n",
        "\n",
        "my_dict[\"Julian\"] = \"23°C\"\n",
        "\n",
        "del(my_dict[\"Manuel\"])\n",
        "\n",
        "my_dict"
      ]
    },
    {
      "cell_type": "markdown",
      "metadata": {
        "id": "lwPUZQS4teM9"
      },
      "source": [
        "#### Nur auf Schlüssel und Werte zugreifen\n",
        "\n",
        "Falls Sie nur auf die Schlüssel oder Werte in einem Diktat zugreifen wollen, können Sie die Funktion  ```.keys()``` or ```.values()``` function instead of ```.items()```"
      ]
    },
    {
      "cell_type": "code",
      "execution_count": 3,
      "metadata": {
        "colab": {
          "base_uri": "https://localhost:8080/"
        },
        "id": "7pt82kcqt9bG",
        "outputId": "ad062f4d-4fe6-4563-ec47-55ff09162a4e"
      },
      "outputs": [
        {
          "name": "stdout",
          "output_type": "stream",
          "text": [
            "dict_keys(['Julian', 'Manuel'])\n",
            "dict_values(['22°C', '22°C'])\n"
          ]
        }
      ],
      "source": [
        "persons_dict = {\n",
        "    \"Julian\": \"22°C\",     \n",
        "    \"Manuel\": \"22°C\",    \n",
        "}\n",
        "\n",
        "print(persons_dict.keys())\n",
        "print(persons_dict.values())"
      ]
    },
    {
      "cell_type": "markdown",
      "metadata": {
        "id": "J-Nko2aDrU0C"
      },
      "source": [
        "✍️ **Aufgabe**\n",
        "\n",
        "Am Ende des Semesters müssen alle Studierenden eine Bewertung der Vorlesung abgeben. Schreiben Sie ein Skript, in dem Sie sich bei allen Studierenden, die bereits eine Bewertung abgegeben haben, bedanken und alle Studierenden, die noch eine Bewertung abgeben müssen, daran erinnern.\n",
        "\n",
        "Sie erhalten die folgenden Daten:\n",
        "\n",
        "```\n",
        "all_student_names = ['Jen', 'Sarah','Edward', 'Phil', 'Sarah','Tom']\n",
        "\n",
        "evaluation_results = {\n",
        "'Jen': 1.2,\n",
        "'Sarah': 2.1,\n",
        "'Edward': 3.0,\n",
        "'Phil': 1.0,\n",
        "}\n",
        "```"
      ]
    },
    {
      "cell_type": "code",
      "execution_count": null,
      "metadata": {},
      "outputs": [],
      "source": []
    },
    {
      "cell_type": "code",
      "execution_count": null,
      "metadata": {
        "colab": {
          "base_uri": "https://localhost:8080/"
        },
        "id": "oE1ZkwOQnv7_",
        "outputId": "ce943397-4204-4c41-ab06-91785970f072"
      },
      "outputs": [
        {
          "name": "stdout",
          "output_type": "stream",
          "text": [
            "Hi Jen!\n",
            "Thank You for Your evaluation!\n",
            "Hi Sarah!\n",
            "Thank You for Your evaluation!\n",
            "Hi Edward!\n",
            "Thank You for Your evaluation!\n",
            "Hi Phil!\n",
            "Thank You for Your evaluation!\n",
            "Hi Sarah!\n",
            "Thank You for Your evaluation!\n",
            "Hi Tom!\n",
            " Please make Your evaluation!\n"
          ]
        }
      ],
      "source": [
        "#@title ❓ Click `Show code` in the code cell to show the solution. { display-mode: \"form\" }\n",
        "\n",
        "evaluation_results = {\n",
        "'Jen': 1.2,\n",
        "'Sarah': 2.1,\n",
        "'Edward': 3.0,\n",
        "'Phil': 1.0,\n",
        "}\n",
        "\n",
        "all_student_names = ['Jen', 'Sarah','Edward', 'Phil', 'Sarah','Tom']\n",
        "\n",
        "for name in all_student_names:\n",
        "  print(\"Hi {}!\".format(name))\n",
        "\n",
        "  if name in evaluation_results.keys():\n",
        "    print(  \"Thank You for Your evaluation!\")\n",
        "  else:\n",
        "    print(\" Please make Your evaluation!\")"
      ]
    },
    {
      "cell_type": "markdown",
      "metadata": {
        "id": "sCQTiOt6vP44"
      },
      "source": [
        "## Besprechung der Aufgaben\n",
        "\n",
        "- Sind Sie mit ein Aufgaben bis hierhin fertig geworden und haben Sie keine Fragen, so legen Sie die grüne Karte nach oben\n",
        "- Sind Sie mit den Aufgaben fertig, aber hätten gerne, dass die Lösungen nocheinmal gemeinsam besprochen werden, legen Sie die gelbe Karte nach oben\n",
        "\n",
        "![](https://www.lokalinfo.ch/fileadmin/news_import/image003_03.jpg)"
      ]
    },
    {
      "cell_type": "markdown",
      "metadata": {
        "id": "zq7YZgX0u7xM"
      },
      "source": [
        "## Nesting\n",
        "\n",
        "Manchmal möchte man eine Reihe von Dictionaries in einer Liste speichern oder eine Liste von Elementen als Wert in einem Dictionary speichern. Dies wird als Verschachtelung (nesting) bezeichnet. Sie können einen Satz von Dictionaries innerhalb einer Liste, eine Liste von Elementen innerhalb eines Dictionarys oder sogar ein Dictionaries innerhalb eines anderen Dictionaries verschachteln. Die Verschachtelung ist eine leistungsstarke Funktion, wie die folgenden Beispiele zeigen.\n",
        "\n"
      ]
    },
    {
      "cell_type": "markdown",
      "metadata": {
        "id": "5ncmf2-1vCo0"
      },
      "source": [
        "### Eine Liste von Dictionaries\n",
        "Das Dictionary `experiment_0` enthält eine Vielzahl von Informationen über ein Experiment, aber es hat keinen Platz, um Informationen über ein zweites Experiment zu speichern, geschweige denn einen Bildschirm voller Experimente. Wie können Sie mehrere Experimente verwalten? Eine Möglichkeit ist\n",
        "eine Liste von Experimenten zu erstellen, in der jedes Experiment ein Dictionary mit Informationen zu diesem Experiment ist. Der folgende Code erstellt zum Beispiel eine Liste mit drei Experimenten:\n"
      ]
    },
    {
      "cell_type": "code",
      "execution_count": null,
      "metadata": {
        "colab": {
          "base_uri": "https://localhost:8080/"
        },
        "id": "PRuIQ7LDvBc9",
        "outputId": "d75d5284-331a-4eac-8c04-6c272a94797e"
      },
      "outputs": [
        {
          "name": "stdout",
          "output_type": "stream",
          "text": [
            "{'color': 'green', 'points': 5}\n",
            "{'color': 'yellow', 'points': 10}\n",
            "{'color': 'red', 'points': 15}\n"
          ]
        }
      ],
      "source": [
        "experiment_0 = {'color': 'green', 'points': 5}\n",
        "experiment_1 = {'color': 'yellow', 'points': 10}\n",
        "experiment_2 = {'color': 'red', 'points': 15}\n",
        "experiments = [experiment_0, experiment_1, experiment_2]\n",
        "for experiment in experiments:\n",
        "  print(experiment)"
      ]
    },
    {
      "cell_type": "markdown",
      "metadata": {
        "id": "KSd06Th4ud9t"
      },
      "source": [
        "🏆 **Aufgabe**\n",
        "\n",
        "Stellen Sie sich vor, Sie erstellen eine Liste mit 10 Experimenten, die alle heute beginnen und mittels eines Dictionaries beschrieben werden. Sie haben alle denselben ``Versuchsleiter``, dasselbe ``Erstellungsdatum`` und eine eindeutige ``Id_Nummer``, die mit 100 beginnt.\n",
        "\n",
        "- Schreiben Sie eine Schleife, um die 10 Experimente zu erstellen.\n",
        "- Schreiben Sie eine zweite Schleife, um die ersten fünf Experimente anzuzeigen.\n",
        "- Geben Sie aus, wie viele Experimente erstellt wurden."
      ]
    },
    {
      "cell_type": "code",
      "execution_count": null,
      "metadata": {},
      "outputs": [],
      "source": []
    },
    {
      "cell_type": "code",
      "execution_count": null,
      "metadata": {
        "colab": {
          "base_uri": "https://localhost:8080/"
        },
        "id": "uEySuECvucrl",
        "outputId": "c7b8674c-0d6a-478d-ffa5-1de2e717e36b"
      },
      "outputs": [
        {
          "name": "stdout",
          "output_type": "stream",
          "text": [
            "{'supervisor': 'Alex', 'creation_date': '21.02.2022', 'id_number ': 100}\n",
            "{'supervisor': 'Alex', 'creation_date': '21.02.2022', 'id_number ': 101}\n",
            "{'supervisor': 'Alex', 'creation_date': '21.02.2022', 'id_number ': 102}\n",
            "{'supervisor': 'Alex', 'creation_date': '21.02.2022', 'id_number ': 103}\n",
            "Total number of experiments: 10\n"
          ]
        }
      ],
      "source": [
        "#@title ❓ Click `Show code` in the code cell to show the solution. { display-mode: \"form\" }\n",
        "\n",
        "experiments = []\n",
        "\n",
        "supervisor = 'Alex'\n",
        "creation_date  = '21.02.2022'\n",
        "\n",
        "for experiment_no in range(1,11):\n",
        "  id_number = 100 + experiment_no - 1\n",
        "  new_experiment = {'supervisor': supervisor, 'creation_date': creation_date, 'id_number ': id_number}\n",
        "  experiments.append(new_experiment)\n",
        "\n",
        "for experiment in experiments[:4]:\n",
        "  print(experiment)\n",
        "\n",
        "print(\"Total number of experiments: \" + str(len(experiments)))"
      ]
    },
    {
      "cell_type": "markdown",
      "metadata": {
        "id": "TJHvJAQGxtcq"
      },
      "source": [
        "### Eine Liste in einem Dictionary\n",
        "\n",
        "Anstatt ein Dictionary in eine Liste zu setzen, ist es manchmal sinnvoll, eine Liste in ein Dictionary zu setzen."
      ]
    },
    {
      "cell_type": "code",
      "execution_count": null,
      "metadata": {
        "colab": {
          "base_uri": "https://localhost:8080/"
        },
        "id": "bkuj2VcBxV3S",
        "outputId": "a54accb7-6169-4a44-db57-28118c784d0d"
      },
      "outputs": [
        {
          "name": "stdout",
          "output_type": "stream",
          "text": [
            "The experiment is supervised by Alex\n",
            "\t Tom is participating.\n",
            "\t Helen is participating.\n"
          ]
        }
      ],
      "source": [
        "experiment = {\n",
        "'supervisor': 'Alex',\n",
        "'participants': ['Tom', 'Helen'],\n",
        "}\n",
        "\n",
        "print(\"The experiment is supervised by {}\".format(experiment['supervisor']))\n",
        "\n",
        "for participant in experiment['participants']:\n",
        "  print(\"\\t {} is participating.\".format(participant))"
      ]
    },
    {
      "cell_type": "markdown",
      "metadata": {
        "id": "BbfR95OlyAzC"
      },
      "source": [
        "### Ein Dictionary in einem Dictionary\n",
        "Sie können ein Dictionary in einem anderen Dictionary verschachteln, aber Ihr Code kann dann schnell kompliziert werden. Wenn Sie zum Beispiel mehrere Laborbenutzer für ein Labor haben, jeder mit einem eindeutigen Benutzernamen, können Sie die Benutzernamen als Schlüssel in einem Dictionary verwenden. Sie können dann Informationen über jeden Benutzer speichern, indem Sie ein Dictionary als den mit dem Benutzernamen verbundenen Wert verwenden."
      ]
    },
    {
      "cell_type": "code",
      "execution_count": null,
      "metadata": {
        "colab": {
          "base_uri": "https://localhost:8080/"
        },
        "id": "UpZsO3yjx1Pk",
        "outputId": "67c49731-f1ab-44c8-88e0-bdac3aa54fa1"
      },
      "outputs": [
        {
          "name": "stdout",
          "output_type": "stream",
          "text": [
            "\n",
            "Username: aeinstein\n",
            "\tFull name: Albert Einstein\n",
            "\tLocation: MCI IV\n",
            "\n",
            "Username: mcurie\n",
            "\tFull name: Marie Curie\n",
            "\tLocation: MCI II\n"
          ]
        }
      ],
      "source": [
        "users = {\n",
        "'aeinstein': {\n",
        "'first': 'albert',\n",
        "'last': 'einstein',\n",
        "'location': 'MCI IV',\n",
        "},\n",
        "'mcurie': {\n",
        "'first': 'marie',\n",
        "'last': 'curie',\n",
        "'location': 'MCI II',\n",
        "},\n",
        "}\n",
        "\n",
        "for username, user_info in users.items():\n",
        "  print(\"\\nUsername: \" + username)\n",
        "  full_name = user_info['first'] + \" \" + user_info['last']\n",
        "  location = user_info['location']\n",
        "  print(\"\\tFull name: \" + full_name.title())\n",
        "  print(\"\\tLocation: \" + location)"
      ]
    },
    {
      "cell_type": "markdown",
      "metadata": {
        "id": "KV_L-ensyVss"
      },
      "source": [
        "## Zusammenfassung\n",
        "In diesem Kapitel haben Sie gelernt, wie man ein Dictionary definiert und wie man mit den in einem Dictionary gespeicherten Informationen arbeitet. Sie haben gelernt, wie man auf einzelne einzelne Elemente in einem Dictionary zugreifen und ändern kann und wie man eine Schleife über alle Informationen in einem Dictionary schreibt. Sie haben gelernt, wie man eine Schleife durch die Schlüssel-Wert-Paare eines Dictionarys schreibt, und die Werte eines Dictionarys zu durchsucht. Sie haben auch gelernt, wie man mehrere\n",
        "Dictionaries in einer Liste verschachtelt, Listen in einem Dictionary verschachtelt und ein Dictionary in einem einem Dictionary verschachtelt."
      ]
    },
    {
      "cell_type": "markdown",
      "metadata": {
        "id": "GO51W-WO9C6R"
      },
      "source": [
        "## While Loops\n",
        "\n",
        "Die for-Schleife nimmt eine Sammlung von Elementen und führt einen Codeblock einmal aus für jedes Element in der Sammlung aus. Im Gegensatz dazu läuft die while-Schleife so lange eine bestimmte Bedingung erfüllt ist.\n",
        "\n",
        "Sie können eine while-Schleife verwenden, um eine Reihe von Zahlen durchzuzählen. Zum\n",
        "Beispiel: Die folgende while-Schleife zählt von 1 bis 5:"
      ]
    },
    {
      "cell_type": "code",
      "execution_count": 2,
      "metadata": {
        "colab": {
          "base_uri": "https://localhost:8080/"
        },
        "id": "3h1nGZmr6D6X",
        "outputId": "75a25403-3c50-47f5-f514-02074c3aafd9"
      },
      "outputs": [
        {
          "name": "stdout",
          "output_type": "stream",
          "text": [
            "1\n",
            "2\n",
            "3\n",
            "4\n",
            "5\n"
          ]
        }
      ],
      "source": [
        "current_number = 1\n",
        "while current_number <= 5:\n",
        "  print(current_number)\n",
        "  current_number = current_number + 1"
      ]
    },
    {
      "cell_type": "markdown",
      "metadata": {
        "id": "gy6e5ZNaAmA8"
      },
      "source": [
        "🏆 **Aufgabe mit Sakai-Abgabe**\n",
        "\n",
        "Schreiben Sie eine Simulation für die Temperatur Temperaturentwicklung in einem Raum gegeben ein begrenztes Wachstum für alle Zeitschritte in Minuten ausgehend von `0` auswertet und nur dann endet, wenn die Temperatur weniger als ein ein $\\epsilon < 1$ °C von der Maximaltemperatur unterscheidet.\n",
        "\n",
        "Speichern Sie die Ergebnisse für jeden Zeitschritt in einer Liste. Die Liste sollte Dictionaries enthalten, die den Zeitschritt und die die aktuelle Temperatur enthält. Als Bonus können Sie auch die Temperaturänderung seit dem letzten Zeitschritt hinzufügen.\n",
        "\n",
        "*Hinweis:* Versuchen sie nicht unbedingt alle Anforderungen auf einmal zu lösen. Erstellen Sie z.B. zunächst den `while`-loop und kümmern sich erst danach um das dictionary. \n"
      ]
    },
    {
      "cell_type": "code",
      "execution_count": null,
      "metadata": {},
      "outputs": [],
      "source": []
    },
    {
      "cell_type": "code",
      "execution_count": 12,
      "metadata": {
        "colab": {
          "base_uri": "https://localhost:8080/"
        },
        "id": "ldd7GgbgYWu0",
        "outputId": "216d2802-e53e-4105-8a8f-198ad82357f5"
      },
      "outputs": [
        {
          "name": "stdout",
          "output_type": "stream",
          "text": [
            "Started simulation with the following parameters: \n",
            " initial temperature: 0 \n",
            " maximum temperature: 30 \n",
            " growth rate: 0.02\n",
            "The temperature after 0 minutes is 0.00 °C\n",
            "The temperature after 1 minutes is 0.59 °C\n",
            "The temperature after 2 minutes is 1.75 °C\n",
            "The temperature after 3 minutes is 3.39 °C\n",
            "The temperature after 4 minutes is 5.44 °C\n",
            "The temperature after 5 minutes is 7.78 °C\n",
            "The temperature after 6 minutes is 10.29 °C\n",
            "The temperature after 7 minutes is 12.86 °C\n",
            "The temperature after 8 minutes is 15.40 °C\n",
            "The temperature after 9 minutes is 17.80 °C\n",
            "The temperature after 10 minutes is 20.01 °C\n",
            "The temperature after 11 minutes is 21.99 °C\n",
            "The temperature after 12 minutes is 23.70 °C\n",
            "The temperature after 13 minutes is 25.14 °C\n",
            "The temperature after 14 minutes is 26.33 °C\n",
            "The temperature after 15 minutes is 27.28 °C\n",
            "The temperature after 16 minutes is 28.02 °C\n",
            "The temperature after 17 minutes is 28.59 °C\n",
            "The temperature after 18 minutes is 29.02 °C\n"
          ]
        }
      ],
      "source": [
        "#@title ❓ Click `Show code` in the code cell to show the solution. { display-mode: \"form\" }\n",
        "\n",
        "\n",
        "# importing the math library\n",
        "import math\n",
        "\n",
        "# here the user can define the input\n",
        "initial_temperature = 0\n",
        "maximum_temperature = 30\n",
        "growth_rate = 0.02\n",
        "epsilon = 1\n",
        "\n",
        "t_in_minutes = 0\n",
        "results = []\n",
        "\n",
        "print(\"Started simulation with the following parameters: \\n initial temperature: {} \\n maximum temperature: {} \\n growth rate: {}\".format(initial_temperature, maximum_temperature, growth_rate)) \n",
        "\n",
        "\n",
        "current_temperature = initial_temperature \n",
        "\n",
        "while current_temperature + epsilon  < maximum_temperature:\n",
        "\n",
        "  last_temp = current_temperature\n",
        "  current_temperature = maximum_temperature - (maximum_temperature - current_temperature)   * math.exp(- growth_rate*t_in_minutes)\n",
        "  growth = current_temperature - last_temp\n",
        "\n",
        "  print(\"The temperature after {0} minutes is {1:.2f} °C\".format(t_in_minutes, current_temperature))\n",
        "\n",
        "  t_in_minutes = t_in_minutes + 1\n",
        "\n",
        "  new_result = {\"Time step\" : t_in_minutes, \"Temperature\" : current_temperature, \"Anstieg\" : growth}\n",
        "  results.append(new_result)\n"
      ]
    },
    {
      "cell_type": "code",
      "execution_count": 13,
      "metadata": {},
      "outputs": [
        {
          "data": {
            "text/plain": [
              "[{'Time step': 1, 'Temperature': 0.0, 'Anstieg': 0.0},\n",
              " {'Time step': 2,\n",
              "  'Temperature': 0.5940398007973435,\n",
              "  'Anstieg': 0.5940398007973435},\n",
              " {'Time step': 3,\n",
              "  'Temperature': 1.7470639924725404,\n",
              "  'Anstieg': 1.1530241916751969},\n",
              " {'Time step': 4,\n",
              "  'Temperature': 3.3923868984852774,\n",
              "  'Anstieg': 1.645322906012737},\n",
              " {'Time step': 5,\n",
              "  'Temperature': 5.438077407660547,\n",
              "  'Anstieg': 2.0456905091752695},\n",
              " {'Time step': 6,\n",
              "  'Temperature': 7.775453379548466,\n",
              "  'Anstieg': 2.3373759718879192},\n",
              " {'Time step': 7,\n",
              "  'Temperature': 10.2885954055483,\n",
              "  'Anstieg': 2.5131420259998336},\n",
              " {'Time step': 8,\n",
              "  'Temperature': 12.863728084535555,\n",
              "  'Anstieg': 2.5751326789872557},\n",
              " {'Time step': 9,\n",
              "  'Temperature': 15.397432321200853,\n",
              "  'Anstieg': 2.5337042366652973},\n",
              " {'Time step': 10,\n",
              "  'Temperature': 17.802910207782027,\n",
              "  'Anstieg': 2.405477886581174},\n",
              " {'Time step': 11,\n",
              "  'Temperature': 20.013867489057613,\n",
              "  'Anstieg': 2.2109572812755864},\n",
              " {'Time step': 12,\n",
              "  'Temperature': 21.985940941024488,\n",
              "  'Anstieg': 1.9720734519668746},\n",
              " {'Time step': 13,\n",
              "  'Temperature': 23.69591786397706,\n",
              "  'Anstieg': 1.7099769229525705},\n",
              " {'Time step': 14,\n",
              "  'Temperature': 25.139227471983578,\n",
              "  'Anstieg': 1.443309608006519},\n",
              " {'Time step': 15,\n",
              "  'Temperature': 26.326307152410543,\n",
              "  'Anstieg': 1.1870796804269652},\n",
              " {'Time step': 16,\n",
              "  'Temperature': 27.278461401317625,\n",
              "  'Anstieg': 0.9521542489070818},\n",
              " {'Time step': 17,\n",
              "  'Temperature': 28.02375736720791,\n",
              "  'Anstieg': 0.7452959658902856},\n",
              " {'Time step': 18,\n",
              "  'Temperature': 28.593369143400345,\n",
              "  'Anstieg': 0.5696117761924349},\n",
              " {'Time step': 19,\n",
              "  'Temperature': 29.018626951829404,\n",
              "  'Anstieg': 0.425257808429059}]"
            ]
          },
          "execution_count": 13,
          "metadata": {},
          "output_type": "execute_result"
        }
      ],
      "source": [
        "results"
      ]
    },
    {
      "cell_type": "markdown",
      "metadata": {
        "id": "m5Q-c47pwWkh"
      },
      "source": [
        "## Besprechung der Aufgaben\n",
        "\n",
        "- Sind Sie mit ein Aufgaben bis hierhin fertig geworden und haben Sie keine Fragen, so legen Sie die grüne Karte nach oben\n",
        "- Sind Sie mit den Aufgaben fertig, aber hätten gerne, dass die Lösungen nocheinmal gemeinsam besprochen werden, legen Sie die gelbe Karte nach oben\n",
        "\n",
        "![](https://www.lokalinfo.ch/fileadmin/news_import/image003_03.jpg)"
      ]
    },
    {
      "cell_type": "markdown",
      "metadata": {},
      "source": [
        "# 🤓Optional"
      ]
    },
    {
      "cell_type": "markdown",
      "metadata": {
        "id": "fXUp4l_xz1CV"
      },
      "source": [
        "## User Input\n",
        "\n",
        "Die meisten Programme werden geschrieben, um ein Problem des Endbenutzers zu lösen. Dazu müssen Sie normalerweise einige Informationen vom Benutzer erhalten. Nehmen wir als einfaches Beispiel an, jemand möchte die Ergebnisse eines Experiments eingeben.\n",
        "\n",
        "Sie können die Benutzereingabe in einer Variablen speichern, z.B.,  ```message```"
      ]
    },
    {
      "cell_type": "code",
      "execution_count": null,
      "metadata": {
        "colab": {
          "base_uri": "https://localhost:8080/"
        },
        "id": "cYu-CuHc0ndV",
        "outputId": "021b1261-dc8a-4079-81d6-72ead0b6115a"
      },
      "outputs": [
        {
          "name": "stdout",
          "output_type": "stream",
          "text": [
            "Please enter the experiment results in gram: 32\n",
            "32\n"
          ]
        }
      ],
      "source": [
        "message = input(\"Please enter the experiment results in gram: \")\n",
        "print(message)"
      ]
    },
    {
      "cell_type": "markdown",
      "metadata": {
        "id": "Ft73oplI2nEH"
      },
      "source": [
        "🤓 **Task**\n",
        "\n",
        "Schreiben Sie ein Skript, das die ersten beiden Elemente der zuvor erstellten Liste der Experimente in einer Schleife durchläuft. Das Skript sollte den Benutzer auffordern, das `probengewicht` in Gramm einzugeben und es dem Dictionary hinzuzufügen. Drucken Sie die endgültige Liste der Experimente aus, um zu prüfen, ob sie ein Ergebnis enthält."
      ]
    },
    {
      "cell_type": "code",
      "execution_count": null,
      "metadata": {
        "colab": {
          "base_uri": "https://localhost:8080/"
        },
        "id": "0J_0sxYs0vtk",
        "outputId": "bd72f6cf-d75f-4e36-e938-25ef70019dc0"
      },
      "outputs": [
        {
          "name": "stdout",
          "output_type": "stream",
          "text": [
            "{'supervisor': 'Alex', 'creation_date': '21.02.2022', 'id_number': 100}\n",
            "{'supervisor': 'Alex', 'creation_date': '21.02.2022', 'id_number': 101}\n",
            "{'supervisor': 'Alex', 'creation_date': '21.02.2022', 'id_number': 102}\n",
            "{'supervisor': 'Alex', 'creation_date': '21.02.2022', 'id_number': 103}\n",
            "Total number of experiments: 10\n"
          ]
        }
      ],
      "source": [
        "experiments = []\n",
        "\n",
        "supervisor = 'Alex'\n",
        "creation_date  = '21.02.2022'\n",
        "\n",
        "for experiment_no in range(1,11):\n",
        "  id_number = 100 + experiment_no - 1\n",
        "  new_experiment = {'supervisor': supervisor, 'creation_date': creation_date, 'id_number': id_number}\n",
        "  experiments.append(new_experiment)\n",
        "\n",
        "for experiment in experiments[:4]:\n",
        "  print(experiment)\n",
        "\n",
        "print(\"Total number of experiments: \" + str(len(experiments)))"
      ]
    },
    {
      "cell_type": "code",
      "execution_count": null,
      "metadata": {
        "colab": {
          "base_uri": "https://localhost:8080/"
        },
        "id": "8I-SRHWr3Vh4",
        "outputId": "2bdabb05-4ec4-49e0-a0f6-f8aec47db0d9"
      },
      "outputs": [
        {
          "name": "stdout",
          "output_type": "stream",
          "text": [
            "Please enter the experiment number 100 results in gram: 12\n",
            "Please enter the experiment number 101 results in gram: 123\n",
            "[{'supervisor': 'Alex', 'creation_date': '21.02.2022', 'id_number': 100, 'result_in_g': '12'}, {'supervisor': 'Alex', 'creation_date': '21.02.2022', 'id_number': 101, 'result_in_g': '123'}, {'supervisor': 'Alex', 'creation_date': '21.02.2022', 'id_number': 102}, {'supervisor': 'Alex', 'creation_date': '21.02.2022', 'id_number': 103}, {'supervisor': 'Alex', 'creation_date': '21.02.2022', 'id_number': 104}, {'supervisor': 'Alex', 'creation_date': '21.02.2022', 'id_number': 105}, {'supervisor': 'Alex', 'creation_date': '21.02.2022', 'id_number': 106}, {'supervisor': 'Alex', 'creation_date': '21.02.2022', 'id_number': 107}, {'supervisor': 'Alex', 'creation_date': '21.02.2022', 'id_number': 108}, {'supervisor': 'Alex', 'creation_date': '21.02.2022', 'id_number': 109}]\n"
          ]
        }
      ],
      "source": [
        "for experiment in experiments[:2]:\n",
        "  message = input(\"Please enter the experiment number \" + str(experiment[\"id_number\"]) +  \" results in gram: \")\n",
        "  experiment[\"result_in_g\"] = message\n",
        "print(experiments)"
      ]
    },
    {
      "cell_type": "markdown",
      "metadata": {
        "id": "yS8rcsZj5VzG"
      },
      "source": [
        "🏆 **Aufgabe**\n",
        "\n",
        "Fragen Sie den Benutzer, welche Versuchsnummer er/sie bearbeiten möchte. Benachrichtigen Sie den Benutzer, wenn es kein Experiment mit dieser ID gibt. Wenn das Experiment bereits ein Ergebnis hat, teilen Sie ihm/ihr dies mit. Lassen Sie ihn/sie in jedem Fall ein neues Ergebnis eingeben.\n"
      ]
    },
    {
      "cell_type": "code",
      "execution_count": null,
      "metadata": {
        "colab": {
          "base_uri": "https://localhost:8080/"
        },
        "id": "MwVAmUnR3pj5",
        "outputId": "445f31b2-f668-444b-b0eb-f408a7d2a027"
      },
      "outputs": [
        {
          "data": {
            "text/plain": [
              "[{'creation_date': '21.02.2022',\n",
              "  'id_number': 100,\n",
              "  'result_in_g': '20',\n",
              "  'supervisor': 'Alex'},\n",
              " {'creation_date': '21.02.2022',\n",
              "  'id_number': 101,\n",
              "  'result_in_g': '123',\n",
              "  'supervisor': 'Alex'},\n",
              " {'creation_date': '21.02.2022', 'id_number': 102, 'supervisor': 'Alex'},\n",
              " {'creation_date': '21.02.2022', 'id_number': 103, 'supervisor': 'Alex'},\n",
              " {'creation_date': '21.02.2022', 'id_number': 104, 'supervisor': 'Alex'},\n",
              " {'creation_date': '21.02.2022', 'id_number': 105, 'supervisor': 'Alex'},\n",
              " {'creation_date': '21.02.2022', 'id_number': 106, 'supervisor': 'Alex'},\n",
              " {'creation_date': '21.02.2022', 'id_number': 107, 'supervisor': 'Alex'},\n",
              " {'creation_date': '21.02.2022', 'id_number': 108, 'supervisor': 'Alex'},\n",
              " {'creation_date': '21.02.2022',\n",
              "  'id_number': 109,\n",
              "  'result_in_g': '323',\n",
              "  'supervisor': 'Alex'}]"
            ]
          },
          "execution_count": 96,
          "metadata": {},
          "output_type": "execute_result"
        }
      ],
      "source": [
        "experiments"
      ]
    },
    {
      "cell_type": "code",
      "execution_count": null,
      "metadata": {
        "colab": {
          "base_uri": "https://localhost:8080/"
        },
        "id": "6WH5hyEe4BB-",
        "outputId": "3bbfba1d-4520-401d-f8b3-3c4249d05483"
      },
      "outputs": [
        {
          "name": "stdout",
          "output_type": "stream",
          "text": [
            "Please enter the experiment number You want to edit: 100\n",
            "The current result of experiment number 100 is 20 g.\n",
            "Please enter the new result in g: 20\n"
          ]
        }
      ],
      "source": [
        "experiment_to_edit = input(\"Please enter the experiment number You want to edit: \")\n",
        "\n",
        "experiment_found = False\n",
        "\n",
        "for experiment in experiments:\n",
        "  if experiment[\"id_number\"] == int(experiment_to_edit):\n",
        "    experiment_found = True\n",
        "    if \"result_in_g\" in experiment.keys():\n",
        "      print(\"The current result of experiment number {} is {} g.\".format(experiment[\"id_number\"],experiment[\"result_in_g\"]))\n",
        "    else:\n",
        "      print(\"Experiment number {} has no result yet.\".format(experiment[\"id_number\"]))\n",
        "    new_result_in_g = input(\"Please enter the new result in g: \")\n",
        "    experiment[\"result_in_g\"] = new_result_in_g\n",
        "if experiment_found == False:\n",
        "  print(\"There is no experiment with this ID!\")"
      ]
    },
    {
      "cell_type": "markdown",
      "metadata": {
        "id": "WSSE6ECDxG3C"
      },
      "source": [
        "## Besprechung der Aufgaben\n",
        "\n",
        "- Sind Sie mit ein Aufgaben bis hierhin fertig geworden und haben Sie keine Fragen, so legen Sie die grüne Karte nach oben\n",
        "- Sind Sie mit den Aufgaben fertig, aber hätten gerne, dass die Lösungen nocheinmal gemeinsam besprochen werden, legen Sie die gelbe Karte nach oben\n",
        "\n",
        "![](https://www.lokalinfo.ch/fileadmin/news_import/image003_03.jpg)"
      ]
    },
    {
      "cell_type": "markdown",
      "metadata": {
        "id": "9-K-pfUO_CTm"
      },
      "source": [
        "### Den Benutzer entscheiden lassen, wann er aufhören will\n",
        "Wir können ein Programm so lange laufen lassen, wie der Benutzer möchte, indem wir den größten Teil des Programms in eine while-Schleife packen. Wir definieren einen Beendigungswert und lassen dann lassen wir das Programm so lange laufen, bis der Benutzer den Beendigungswert eingegeben hat:"
      ]
    },
    {
      "cell_type": "code",
      "execution_count": null,
      "metadata": {
        "colab": {
          "base_uri": "https://localhost:8080/"
        },
        "id": "cLErrUWm6zrX",
        "outputId": "8758bac9-4f6e-4828-a12e-74f6b565688e"
      },
      "outputs": [
        {
          "name": "stdout",
          "output_type": "stream",
          "text": [
            "\n",
            "Tell me something, and I will repeat it back to you: \n",
            "Enter 'quit' to end the program. bla\n",
            "bla\n",
            "\n",
            "Tell me something, and I will repeat it back to you: \n",
            "Enter 'quit' to end the program. quit\n",
            "quit\n"
          ]
        }
      ],
      "source": [
        "prompt = \"\\nTell me something, and I will repeat it back to you: \\nEnter 'quit' to end the program. \"\n",
        "\n",
        "message = \"\"\n",
        "while message != 'quit':\n",
        "  message = input(prompt)\n",
        "  print(message)"
      ]
    },
    {
      "cell_type": "markdown",
      "metadata": {
        "id": "8kQBVOdc_PPq"
      },
      "source": [
        "#### Break zum Verlassen einer Schleife verwenden\n",
        "Um eine while-Schleife sofort zu verlassen, ohne den restlichen Code in der Schleife auszuführen, unabhängig von den Ergebnissen einer bedingten Prüfung, verwenden Sie die break-Anweisung:"
      ]
    },
    {
      "cell_type": "code",
      "execution_count": null,
      "metadata": {
        "colab": {
          "base_uri": "https://localhost:8080/"
        },
        "id": "FnlJ40ew_T_D",
        "outputId": "d5a58764-bc3a-441e-f505-836b531f5a06"
      },
      "outputs": [
        {
          "name": "stdout",
          "output_type": "stream",
          "text": [
            "\n",
            "Please enter the name of a city you have visited: \n",
            "(Enter 'quit' when you are finished.) test\n",
            "I'd love to go to Test!\n",
            "\n",
            "Please enter the name of a city you have visited: \n",
            "(Enter 'quit' when you are finished.) quit\n"
          ]
        }
      ],
      "source": [
        "prompt = \"\\nPlease enter the name of a city you have visited: \\n(Enter 'quit' when you are finished.) \"\n",
        "\n",
        "while True:\n",
        "  city = input(prompt)\n",
        "  if city == 'quit':\n",
        "    break\n",
        "  else:\n",
        "    print(\"I'd love to go to \" + city.title() + \"!\")"
      ]
    },
    {
      "cell_type": "markdown",
      "metadata": {
        "id": "RAEyMQfO_lcT"
      },
      "source": [
        "#### Verwendung von continue in einer Schleife\n",
        "Anstatt eine Schleife komplett zu verlassen, ohne den Rest des Codes auszuführen\n",
        "Code auszubrechen, können Sie die continue-Anweisung verwenden, um an den Anfang der Schleife zurückzukehren.\n",
        "Schleife zurückzukehren, basierend auf dem Ergebnis einer bedingten Prüfung. Nehmen wir zum Beispiel eine Schleife die von 1 bis 10 zählt, aber nur die ungeraden Zahlen in diesem Bereich ausgibt:"
      ]
    },
    {
      "cell_type": "code",
      "execution_count": null,
      "metadata": {
        "colab": {
          "base_uri": "https://localhost:8080/"
        },
        "id": "HcYY6xvi_o1b",
        "outputId": "4a3940db-fbbc-46c1-d859-cad1db0aadf8"
      },
      "outputs": [
        {
          "name": "stdout",
          "output_type": "stream",
          "text": [
            "1\n",
            "3\n",
            "5\n",
            "7\n",
            "9\n"
          ]
        }
      ],
      "source": [
        "current_number = 0\n",
        "while current_number < 10:\n",
        "  current_number += 1\n",
        "  if current_number % 2 == 0: # the modulo operator divides one number by another number and returns the remainder\n",
        "    continue\n",
        "  print(current_number)"
      ]
    },
    {
      "cell_type": "code",
      "execution_count": null,
      "metadata": {
        "colab": {
          "base_uri": "https://localhost:8080/"
        },
        "id": "_AEYtyLfarYB",
        "outputId": "8b138511-49d7-4e99-9870-83547f075e04"
      },
      "outputs": [
        {
          "data": {
            "text/plain": [
              "[{'Growth': 0.0, 'Population size': 1.0, 'Time step': 1},\n",
              " {'Growth': 0.10459006431983897,\n",
              "  'Population size': 1.104590064319839,\n",
              "  'Time step': 2},\n",
              " {'Growth': 0.11546207929185659,\n",
              "  'Population size': 1.2200521436116956,\n",
              "  'Time step': 3},\n",
              " {'Growth': 0.12744948739515372,\n",
              "  'Population size': 1.3475016310068493,\n",
              "  'Time step': 4},\n",
              " {'Growth': 0.1406634848437036,\n",
              "  'Population size': 1.4881651158505529,\n",
              "  'Time step': 5},\n",
              " {'Growth': 0.15522564214565437,\n",
              "  'Population size': 1.6433907579962073,\n",
              "  'Time step': 6},\n",
              " {'Growth': 0.17126871405291033,\n",
              "  'Population size': 1.8146594720491176,\n",
              "  'Time step': 7},\n",
              " {'Growth': 0.18893747626618773,\n",
              "  'Population size': 2.0035969483153053,\n",
              "  'Time step': 8},\n",
              " {'Growth': 0.2083895800581841,\n",
              "  'Population size': 2.2119865283734894,\n",
              "  'Time step': 9},\n",
              " {'Growth': 0.2297964128942387,\n",
              "  'Population size': 2.441782941267728,\n",
              "  'Time step': 10},\n",
              " {'Growth': 0.2533439493833316,\n",
              "  'Population size': 2.6951268906510597,\n",
              "  'Time step': 11},\n",
              " {'Growth': 0.2792335723804866,\n",
              "  'Population size': 2.9743604630315463,\n",
              "  'Time step': 12},\n",
              " {'Growth': 0.30768283867775237,\n",
              "  'Population size': 3.2820433017092987,\n",
              "  'Time step': 13},\n",
              " {'Growth': 0.3389261573567648,\n",
              "  'Population size': 3.6209694590660635,\n",
              "  'Time step': 14},\n",
              " {'Growth': 0.37321534142840074,\n",
              "  'Population size': 3.9941848004944642,\n",
              "  'Time step': 15},\n",
              " {'Growth': 0.4108199847654683,\n",
              "  'Population size': 4.4050047852599326,\n",
              "  'Time step': 16},\n",
              " {'Growth': 0.45202760648074225,\n",
              "  'Population size': 4.857032391740675,\n",
              "  'Time step': 17},\n",
              " {'Growth': 0.4971434937967816,\n",
              "  'Population size': 5.354175885537456,\n",
              "  'Time step': 18},\n",
              " {'Growth': 0.5464901621453446,\n",
              "  'Population size': 5.900666047682801,\n",
              "  'Time step': 19},\n",
              " {'Growth': 0.6004063378671995,\n",
              "  'Population size': 6.5010723855500006,\n",
              "  'Time step': 20},\n",
              " {'Growth': 0.6592453547363597,\n",
              "  'Population size': 7.16031774028636,\n",
              "  'Time step': 21},\n",
              " {'Growth': 0.7233728410610656,\n",
              "  'Population size': 7.883690581347426,\n",
              "  'Time step': 22},\n",
              " {'Growth': 0.7931635600019478,\n",
              "  'Population size': 8.676854141349374,\n",
              "  'Time step': 23},\n",
              " {'Growth': 0.8689972529695229,\n",
              "  'Population size': 9.545851394318897,\n",
              "  'Time step': 24},\n",
              " {'Growth': 0.9512533258415417,\n",
              "  'Population size': 10.497104720160438,\n",
              "  'Time step': 25},\n",
              " {'Growth': 1.0403042120121047,\n",
              "  'Population size': 11.537408932172543,\n",
              "  'Time step': 26},\n",
              " {'Growth': 1.1365072471461577,\n",
              "  'Population size': 12.6739161793187,\n",
              "  'Time step': 27},\n",
              " {'Growth': 1.2401949006536501,\n",
              "  'Population size': 13.91411107997235,\n",
              "  'Time step': 28},\n",
              " {'Growth': 1.3516632314859027,\n",
              "  'Population size': 15.265774311458253,\n",
              "  'Time step': 29},\n",
              " {'Growth': 1.4711584744646284,\n",
              "  'Population size': 16.736932785922882,\n",
              "  'Time step': 30},\n",
              " {'Growth': 1.5988617217992243,\n",
              "  'Population size': 18.335794507722106,\n",
              "  'Time step': 31},\n",
              " {'Growth': 1.7348717465037566,\n",
              "  'Population size': 20.070666254225863,\n",
              "  'Time step': 32},\n",
              " {'Growth': 1.8791861233916123,\n",
              "  'Population size': 21.949852377617475,\n",
              "  'Time step': 33},\n",
              " {'Growth': 2.0316809414214703,\n",
              "  'Population size': 23.981533319038945,\n",
              "  'Time step': 34},\n",
              " {'Growth': 2.1920895687362716,\n",
              "  'Population size': 26.173622887775217,\n",
              "  'Time step': 35},\n",
              " {'Growth': 2.3599811263044685,\n",
              "  'Population size': 28.533604014079685,\n",
              "  'Time step': 36},\n",
              " {'Growth': 2.534739541293728,\n",
              "  'Population size': 31.068343555373414,\n",
              "  'Time step': 37},\n",
              " {'Growth': 2.715544275950851,\n",
              "  'Population size': 33.783887831324265,\n",
              "  'Time step': 38},\n",
              " {'Growth': 2.9013540449044015,\n",
              "  'Population size': 36.685241876228666,\n",
              "  'Time step': 39},\n",
              " {'Growth': 3.0908950205072188,\n",
              "  'Population size': 39.776136896735885,\n",
              "  'Time step': 40},\n",
              " {'Growth': 3.2826551536071378,\n",
              "  'Population size': 43.05879205034302,\n",
              "  'Time step': 41},\n",
              " {'Growth': 3.474886273514741,\n",
              "  'Population size': 46.533678323857764,\n",
              "  'Time step': 42},\n",
              " {'Growth': 3.6656155424518886,\n",
              "  'Population size': 50.19929386630965,\n",
              "  'Time step': 43},\n",
              " {'Growth': 3.8526675963256807,\n",
              "  'Population size': 54.05196146263533,\n",
              "  'Time step': 44},\n",
              " {'Growth': 4.033698284256651,\n",
              "  'Population size': 58.085659746891984,\n",
              "  'Time step': 45},\n",
              " {'Growth': 4.206240318313107,\n",
              "  'Population size': 62.29190006520509,\n",
              "  'Time step': 46},\n",
              " {'Growth': 4.367760378244604,\n",
              "  'Population size': 66.6596604434497,\n",
              "  'Time step': 47},\n",
              " {'Growth': 4.515726325407456,\n",
              "  'Population size': 71.17538676885715,\n",
              "  'Time step': 48},\n",
              " {'Growth': 4.647682234278918,\n",
              "  'Population size': 75.82306900313607,\n",
              "  'Time step': 49},\n",
              " {'Growth': 4.761328041310918,\n",
              "  'Population size': 80.58439704444699,\n",
              "  'Time step': 50},\n",
              " {'Growth': 4.854599846719367,\n",
              "  'Population size': 85.43899689116635,\n",
              "  'Time step': 51},\n",
              " {'Growth': 4.925746393816212,\n",
              "  'Population size': 90.36474328498257,\n",
              "  'Time step': 52},\n",
              " {'Growth': 4.9733970858654715,\n",
              "  'Population size': 95.33814037084804,\n",
              "  'Time step': 53},\n",
              " {'Growth': 4.996617142459144,\n",
              "  'Population size': 100.33475751330718,\n",
              "  'Time step': 54},\n",
              " {'Growth': 4.994946159270597,\n",
              "  'Population size': 105.32970367257778,\n",
              "  'Time step': 55},\n",
              " {'Growth': 4.968417375296198,\n",
              "  'Population size': 110.29812104787398,\n",
              "  'Time step': 56},\n",
              " {'Growth': 4.917556275815812,\n",
              "  'Population size': 115.21567732368979,\n",
              "  'Time step': 57},\n",
              " {'Growth': 4.8433586310799654,\n",
              "  'Population size': 120.05903595476975,\n",
              "  'Time step': 58},\n",
              " {'Growth': 4.7472495316685155,\n",
              "  'Population size': 124.80628548643827,\n",
              "  'Time step': 59},\n",
              " {'Growth': 4.631026274732278,\n",
              "  'Population size': 129.43731176117055,\n",
              "  'Time step': 60},\n",
              " {'Growth': 4.4967889493062785,\n",
              "  'Population size': 133.93410071047683,\n",
              "  'Time step': 61},\n",
              " {'Growth': 4.346863175703675,\n",
              "  'Population size': 138.2809638861805,\n",
              "  'Time step': 62},\n",
              " {'Growth': 4.183719639655465,\n",
              "  'Population size': 142.46468352583597,\n",
              "  'Time step': 63},\n",
              " {'Growth': 4.009894846470246,\n",
              "  'Population size': 146.4745783723062,\n",
              "  'Time step': 64},\n",
              " {'Growth': 3.8279169696738222,\n",
              "  'Population size': 150.30249534198003,\n",
              "  'Time step': 65},\n",
              " {'Growth': 3.6402398786515278,\n",
              "  'Population size': 153.94273522063156,\n",
              "  'Time step': 66},\n",
              " {'Growth': 3.4491875101791436,\n",
              "  'Population size': 157.3919227308107,\n",
              "  'Time step': 67},\n",
              " {'Growth': 3.256909805419781,\n",
              "  'Population size': 160.6488325362305,\n",
              "  'Time step': 68},\n",
              " {'Growth': 3.0653505565560977,\n",
              "  'Population size': 163.71418309278658,\n",
              "  'Time step': 69},\n",
              " {'Growth': 2.876226760925192,\n",
              "  'Population size': 166.59040985371178,\n",
              "  'Time step': 70},\n",
              " {'Growth': 2.691018503466495,\n",
              "  'Population size': 169.28142835717827,\n",
              "  'Time step': 71},\n",
              " {'Growth': 2.510967993166645,\n",
              "  'Population size': 171.79239635034492,\n",
              "  'Time step': 72},\n",
              " {'Growth': 2.3370861579779785,\n",
              "  'Population size': 174.1294825083229,\n",
              "  'Time step': 73},\n",
              " {'Growth': 2.1701651327943807,\n",
              "  'Population size': 176.29964764111728,\n",
              "  'Time step': 74},\n",
              " {'Growth': 2.010795025642409,\n",
              "  'Population size': 178.31044266675968,\n",
              "  'Time step': 75},\n",
              " {'Growth': 1.859383484728795,\n",
              "  'Population size': 180.16982615148848,\n",
              "  'Time step': 76},\n",
              " {'Growth': 1.7161767813023516,\n",
              "  'Population size': 181.88600293279083,\n",
              "  'Time step': 77},\n",
              " {'Growth': 1.5812813426332184,\n",
              "  'Population size': 183.46728427542405,\n",
              "  'Time step': 78},\n",
              " {'Growth': 1.4546848936482206,\n",
              "  'Population size': 184.92196916907227,\n",
              "  'Time step': 79},\n",
              " {'Growth': 1.3362765787468902,\n",
              "  'Population size': 186.25824574781916,\n",
              "  'Time step': 80},\n",
              " {'Growth': 1.2258656265498757,\n",
              "  'Population size': 187.48411137436904,\n",
              "  'Time step': 81},\n",
              " {'Growth': 1.1231982840235446,\n",
              "  'Population size': 188.60730965839258,\n",
              "  'Time step': 82},\n",
              " {'Growth': 1.0279728805501236,\n",
              "  'Population size': 189.6352825389427,\n",
              "  'Time step': 83},\n",
              " {'Growth': 0.9398529877135502,\n",
              "  'Population size': 190.57513552665625,\n",
              "  'Time step': 84},\n",
              " {'Growth': 0.8584787192638998,\n",
              "  'Population size': 191.43361424592015,\n",
              "  'Time step': 85},\n",
              " {'Growth': 0.7834762712820407,\n",
              "  'Population size': 192.2170905172022,\n",
              "  'Time step': 86},\n",
              " {'Growth': 0.7144658388150731,\n",
              "  'Population size': 192.93155635601727,\n",
              "  'Time step': 87},\n",
              " {'Growth': 0.6510680659748118,\n",
              "  'Population size': 193.58262442199208,\n",
              "  'Time step': 88},\n",
              " {'Growth': 0.5929091952130534,\n",
              "  'Population size': 194.17553361720513,\n",
              "  'Time step': 89},\n",
              " {'Growth': 0.5396250813261076,\n",
              "  'Population size': 194.71515869853124,\n",
              "  'Time step': 90},\n",
              " {'Growth': 0.49086422930204776,\n",
              "  'Population size': 195.2060229278333,\n",
              "  'Time step': 91},\n",
              " {'Growth': 0.4462900045619165,\n",
              "  'Population size': 195.6523129323952,\n",
              "  'Time step': 92},\n",
              " {'Growth': 0.40558215111400386,\n",
              "  'Population size': 196.0578950835092,\n",
              "  'Time step': 93},\n",
              " {'Growth': 0.3684377389375584,\n",
              "  'Population size': 196.42633282244677,\n",
              "  'Time step': 94},\n",
              " {'Growth': 0.3345716474436813,\n",
              "  'Population size': 196.76090446989045,\n",
              "  'Time step': 95},\n",
              " {'Growth': 0.3037166778023561,\n",
              "  'Population size': 197.0646211476928,\n",
              "  'Time step': 96},\n",
              " {'Growth': 0.2756233736816682,\n",
              "  'Population size': 197.34024452137447,\n",
              "  'Time step': 97},\n",
              " {'Growth': 0.25005961779629615,\n",
              "  'Population size': 197.59030413917077,\n",
              "  'Time step': 98},\n",
              " {'Growth': 0.22681006071837828,\n",
              "  'Population size': 197.81711419988915,\n",
              "  'Time step': 99},\n",
              " {'Growth': 0.20567542872186095,\n",
              "  'Population size': 198.022789628611,\n",
              "  'Time step': 100},\n",
              " {'Growth': 0.18647174897054697,\n",
              "  'Population size': 198.20926137758156,\n",
              "  'Time step': 101},\n",
              " {'Growth': 0.1690295230642107,\n",
              "  'Population size': 198.37829090064577,\n",
              "  'Time step': 102},\n",
              " {'Growth': 0.15319287372975054,\n",
              "  'Population size': 198.53148377437552,\n",
              "  'Time step': 103},\n",
              " {'Growth': 0.13881868418479826,\n",
              "  'Population size': 198.67030245856031,\n",
              "  'Time step': 104},\n",
              " {'Growth': 0.12577574529655067,\n",
              "  'Population size': 198.79607820385687,\n",
              "  'Time step': 105},\n",
              " {'Growth': 0.11394392200736547,\n",
              "  'Population size': 198.91002212586423,\n",
              "  'Time step': 106},\n",
              " {'Growth': 0.10321334749707489,\n",
              "  'Population size': 199.0132354733613,\n",
              "  'Time step': 107}]"
            ]
          },
          "execution_count": 7,
          "metadata": {},
          "output_type": "execute_result"
        }
      ],
      "source": [
        "results"
      ]
    },
    {
      "cell_type": "code",
      "execution_count": null,
      "metadata": {
        "colab": {
          "base_uri": "https://localhost:8080/"
        },
        "id": "pMVVvMo7bOGl",
        "outputId": "b6da8a8f-88c1-4bb7-d57f-5e1c19b2ad67"
      },
      "outputs": [
        {
          "name": "stdout",
          "output_type": "stream",
          "text": [
            "Found maximum growth of 4.996617142459144 at 54!\n"
          ]
        }
      ],
      "source": []
    },
    {
      "cell_type": "markdown",
      "metadata": {
        "id": "cdA91fwnykCS"
      },
      "source": [
        "## Besprechung der Aufgaben\n",
        "\n",
        "- Sind Sie mit ein Aufgaben bis hierhin fertig geworden und haben Sie keine Fragen, so legen Sie die grüne Karte nach oben\n",
        "- Sind Sie mit den Aufgaben fertig, aber hätten gerne, dass die Lösungen nocheinmal gemeinsam besprochen werden, legen Sie die gelbe Karte nach oben\n",
        "\n",
        "![](https://www.lokalinfo.ch/fileadmin/news_import/image003_03.jpg)"
      ]
    },
    {
      "cell_type": "markdown",
      "metadata": {
        "id": "2tT9cAIouIst"
      },
      "source": [
        "#### 🤓 Die Schlüssel eines Dictionaries der Reihe nach durchlaufen\n",
        "\n",
        "Ein Dictionary unterhält immer eine klare Verbindung zwischen jedem Schlüssel und seinem zugehörigen Wert, aber Sie erhalten die Elemente eines Dictionarys nie in einer vorhersehbaren Reihenfolge. Das ist kein Problem, denn Sie wollen normalerweise nur den richtigen Wert für jeden Schlüssel abrufen.\n",
        "Eine Möglichkeit, Elemente in einer bestimmten Reihenfolge zurückzugeben, besteht darin, die Schlüssel zu sortieren, wenn sie in der for-Schleife zurückgegeben werden. Sie können die Funktion sorted() verwenden, um eine Kopie der der Schlüssel in der richtigen Reihenfolge zu erhalten:"
      ]
    },
    {
      "cell_type": "code",
      "execution_count": null,
      "metadata": {
        "colab": {
          "base_uri": "https://localhost:8080/"
        },
        "id": "k24LgeGmr0tD",
        "outputId": "1e2806fa-9196-4f5c-ef80-21dda7a191b6"
      },
      "outputs": [
        {
          "name": "stdout",
          "output_type": "stream",
          "text": [
            "Edward, thank you for taking the poll.\n",
            "Jen, thank you for taking the poll.\n",
            "Phil, thank you for taking the poll.\n",
            "Sarah, thank you for taking the poll.\n"
          ]
        }
      ],
      "source": [
        "evaluation_results = {\n",
        "'Jen': 1.2,\n",
        "'Sarah': 2.1,\n",
        "'Edward': 3.0,\n",
        "'Phil': 1.0,\n",
        "}\n",
        "for name in sorted(evaluation_results.keys()):\n",
        "  print(name.title() + \", thank you for taking the poll.\")"
      ]
    }
  ],
  "metadata": {
    "colab": {
      "provenance": [],
      "toc_visible": true
    },
    "kernelspec": {
      "display_name": "Python 3.8.8 ('base')",
      "language": "python",
      "name": "python3"
    },
    "language_info": {
      "codemirror_mode": {
        "name": "ipython",
        "version": 3
      },
      "file_extension": ".py",
      "mimetype": "text/x-python",
      "name": "python",
      "nbconvert_exporter": "python",
      "pygments_lexer": "ipython3",
      "version": "3.8.8"
    },
    "vscode": {
      "interpreter": {
        "hash": "91b5df634ae01e052c095f84ce6ac57f1bf815a7c386b368c11e7051e1049005"
      }
    }
  },
  "nbformat": 4,
  "nbformat_minor": 0
}
