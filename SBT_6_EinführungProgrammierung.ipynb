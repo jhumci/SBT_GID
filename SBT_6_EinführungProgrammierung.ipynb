{
  "cells": [
    {
      "cell_type": "markdown",
      "metadata": {
        "id": "G1Ingk5cAudG"
      },
      "source": [
        "<table style=\"width: 100%\">\n",
        "    <tr style=\"background: #ffffff\">\n",
        "        <td style=\"padding-top:25px;width: 180px\"><img src=\"https://mci.edu/templates/mci/images/logo.svg\" alt=\"Logo\"></td>\n",
        "        <td style=\"width: 100%\">\n",
        "            <div style=\"text-align:right; width: 100%; text-align:right\"><font style=\"font-size:38px\"><b>Grundlagen Programmierung</b></font></div>\n",
        "            <div style=\"padding-top:0px; width: 100%; text-align:right\"><font size=\"4\"><b>WS 2023</b></font></div>\n",
        "        </td>\n",
        "    </tr>\n",
        "</table>\n",
        "\n",
        "---\n",
        "\n",
        "# 6 Daten\n",
        "\n",
        "Im folgenden Notebook sollen Sie ein ein Energiemanagementsystem für ein Gebäude mit PV-Anlage und Elektrofahrzeug entwickeln, welches das Elektrofahrzeug mit möglichst mit lokal erzeugtem Strom lädt. Die Aufgaben sollen Ihnen Routine darin vermitteln Aufgabenstellung zu interpretieren und in Code umzusetzen. Zudem arbeiten wir mit Daten in Matrizen, Tabellen und fertigen eigene Plots an.  "
      ]
    },
    {
      "cell_type": "code",
      "execution_count": 403,
      "metadata": {},
      "outputs": [],
      "source": [
        "# Zunächst müssen wir einige Pakte importieren, welche uns bei unseren Aufgaben untersützen\n",
        "\n",
        "# Numpy erweitert das Konzept der Listen auf Mathematische Matrizen\n",
        "import numpy as np\n",
        "\n",
        "# Datetime erleichtert das Arbeiten mit Zeiten\n",
        "import datetime\n",
        "\n",
        "# Matplotlib is ein Paket zum Erstellen von Plots\n",
        "import matplotlib as mpl\n",
        "import matplotlib.pyplot as plt\n",
        "\n",
        "# Pandas ermöglicht das Arbeiten mit Tabellarischen Daten\n",
        "import pandas as pd"
      ]
    },
    {
      "cell_type": "markdown",
      "metadata": {},
      "source": [
        "Zunächst legen wir einen Tag an. Der Numpy array `timestamps` enthält nur einen Eintrag für jede Stunde des Tages als Datum (schön formatierte Unix-time). `steps` hingegen enthält genau die Stunde als Integer."
      ]
    },
    {
      "cell_type": "code",
      "execution_count": 404,
      "metadata": {},
      "outputs": [
        {
          "data": {
            "text/plain": [
              "array(['2023-07-17T00:00:00.000000', '2023-07-17T01:00:00.000000',\n",
              "       '2023-07-17T02:00:00.000000', '2023-07-17T03:00:00.000000',\n",
              "       '2023-07-17T04:00:00.000000'], dtype='datetime64[us]')"
            ]
          },
          "execution_count": 404,
          "metadata": {},
          "output_type": "execute_result"
        }
      ],
      "source": [
        "\n",
        "# Set the simulation parameters\n",
        "start_time = pd.Timestamp(\"2023-07-17 00:00:00\")\n",
        "end_time = pd.Timestamp(\"2023-07-18 00:00:00\")\n",
        "num_periods = int((end_time - start_time) / pd.Timedelta(minutes=60))\n",
        "steps =  list(range(num_periods))\n",
        "# Create the timestamp array\n",
        "timestamps = np.arange(start_time, end_time, np.timedelta64(60, \"m\"))\n",
        "timestamps[0:5]"
      ]
    },
    {
      "cell_type": "markdown",
      "metadata": {},
      "source": [
        "✍️ **Aufgabe**\n",
        "\n",
        "Zeigen Sie sich die ersten 10 Werte von `steps` an"
      ]
    },
    {
      "cell_type": "code",
      "execution_count": null,
      "metadata": {},
      "outputs": [],
      "source": []
    },
    {
      "cell_type": "code",
      "execution_count": 405,
      "metadata": {},
      "outputs": [
        {
          "data": {
            "text/plain": [
              "[0, 1, 2, 3, 4, 5, 6, 7, 8, 9]"
            ]
          },
          "execution_count": 405,
          "metadata": {},
          "output_type": "execute_result"
        }
      ],
      "source": [
        "#@title ❓ Click `Show code` in the code cell to show the solution. { display-mode: \"form\" }\n",
        "\n",
        "steps[0:10]"
      ]
    },
    {
      "cell_type": "markdown",
      "metadata": {},
      "source": [
        "Als nächstes simulieren wir die Daten des Gebäudes und Plotten diese. Wir beginnen mit dem Strombedarf:"
      ]
    },
    {
      "cell_type": "code",
      "execution_count": 406,
      "metadata": {},
      "outputs": [
        {
          "data": {
            "text/plain": [
              "Text(0, 0.5, 'Strombedarf in kWh')"
            ]
          },
          "execution_count": 406,
          "metadata": {},
          "output_type": "execute_result"
        },
        {
          "data": {
            "image/png": "[encoded data removed]",
            "text/plain": [
              "<Figure size 432x288 with 1 Axes>"
            ]
          },
          "metadata": {
            "needs_background": "light"
          },
          "output_type": "display_data"
        }
      ],
      "source": [
        "# Simulate electricity consumption (kWh)\n",
        "consumption_kWh = np.random.uniform(0, 6, num_periods)\n",
        "\n",
        "\n",
        "# Plottet die Daten\n",
        "plt.plot(steps, consumption_kWh) # Der erste übergebene Array ist die X-, der zweite die Y-Achse\n",
        "\n",
        "# Integriert eine Bezeichnung der x-Achse\n",
        "plt.xlabel(\"Stunde des Tages\")\n",
        "\n",
        "# Integriert eine Bezeichnung der y-Achse\n",
        "plt.ylabel(\"Strombedarf in kWh\")"
      ]
    },
    {
      "cell_type": "markdown",
      "metadata": {},
      "source": [
        "Als nächstes simulieren wir die Erzeugung der PV-Anlage:"
      ]
    },
    {
      "cell_type": "code",
      "execution_count": 407,
      "metadata": {},
      "outputs": [],
      "source": [
        "pv_generation_kWh = np.zeros(len(timestamps))\n",
        "\n",
        "pv_generation_kWh[7:19] = 3\n",
        "pv_generation_kWh[8:18] = 5\n",
        "pv_generation_kWh[10:16] = 6\n",
        "pv_generation_kWh[12:14] = 6.5"
      ]
    },
    {
      "cell_type": "markdown",
      "metadata": {},
      "source": [
        "✍️ **Aufgabe**\n",
        "\n",
        "Erstellen Sie einen Plot, der die PV-Erzeugung visualisiert."
      ]
    },
    {
      "cell_type": "code",
      "execution_count": null,
      "metadata": {},
      "outputs": [],
      "source": []
    },
    {
      "cell_type": "code",
      "execution_count": 408,
      "metadata": {},
      "outputs": [
        {
          "data": {
            "text/plain": [
              "Text(0, 0.5, 'PV-Erzeugung in kWh')"
            ]
          },
          "execution_count": 408,
          "metadata": {},
          "output_type": "execute_result"
        },
        {
          "data": {
            "image/png": "[encoded data removed]",
            "text/plain": [
              "<Figure size 432x288 with 1 Axes>"
            ]
          },
          "metadata": {
            "needs_background": "light"
          },
          "output_type": "display_data"
        }
      ],
      "source": [
        "#@title ❓ Click `Show code` in the code cell to show the solution. { display-mode: \"form\" }\n",
        "\n",
        "# Plottet die Daten\n",
        "plt.plot(steps, pv_generation_kWh)\n",
        "\n",
        "# Integriert eine Bezeichnung der x-Achse\n",
        "plt.xlabel(\"Stunde des Tages\")\n",
        "\n",
        "# Integriert eine Bezeichnung der y-Achse\n",
        "plt.ylabel(\"PV-Erzeugung in kWh\")"
      ]
    },
    {
      "cell_type": "markdown",
      "metadata": {},
      "source": [
        "Zuletzt bereiten wir Daten für das Elektrofahrzeug (Battery Electric Vehicle / BEV) vor. `bev_connection` speichert, ob ein Elektrofahrzeug gerade mit der Ladestation verbunden ist. In `bev_soc_kWh` wird der aktuelle Füllstand der Batterie (State of Charge / SoC) gespeichert.\n",
        "\n",
        "Wir nehmen an, dass das Fahrzeug um 13 Uhr eingesteckt wird und zu diesem Zeitpunkt mit 15 kWh geladen ist. Die Batteriegröße `bev_max_soc_kWh` beträgt 75 kWh."
      ]
    },
    {
      "cell_type": "code",
      "execution_count": 409,
      "metadata": {},
      "outputs": [
        {
          "data": {
            "text/plain": [
              "Text(0, 0.5, 'Anwesenheit des Elektrofahrzeuges')"
            ]
          },
          "execution_count": 409,
          "metadata": {},
          "output_type": "execute_result"
        },
        {
          "data": {
            "image/png": "[encoded data removed]",
            "text/plain": [
              "<Figure size 432x288 with 1 Axes>"
            ]
          },
          "metadata": {
            "needs_background": "light"
          },
          "output_type": "display_data"
        }
      ],
      "source": [
        "# Lege zunächst einen Array mit 24 Nullen an\n",
        "bev_connection = np.zeros(len(timestamps))\n",
        "# Fülle alle Werte ab dem 13. mit 1 (=BEV ist verbunden)\n",
        "bev_connection[13:] = 1\n",
        "\n",
        "# Lege zunächst einen Array mit 24 Nullen an\n",
        "bev_soc_kWh = np.zeros(len(timestamps))\n",
        "# Zu Beginn ist das Fahrzeug mit 15 kWh geladen. Alle Werte dahinter bleiben zunächst mit 0 befüllt, da wir diese noch nicht kennen.\n",
        "bev_soc_kWh[13] = 15\n",
        "\n",
        "# Maximaler SoC des Fahrzeugs\n",
        "bev_max_soc_kWh = 75\n",
        "\n",
        "# Plottet die Daten\n",
        "plt.plot(steps, bev_connection)\n",
        "\n",
        "# Integriert eine Bezeichnung der x-Achse\n",
        "plt.xlabel(\"Stunde des Tages\")\n",
        "\n",
        "# Integriert eine Bezeichnung der y-Achse\n",
        "plt.ylabel(\"Anwesenheit des Elektrofahrzeuges\")"
      ]
    },
    {
      "cell_type": "markdown",
      "metadata": {},
      "source": [
        "✍️ **Aufgabe**\n",
        "\n",
        "Schreiben Sie eine Funktion, die für einen Zeitpunkt zurück gibt, ob gerade geladen wird oder nicht (`True` (es wird geladen) oder `False`).\n",
        "\n",
        "Geladen werden kann nur, wenn das BEV gerade verbunden ist (`bev_connection == True`). Das Elektrofahrzeug lädt immer, wenn der SoC (`soc`) unter 10 kWh ist oder sobald mehr PV-Strom (`pv_generation_kWh`) erzeugt wird als das Gebäude verbraucht (`consumption_kWh`)."
      ]
    },
    {
      "cell_type": "code",
      "execution_count": 410,
      "metadata": {},
      "outputs": [
        {
          "ename": "SyntaxError",
          "evalue": "unexpected EOF while parsing (<ipython-input-410-9cadab1a8507>, line 2)",
          "output_type": "error",
          "traceback": [
            "\u001b[1;36m  File \u001b[1;32m\"<ipython-input-410-9cadab1a8507>\"\u001b[1;36m, line \u001b[1;32m2\u001b[0m\n\u001b[1;33m    # Fügen Sie hier Ihren Code ein\u001b[0m\n\u001b[1;37m                                   ^\u001b[0m\n\u001b[1;31mSyntaxError\u001b[0m\u001b[1;31m:\u001b[0m unexpected EOF while parsing\n"
          ]
        }
      ],
      "source": [
        "def charge_bev(bev_connection, soc, pv_generation_kWh, consumption_kWh):\n",
        "    # Fügen Sie hier Ihren Code ein"
      ]
    },
    {
      "cell_type": "code",
      "execution_count": null,
      "metadata": {},
      "outputs": [
        {
          "data": {
            "text/plain": [
              "True"
            ]
          },
          "execution_count": 381,
          "metadata": {},
          "output_type": "execute_result"
        }
      ],
      "source": [
        "# Testen der Funktion: Sollte True ausgeben\n",
        "charge_bev(bev_connection = True, soc = 50, pv_generation_kWh = 20, consumption_kWh = 10)"
      ]
    },
    {
      "cell_type": "code",
      "execution_count": null,
      "metadata": {},
      "outputs": [
        {
          "data": {
            "text/plain": [
              "False"
            ]
          },
          "execution_count": 398,
          "metadata": {},
          "output_type": "execute_result"
        }
      ],
      "source": [
        "# Testen der Funktion: Sollte False ausgeben\n",
        "charge_bev(bev_connection = True, soc = 50, pv_generation_kWh = 5, consumption_kWh = 10)"
      ]
    },
    {
      "cell_type": "code",
      "execution_count": null,
      "metadata": {},
      "outputs": [
        {
          "data": {
            "text/plain": [
              "True"
            ]
          },
          "execution_count": 399,
          "metadata": {},
          "output_type": "execute_result"
        }
      ],
      "source": [
        "# Testen der Funktion: Sollte True ausgeben\n",
        "charge_bev(bev_connection = True, soc = 5, pv_generation_kWh = 5, consumption_kWh = 10)"
      ]
    },
    {
      "cell_type": "code",
      "execution_count": null,
      "metadata": {},
      "outputs": [],
      "source": [
        "#@title ❓ Click `Show code` in the code cell to show the solution. { display-mode: \"form\" }\n",
        " \n",
        "def charge_bev(bev_connection, soc, pv_generation_kWh, consumption_kWh):\n",
        "    charge  = False\n",
        "\n",
        "    if bev_connection == False:\n",
        "        return False\n",
        "    elif soc < 10 or pv_generation_kWh > consumption_kWh:\n",
        "        return True\n",
        "    else:\n",
        "        return False"
      ]
    },
    {
      "cell_type": "markdown",
      "metadata": {},
      "source": [
        "✍️ **Aufgabe**\n",
        "\n",
        "Schreiben Sie eine Funktion, die die Ladeleistung des Fahrzeuges in kW als `float` zurück gibt. Dabei soll folgendes gelten: Die Ladeleistung ist 0 kW, wenn nicht geladen wird. Bei einem Ladestand (SoC) unter 10 kWh wird immer mit der maximal möglichen Ladeleistung und 11 kW geladen. In allen anderen Fällen wird maximal mit der Überschussleistung der PV-Anlage geladen werden. \n",
        "Hierzu müssen Sie den Gebäudestrombedarf von der Erzeugung abziehen. Beachten Sie, dass wir die Erzeugung und den Gebäudestrombedarf als Energie und nicht als Leistung gegeben haben. Achten Sie zudem darauf, dass sie die Batterie des Fahrzeuges nicht überladen können."
      ]
    },
    {
      "cell_type": "code",
      "execution_count": null,
      "metadata": {},
      "outputs": [
        {
          "ename": "SyntaxError",
          "evalue": "unexpected EOF while parsing (<ipython-input-401-3b8dfbf7c90d>, line 2)",
          "output_type": "error",
          "traceback": [
            "\u001b[1;36m  File \u001b[1;32m\"<ipython-input-401-3b8dfbf7c90d>\"\u001b[1;36m, line \u001b[1;32m2\u001b[0m\n\u001b[1;33m    # Fügen Sie hier Ihren Code ein\u001b[0m\n\u001b[1;37m                                   ^\u001b[0m\n\u001b[1;31mSyntaxError\u001b[0m\u001b[1;31m:\u001b[0m unexpected EOF while parsing\n"
          ]
        }
      ],
      "source": [
        "def charge_bev_speed(charge, soc, max_soc, pv_generation_kWh, consumption_kWh):\n",
        "    # Fügen Sie hier Ihren Code ein"
      ]
    },
    {
      "cell_type": "code",
      "execution_count": null,
      "metadata": {},
      "outputs": [],
      "source": [
        "#@title ❓ Click `Show code` in the code cell to show the solution. { display-mode: \"form\" }\n",
        "# Da wird in einem Raster von 1h Arbeiten, können wir direkt von kW ind kWh umrechnen, indem wir wir Werte mit 1 (h) multiplizieren\n",
        "\n",
        "\n",
        "def charge_bev_speed(charge, soc, max_soc, pv_generation_kWh, consumption_kWh):\n",
        "    capacity_left = max_soc - soc\n",
        "    #print(capacity_left)\n",
        "    if charge == False:\n",
        "        return 0\n",
        "    elif soc < 10:\n",
        "        return 11\n",
        "    else:     \n",
        "        return max(0, min(capacity_left, pv_generation_kWh - consumption_kWh))\n"
      ]
    },
    {
      "cell_type": "code",
      "execution_count": null,
      "metadata": {},
      "outputs": [
        {
          "data": {
            "text/plain": [
              "5"
            ]
          },
          "execution_count": 402,
          "metadata": {},
          "output_type": "execute_result"
        }
      ],
      "source": [
        "# Testen der Funktion\n",
        "charge_bev_speed(charge = True, soc = 70 , max_soc = 75, pv_generation_kWh = 20 ,consumption_kWh = 10)"
      ]
    },
    {
      "cell_type": "markdown",
      "metadata": {},
      "source": [
        "Nun, da Ihre Funktionen funktionieren, können wir diese in ein rechtes System einbauen. Um das Zusammenspiel zu evaluieren, werden wir aber zunächst einen Tag simulieren. Im echten System würden die Funktionen z.B. in einer `while`-Schleife Werden und immer wieder aufgerufen werden. Da wir nur einen Tag simulieren, nutzen wir die `for`-Schleife durch unseren simulierten Tag. \n",
        "Über `index, time in enumerate(timestamps)` können wir in die Schleife über `index` den jeweils n-ten-Eintrag in jeder Liste abgreifen. Da alle Liste genau 24 Einträge lang sind, erhalten wir so immer wie Einträge, die zusammen gehören. "
      ]
    },
    {
      "cell_type": "code",
      "execution_count": null,
      "metadata": {},
      "outputs": [
        {
          "name": "stdout",
          "output_type": "stream",
          "text": [
            "Jetzt ist die 0. Stunde. Genauer gesagt 2023-07-17T00:00:00.000000\n",
            "Jetzt ist die 1. Stunde. Genauer gesagt 2023-07-17T01:00:00.000000\n",
            "Jetzt ist die 2. Stunde. Genauer gesagt 2023-07-17T02:00:00.000000\n",
            "Jetzt ist die 3. Stunde. Genauer gesagt 2023-07-17T03:00:00.000000\n",
            "Jetzt ist die 4. Stunde. Genauer gesagt 2023-07-17T04:00:00.000000\n",
            "Jetzt ist die 5. Stunde. Genauer gesagt 2023-07-17T05:00:00.000000\n",
            "Jetzt ist die 6. Stunde. Genauer gesagt 2023-07-17T06:00:00.000000\n",
            "Jetzt ist die 7. Stunde. Genauer gesagt 2023-07-17T07:00:00.000000\n",
            "Jetzt ist die 8. Stunde. Genauer gesagt 2023-07-17T08:00:00.000000\n",
            "Jetzt ist die 9. Stunde. Genauer gesagt 2023-07-17T09:00:00.000000\n",
            "Jetzt ist die 10. Stunde. Genauer gesagt 2023-07-17T10:00:00.000000\n",
            "Jetzt ist die 11. Stunde. Genauer gesagt 2023-07-17T11:00:00.000000\n",
            "Jetzt ist die 12. Stunde. Genauer gesagt 2023-07-17T12:00:00.000000\n",
            "Jetzt ist die 13. Stunde. Genauer gesagt 2023-07-17T13:00:00.000000\n",
            "Jetzt ist die 14. Stunde. Genauer gesagt 2023-07-17T14:00:00.000000\n",
            "Jetzt ist die 15. Stunde. Genauer gesagt 2023-07-17T15:00:00.000000\n",
            "Jetzt ist die 16. Stunde. Genauer gesagt 2023-07-17T16:00:00.000000\n",
            "Jetzt ist die 17. Stunde. Genauer gesagt 2023-07-17T17:00:00.000000\n",
            "Jetzt ist die 18. Stunde. Genauer gesagt 2023-07-17T18:00:00.000000\n",
            "Jetzt ist die 19. Stunde. Genauer gesagt 2023-07-17T19:00:00.000000\n",
            "Jetzt ist die 20. Stunde. Genauer gesagt 2023-07-17T20:00:00.000000\n",
            "Jetzt ist die 21. Stunde. Genauer gesagt 2023-07-17T21:00:00.000000\n",
            "Jetzt ist die 22. Stunde. Genauer gesagt 2023-07-17T22:00:00.000000\n",
            "Jetzt ist die 23. Stunde. Genauer gesagt 2023-07-17T23:00:00.000000\n"
          ]
        }
      ],
      "source": [
        "charge = []\n",
        "charging_speed_kW = []\n",
        "\n",
        "for index, time in enumerate(timestamps):\n",
        "    print(\"Jetzt ist die {}. Stunde. Genauer gesagt {}\".format(index, timestamps[index]))\n",
        "\n",
        "    # Rufen Sie charge_bev() auf, um zu überprüfen, ob gerade geladen werden sollte und fügen Sei das Ergebnis an die Liste charge an\n",
        "\n",
        "    # Rufen Sie current_charging_speed_kWh() auf, um die aktuelle Ladegeschwindigkeit zu bestimmen.\n",
        "    # Beachten Sie dabei, dass Sie dazu den aktuellen SoC berücksichtigen müssen, der in der Zeile index-1 steht!\n",
        "    \n",
        "    # fügen Sei das Ergebnis an die Liste charging_speed_kW an\n",
        "\n",
        "    # Updaten sie die Liste bev_soc_kWh an der aktuellen Stelle. \n",
        "    # Beachten Sie dabei, dass Sie dazu den aktuellen SoC aus der Zeile davor mit der charging_speed_kW (*1h) addieren müssen"
      ]
    },
    {
      "cell_type": "code",
      "execution_count": 411,
      "metadata": {},
      "outputs": [],
      "source": [
        "#@title ❓ Click `Show code` in the code cell to show the solution. { display-mode: \"form\" }\n",
        "\n",
        "charge = []\n",
        "charging_speed_kW = []\n",
        "\n",
        "for index, time in enumerate(timestamps):\n",
        "    #print(index)\n",
        "    charge.append(charge_bev(bev_connection[index], bev_soc_kWh[index],pv_generation_kWh[index], consumption_kWh[index]))\n",
        "    current_charging_speed_kW = charge_bev_speed(charge[index],bev_soc_kWh[index-1], bev_max_soc_kWh,pv_generation_kWh[index], consumption_kWh[index])\n",
        "    charging_speed_kW.append(current_charging_speed_kW)\n",
        "    bev_soc_kWh[index] = bev_soc_kWh[index-1] + current_charging_speed_kW\n",
        "#charge\n",
        "#charging_speed_kWh\n",
        "#bev_soc_kWh"
      ]
    },
    {
      "cell_type": "markdown",
      "metadata": {},
      "source": [
        "Herzlichen Glückwunsch. Sie haben nun erfolgreich simuliert, wie das Fahrzeug geladen werden würde. Lassen Sie uns die verschiedenen Lastgänge in einer Grafik zusammenfassen:"
      ]
    },
    {
      "cell_type": "code",
      "execution_count": 414,
      "metadata": {},
      "outputs": [
        {
          "data": {
            "text/plain": [
              "<matplotlib.legend.Legend at 0x1334c9f97f0>"
            ]
          },
          "execution_count": 414,
          "metadata": {},
          "output_type": "execute_result"
        },
        {
          "data": {
            "image/png": "[encoded data removed]",
            "text/plain": [
              "<Figure size 432x288 with 1 Axes>"
            ]
          },
          "metadata": {
            "needs_background": "light"
          },
          "output_type": "display_data"
        }
      ],
      "source": [
        "import matplotlib as mpl\n",
        "import matplotlib.pyplot as plt\n",
        "\n",
        "# Plottet die Daten\n",
        "plt.plot(steps, charging_speed_kW)\n",
        "plt.plot(steps, consumption_kWh)\n",
        "plt.plot(steps, bev_soc_kWh)\n",
        "plt.plot(steps, pv_generation_kWh)\n",
        "# Integriert einen Titel\n",
        "plt.title(\"This is a title\")\n",
        "\n",
        "# Integriert eine Bezeichnung der x-Achse\n",
        "plt.xlabel(\"Stunde des Tages\")\n",
        "\n",
        "# Integriert eine Bezeichnung der y-Achse\n",
        "plt.ylabel(\"Stündliche Energiemengen in kWh\")\n",
        "\n",
        "# Integriert die Legende\n",
        "plt.legend(['Charging in kWh','Consumption in kWh', 'SoC in kWh', 'PV in kWh'])\n"
      ]
    },
    {
      "cell_type": "code",
      "execution_count": 418,
      "metadata": {},
      "outputs": [
        {
          "data": {
            "text/plain": [
              "[<matplotlib.lines.Line2D at 0x1334dfb5ca0>]"
            ]
          },
          "execution_count": 418,
          "metadata": {},
          "output_type": "execute_result"
        },
        {
          "data": {
            "image/png": "[encoded data removed]",
            "text/plain": [
              "<Figure size 432x288 with 1 Axes>"
            ]
          },
          "metadata": {
            "needs_background": "light"
          },
          "output_type": "display_data"
        }
      ],
      "source": [
        "last_an_hausanschluss = consumption_kWh + charging_speed_kW - pv_generation_kWh\n",
        "last_an_hausanschluss\n",
        "plt.plot(steps, last_an_hausanschluss)"
      ]
    },
    {
      "cell_type": "markdown",
      "metadata": {},
      "source": [
        "✍️ **Aufgabe**\n",
        "\n",
        "Bestimmen Sie wie viel Energie das Gebäude an diesem Tag vom Netz bezogen hat, wie viel ein eingespeist hat und was die maximale Durchschnittliche last am hausanschluss an diesem Tag war.\n",
        "\n",
        "Anschaulich müssen Sie die Zeitreihe `last_an_hausanschluss` in ihre positiven und negativen Bestandteile zerlegen und dann die Fläche unter den verbleibenden Kurven summieren. \n",
        "\n",
        "Berechnen Sie auch die Stromkosten für diesen Tag. Rechen Sie mit einer Einspeisevergütung von 0.20 Cent / kWh und einen Strompreis von 30 Cent /kWh."
      ]
    },
    {
      "cell_type": "code",
      "execution_count": null,
      "metadata": {},
      "outputs": [],
      "source": [
        "#@title ❓ Click `Show code` in the code cell to show the solution. { display-mode: \"form\" }\n"
      ]
    },
    {
      "cell_type": "code",
      "execution_count": 415,
      "metadata": {},
      "outputs": [
        {
          "data": {
            "text/html": [
              "<div>\n",
              "<style scoped>\n",
              "    .dataframe tbody tr th:only-of-type {\n",
              "        vertical-align: middle;\n",
              "    }\n",
              "\n",
              "    .dataframe tbody tr th {\n",
              "        vertical-align: top;\n",
              "    }\n",
              "\n",
              "    .dataframe thead th {\n",
              "        text-align: right;\n",
              "    }\n",
              "</style>\n",
              "<table border=\"1\" class=\"dataframe\">\n",
              "  <thead>\n",
              "    <tr style=\"text-align: right;\">\n",
              "      <th></th>\n",
              "      <th>consumption_kWh</th>\n",
              "      <th>charging_speed_kWh</th>\n",
              "      <th>bev_soc_kWh</th>\n",
              "      <th>pv_generation_kWh</th>\n",
              "      <th>timestamps</th>\n",
              "    </tr>\n",
              "  </thead>\n",
              "  <tbody>\n",
              "    <tr>\n",
              "      <th>0</th>\n",
              "      <td>5.464522</td>\n",
              "      <td>0.0</td>\n",
              "      <td>0.0</td>\n",
              "      <td>0.0</td>\n",
              "      <td>2023-07-17 00:00:00</td>\n",
              "    </tr>\n",
              "    <tr>\n",
              "      <th>1</th>\n",
              "      <td>5.057976</td>\n",
              "      <td>0.0</td>\n",
              "      <td>0.0</td>\n",
              "      <td>0.0</td>\n",
              "      <td>2023-07-17 01:00:00</td>\n",
              "    </tr>\n",
              "    <tr>\n",
              "      <th>2</th>\n",
              "      <td>5.182561</td>\n",
              "      <td>0.0</td>\n",
              "      <td>0.0</td>\n",
              "      <td>0.0</td>\n",
              "      <td>2023-07-17 02:00:00</td>\n",
              "    </tr>\n",
              "    <tr>\n",
              "      <th>3</th>\n",
              "      <td>3.576919</td>\n",
              "      <td>0.0</td>\n",
              "      <td>0.0</td>\n",
              "      <td>0.0</td>\n",
              "      <td>2023-07-17 03:00:00</td>\n",
              "    </tr>\n",
              "    <tr>\n",
              "      <th>4</th>\n",
              "      <td>4.576128</td>\n",
              "      <td>0.0</td>\n",
              "      <td>0.0</td>\n",
              "      <td>0.0</td>\n",
              "      <td>2023-07-17 04:00:00</td>\n",
              "    </tr>\n",
              "  </tbody>\n",
              "</table>\n",
              "</div>"
            ],
            "text/plain": [
              "   consumption_kWh  charging_speed_kWh  bev_soc_kWh  pv_generation_kWh  \\\n",
              "0         5.464522                 0.0          0.0                0.0   \n",
              "1         5.057976                 0.0          0.0                0.0   \n",
              "2         5.182561                 0.0          0.0                0.0   \n",
              "3         3.576919                 0.0          0.0                0.0   \n",
              "4         4.576128                 0.0          0.0                0.0   \n",
              "\n",
              "           timestamps  \n",
              "0 2023-07-17 00:00:00  \n",
              "1 2023-07-17 01:00:00  \n",
              "2 2023-07-17 02:00:00  \n",
              "3 2023-07-17 03:00:00  \n",
              "4 2023-07-17 04:00:00  "
            ]
          },
          "execution_count": 415,
          "metadata": {},
          "output_type": "execute_result"
        }
      ],
      "source": [
        "import pandas as pd\n",
        "optimized_charging = {    \"consumption_kWh\" : consumption_kWh,\n",
        "                \"charging_speed_kWh\" : charging_speed_kW,\n",
        "                \"bev_soc_kWh\" : bev_soc_kWh,\n",
        "                \"pv_generation_kWh\" : pv_generation_kWh,\n",
        "                \"timestamps\" : timestamps \n",
        "\n",
        "}\n",
        "dataframe = pd.DataFrame(optimized_charging)\n",
        "dataframe.head()"
      ]
    },
    {
      "cell_type": "code",
      "execution_count": 358,
      "metadata": {},
      "outputs": [],
      "source": [
        "dataframe.to_csv(\"results_optimized_charging.csv\")"
      ]
    },
    {
      "cell_type": "code",
      "execution_count": 359,
      "metadata": {},
      "outputs": [
        {
          "data": {
            "text/html": [
              "<div>\n",
              "<style scoped>\n",
              "    .dataframe tbody tr th:only-of-type {\n",
              "        vertical-align: middle;\n",
              "    }\n",
              "\n",
              "    .dataframe tbody tr th {\n",
              "        vertical-align: top;\n",
              "    }\n",
              "\n",
              "    .dataframe thead th {\n",
              "        text-align: right;\n",
              "    }\n",
              "</style>\n",
              "<table border=\"1\" class=\"dataframe\">\n",
              "  <thead>\n",
              "    <tr style=\"text-align: right;\">\n",
              "      <th></th>\n",
              "      <th>consumption_kWh</th>\n",
              "      <th>charging_speed_kWh</th>\n",
              "      <th>bev_soc_kWh</th>\n",
              "      <th>pv_generation_kWh</th>\n",
              "    </tr>\n",
              "  </thead>\n",
              "  <tbody>\n",
              "    <tr>\n",
              "      <th>count</th>\n",
              "      <td>24.000000</td>\n",
              "      <td>24.000000</td>\n",
              "      <td>24.000000</td>\n",
              "      <td>24.000000</td>\n",
              "    </tr>\n",
              "    <tr>\n",
              "      <th>mean</th>\n",
              "      <td>3.368432</td>\n",
              "      <td>0.809881</td>\n",
              "      <td>8.082008</td>\n",
              "      <td>2.666667</td>\n",
              "    </tr>\n",
              "    <tr>\n",
              "      <th>std</th>\n",
              "      <td>1.887802</td>\n",
              "      <td>2.415602</td>\n",
              "      <td>9.220116</td>\n",
              "      <td>2.869126</td>\n",
              "    </tr>\n",
              "    <tr>\n",
              "      <th>min</th>\n",
              "      <td>0.184349</td>\n",
              "      <td>0.000000</td>\n",
              "      <td>0.000000</td>\n",
              "      <td>0.000000</td>\n",
              "    </tr>\n",
              "    <tr>\n",
              "      <th>25%</th>\n",
              "      <td>1.702510</td>\n",
              "      <td>0.000000</td>\n",
              "      <td>0.000000</td>\n",
              "      <td>0.000000</td>\n",
              "    </tr>\n",
              "    <tr>\n",
              "      <th>50%</th>\n",
              "      <td>3.656753</td>\n",
              "      <td>0.000000</td>\n",
              "      <td>0.000000</td>\n",
              "      <td>1.500000</td>\n",
              "    </tr>\n",
              "    <tr>\n",
              "      <th>75%</th>\n",
              "      <td>4.837697</td>\n",
              "      <td>0.000000</td>\n",
              "      <td>19.437136</td>\n",
              "      <td>5.250000</td>\n",
              "    </tr>\n",
              "    <tr>\n",
              "      <th>max</th>\n",
              "      <td>5.958227</td>\n",
              "      <td>11.000000</td>\n",
              "      <td>19.437136</td>\n",
              "      <td>7.000000</td>\n",
              "    </tr>\n",
              "  </tbody>\n",
              "</table>\n",
              "</div>"
            ],
            "text/plain": [
              "       consumption_kWh  charging_speed_kWh  bev_soc_kWh  pv_generation_kWh\n",
              "count        24.000000           24.000000    24.000000          24.000000\n",
              "mean          3.368432            0.809881     8.082008           2.666667\n",
              "std           1.887802            2.415602     9.220116           2.869126\n",
              "min           0.184349            0.000000     0.000000           0.000000\n",
              "25%           1.702510            0.000000     0.000000           0.000000\n",
              "50%           3.656753            0.000000     0.000000           1.500000\n",
              "75%           4.837697            0.000000    19.437136           5.250000\n",
              "max           5.958227           11.000000    19.437136           7.000000"
            ]
          },
          "execution_count": 359,
          "metadata": {},
          "output_type": "execute_result"
        }
      ],
      "source": [
        "dataframe.describe()"
      ]
    },
    {
      "cell_type": "code",
      "execution_count": null,
      "metadata": {},
      "outputs": [],
      "source": []
    }
  ],
  "metadata": {
    "colab": {
      "provenance": []
    },
    "kernelspec": {
      "display_name": "Python 3.8.8 ('base')",
      "language": "python",
      "name": "python3"
    },
    "language_info": {
      "codemirror_mode": {
        "name": "ipython",
        "version": 3
      },
      "file_extension": ".py",
      "mimetype": "text/x-python",
      "name": "python",
      "nbconvert_exporter": "python",
      "pygments_lexer": "ipython3",
      "version": "3.8.8"
    },
    "vscode": {
      "interpreter": {
        "hash": "91b5df634ae01e052c095f84ce6ac57f1bf815a7c386b368c11e7051e1049005"
      }
    }
  },
  "nbformat": 4,
  "nbformat_minor": 0
}
