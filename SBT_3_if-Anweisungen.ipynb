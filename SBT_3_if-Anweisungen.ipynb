{
  "cells": [
    {
      "cell_type": "markdown",
      "metadata": {
        "id": "6KHuXzZ3pTAl"
      },
      "source": [
        "<table style=\"width: 100%\">\n",
        "    <tr style=\"background: #ffffff\">\n",
        "        <td style=\"padding-top:25px;width: 180px\"><img src=\"https://mci.edu/templates/mci/images/logo.svg\" alt=\"Logo\"></td>\n",
        "        <td style=\"width: 100%\">\n",
        "            <div style=\"text-align:right; width: 100%; text-align:right\"><font style=\"font-size:38px\"><b>Grundlagen Programmierung</b></font></div>\n",
        "            <div style=\"padding-top:0px; width: 100%; text-align:right\"><font size=\"4\"><b>WS 2023</b></font></div>\n",
        "        </td>\n",
        "    </tr>\n",
        "</table>\n",
        "\n",
        "---\n",
        "\n",
        "# 3 if-Anweisungen?\n",
        "\n",
        "In Algorithmen wird oft eine Reihe von Bedingungen geprüft und basierend darauf die Entscheidung getroffen, welche welche Aktion auf der durchgeführt werden soll.\n",
        "\n",
        "Mit der if-Anweisung von Python können Sie den aktuellen Zustand eines Programms zu untersuchen und entsprechend auf diesen Zustand zu reagieren.\n",
        "\n",
        "In diesem Kapitel lernen Sie, wie man bedingte Tests schreibt, mit denen man jede beliebige Bedingung prüfen kann. Sie werden lernen, einfache if-Anweisungen zu schreiben oder komplexere Reihen von if-Anweisungen erstellen, um um festzustellen, wann genau die gewünschten Bedingungen erfüllt sind. \n",
        "\n",
        "Anschließend wenden Sie dieses Konzept auf Listen anwenden, sodass Sie eine for-Schleife schreiben können, die die meisten Elemente in einer Liste auf die eine Weise behandelt, bestimmte Elemente mit bestimmten Werten jedoch auf andere Weise behandelt, um beispielsweise den Einlass einer Tür zu steuern."
      ]
    },
    {
      "cell_type": "markdown",
      "metadata": {
        "id": "9jcqWSbpqdSB"
      },
      "source": [
        "### Ein einfaches Beispiel\n",
        "\n",
        "Das folgende kurze Beispiel zeigt, wie Sie mit if-Tests auf besondere Situationen richtig reagieren können.\n",
        "Beispielsweise meldet eine Bewegungsmelder jede Sekunde, die Wahrscheinlichkeit in Prozent ob er eine Bewegung erkannt hat und schaltet dementsprechend das Licht an.\n",
        "\n",
        "Das Licht soll nur eingeschaltet werden, wenn die Wahrscheinlich mindestens 40 % beträgt."
      ]
    },
    {
      "cell_type": "code",
      "execution_count": 14,
      "metadata": {},
      "outputs": [],
      "source": [
        "movement_sensor = [0,2,10,8,14,15,60,39,49,70,98,100,60,20]\n",
        "mindest_wahrscheinlichkeit = 40"
      ]
    },
    {
      "cell_type": "code",
      "execution_count": 31,
      "metadata": {},
      "outputs": [
        {
          "data": {
            "image/png": "[encoded data removed]",
            "text/plain": [
              "<Figure size 432x288 with 1 Axes>"
            ]
          },
          "metadata": {
            "needs_background": "light"
          },
          "output_type": "display_data"
        }
      ],
      "source": [
        "#@title Plots { display-mode: \"form\" }\n",
        "\n",
        "\n",
        "from matplotlib import pyplot as plt\n",
        "import numpy as np\n",
        "\n",
        "mindest_wahrscheinlichkeiten = mindest_wahrscheinlichkeit * np.ones(len(movement_sensor))\n",
        "\n",
        "plt.plot(movement_sensor, linestyle='', marker='o')\n",
        "plt.plot(mindest_wahrscheinlichkeiten)\n",
        "\n",
        "# Integriert eine Bezeichnung der x-Achse\n",
        "plt.xlabel(\"Zeitpunkt in s\")\n",
        "\n",
        "# Integriert eine Bezeichnung der y-Achse\n",
        "plt.ylabel(\"Anwesenheitswahrscheinlichkeit in %\")\n",
        "\n",
        "# Integriert die Legende\n",
        "plt.legend(['Anwesenheitswahrscheinlichkeit', 'Mindestwahrscheinlichkeit'])\n",
        "\n",
        "plt.show()"
      ]
    },
    {
      "cell_type": "code",
      "execution_count": 24,
      "metadata": {
        "colab": {
          "base_uri": "https://localhost:8080/"
        },
        "id": "IBdS5UqFpRZq",
        "outputId": "755684c7-c9b5-4806-a800-c5d3d97c51f2"
      },
      "outputs": [
        {
          "name": "stdout",
          "output_type": "stream",
          "text": [
            "Licht aus\n",
            "Licht aus\n",
            "Licht aus\n",
            "Licht aus\n",
            "Licht aus\n",
            "Licht aus\n",
            "Licht an\n",
            "Licht aus\n",
            "Licht an\n",
            "Licht an\n",
            "Licht an\n",
            "Licht an\n",
            "Licht an\n",
            "Licht aus\n"
          ]
        }
      ],
      "source": [
        "licht = []\n",
        "\n",
        "for predicted_occupancy in movement_sensor:\n",
        "  \n",
        "  # Wir überprüfen, ob die Hilfsvariable drei mal hintereinader True war\n",
        "  if predicted_occupancy >= 40:\n",
        "    # Wenn das so ist, gehen wir Meldung aus\n",
        "    print(\"Licht an\")\n",
        "    licht.append(1)\n",
        "  else:\n",
        "    licht.append(0)\n",
        "    print(\"Licht aus\")"
      ]
    },
    {
      "cell_type": "code",
      "execution_count": 35,
      "metadata": {},
      "outputs": [
        {
          "data": {
            "image/png": "[encoded data removed]",
            "text/plain": [
              "<Figure size 432x288 with 1 Axes>"
            ]
          },
          "metadata": {
            "needs_background": "light"
          },
          "output_type": "display_data"
        }
      ],
      "source": [
        "#@title Plots { display-mode: \"form\" }\n",
        "\n",
        "\n",
        "from matplotlib import pyplot as plt\n",
        "import numpy as np\n",
        "\n",
        "mindest_wahrscheinlichkeiten = mindest_wahrscheinlichkeit * np.ones(len(movement_sensor))\n",
        "\n",
        "plt.plot(movement_sensor, linestyle='', marker='o')\n",
        "plt.plot(mindest_wahrscheinlichkeiten)\n",
        "\n",
        "\n",
        "# Integriert eine Bezeichnung der x-Achse\n",
        "plt.xlabel(\"Zeitpunkt in s\")\n",
        "\n",
        "# Integriert eine Bezeichnung der y-Achse\n",
        "plt.ylabel(\"Anwesenheitswahrscheinlichkeit in %\")\n",
        "\n",
        "# Integriert die Legende\n",
        "plt.legend(['Anwesenheitswahrscheinlichkeit', 'Mindestwahrscheinlichkeit'])\n",
        "\n",
        "plt.show()"
      ]
    },
    {
      "cell_type": "code",
      "execution_count": 36,
      "metadata": {},
      "outputs": [
        {
          "data": {
            "image/png": "[encoded data removed]",
            "text/plain": [
              "<Figure size 432x288 with 1 Axes>"
            ]
          },
          "metadata": {
            "needs_background": "light"
          },
          "output_type": "display_data"
        }
      ],
      "source": [
        "#@title Plots { display-mode: \"form\" }\n",
        "\n",
        "\n",
        "from matplotlib import pyplot as plt\n",
        "import numpy as np\n",
        "\n",
        "\n",
        "plt.plot(np.multiply(licht,1), linestyle='', marker='o')\n",
        "\n",
        "# Integriert eine Bezeichnung der x-Achse\n",
        "plt.xlabel(\"Zeitpunkt in s\")\n",
        "\n",
        "# Integriert eine Bezeichnung der y-Achse\n",
        "plt.ylabel(\"Licht an\")\n",
        "\n",
        "# Integriert die Legende\n",
        "plt.legend(['Licht'])\n",
        "\n",
        "plt.show()"
      ]
    },
    {
      "cell_type": "markdown",
      "metadata": {
        "id": "lrZXglXE6f-W"
      },
      "source": [
        "### Prüfung auf Gleichheit\n",
        "\n",
        "Die meisten bedingten Tests vergleichen den aktuellen Wert einer Variablen mit einem bestimmten Wert von Interesse. Der einfachste bedingte Test prüft, ob der Wert einer Variable gleich dem relevanten Wert ist.\n",
        "\n",
        "Während eine Zuweisung eines Wertes an eine Variable mit ```=``` funktioniert, erfordert ein Vergleich ```==```:\n"
      ]
    },
    {
      "cell_type": "code",
      "execution_count": 4,
      "metadata": {
        "colab": {
          "base_uri": "https://localhost:8080/"
        },
        "id": "ddg48O0zoFr9",
        "outputId": "02234981-9d54-43de-ed7b-b873b1f6f8ae"
      },
      "outputs": [
        {
          "data": {
            "text/plain": [
              "True"
            ]
          },
          "execution_count": 4,
          "metadata": {},
          "output_type": "execute_result"
        }
      ],
      "source": [
        "color = 'blue'\n",
        "color == 'blue'"
      ]
    },
    {
      "cell_type": "code",
      "execution_count": 5,
      "metadata": {
        "colab": {
          "base_uri": "https://localhost:8080/"
        },
        "id": "kzo_s67y6r8V",
        "outputId": "36973aa5-64fb-42eb-e13f-328f0e693ae8"
      },
      "outputs": [
        {
          "data": {
            "text/plain": [
              "False"
            ]
          },
          "execution_count": 5,
          "metadata": {},
          "output_type": "execute_result"
        }
      ],
      "source": [
        "color = 'blue'\n",
        "color == 'red'"
      ]
    },
    {
      "cell_type": "code",
      "execution_count": 6,
      "metadata": {
        "colab": {
          "base_uri": "https://localhost:8080/"
        },
        "id": "hjA8IC9W6wfU",
        "outputId": "70ff170d-dcad-4b17-df27-95df840bfc8c"
      },
      "outputs": [
        {
          "data": {
            "text/plain": [
              "False"
            ]
          },
          "execution_count": 6,
          "metadata": {},
          "output_type": "execute_result"
        }
      ],
      "source": [
        "color = 'blue'\n",
        "color == 'Blue'"
      ]
    },
    {
      "cell_type": "markdown",
      "metadata": {
        "id": "1rIObdU57U6u"
      },
      "source": [
        "### Prüfen auf Ungleichheit\n",
        "\n",
        "Wenn Sie feststellen wollen, ob zwei Werte nicht gleich sind, können Sie\n",
        "ein Ausrufezeichen und ein Gleichheitszeichen kombinieren (```!=```). Das Ausrufezeichen steht, wie in vielen Programmiersprachen, für nicht.\n"
      ]
    },
    {
      "cell_type": "code",
      "execution_count": 7,
      "metadata": {
        "colab": {
          "base_uri": "https://localhost:8080/"
        },
        "id": "4tftFcXa6yik",
        "outputId": "5c48ba69-bd9a-4fb8-aa50-a4668c610617"
      },
      "outputs": [
        {
          "name": "stdout",
          "output_type": "stream",
          "text": [
            "Keine Bewegung erkannt!\n"
          ]
        }
      ],
      "source": [
        "status = 'Keine Bewegung'\n",
        "\n",
        "if status != 'Bewegung erkannt':\n",
        "  print(\"Keine Bewegung erkannt!\")"
      ]
    },
    {
      "cell_type": "markdown",
      "metadata": {
        "id": "KZXWzDRe71DO"
      },
      "source": [
        "### Numerische Vergleiche\n",
        "\n",
        "Das Testen numerischer Werte ist ziemlich einfach. Zum Beispiel prüft der folgende Code überprüft, ob eine Person 18 Jahre alt ist:"
      ]
    },
    {
      "cell_type": "code",
      "execution_count": 8,
      "metadata": {
        "colab": {
          "base_uri": "https://localhost:8080/"
        },
        "id": "DrqDvEI_70TW",
        "outputId": "41b6c4b6-7e13-4a4d-bd3b-9418e03717b9"
      },
      "outputs": [
        {
          "data": {
            "text/plain": [
              "True"
            ]
          },
          "execution_count": 8,
          "metadata": {},
          "output_type": "execute_result"
        }
      ],
      "source": [
        "age = 18\n",
        "age == 18"
      ]
    },
    {
      "cell_type": "markdown",
      "metadata": {
        "id": "ITJxmXIN7_33"
      },
      "source": [
        "Float without decimal value are cast to integers:"
      ]
    },
    {
      "cell_type": "code",
      "execution_count": 9,
      "metadata": {
        "colab": {
          "base_uri": "https://localhost:8080/"
        },
        "id": "nw4ZQzDB7OoG",
        "outputId": "2612a87e-b662-4f06-a232-803cfc967bfb"
      },
      "outputs": [
        {
          "data": {
            "text/plain": [
              "True"
            ]
          },
          "execution_count": 9,
          "metadata": {},
          "output_type": "execute_result"
        }
      ],
      "source": [
        "age = 18\n",
        "age == 18.0"
      ]
    },
    {
      "cell_type": "markdown",
      "metadata": {
        "id": "SMdBn6688I6E"
      },
      "source": [
        "Sie können auch verschiedene mathematische Vergleiche in Ihre bedingten Anweisungen einschließen, z. B. kleiner als, kleiner oder gleich, größer als und größer als oder gleich:"
      ]
    },
    {
      "cell_type": "code",
      "execution_count": 10,
      "metadata": {
        "colab": {
          "base_uri": "https://localhost:8080/"
        },
        "id": "UWHXSWVB772F",
        "outputId": "3bdced3f-e609-44dd-ec20-0ee0673c1b7e"
      },
      "outputs": [
        {
          "data": {
            "text/plain": [
              "True"
            ]
          },
          "execution_count": 10,
          "metadata": {},
          "output_type": "execute_result"
        }
      ],
      "source": [
        "age = 19\n",
        "age < 21"
      ]
    },
    {
      "cell_type": "code",
      "execution_count": 11,
      "metadata": {
        "colab": {
          "base_uri": "https://localhost:8080/"
        },
        "id": "yoDc1fcQ8MH1",
        "outputId": "e0adee9a-70ae-4cb6-8e01-72847073177a"
      },
      "outputs": [
        {
          "data": {
            "text/plain": [
              "True"
            ]
          },
          "execution_count": 11,
          "metadata": {},
          "output_type": "execute_result"
        }
      ],
      "source": [
        "age <= 21"
      ]
    },
    {
      "cell_type": "markdown",
      "metadata": {
        "id": "QCJjZbim8Qjk"
      },
      "source": [
        "Jeder mathematische Vergleich kann als Teil einer if-Anweisung verwendet werden,\n",
        "verwendet werden, die Ihnen helfen kann, die genauen Bedingungen von Interesse zu ermitteln."
      ]
    },
    {
      "cell_type": "markdown",
      "metadata": {
        "id": "r5F2FPUO81B_"
      },
      "source": [
        "### Boolean Expressions\n",
        "\n",
        "Ein boolescher Wert ist entweder Wahr oder Falsch, genau wie der Wert eines bedingten Ausdrucks, nachdem er ausgewertet wurde. \n",
        "Boolesche Werte werden oft verwendet, um bestimmte Bedingungen festzuhalten, wie ob ein Spiel läuft oder ob ein Benutzer bestimmte Inhalte auf einer Website bearbeiten kann einer Website bearbeiten kann"
      ]
    },
    {
      "cell_type": "code",
      "execution_count": 12,
      "metadata": {
        "id": "KUegGup88w_0"
      },
      "outputs": [],
      "source": [
        "game_active = True\n",
        "can_edit = False"
      ]
    },
    {
      "cell_type": "markdown",
      "metadata": {
        "id": "PHVUuP4q8TdO"
      },
      "source": [
        "### Mehrere Bedingungen prüfen\n",
        "\n",
        "Es kann sein, dass Sie mehrere Bedingungen gleichzeitig prüfen wollen. Zum Beispiel, müssen manchmal zwei Bedingungen wahr sein, um eine Aktion auszuführen. Die Schlüsselwörter `and` und `or` können Ihnen in diesen Situationen helfen.\n",
        "\n",
        "#### Mehrere Bedingungen mit and prüfen\n",
        "\n",
        "Die `and`-Anweisung ist eine boolesche Operation, die prüft, ob beide Ausdrücke wahr sind:"
      ]
    },
    {
      "cell_type": "code",
      "execution_count": 13,
      "metadata": {
        "colab": {
          "base_uri": "https://localhost:8080/"
        },
        "id": "DMRQOvud8OLF",
        "outputId": "21a83b99-ead6-474a-dd49-3ffbfebcab63"
      },
      "outputs": [
        {
          "data": {
            "text/plain": [
              "False"
            ]
          },
          "execution_count": 13,
          "metadata": {},
          "output_type": "execute_result"
        }
      ],
      "source": [
        "age_0 = 22\n",
        "age_1 = 18\n",
        "age_0 >= 21 and age_1 >= 21"
      ]
    },
    {
      "cell_type": "markdown",
      "metadata": {
        "id": "CW5JKtw68tW8"
      },
      "source": [
        "#### Die Verwendung von oder zur Überprüfung mehrerer Bedingungen\n",
        "\n",
        "Die `or`-Anweisung ist eine boolesche Operation, die prüft, ob mindestens einer der Ausdrücke wahr ist:"
      ]
    },
    {
      "cell_type": "code",
      "execution_count": null,
      "metadata": {
        "colab": {
          "base_uri": "https://localhost:8080/"
        },
        "id": "Rqm6yMR88nDi",
        "outputId": "e7c9d9f9-2c50-4053-e67e-7aa105989327"
      },
      "outputs": [
        {
          "data": {
            "text/plain": [
              "True"
            ]
          },
          "execution_count": 18,
          "metadata": {},
          "output_type": "execute_result"
        }
      ],
      "source": [
        "age_0 = 22\n",
        "age_1 = 18\n",
        "\n",
        "age_0 >= 21 or age_1 >= 21"
      ]
    },
    {
      "cell_type": "markdown",
      "metadata": {},
      "source": [
        "✍️ **Aufgabe**\n",
        "\n",
        "Schreiben Sie einen Term, der die Lichtsteuerung beschreibt.\n",
        "Diese soll immer dann `True` zurück gibt, wenn eine `anwesenheit` erkannt wurde und es gleichzeitig nicht `hell` ist. Es soll auch immer wenn der `betriebsmodus` \"Notfall\" ist True zurück geben."
      ]
    },
    {
      "cell_type": "code",
      "execution_count": 1,
      "metadata": {},
      "outputs": [],
      "source": [
        "anwesenheit = True\n",
        "helligkeit = False\n",
        "betriebsmodus = \"Notfall\"\n"
      ]
    },
    {
      "cell_type": "code",
      "execution_count": null,
      "metadata": {},
      "outputs": [],
      "source": []
    },
    {
      "cell_type": "code",
      "execution_count": 4,
      "metadata": {},
      "outputs": [
        {
          "data": {
            "text/plain": [
              "True"
            ]
          },
          "execution_count": 4,
          "metadata": {},
          "output_type": "execute_result"
        }
      ],
      "source": [
        "#@title ❓ Click `Show code` in the code cell to show the solution. { display-mode: \"form\" }\n",
        "\n",
        "anwesenheit and not(helligkeit) or (betriebsmodus == \"Notfall\")"
      ]
    },
    {
      "cell_type": "markdown",
      "metadata": {
        "id": "K73BHLNCU-GS"
      },
      "source": [
        "## if-Anweisungen\n",
        "\n",
        "Wenn Sie bedingte Tests verstehen, können Sie if-Anweisungen schreiben.\n",
        "Es gibt mehrere verschiedene Arten von if-Anweisungen, und die Wahl der zu verwendenden hängt von der Anzahl der Bedingungen ab, die Sie testen müssen. "
      ]
    },
    {
      "cell_type": "markdown",
      "metadata": {
        "id": "EGlVB-M4Vlsd"
      },
      "source": [
        "### Einfache if-Anweisungen\n",
        "\n",
        "Die einfachste Art der if-Anweisung besteht aus einem Test und einer Aktion:\n",
        "\n",
        "```Python\n",
        "if conditional_test:\n",
        "  do something\n",
        "```\n",
        "\n",
        "Sie können jeden bedingten Test in die erste Zeile setzen und fast jede\n",
        "Aktion in den eingerückten Block nach dem Test setzen. Wenn der bedingte Test\n",
        "zu `True` ausfällt, führt Python den Code nach der if-Anweisung aus.\n",
        "Wenn der Test den Wert `False` ergibt, ignoriert Python den Code nach der if\n",
        "Anweisung."
      ]
    },
    {
      "cell_type": "code",
      "execution_count": 18,
      "metadata": {
        "id": "_W68AY7CU9nd"
      },
      "outputs": [],
      "source": [
        "status = 'Keine Bewegung'\n",
        "\n",
        "if status == 'Bewegung erkannt':\n",
        "  print(\"Bewegung erkannt!\")"
      ]
    },
    {
      "cell_type": "markdown",
      "metadata": {
        "id": "r0yDqeFYWAp3"
      },
      "source": [
        "Zunächst prüft Python, ob der Wert in `status` mit ```\"Bewegung erkannt\"``` identisch ist. Das ist der Fall, also führt Python die eingerückte `print`-Anweisung aus.\n",
        "\n",
        "Die Einrückung spielt bei if-Anweisungen die gleiche Rolle wie bei for-Schleifen.\n",
        "Alle eingerückten Zeilen nach einer if-Anweisung werden ausgeführt, wenn der Test erfolgreich ist, und der gesamte Block der eingerückten Zeilen wird ignoriert, wenn der Test\n",
        "nicht besteht."
      ]
    },
    {
      "cell_type": "markdown",
      "metadata": {
        "id": "EKOMzeQHWW9u"
      },
      "source": [
        "🏆 **Aufgabe**\n",
        "\n",
        "Um die Hygiene eines Warmwasserkreislaufs sicherzustellen führen Sie ein Experiment durch, bei dem Sie überprüfen, wie viele Bakterien unter verschiedenen Bedingungen anwachsen.\n",
        "\n",
        "Sie wollen das Wachstum von Bakterien unter verschiedenen Bedingungen untersuchen. Sie haben eine Liste von Versuchsergebnissen, in der die endgültige Probengröße in Gramm angegeben ist. Sie wollen nur die Experimente finden, bei denen die endgültige Probengröße größer als 30 g ist. \n",
        "\n",
        "Verwenden Sie eine for-Schleife und eine if-Anweisung, um die Anzahl der Experimente mit einem Probenumfang von mehr als 30 g auszudrucken. Verwenden Sie eine Variable `experiment_number` zum Zählen aller Experimente und `experiment_large_sample_number` zum Zählen der Experimente mit mehr als 30g Probengewicht, während Sie die Liste durchlaufen. Drucken Sie zudem die Probennummer und das finale Probengewicht aller Experimente > 30g aus:"
      ]
    },
    {
      "cell_type": "code",
      "execution_count": 19,
      "metadata": {
        "id": "mVvWuzL2_Brw"
      },
      "outputs": [],
      "source": [
        "final_sample_size_in_g = [20,10,30, 203, 30, 3, 40 ,20 , 40 ,50]\n",
        "\n",
        "experiment_number = 0\n",
        "experiment_large_sample_number = 0"
      ]
    },
    {
      "cell_type": "code",
      "execution_count": 20,
      "metadata": {},
      "outputs": [],
      "source": [
        "# Starten Sie hier mit dem for-loop"
      ]
    },
    {
      "cell_type": "code",
      "execution_count": 21,
      "metadata": {
        "colab": {
          "base_uri": "https://localhost:8080/"
        },
        "id": "KjpF1y6yWZ2E",
        "outputId": "09291487-514c-489b-c63c-72dd67369cf7"
      },
      "outputs": [
        {
          "name": "stdout",
          "output_type": "stream",
          "text": [
            "Experiment number 4 has a sample size of 203 grams!\n",
            "Experiment number 7 has a sample size of 40 grams!\n",
            "Experiment number 9 has a sample size of 40 grams!\n",
            "Experiment number 10 has a sample size of 50 grams!\n",
            "Found 4 experiments with large sample size!\n"
          ]
        }
      ],
      "source": [
        "#@title ❓ Click `Show code` in the code cell to show the solution. { display-mode: \"form\" }\n",
        "\n",
        "\n",
        "final_sample_size_in_g = [20,10,30, 203, 30, 3, 40 ,20 , 40 ,50]\n",
        "\n",
        "experiment_number = 0\n",
        "experiment_large_sample_number = 0\n",
        "\n",
        "for weight in final_sample_size_in_g:\n",
        "    experiment_number = experiment_number + 1\n",
        "    if weight > 30:\n",
        "        print(\"Experiment number {} has a sample size of {} grams!\".format(experiment_number,weight))\n",
        "        experiment_large_sample_number = experiment_large_sample_number + 1\n",
        "\n",
        "print(\"Found {} experiments with large sample size!\".format(experiment_large_sample_number))\n"
      ]
    },
    {
      "cell_type": "markdown",
      "metadata": {
        "id": "AcZF-qOSWUBO"
      },
      "source": [
        "### if-else-Anweisungen\n",
        "\n",
        "Oft möchten Sie eine Aktion durchführen, wenn ein Bedingungstest erfolgreich ist, und eine andere Aktion in allen anderen Fällen. Die if-else-Syntax von Python macht dies möglich.\n",
        "Ein if-else-Block ist ähnlich wie eine einfache if-Anweisung, aber die else-Anweisung erlaubt es Ihnen, eine Aktion oder eine Reihe von Aktionen zu definieren, die ausgeführt werden, wenn der Bedingungstest fehlschlägt."
      ]
    },
    {
      "cell_type": "code",
      "execution_count": null,
      "metadata": {
        "colab": {
          "base_uri": "https://localhost:8080/"
        },
        "id": "MIV-_2iHX6ks",
        "outputId": "f0952e80-6908-48c3-e0e0-28cb934f42c2"
      },
      "outputs": [
        {
          "name": "stdout",
          "output_type": "stream",
          "text": [
            "Sorry, you are too young to vote.\n",
            "Please register to vote as soon as you turn 18!\n"
          ]
        }
      ],
      "source": [
        "age = 17\n",
        "if age >= 18:\n",
        "  print(\"You are old enough to vote!\")\n",
        "  print(\"Have you registered to vote yet?\")\n",
        "else:\n",
        "  print(\"Sorry, you are too young to vote.\")\n",
        "  print(\"Please register to vote as soon as you turn 18!\")"
      ]
    },
    {
      "cell_type": "markdown",
      "metadata": {
        "id": "ptqgNORSX-2O"
      },
      "source": [
        "✍️ **Aufgabe**\n",
        "Sie möchten eine Liste der viel-versprechendsten Ansätze zur Reduktion des Bakterienwachstums erstellen. \n",
        "Speichern Sie während des Durchlaufs durch die Experimente die Nummern der Experimente in einer Liste, bei denen weniger als 30 g Bakterienwachstum gemessen wurde und geben Sie am Ende alle Nummern der fehlgeschlagenen Experimente aus.\n",
        "\n",
        "Ein Element können Sie an eine Liste anfügen, indem Sie Sie `<liste>.append(<element>)` aufrufen.\n"
      ]
    },
    {
      "cell_type": "code",
      "execution_count": null,
      "metadata": {},
      "outputs": [],
      "source": [
        "final_sample_size_in_g = [20,10,30, 203, 30, 3, 40 ,20 , 40 ,50]\n",
        "\n",
        "experiment_number = 0\n",
        "failed_experiments = []"
      ]
    },
    {
      "cell_type": "code",
      "execution_count": 14,
      "metadata": {
        "colab": {
          "base_uri": "https://localhost:8080/"
        },
        "id": "WMaYFGOuWTcO",
        "outputId": "3ae2506a-dfa3-4f4d-a154-8c3d47b105b1"
      },
      "outputs": [
        {
          "name": "stdout",
          "output_type": "stream",
          "text": [
            "Experiment number 4 has a sample size of 203 grams!\n",
            "Experiment number 7 has a sample size of 40 grams!\n",
            "Experiment number 9 has a sample size of 40 grams!\n",
            "Experiment number 10 has a sample size of 50 grams!\n",
            "The following experiments are promising: [1, 2, 3, 5, 6, 8]\n"
          ]
        }
      ],
      "source": [
        "#@title ❓ Click `Show code` in the code cell to show the solution. { display-mode: \"form\" }\n",
        "\n",
        "final_sample_size_in_g = [20,10,30, 203, 30, 3, 40 ,20 , 40 ,50]\n",
        "\n",
        "experiment_number = 0\n",
        "failed_experiments = []\n",
        "\n",
        "for weight in final_sample_size_in_g:\n",
        "    experiment_number = experiment_number + 1\n",
        "    if weight > 30:\n",
        "        print(\"Experiment number {} has a sample size of {} grams!\".format(experiment_number,weight))\n",
        "    else:\n",
        "        failed_experiments.append(experiment_number)\n",
        "\n",
        "print(\"The following experiments are promising: \" + str(failed_experiments))"
      ]
    },
    {
      "cell_type": "markdown",
      "metadata": {
        "id": "VhOB_KpHYt3V"
      },
      "source": [
        "### Die if-elif-else-Kette\n",
        "Oft müssen Sie mehr als zwei mögliche Situationen testen, und um diese auszuwerten, können Sie die if-elif-else-Syntax von Python verwenden. Python führt nur einen Block in einer if-elif-else-Kette aus. Es führt jeden bedingten Test der Reihe nach aus, bis einer bestanden ist. Wenn ein Test bestanden wird, wird der auf diesen Test folgende Code ausgeführt und Python überspringt den Rest der Tests.\n",
        "\n",
        "In vielen realen Situationen gibt es mehr als zwei mögliche Bedingungen.\n",
        "Betrachten wir zum Beispiel die Gruppierung der Versuchsergebnisse in verschiedene Klassen:\n",
        "- unter 30 g - Experiment war ein großer Erfolg!\n",
        "- 30 - 100g - Experiment zeigt vielversprechende Ergebnisse!\n",
        "- größer 100g - Experiment fehlgeschlagen!"
      ]
    },
    {
      "cell_type": "code",
      "execution_count": 15,
      "metadata": {
        "colab": {
          "base_uri": "https://localhost:8080/"
        },
        "id": "Z_CH_on8YtIV",
        "outputId": "50a40f4a-2edb-4e53-b3e0-6ddf4586b947"
      },
      "outputs": [
        {
          "name": "stdout",
          "output_type": "stream",
          "text": [
            "Experiment failed!\n"
          ]
        }
      ],
      "source": [
        "weight = 120\n",
        "\n",
        "if weight < 30:\n",
        "  print(\"Experiment was a great success!\") \n",
        "elif weight <= 100:\n",
        "  print(\"Experiment shows promising results!\")\n",
        "else:\n",
        "  print(\"Experiment failed!\")"
      ]
    },
    {
      "cell_type": "markdown",
      "metadata": {
        "id": "2oChPRogaiyp"
      },
      "source": [
        "Anstatt die Benachrichtigung innerhalb des if-elif-else-Blocks zu drucken,\n",
        "wäre es prägnanter, nur die Benachrichtigung innerhalb der if-elif-else-Kette zu setzen und dann eine einfache Druckanweisung zu haben, die ausgeführt wird, nachdem die Kette ausgewertet wurde\n",
        "ausgewertet wurde:"
      ]
    },
    {
      "cell_type": "code",
      "execution_count": null,
      "metadata": {
        "colab": {
          "base_uri": "https://localhost:8080/"
        },
        "id": "1QeMYpxuah12",
        "outputId": "b12e0f7b-9e94-43fc-b7f9-da0d23b47ded"
      },
      "outputs": [
        {
          "name": "stdout",
          "output_type": "stream",
          "text": [
            "Experiment was a great sucess!\n"
          ]
        }
      ],
      "source": [
        "weight = 120\n",
        "\n",
        "notification = \"No experiment so far.\" \n",
        "\n",
        "if weight < 30:\n",
        "  notification = \"Experiment was a great sucess!\"\n",
        "elif weight <= 100:\n",
        "  notification = \"Experiment shows promising results!\"\n",
        "else:\n",
        "  notification =\"Experiment failed!\"\n",
        "print(notification)"
      ]
    },
    {
      "cell_type": "markdown",
      "metadata": {
        "id": "9NxWQyNObvSY"
      },
      "source": [
        "## Verwendung von if-Anweisungen mit Listen\n",
        "\n",
        "Wenn Sie Listen und if-Anweisungen kombinieren, können Sie einige interessante Dinge tun.\n",
        "Sie können nach speziellen Werten suchen, die anders behandelt werden müssen\n",
        "als andere Werte in der Liste. Sie können wechselnde Bedingungen effizient verwalten, z. B. die Verfügbarkeit bestimmter Artikel in einem Laborinventar. Sie können auch nachweisen, dass Ihr Code in allen Situationen so funktioniert, wie Sie es erwarten.\n"
      ]
    },
    {
      "cell_type": "markdown",
      "metadata": {
        "id": "yFUy84X7b8WW"
      },
      "source": [
        "### Prüfung auf besondere Gegenstände\n",
        "\n",
        "Stellen Sie sich eine Ausgabestelle vor, in der Sie vor Beginn Ihrer Experimente Laborausrüstung erhalten können. Das folgende Beispiel prüft die Verfügbarkeit einer Liste von benötigten Laborgeräten und gibt eine Benachrichtigung aus, wenn die Sicherheitsgläser angefordert werden, aber nicht verfügbar sind."
      ]
    },
    {
      "cell_type": "code",
      "execution_count": null,
      "metadata": {
        "colab": {
          "base_uri": "https://localhost:8080/"
        },
        "id": "ma4HnQMpb75W",
        "outputId": "10dae890-2446-4e37-c337-2237b6b9b0d5"
      },
      "outputs": [
        {
          "name": "stdout",
          "output_type": "stream",
          "text": [
            "Adding lab coat.\n",
            "Sorry, we are out of safety glasses right now.\n",
            "Adding petri dish.\n",
            "\n",
            "Selected the lab equipment!\n"
          ]
        }
      ],
      "source": [
        "lab_equipments_needed = ['lab coat', 'safety glasses', 'petri dish']\n",
        "\n",
        "for lab_equipment in lab_equipments_needed:\n",
        "  if lab_equipment == 'safety glasses':  \n",
        "    print(\"Sorry, we are out of safety glasses right now.\")\n",
        "  else:\n",
        "    print(\"Adding \" + lab_equipment + \".\")\n",
        "print(\"\\nSelected the lab equipment!\")"
      ]
    },
    {
      "cell_type": "markdown",
      "metadata": {
        "id": "fe_c_GQYdUgm"
      },
      "source": [
        "### Prüfen, dass eine Liste nicht leer ist\n",
        "\n",
        "Wir haben bei jeder Liste, mit der wir bisher gearbeitet haben, eine einfache Annahme getroffen;\n",
        "Wir sind davon ausgegangen, dass jede Liste mindestens ein Element enthält. Bald werden wir den Benutzern die Möglichkeit geben, die in einer Liste gespeicherten Informationen bereitzustellen, so dass wir nicht jedes Mal, wenn eine Schleife ausgeführt wird, davon ausgehen können, dass eine Liste irgendwelche Elemente enthält. In dieser Situation ist es nützlich zu prüfen, ob eine Liste leer ist, bevor eine for-Schleife mit einer einfachen Anweisung ausgeführt wird ```if lab_equipments_needed:```"
      ]
    },
    {
      "cell_type": "code",
      "execution_count": null,
      "metadata": {
        "colab": {
          "base_uri": "https://localhost:8080/"
        },
        "id": "PHzmevW8U9QN",
        "outputId": "3aa8c5db-21e6-4e3d-fc4b-04d79474a82e"
      },
      "outputs": [
        {
          "name": "stdout",
          "output_type": "stream",
          "text": [
            "You need no lab equipment!\n"
          ]
        }
      ],
      "source": [
        "lab_equipments_needed = []\n",
        "#lab_equipments_needed = ['lab coat', 'safety glasses', 'petri dish']\n",
        "\n",
        "if lab_equipments_needed:\n",
        "  for lab_equipment in lab_equipments_needed:\n",
        "    print(\"Adding \" + lab_equipment + \".\")\n",
        "  print(\"\\nSelected the lab equipment!\")\n",
        "else:\n",
        "  print(\"You need no lab equipment!\")"
      ]
    },
    {
      "cell_type": "markdown",
      "metadata": {
        "id": "nEFnHtrdesUQ"
      },
      "source": [
        "### Mehrere Listen verwenden\n",
        "\n",
        "Die for-Schleife und die if-Anweisung helfen auch dabei, zwei Listen zu vergleichen. Auf diese Weise können wir den Bestand der verfügbaren Laborausrüstung aufrechterhalten, ohne eine \"hart kodierte\" Aussage hinzufügen zu müssen, dass die Schutzbrille nicht verfügbar ist."
      ]
    },
    {
      "cell_type": "code",
      "execution_count": null,
      "metadata": {
        "colab": {
          "base_uri": "https://localhost:8080/"
        },
        "id": "xZMH99dseIDP",
        "outputId": "2dd236b1-e02e-4498-ee7a-ee772db04cef"
      },
      "outputs": [
        {
          "name": "stdout",
          "output_type": "stream",
          "text": [
            "Adding lab coat.\n",
            "Sorry, we are out of safety glasses right now.\n",
            "Adding petri dish.\n",
            "\n",
            "Selected the lab equipment!\n"
          ]
        }
      ],
      "source": [
        "lab_equipments_available = ['lab coat', 'petri dish', 'microscope']\n",
        "lab_equipments_needed = ['lab coat', 'safety glasses', 'petri dish']\n",
        "\n",
        "for lab_equipment in lab_equipments_needed:\n",
        "  if lab_equipment in lab_equipments_available:\n",
        "    print(\"Adding \" + lab_equipment + \".\")\n",
        "  else:\n",
        "    print(\"Sorry, we are out of {} right now.\".format(lab_equipment))\n",
        "\n",
        "\n",
        "print(\"\\nSelected the lab equipment!\")"
      ]
    },
    {
      "cell_type": "markdown",
      "metadata": {
        "id": "VYJB7PD8gauP"
      },
      "source": [
        "✍️ **Aufgabe**\n",
        "\n",
        "Erstellen Sie eine Liste mit fünf oder mehr Benutzernamen, darunter auch der Name \"Laborleiter\". Stellen Sie sich vor, Sie schreiben einen Code, der jedem Benutzer eine Begrüßung ausgibt, nachdem er seine Tür mit seiner ID-Karte geöffnet hat. Führen Sie eine Schleife durch die Liste und geben Sie für jeden Benutzer eine Begrüßung aus:\n",
        "- Wenn der Benutzername \"Laborleiter\" lautet, drucken Sie eine spezielle Begrüßung aus, z. B. \"Hallo Laborleiter, möchten Sie einen Statusbericht sehen?\"\n",
        "- Andernfalls drucken Sie eine allgemeine Begrüßung aus, z. B. \"Hallo Eric, danke, dass du wieder gekommen bist.\"\n"
      ]
    },
    {
      "cell_type": "code",
      "execution_count": null,
      "metadata": {},
      "outputs": [],
      "source": []
    },
    {
      "cell_type": "code",
      "execution_count": 22,
      "metadata": {
        "colab": {
          "base_uri": "https://localhost:8080/"
        },
        "id": "8ibJR_v8fOZe",
        "outputId": "cf15d0ac-7d54-4401-c169-4f2de2ea6818"
      },
      "outputs": [
        {
          "name": "stdout",
          "output_type": "stream",
          "text": [
            "Hello Julian, thank you for coming in again.\n",
            "Hello Alex, thank you for coming in again.\n",
            "Hello lab supervisor, would you like to see a status report?\n"
          ]
        }
      ],
      "source": [
        "#@title ❓ Click `Show code` in the code cell to show the solution. { display-mode: \"form\" }\n",
        "lab_users= ['Julian', 'Alex', 'lab supervisor']\n",
        "\n",
        "#lab_users = []\n",
        "\n",
        "\n",
        "for lab_user in lab_users:\n",
        "  if lab_user == \"lab supervisor\":\n",
        "    print(\"Hello lab supervisor, would you like to see a status report?\")\n",
        "  else:\n",
        "    print(\"Hello {}, thank you for coming in again.\".format(lab_user))"
      ]
    },
    {
      "cell_type": "markdown",
      "metadata": {},
      "source": [
        "🏆 **Aufgabe mit Sakai-Abgabe mit Punkten 3.3**\n",
        "\n",
        "Schreiben Sie ein Skript, welches eine Dezimalzahl (`int`) in eine Binärzahl (Liste von `str`) umwandelt.\n",
        "\n",
        "\n",
        "![](//www.plantuml.com/plantuml/png/LOyzJiD048NxFSKheKEKjYAb28A2Yj2ZSVnYhxIUcDdP0f-7ct0nLek8b6xqwVtCssSNyxAaq8uGkYCt9mxSuY9fapb1oXdQX-x9iZCbWb69H1hn6Yl345NiwyEvh7qmhXGF0BftnaGencAd6OyeEYAlZAUPHdoMYqUgDspCtZVJoy-tJiH8nLk5a9HnT8iwGHHZ_2yL_TFNj-ZRjQOPPPXeDPPElVOqUJpZJh7RuU4UFbD3Tp3EhBatCr2MklYPmosLalkG_RA6FNKiI_e5)"
      ]
    },
    {
      "cell_type": "markdown",
      "metadata": {},
      "source": [
        "Tipps:\n",
        "- Nutzen Sie am besten eine `while` Schleife\n",
        "- Rest mit Modulo-Operator: `rest = 4%3`\n",
        "- Abrunden `import math` und dann `math.floor(<zahl>)` \n",
        "- umdrehen einer Liste: entweder Liste for `for` von hinten nach vorne durchlaufen und neue Liste aufbauen oder <list>.reverse() - inplace operation, d.h. einmal aufgerufen, wir die Liste umgedreht, ohne, dass man sie in einer neuen Variablen speichern muss."
      ]
    },
    {
      "cell_type": "code",
      "execution_count": null,
      "metadata": {},
      "outputs": [],
      "source": []
    },
    {
      "cell_type": "code",
      "execution_count": 15,
      "metadata": {},
      "outputs": [
        {
          "name": "stdout",
          "output_type": "stream",
          "text": [
            "10100\n"
          ]
        }
      ],
      "source": [
        "#@title ❓ Click `Show code` in the code cell to show the solution. { display-mode: \"form\" }\n",
        "\n",
        "import math\n",
        "\n",
        "n = 20\n",
        "\n",
        "binary_temp = []\n",
        "\n",
        "while n != 0:\n",
        "    quotient = n/2\n",
        "    rest = n%2\n",
        "    binary_temp.append(str(rest))\n",
        "    n = math.floor(quotient)\n",
        "binary_temp.reverse()\n",
        "print(\"\".join(binary_temp))"
      ]
    },
    {
      "cell_type": "markdown",
      "metadata": {
        "id": "d5c1R73qnt9O"
      },
      "source": [
        "## Besprechung der Aufgaben\n",
        "\n",
        "- Sind Sie mit ein Aufgaben bis hierhin fertig geworden und haben Sie keine Fragen, so legen Sie die grüne Karte nach oben\n",
        "- Sind Sie mit den Aufgaben fertig, aber hätten gerne, dass die Lösungen nocheinmal gemeinsam besprochen werden, legen Sie die gelbe Karte nach oben\n",
        "\n",
        "![](https://www.lokalinfo.ch/fileadmin/news_import/image003_03.jpg)"
      ]
    },
    {
      "cell_type": "markdown",
      "metadata": {
        "id": "998siftLiR6n"
      },
      "source": [
        "## Zusammenfassung\n",
        "\n",
        "In diesem Kapitel haben Sie gelernt, wie man bedingte Tests schreibt, die immer\n",
        "True oder False auswerten. Sie haben gelernt, einfache if-Anweisungen, if-else\n",
        "Ketten und if-elif-else Ketten zu schreiben. Sie haben begonnen, diese Strukturen zu verwenden, um\n",
        "Bedingungen zu identifizieren, die Sie testen müssen, und zu wissen, wann diese Bedingungen\n",
        "in Ihren Programmen erfüllt sind. Sie haben gelernt, bestimmte Elemente in einer\n",
        "Liste anders zu behandeln als alle anderen Elemente, während Sie weiterhin die Effizienz\n",
        "einer for-Schleife. Sie haben auch die Stilempfehlungen von Python überarbeitet, um sicherzustellen\n",
        "dass Ihre immer komplexer werdenden Programme immer noch relativ einfach zu lesen und\n",
        "verstehen."
      ]
    },
    {
      "cell_type": "markdown",
      "metadata": {},
      "source": [
        "# 🤓Optional"
      ]
    },
    {
      "cell_type": "markdown",
      "metadata": {
        "id": "yFs-D2p3hHEm"
      },
      "source": [
        "🤓 **Aufgabe**\n",
        "\n",
        "Schreiben Sie ein Programm, das die Laborfreigabe von jedem überprüft, der das Labor betreten möchte:\n",
        "\n",
        "- Erstelle eine Liste von fünf oder mehr Benutzernamen mit dem Namen `Benutzer_mit_Freigabe`.\n",
        "- Erstelle eine weitere Liste mit fünf Benutzernamen mit dem Namen `Benutzer_wollen_das_Labor_betreten`. Stellen Sie sicher, dass ein oder zwei der neuen Benutzernamen auch in der Liste `Benutzer_mit_Freigabe` enthalten sind.\n",
        "- Durchlaufen Sie die Liste `Benutzer_wollen_eintreten`, um zu sehen, ob jeder von ihnen eine Laborfreigabe hat. Drucke eine Nachricht, um alle Personen zu begrüßen. Wenn die Person sie nicht an einen Vorgesetzten geschickt hat."
      ]
    },
    {
      "cell_type": "code",
      "execution_count": null,
      "metadata": {
        "colab": {
          "base_uri": "https://localhost:8080/"
        },
        "id": "cz1wRsxFhGc3",
        "outputId": "1a76952c-1b62-4b4a-b519-63d0e55080a4"
      },
      "outputs": [
        {
          "name": "stdout",
          "output_type": "stream",
          "text": [
            "Hi, Adam! Please enter.\n",
            "Hi, Eve! Please enter.\n",
            "Hi, Lilith! Please go to the supervisor to register.\n",
            "Hi, Abel! Please go to the supervisor to register.\n",
            "Hi, Cain! Please go to the supervisor to register.\n"
          ]
        }
      ],
      "source": [
        "users_wanting_to_enter = [\"Adam\",\"Eve\",\"Lilith\",\"Abel\",\"Cain\"]\n",
        "users_with_clearance = [\"Adam\",\"Eve\"]\n",
        "\n",
        "for user in users_wanting_to_enter:\n",
        "  if user in users_with_clearance:\n",
        "    print(\"Hi, {}! Please enter.\".format(user))\n",
        "  else:\n",
        "    print(\"Hi, {}! Please go to the supervisor to register.\".format(user))"
      ]
    },
    {
      "cell_type": "markdown",
      "metadata": {},
      "source": []
    },
    {
      "cell_type": "markdown",
      "metadata": {
        "id": "Guj_6NtTgyJe"
      },
      "source": [
        "🤓 **Aufgabe**\n",
        "\n",
        "Füge einen if-Test hinzu, um sicherzustellen, dass die Liste der Laborbenutzer nicht leer ist.\n",
        "\n",
        "Wenn die Liste leer ist, drucke die Meldung \"Wir müssen ein paar Laborratten finden!\"\n",
        "Entferne alle Benutzernamen aus der Liste und vergewissere dich, dass die richtige Meldung gedruckt wird."
      ]
    },
    {
      "cell_type": "code",
      "execution_count": null,
      "metadata": {
        "id": "OHL1siSfg8od"
      },
      "outputs": [],
      "source": [
        "lab_users= ['Julian', 'Alex', 'lab supervisor']\n",
        "\n",
        "#lab_users = []\n",
        "\n",
        "if lab_users:\n",
        "  for lab_user in lab_users:\n",
        "    if lab_user == \"lab supervisor\":\n",
        "      print(\"Hello lab supervisor, would you like to see a status report?\")\n",
        "    else:\n",
        "      print(\"Hello {}, thank you for comming in again.\".format(lab_user))\n",
        "else:\n",
        "  print(\"We need to find some lab rats!\")"
      ]
    },
    {
      "cell_type": "markdown",
      "metadata": {
        "id": "ljxGCyTuiJAA"
      },
      "source": [
        "✍️ **Aufgabe**\n",
        "\n",
        "Im Englischen geben orderal numbers  ihre Position in einer Liste an, z. B.\n",
        "wie 1st oder 2nd. Die meisten Ordnungszahlen enden auf th, außer 1, 2 und 3.\n",
        "- Speichern Sie die Zahlen 1 bis 9 in einer Liste.\n",
        "- Bauen Sie eine Schleife durch die Liste.\n",
        "- Verwenden Sie eine if-elif-else-Kette innerhalb der Schleife, um die richtige Ordnungszahl-Endung für jede Zahl anzufügen. \n",
        "\n",
        "Ihre Ausgabe sollte lauten  \"1st 2nd 3rd 4th 5th 6th 7th 8th 9th\", und jedes Ergebnis sollte in einer eigenen Zeile stehen"
      ]
    },
    {
      "cell_type": "code",
      "execution_count": null,
      "metadata": {},
      "outputs": [],
      "source": []
    },
    {
      "cell_type": "code",
      "execution_count": null,
      "metadata": {
        "colab": {
          "base_uri": "https://localhost:8080/"
        },
        "id": "egzl3mcgiRhm",
        "outputId": "9147c369-fc3d-4299-b168-db31b0fff642"
      },
      "outputs": [
        {
          "name": "stdout",
          "output_type": "stream",
          "text": [
            "1st\n",
            "2nd\n",
            "3rd\n",
            "4th\n",
            "5th\n",
            "6th\n",
            "7th\n",
            "8th\n",
            "9th\n"
          ]
        }
      ],
      "source": [
        "#@title ❓ Click `Show code` in the code cell to show the solution. { display-mode: \"form\" }\n",
        "numbers = [*range(1,10)]\n",
        "\n",
        "for number in numbers:\n",
        "\n",
        "  if number == 1:\n",
        "    print(\"1st\")\n",
        "  elif number == 2:\n",
        "    print(\"2nd\")\n",
        "  elif number == 3:\n",
        "    print(\"3rd\")\n",
        "  else:\n",
        "    print(\"{}th\".format(number))"
      ]
    }
  ],
  "metadata": {
    "colab": {
      "collapsed_sections": [],
      "provenance": [],
      "toc_visible": true
    },
    "kernelspec": {
      "display_name": "Python 3.8.8 ('base')",
      "language": "python",
      "name": "python3"
    },
    "language_info": {
      "codemirror_mode": {
        "name": "ipython",
        "version": 3
      },
      "file_extension": ".py",
      "mimetype": "text/x-python",
      "name": "python",
      "nbconvert_exporter": "python",
      "pygments_lexer": "ipython3",
      "version": "3.8.8"
    },
    "vscode": {
      "interpreter": {
        "hash": "91b5df634ae01e052c095f84ce6ac57f1bf815a7c386b368c11e7051e1049005"
      }
    }
  },
  "nbformat": 4,
  "nbformat_minor": 0
}
