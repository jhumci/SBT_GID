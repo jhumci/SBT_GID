{
  "nbformat": 4,
  "nbformat_minor": 0,
  "metadata": {
    "colab": {
      "provenance": [],
      "collapsed_sections": [],
      "toc_visible": true
    },
    "kernelspec": {
      "name": "python3",
      "display_name": "Python 3"
    },
    "language_info": {
      "name": "python"
    }
  },
  "cells": [
    {
      "cell_type": "markdown",
      "source": [
        "<table style=\"width: 100%\">\n",
        "    <tr style=\"background: #ffffff\">\n",
        "        <td style=\"padding-top:25px;width: 180px\"><img src=\"https://mci.edu/templates/mci/images/logo.svg\" alt=\"Logo\"></td>\n",
        "        <td style=\"width: 100%\">\n",
        "            <div style=\"text-align:right; width: 100%; text-align:right\"><font style=\"font-size:38px\"><b>Grundlagen Programmierung</b></font></div>\n",
        "            <div style=\"padding-top:0px; width: 100%; text-align:right\"><font size=\"4\"><b>WS 2022</b></font></div>\n",
        "        </td>\n",
        "    </tr>\n",
        "</table>\n",
        "\n",
        "---\n",
        "\n",
        "# 1 Variablen und Datentypen\n",
        "\n",
        "\n",
        "Computer sind komplexere Taschenrechner. Programmiersprachen dienen dazu dem Computer Eingaben und Rechenoperationen vorzugeben, so dass die gewünschten Ausgaben herrauskommen. \n",
        "\n",
        "Viele Programme bieten ein leicht verständliches Nutzerinterface, welches mittels Buttons und Maus bedient werden kann. Dennoch lohnt es sich auch die Grundzüge von Programmiersprachen zu erlernen. Diese bieten meistens ein höhere Flexibilität und so die Möglichkeit auch spezielle oder innovative Herrausforderungen zu lösen. \n",
        "\n",
        "Python ist leicht zu lernen und dennoch sehr mächtig. Beinahe alle Grundsätze, welche mit Python erlernt werden, können auf andere Programmierspachen (z.B. Java, JavaScript, Matlab) übertragen werden.\n",
        "\n",
        "## Quellen\n",
        "\n",
        "Dieses Notebook basiert auf [Eric Matthes - Python Crash Course: A Hands-On, Project-Based Introduction to Programming](https://ehmatthes.github.io/pcc/)\n"
      ],
      "metadata": {
        "id": "K59Z_OxWq0XS"
      }
    },
    {
      "cell_type": "markdown",
      "source": [
        "---\n",
        "\n",
        "## Python mit google Colab\n",
        "\n",
        "\n",
        "\n",
        "Python Code dann auf allen Geräten ausgeführt werden, auf welchen Python installiert ist. Eine besonders komfortable Art Python Code auszuführen sind sogenannte jupyter-Notebooks, wie dieses hier. Hier ist der Code in zwei Arten von Zellen unterteilt. \n",
        "\n",
        "### Text-Zellen (weiß)\n",
        "dienen der Kommentierung des Codes. Die können durch eine Auszeichnungssprache namens [Markdown](https://www.markdownguide.org/getting-started/) ansprechend formatiert werden. \n",
        "\n",
        "**Doppelklicken** Sie diese Zelle, um den Original-Text der Auszeichnungssprache zu sehen.\n",
        "\n",
        "### Code-Zellen (grau)\n",
        "\n",
        "Enthalten den Python Code. Der Code innerhalb einer Zelle kann u.a. mit der Tastenkombination ```Shift``` + ```Enter``` ausgeführt werden. Daraufhin wird das Ergebnis der letzten Zeile ausgegeben.\n",
        "\n",
        "✍️ **Testen** Sie diese Funktion, indem Sie der folgende Code-Zelle ausführen. Fügen Sie zudem eine weitere Zelle ein, um auch das Ergebnis der ersten Zeile (`4 + 4`) auszugeben."
      ],
      "metadata": {
        "id": "Vu95J7lWsSBS"
      }
    },
    {
      "cell_type": "code",
      "source": [
        "# Execute this cell <- This line is a comment and therefore ignored by Python\n",
        "4 + 4\n",
        "1 + 2 # by default Python only outputs the results of the last line"
      ],
      "metadata": {
        "colab": {
          "base_uri": "https://localhost:8080/"
        },
        "id": "GlHGELpqq1dI",
        "outputId": "ab526485-e6b5-479c-a561-958f1317d238"
      },
      "execution_count": 1,
      "outputs": [
        {
          "output_type": "execute_result",
          "data": {
            "text/plain": [
              "3"
            ]
          },
          "metadata": {},
          "execution_count": 1
        }
      ]
    },
    {
      "cell_type": "code",
      "source": [
        "4 + 4"
      ],
      "metadata": {
        "colab": {
          "base_uri": "https://localhost:8080/"
        },
        "id": "M_2BecNJvAzx",
        "outputId": "95169010-7028-4371-a5de-90faede9a00b"
      },
      "execution_count": 37,
      "outputs": [
        {
          "output_type": "execute_result",
          "data": {
            "text/plain": [
              "8"
            ]
          },
          "metadata": {},
          "execution_count": 37
        }
      ]
    },
    {
      "cell_type": "markdown",
      "source": [
        "---\n",
        "\n",
        "## Befehle\n",
        "\n",
        "Programmiersprachen kennen bestimmte Code-Worte (Befehle), die den Computer zu bestimmten Aktionen auffordern. \n",
        "Beispielsweise erzwingt der ```print()``` Befehl die Ausgabe eines Ergebnisses.\n",
        "\n",
        "\n",
        "```\n",
        "4+4\n",
        "1+2\n",
        "```\n"
      ],
      "metadata": {
        "id": "MDNp4xIRuhyy"
      }
    },
    {
      "cell_type": "code",
      "source": [
        "print(1)\n",
        "print(2)"
      ],
      "metadata": {
        "colab": {
          "base_uri": "https://localhost:8080/"
        },
        "id": "shOFm-c3rGEp",
        "outputId": "1d67510f-951a-4f6f-f577-b0b181b6d9a5"
      },
      "execution_count": null,
      "outputs": [
        {
          "output_type": "stream",
          "name": "stdout",
          "text": [
            "1\n",
            "2\n"
          ]
        }
      ]
    },
    {
      "cell_type": "markdown",
      "source": [
        "✍️ **Nutzen** Sie den den print Befehl, um die Ergebnisse beider Additionen (`4+4`) und (`1+2`) in einer Zelle auszugeben"
      ],
      "metadata": {
        "id": "YK_BqzVEmQ6Y"
      }
    },
    {
      "cell_type": "code",
      "source": [
        "print()"
      ],
      "metadata": {
        "id": "Mfthe_o0rIoJ"
      },
      "execution_count": null,
      "outputs": []
    },
    {
      "cell_type": "code",
      "source": [
        "print(4+4)\n",
        "print(1+2)"
      ],
      "metadata": {
        "colab": {
          "base_uri": "https://localhost:8080/"
        },
        "id": "lANA6g_LvDQB",
        "outputId": "d7900b87-d899-4562-83bf-99b8d29e4d7f"
      },
      "execution_count": 38,
      "outputs": [
        {
          "output_type": "stream",
          "name": "stdout",
          "text": [
            "8\n",
            "3\n"
          ]
        }
      ]
    },
    {
      "cell_type": "markdown",
      "source": [
        "---\n",
        "\n",
        "## Variablen\n",
        "\n",
        "\n",
        "Während die meisten Taschenrechner nur das letzte Ergebnis (```ANS```-Taste) speichern, können Computer viele Informationen in verschiedenen Variablen speichern. Im folgenden Beispiel fügen wir eine Variable mit dem Namen ```message``` hinzu. Jede Variable enthält einen Wert, d.h. die Information, die mit dieser Variable verbunden ist. In diesem Fall ist der Wert eine Zeichenkette/String: `“Hello Python, World!”`\n"
      ],
      "metadata": {
        "id": "_Po3n75qTkRJ"
      }
    },
    {
      "cell_type": "code",
      "source": [
        "message = \"Hello, Python!\"\n",
        "print(message)"
      ],
      "metadata": {
        "id": "puWVtuVITj0a",
        "colab": {
          "base_uri": "https://localhost:8080/"
        },
        "outputId": "74c33f01-9d09-4fc9-880a-e682093f2ecf"
      },
      "execution_count": 2,
      "outputs": [
        {
          "output_type": "stream",
          "name": "stdout",
          "text": [
            "Hello, Python!\n"
          ]
        }
      ]
    },
    {
      "cell_type": "markdown",
      "source": [
        "Sie können den Wert einer Variablen in Ihrem Programm jederzeit ändern, und Python behält den aktuellen Wert immer im Auge. In der folgenden Zeile wird der Wert der Variable geändert, so dass der Befehl ```print(message)``` andere Ergebnisse liefert."
      ],
      "metadata": {
        "id": "cuSN5IqSUnu5"
      }
    },
    {
      "cell_type": "code",
      "source": [
        "message = \"Hello, World!\"\n",
        "print(message)\n",
        "\n",
        "message = \"Hello, Python Crash Course!\"\n",
        "print(message)\n",
        "\n",
        "message_2 = \"Hello, Programmer!\""
      ],
      "metadata": {
        "colab": {
          "base_uri": "https://localhost:8080/"
        },
        "id": "wvAaUbWkUpx3",
        "outputId": "692decd8-ea64-4863-c29b-6cd730f59d4e"
      },
      "execution_count": 3,
      "outputs": [
        {
          "output_type": "stream",
          "name": "stdout",
          "text": [
            "Hello, World!\n",
            "Hello, Python Crash Course!\n"
          ]
        }
      ]
    },
    {
      "cell_type": "markdown",
      "source": [
        "Innerhalb eines Notizbuchs werden die Variablen im Hintergrund gespeichert und werden durch die zuletzt ausgeführte Zelle überschrieben.\n",
        "\n",
        "Daher ist es eine gute Praxis, alle Zellen von oben nach unten in der richtigen Reihenfolge auszuführen, damit nichts Unerwartetes in der Variable gespeichert wird.\n",
        "\n",
        "✍️ **Aufgabe**: Drucken Sie im nächsten Schritt den Wert von ```message_2``` aus, um zu sehen, was in der Variable gespeichert ist.  \n"
      ],
      "metadata": {
        "id": "ayKJTTilVHCH"
      }
    },
    {
      "cell_type": "code",
      "source": [
        "print(message_2)"
      ],
      "metadata": {
        "id": "PnUtBwToUqpq",
        "colab": {
          "base_uri": "https://localhost:8080/"
        },
        "outputId": "09847cec-5607-447f-d993-0de29d6a6a77"
      },
      "execution_count": 40,
      "outputs": [
        {
          "output_type": "stream",
          "name": "stdout",
          "text": [
            "Hello, Programmer!\n"
          ]
        }
      ]
    },
    {
      "cell_type": "markdown",
      "source": [
        "Die in den Variablen gespeicherten Zustände gehen verloren, wenn die das Jupyter Notebook neu starten.\n",
        "\n",
        "✍️ **Aufgabe**: Führen Sie die Zelle hierrunter aus, um die Nachricht anzuzeigen. Wählen sie oben in der Menüleiste `Laufzeit` \\ `Laufzeit neu starten` und führen Sie die Zelle erneut aus."
      ],
      "metadata": {
        "id": "Uvyt_W-bqlCE"
      }
    },
    {
      "cell_type": "code",
      "source": [
        "print(message)\n"
      ],
      "metadata": {
        "colab": {
          "base_uri": "https://localhost:8080/"
        },
        "id": "4F1fKHpBqimw",
        "outputId": "6b7d7196-3892-4088-80ab-8d049274570b"
      },
      "execution_count": 4,
      "outputs": [
        {
          "output_type": "stream",
          "name": "stdout",
          "text": [
            "Hello, Python Crash Course!\n"
          ]
        }
      ]
    },
    {
      "cell_type": "markdown",
      "source": [
        "### Variablen-Explorer\n",
        "\n",
        "Eine weitere Möglichkeit, den Status der Variablen zu überprüfen, ist die Verwendung eines *Variablen-Explorers*. Navigieren Sie zur linken Seite des Fensters und klicken Sie auf ${\\{x\\}}$, um eine Tabelle mit allen Variablen zu sehen.\n",
        "\n",
        "Sie sehen, dass wir nur eine Variable  ```message``` haben, die einen *Typ* String hat, was bedeutet, dass sie eine Folge von Zeichen ist. \n"
      ],
      "metadata": {
        "id": "5zz5UikMV84b"
      }
    },
    {
      "cell_type": "markdown",
      "source": [
        "### Benennung und Verwendung von Variablen\n",
        "\n",
        "Wenn Sie Variablen in Python verwenden, müssen Sie einige Regeln und Richtlinien beachten. Die Missachtung einiger dieser Regeln führt zu Fehlern; andere Richtlinien helfen Ihnen lediglich, Code zu schreiben, der leichter zu lesen und zu verstehen ist. Beachten Sie\n",
        "die folgenden Variablenregeln:\n",
        "\n",
        "- Variablennamen dürfen nur Buchstaben, Zahlen und Unterstriche enthalten.\n",
        "Sie können mit einem Buchstaben oder einem Unterstrich beginnen, aber nicht mit einer Zahl.\n",
        "Zum Beispiel können Sie eine Variable ```message_1``` nennen, aber nicht ```1_message```.\n",
        "- Leerzeichen sind in Variablennamen nicht erlaubt, aber Unterstriche können verwendet werden, um Wörter in Variablennamen zu trennen. Zum Beispiel funktioniert ```greeting_message```, aber ```greeting message``` wird Fehler verursachen.\n",
        "- Vermeiden Sie die Verwendung von Python-Schlüsselwörtern und Funktionsnamen als Variablennamen;\n",
        "d.h. verwenden Sie keine Wörter, die Python für einen bestimmten programmatischen Zweck reserviert hat, wie z.B. das Wort ```print```. (Siehe Python-Schlüsselwörter und eingebaute Funktionen auf Seite 489 des Buches.)\n",
        "- Variablennamen sollten kurz aber aussagekräftig sein. Zum Beispiel ist ```name``` besser als ```n```, ```student_name``` besser als ```s_n```, und ```name_length``` besser als ```length_of_persons_name```.\n",
        "- Besonders gut ist es, wenn der Variabelennamen bereits auf den Datentyp hindeutet. Bei ```name``` wird ein String erwartet, bei ```name_length``` ein Integer.\n",
        "- Seien Sie vorsichtig, wenn Sie den Kleinbuchstaben ```l``` und den Großbuchstaben ```O``` verwenden, da sie mit den Zahlen ```1``` und ```0``` verwechselt werden könnten.\n"
      ],
      "metadata": {
        "id": "WRrQ8B_4Wuqm"
      }
    },
    {
      "cell_type": "markdown",
      "source": [
        "### Vermeiden von Namensfehlern bei der Verwendung von Variablen\n",
        "\n",
        "Jeder Programmierer macht Fehler, und die meisten machen sie täglich.\n",
        "Gute Programmierer können zwar Fehler machen, aber sie wissen auch, wie man\n",
        "auf diese Fehler effizient zu reagieren. Schauen wir uns einen Fehler an, den Sie wahrscheinlich gleich zu Beginn machen werden, und lernen Sie, wie Sie ihn beheben können.\n",
        "\n",
        "Der folgende Code erzeugt einen Fehler:"
      ],
      "metadata": {
        "id": "oJt8b875XgQU"
      }
    },
    {
      "cell_type": "code",
      "source": [
        "message = \"Hello Python Crash Course reader!\"\n",
        "print(mesage)"
      ],
      "metadata": {
        "colab": {
          "base_uri": "https://localhost:8080/",
          "height": 182
        },
        "id": "ubYv40gsXnw0",
        "outputId": "8e13200f-51bb-4f91-aec9-bec0ba3126c5"
      },
      "execution_count": null,
      "outputs": [
        {
          "output_type": "error",
          "ename": "NameError",
          "evalue": "ignored",
          "traceback": [
            "\u001b[0;31m---------------------------------------------------------------------------\u001b[0m",
            "\u001b[0;31mNameError\u001b[0m                                 Traceback (most recent call last)",
            "\u001b[0;32m<ipython-input-6-c8f2adeaed02>\u001b[0m in \u001b[0;36m<module>\u001b[0;34m()\u001b[0m\n\u001b[1;32m      1\u001b[0m \u001b[0mmessage\u001b[0m \u001b[0;34m=\u001b[0m \u001b[0;34m\"Hello Python Crash Course reader!\"\u001b[0m\u001b[0;34m\u001b[0m\u001b[0;34m\u001b[0m\u001b[0m\n\u001b[0;32m----> 2\u001b[0;31m \u001b[0mprint\u001b[0m\u001b[0;34m(\u001b[0m\u001b[0mmesage\u001b[0m\u001b[0;34m)\u001b[0m\u001b[0;34m\u001b[0m\u001b[0;34m\u001b[0m\u001b[0m\n\u001b[0m",
            "\u001b[0;31mNameError\u001b[0m: name 'mesage' is not defined"
          ]
        }
      ]
    },
    {
      "cell_type": "markdown",
      "source": [
        "Wenn in Ihrem Programm ein Fehler auftritt, tut der Python-Interpreter sein\n",
        "sein Bestes, um Ihnen zu helfen, herauszufinden, wo das Problem liegt. Der Interpreter liefert einen Traceback, wenn ein Programm nicht erfolgreich ausgeführt werden kann. Ein Traceback ist eine Aufzeichnung der Stellen, an denen der Interpreter beim Versuch, Ihren Code auszuführen, auf Probleme gestoßen ist.\n",
        "Hier ist ein Beispiel für den Traceback, den Python liefert, wenn Sie versehentlich den Namen einer Variable falsch geschrieben haben:\n",
        "\n",
        "```NameError: name 'mesage' is not defined```\n",
        "\n",
        "Die Feldermeldung besagt, dass in *Zeile 2* ein Fehler aufgetreten ist. Der Interpreter zeigt diese Zeile an, damit wir den Fehler schnell erkennen können, und teilt uns mit, welche Art von Fehler er gefunden hat (*NameError*). In diesem Fall hat er einen Namensfehler gefunden und meldet, dass die zu druckende Variable ```mesage``` nicht definiert wurde. Python kann den angegebenen Variablennamen nicht identifizieren. Ein Namensfehler bedeutet normalerweise, dass wir entweder vergessen haben, den Wert einer Variablen zu setzen, bevor wir sie verwenden, oder dass wir bei der Eingabe des Variablennamens einen Schreibfehler gemacht haben.\n",
        "\n",
        "✍️ **Aufgabe**: In der nächsten Zelle beheben Sie den Namensfehler, um das Ergebnis zu drucken."
      ],
      "metadata": {
        "id": "gwjiaynGXq3O"
      }
    },
    {
      "cell_type": "code",
      "source": [
        "print(message)"
      ],
      "metadata": {
        "id": "i6YKS-N_XoMW",
        "colab": {
          "base_uri": "https://localhost:8080/"
        },
        "outputId": "8ada70ea-8e96-4849-9734-fc7f4fd261f3"
      },
      "execution_count": 41,
      "outputs": [
        {
          "output_type": "stream",
          "name": "stdout",
          "text": [
            "Hello, Python Crash Course!\n"
          ]
        }
      ]
    },
    {
      "cell_type": "markdown",
      "source": [
        "## Besprechung der Aufgaben\n",
        "\n",
        "- Sind Sie mit ein Aufgaben bis hierhin fertig geworden und haben Sie keine Fragen, so legen Sie die grüne Karte nach oben\n",
        "- Sind Sie mit den Aufgaben fertig, aber hätten gerne, dass die Lösungen nocheinmal gemeinsam besprochen werden, legen Sie die gelbe Karte nach oben\n",
        "\n",
        "![](https://www.lokalinfo.ch/fileadmin/news_import/image003_03.jpg)"
      ],
      "metadata": {
        "id": "7q4ySF9AtMfn"
      }
    },
    {
      "cell_type": "markdown",
      "source": [
        "---\n",
        "\n",
        "## Datentypen\n",
        "\n",
        "Bis jetzt haben wir nur Zeichen (z.B. ```\"Hello World\"```) in einer Variable gespeichert. Daneben können Variablen alle Arten von Informationen wie Zahlen, Bits und andere enthalten.\n",
        "\n",
        "- Primitive Datentypen sind eine Reihe von Basisdatentypen, aus denen alle anderen Datentypen konstruiert werden.\n",
        "- Container werden aus primitiven Daten zusammengesetzt, um komplexere Informationen zu speichern.\n",
        "\n",
        "![](https://i.imgur.com/6cg2E9Q.png)\n"
      ],
      "metadata": {
        "id": "1Rd0i1-uY-Mm"
      }
    },
    {
      "cell_type": "markdown",
      "source": [
        "### Zeichenketten (Strings)\n",
        "\n",
        "Eine Zeichenkette ist einfach eine Reihe von Zeichen. Alles, was in Anführungszeichen steht, wird in Python als Zeichenkette betrachtet, und Sie können einfache oder doppelte Anführungszeichen um Ihre Zeichenketten herum verwenden, etwa so:"
      ],
      "metadata": {
        "id": "eF5VnKbGadh_"
      }
    },
    {
      "cell_type": "markdown",
      "source": [
        "Neben dem Variablen-Explorer können wir die Funktion ```type()``` verwenden, um den Typ einer Variablen zu überprüfen"
      ],
      "metadata": {
        "id": "y37wLUdYkAO3"
      }
    },
    {
      "cell_type": "code",
      "source": [
        "a_string = 'This is also a string.'\n",
        "type(a_string)"
      ],
      "metadata": {
        "colab": {
          "base_uri": "https://localhost:8080/"
        },
        "id": "2Uv8XkBsj6Fh",
        "outputId": "f2ba216c-d74f-4935-b855-2cafcdc6569f"
      },
      "execution_count": null,
      "outputs": [
        {
          "output_type": "execute_result",
          "data": {
            "text/plain": [
              "str"
            ]
          },
          "metadata": {},
          "execution_count": 29
        }
      ]
    },
    {
      "cell_type": "code",
      "source": [
        "\"This is a string.\"\n",
        "'This is also a string.'"
      ],
      "metadata": {
        "colab": {
          "base_uri": "https://localhost:8080/",
          "height": 36
        },
        "id": "ku6rc8rKacvm",
        "outputId": "7d637fed-d8da-4404-dbe8-3020a295d94b"
      },
      "execution_count": null,
      "outputs": [
        {
          "output_type": "execute_result",
          "data": {
            "text/plain": [
              "'This is also a string.'"
            ],
            "application/vnd.google.colaboratory.intrinsic+json": {
              "type": "string"
            }
          },
          "metadata": {},
          "execution_count": 7
        }
      ]
    },
    {
      "cell_type": "markdown",
      "source": [
        "Diese Flexibilität erlaubt es Ihnen, Anführungszeichen und Apostrophe in Ihren Zeichenfolgen zu verwenden:"
      ],
      "metadata": {
        "id": "04W-UHHVan11"
      }
    },
    {
      "cell_type": "code",
      "source": [
        "'I told my friend, \"Python is my favorite language!\"'\n",
        "\"The language 'Python' is named after Monty Python, not the snake.\"\n",
        "\"One of Python's strengths is its diverse and supportive community.\""
      ],
      "metadata": {
        "colab": {
          "base_uri": "https://localhost:8080/",
          "height": 36
        },
        "id": "d2sNqUlNanON",
        "outputId": "e616e652-3be6-42c6-b1ea-98315a09c29d"
      },
      "execution_count": null,
      "outputs": [
        {
          "output_type": "execute_result",
          "data": {
            "text/plain": [
              "\"One of Python's strengths is its diverse and supportive community.\""
            ],
            "application/vnd.google.colaboratory.intrinsic+json": {
              "type": "string"
            }
          },
          "metadata": {},
          "execution_count": 8
        }
      ]
    },
    {
      "cell_type": "markdown",
      "source": [
        "#### Änderung der Groß-/Kleinschreibung in einer Zeichenkette mit Methoden\n",
        "\n",
        "Eine der einfachsten Aufgaben, die Sie mit Zeichenketten durchführen können, ist das Ändern der Groß- und Kleinschreibung der Wörter in einer Zeichenkette. Schauen Sie sich den folgenden Code an und versuchen Sie herauszufinden, was hier passiert:\n"
      ],
      "metadata": {
        "id": "Y2GLNm-Wa1qe"
      }
    },
    {
      "cell_type": "code",
      "source": [
        "name = \"ada lovelace\"\n",
        "print(name.title())"
      ],
      "metadata": {
        "colab": {
          "base_uri": "https://localhost:8080/"
        },
        "id": "ngBXBz1MZFQd",
        "outputId": "09c6f7db-1dc4-4142-9386-e42309b7cd6f"
      },
      "execution_count": null,
      "outputs": [
        {
          "output_type": "stream",
          "name": "stdout",
          "text": [
            "Ada Lovelace\n"
          ]
        }
      ]
    },
    {
      "cell_type": "markdown",
      "source": [
        "In diesem Beispiel wird die klein geschriebene Zeichenkette ```\"ada lovelace\"``` in der Variablen ```name``` gespeichert. Die Methode ```title()``` erscheint nach der Variablen in der ```print()```-Anweisung.\n",
        "Eine Methode ist eine Aktion, die Python mit einem Objekt (z.B. einem String) durchführen kann. Der Punkt (```.```) nach ```name``` in ```name.title()``` sagt Python, dass die Methode ```title()``` auf die Variable ```name``` wirken soll. Jede Methode wird von einer Reihe von Klammern gefolgt, weil Methoden oft zusätzliche Informationen benötigen, um ihre Arbeit zu erledigen.\n",
        "Diese Informationen werden innerhalb der Klammern angegeben. Die Funktion ```title()``` benötigt keine zusätzlichen Informationen, daher sind ihre Klammern leer.\n",
        "Die Funktion ```titel()``` zeigt jedes Wort in Großbuchstaben an, wobei jedes Wort mit einem Großbuchstaben beginnt. Dies ist nützlich, da man sich einen Namen oft als eine Information vorstellen möchte."
      ],
      "metadata": {
        "id": "C3xpdAsqbAIe"
      }
    },
    {
      "cell_type": "markdown",
      "source": [
        "✍️ **Aufgabe:**\n",
        "\n",
        "Speichern Sie die `ada lovelace` in einer Variablen namens `name` und speichern Sie eine vollkommen groß geschriebene Version in der Variablen `name_1`. Testen Sie die folgenden Methoden, um Ihr Ziel zu erreichen.\n",
        "\n",
        "- capitalize()\n",
        "- istitle()\n",
        "- isupper()\n",
        "- split()\n",
        "- upper()\n",
        "- lower()"
      ],
      "metadata": {
        "id": "OXKpbsIUbc9u"
      }
    },
    {
      "cell_type": "code",
      "source": [
        "name =  \"ada lovelace\"\n",
        "name_1 = name.upper()\n",
        "name_1"
      ],
      "metadata": {
        "id": "L9-0EBKyZBWl",
        "colab": {
          "base_uri": "https://localhost:8080/",
          "height": 36
        },
        "outputId": "e8bc88ec-b263-4add-eaa0-c3e10b30295b"
      },
      "execution_count": 6,
      "outputs": [
        {
          "output_type": "execute_result",
          "data": {
            "text/plain": [
              "'ADA LOVELACE'"
            ],
            "application/vnd.google.colaboratory.intrinsic+json": {
              "type": "string"
            }
          },
          "metadata": {},
          "execution_count": 6
        }
      ]
    },
    {
      "cell_type": "markdown",
      "source": [
        "#### Kombinieren oder Verketten von Zeichenketten\n",
        "\n",
        "Es ist oft nützlich, Zeichenketten zu kombinieren. Sie können zum Beispiel einen Vornamen und einen Nachnamen in separaten Variablen speichern und diese dann kombinieren, wenn Sie den vollständigen Namen einer Person anzeigen möchten.\n",
        "\n",
        "Python verwendet das Plus-Symbol (```+```), um Zeichenketten zu kombinieren. In diesem Beispiel verwenden wir ```+```, um einen vollständigen Namen zu erzeugen, indem wir einen ```Vornamen```, ein Leerzeichen und einen ```Nachnamen``` kombinieren, was zu diesem Ergebnis führt:\n",
        "\n"
      ],
      "metadata": {
        "id": "WkriUwP7hWxO"
      }
    },
    {
      "cell_type": "code",
      "source": [
        "first_name = \"ada\"\n",
        "last_name = \"lovelace\"\n",
        "full_name = first_name + \" \" + last_name\n",
        "print(full_name)"
      ],
      "metadata": {
        "colab": {
          "base_uri": "https://localhost:8080/"
        },
        "id": "jHQG6buZe8C3",
        "outputId": "ae6f60f8-8189-4006-fda8-c670399b6320"
      },
      "execution_count": null,
      "outputs": [
        {
          "output_type": "stream",
          "name": "stdout",
          "text": [
            "ada lovelace\n"
          ]
        }
      ]
    },
    {
      "cell_type": "markdown",
      "source": [
        "Hier wird der vollständige Name in einem Satz zur Begrüßung des Benutzers verwendet, und die Methode ```title()``` wird verwendet, um den Namen entsprechend zu formatieren. Dieser Code gibt eine einfache, aber schön formatierte Begrüßung zurück:"
      ],
      "metadata": {
        "id": "7S5WriXQhweQ"
      }
    },
    {
      "cell_type": "code",
      "source": [
        "print(\"Hello, \" + full_name.title() + \"!\")"
      ],
      "metadata": {
        "colab": {
          "base_uri": "https://localhost:8080/"
        },
        "id": "tfe0rRExhVhk",
        "outputId": "dff33f56-d962-4ec3-ee58-00815c8c57c4"
      },
      "execution_count": null,
      "outputs": [
        {
          "output_type": "stream",
          "name": "stdout",
          "text": [
            "Hello, Ada Lovelace!\n"
          ]
        }
      ]
    },
    {
      "cell_type": "markdown",
      "source": [
        "Eine weitere Möglichkeit, Zeichenketten aus Variablen zu erstellen, ist die Methode ```format()```. Innerhalb der Zeichenkette dient ein ```{}``` als Platzhalter für das, was in der Methode ```format()``` definiert und übergeben wird."
      ],
      "metadata": {
        "id": "vlb_8YFIiMnB"
      }
    },
    {
      "cell_type": "code",
      "source": [
        "suject_name = \"Ada Lovelace\"\n",
        "\n",
        "print(\"Hello, {}!\".format(suject_name))"
      ],
      "metadata": {
        "colab": {
          "base_uri": "https://localhost:8080/"
        },
        "id": "k7Uf77OFhuNm",
        "outputId": "1b160468-d549-4e1d-9a85-222bf2279fb6"
      },
      "execution_count": null,
      "outputs": [
        {
          "output_type": "stream",
          "name": "stdout",
          "text": [
            "Hello, Ada Lovelace!\n"
          ]
        }
      ]
    },
    {
      "cell_type": "markdown",
      "source": [
        "✍️  **Aufgabe**\n",
        "\n",
        "- Persönliche Nachricht: Speichern Sie den Namen einer Person in einer Variablen und drucken Sie eine Nachricht an diese Person. Die Nachricht sollte einfach sein, z. B. `\"Hallo Eric, möchtest du heute etwas Python lernen?\"`\n"
      ],
      "metadata": {
        "id": "s_3TkjQSiyd_"
      }
    },
    {
      "cell_type": "code",
      "source": [
        "name = \"julian huber\"\n",
        "\n",
        "print(\"Hallo {}, möchtest du heute etwas Python lernen?\".format(name.title()))"
      ],
      "metadata": {
        "id": "xd37oSVdrg0d",
        "colab": {
          "base_uri": "https://localhost:8080/"
        },
        "outputId": "d3086ab2-05f2-4310-b59a-bdfc4d06bc09"
      },
      "execution_count": 7,
      "outputs": [
        {
          "output_type": "stream",
          "name": "stdout",
          "text": [
            "Hallo Julian Huber, möchtest du heute etwas Python lernen?\n"
          ]
        }
      ]
    },
    {
      "cell_type": "markdown",
      "source": [
        "🤓 *Bonusaufgabe*\n",
        "-  Berühmtes Zitat: Suchen Sie ein Zitat einer berühmten Person, die Sie bewundern. Drucken Sie das\n",
        "Zitat und den Namen des Autors aus. Ihre Ausgabe sollte in etwa wie folgt aussehen, einschließlich der Anführungszeichen:\n",
        "`Albert Einstein sagte einmal: \"Ein Mensch, der nie einen Fehler gemacht\n",
        "Fehler gemacht hat, hat nie etwas Neues ausprobiert.\"`\n"
      ],
      "metadata": {
        "id": "HJ3xwqYql_XI"
      }
    },
    {
      "cell_type": "code",
      "source": [
        "subject_name = \"Richard Feynman\"\n",
        "quote = \"There is plenty of space at the bottom.\"\n",
        "print('{} once said: \"{}\"'.format(subject_name.title(), quote))"
      ],
      "metadata": {
        "colab": {
          "base_uri": "https://localhost:8080/"
        },
        "id": "GeuopF1vtYtu",
        "outputId": "1c170a63-6f7a-4d8d-e300-7ef51b6cc4a4"
      },
      "execution_count": 8,
      "outputs": [
        {
          "output_type": "stream",
          "name": "stdout",
          "text": [
            "Richard Feynman once said: \"There is plenty of space at the bottom.\"\n"
          ]
        }
      ]
    },
    {
      "cell_type": "markdown",
      "source": [
        "## Besprechung der Aufgaben\n",
        "\n",
        "- Sind Sie mit ein Aufgaben bis hierhin fertig geworden und haben Sie keine Fragen, so legen Sie die grüne Karte nach oben\n",
        "- Sind Sie mit den Aufgaben fertig, aber hätten gerne, dass die Lösungen nocheinmal gemeinsam besprochen werden, legen Sie die gelbe Karte nach oben\n",
        "\n",
        "![](https://www.lokalinfo.ch/fileadmin/news_import/image003_03.jpg)"
      ],
      "metadata": {
        "id": "GYYijbhRtfsM"
      }
    },
    {
      "cell_type": "markdown",
      "source": [
        "### Zahlen\n",
        "\n",
        "Zahlen werden in der Programmierung häufig verwendet, um den Spielstand in Spielen festzuhalten, Daten in Visualisierungen darzustellen, Informationen in Webanwendungen zu speichern und so weiter. Python behandelt Zahlen auf verschiedene Weise, je nachdem, wie sie verwendet werden. Sehen wir uns zunächst an, wie Python mit ganzen Zahlen umgeht, denn\n",
        "sie am einfachsten zu handhaben sind."
      ],
      "metadata": {
        "id": "nz7xUALpi_B7"
      }
    },
    {
      "cell_type": "markdown",
      "source": [
        "#### Ganzzahlen (Integers)\n",
        "\n",
        "Jede Zahl ohne Nachkommastellen wird von Python automatisch als ganze Zahl interpretiert. Ganzzahlen haben in Python einen theoretisch unbegrenzten Wertebereich, in der Praxis ist dieser durch den verfügbaren Arbeitsspeicher begrenzt.\n",
        "\n",
        "In Python können alle arithmetischen und vergleichenden Operationen für ganze Zahlen verwendet werden.\n",
        "\n",
        "Sie können in Python ganze Zahlen addieren (```+```), subtrahieren (```-```), multiplizieren (```*```) und dividieren (```/```)."
      ],
      "metadata": {
        "id": "mICEq3b2jGcU"
      }
    },
    {
      "cell_type": "code",
      "source": [
        "2 + 3"
      ],
      "metadata": {
        "colab": {
          "base_uri": "https://localhost:8080/"
        },
        "id": "UGfbuzNwiHFo",
        "outputId": "57866caf-fd06-4f81-97dd-db02c0d0626f"
      },
      "execution_count": null,
      "outputs": [
        {
          "output_type": "execute_result",
          "data": {
            "text/plain": [
              "5"
            ]
          },
          "metadata": {},
          "execution_count": 22
        }
      ]
    },
    {
      "cell_type": "code",
      "source": [
        "3 - 2"
      ],
      "metadata": {
        "colab": {
          "base_uri": "https://localhost:8080/"
        },
        "id": "4WF2dlrQjKfd",
        "outputId": "82499bfb-5f82-4a12-d976-94490f7de5de"
      },
      "execution_count": null,
      "outputs": [
        {
          "output_type": "execute_result",
          "data": {
            "text/plain": [
              "1"
            ]
          },
          "metadata": {},
          "execution_count": 23
        }
      ]
    },
    {
      "cell_type": "code",
      "source": [
        "2 * 3"
      ],
      "metadata": {
        "colab": {
          "base_uri": "https://localhost:8080/"
        },
        "id": "1lz7kH-bjLn8",
        "outputId": "b443b340-82b2-4e73-da18-ec92375130a5"
      },
      "execution_count": null,
      "outputs": [
        {
          "output_type": "execute_result",
          "data": {
            "text/plain": [
              "6"
            ]
          },
          "metadata": {},
          "execution_count": 25
        }
      ]
    },
    {
      "cell_type": "code",
      "source": [
        "3 / 2"
      ],
      "metadata": {
        "colab": {
          "base_uri": "https://localhost:8080/"
        },
        "id": "EKbF-ChajN0p",
        "outputId": "0b6ffe81-460d-4a77-8579-7d5d0f212e0e"
      },
      "execution_count": null,
      "outputs": [
        {
          "output_type": "execute_result",
          "data": {
            "text/plain": [
              "1.5"
            ]
          },
          "metadata": {},
          "execution_count": 24
        }
      ]
    },
    {
      "cell_type": "markdown",
      "source": [
        "Python verwendet zwei Multiplikationssymbole zur Darstellung von Exponenten:\n",
        "\n",
        "\n"
      ],
      "metadata": {
        "id": "6vI7KZqLjUOG"
      }
    },
    {
      "cell_type": "code",
      "source": [
        "3 ** 3"
      ],
      "metadata": {
        "colab": {
          "base_uri": "https://localhost:8080/"
        },
        "id": "ZKXahTicjOLM",
        "outputId": "a0207288-afdf-4024-ecea-e4cd9087c634"
      },
      "execution_count": null,
      "outputs": [
        {
          "output_type": "execute_result",
          "data": {
            "text/plain": [
              "27"
            ]
          },
          "metadata": {},
          "execution_count": 26
        }
      ]
    },
    {
      "cell_type": "markdown",
      "source": [
        "Python unterstützt auch die Reihenfolge der Operationen, so dass Sie mehrere\n",
        "Operationen in einem Ausdruck verwenden. Sie können auch Klammern verwenden, um die um die Reihenfolge der Operationen zu ändern, damit Python den Ausdruck in der von Ihnen angegebenen Reihenfolge\n",
        "Sie angeben. Zum Beispiel:"
      ],
      "metadata": {
        "id": "oEXQcJgxjZGN"
      }
    },
    {
      "cell_type": "code",
      "source": [
        "2 + 3*4"
      ],
      "metadata": {
        "colab": {
          "base_uri": "https://localhost:8080/"
        },
        "id": "uNIsEFc9jYOm",
        "outputId": "fc95bedb-b165-43ad-d11c-1d911791fafb"
      },
      "execution_count": null,
      "outputs": [
        {
          "output_type": "execute_result",
          "data": {
            "text/plain": [
              "14"
            ]
          },
          "metadata": {},
          "execution_count": 5
        }
      ]
    },
    {
      "cell_type": "code",
      "source": [
        "(2 + 3) * 4"
      ],
      "metadata": {
        "colab": {
          "base_uri": "https://localhost:8080/"
        },
        "id": "GDlDc8r8jV0c",
        "outputId": "0f3f2dba-b342-4bc9-b14c-cf7cf2e05460"
      },
      "execution_count": null,
      "outputs": [
        {
          "output_type": "execute_result",
          "data": {
            "text/plain": [
              "20"
            ]
          },
          "metadata": {},
          "execution_count": 6
        }
      ]
    },
    {
      "cell_type": "markdown",
      "source": [
        "\n",
        "#### Gleitkommazahlen (Floats)\n",
        "\n",
        "Jede Zahl mit Dezimalstellen wird von Python automatisch als Fließkommazahl interpretiert. Python verwendet für Fließkommazahlen 64-Bit-Zahlen im IEEE-754-Format, d.h. der Wertebereich von Fließkommazahlen reicht von $\\approx 2.23\\cdot 10^{-308}$ bis $\\approx 1.78\\cdot 10^{308}$.\n",
        "\n",
        "In Python können alle arithmetischen und Vergleichsoperationen für Fließkommazahlen verwendet werden.\n",
        "\n",
        "*Achtung*: Computer speichern die Zahlen auf einem begrenzten Speicherplatz. Daher sind sie nicht 100% genau. Kleine numerische Fehler können bei komplexen Berechnungen zu einem Fehler führen.\n"
      ],
      "metadata": {
        "id": "cvjec0RQkW9N"
      }
    },
    {
      "cell_type": "code",
      "source": [
        "# Eine Addition mit Gleitkommazahlen\n",
        "# 34.3 + 56.4 ergibt normalerweise 90.7\n",
        "# Aufgrund von Darstellungsfehlern bei Gleitkommazahlen ist das Ergebnis hier aber 90.69999999999999\n",
        "b = 34.3 + 56.4\n",
        "print(\"34.3 + 56.4 =\", b)\n",
        "type(b)"
      ],
      "metadata": {
        "colab": {
          "base_uri": "https://localhost:8080/"
        },
        "id": "3aRqOks4jbot",
        "outputId": "57f561a5-e891-4649-f755-55c926c31034"
      },
      "execution_count": null,
      "outputs": [
        {
          "output_type": "stream",
          "name": "stdout",
          "text": [
            "34.3 + 56.4 = 90.69999999999999\n"
          ]
        },
        {
          "output_type": "execute_result",
          "data": {
            "text/plain": [
              "float"
            ]
          },
          "metadata": {},
          "execution_count": 7
        }
      ]
    },
    {
      "cell_type": "code",
      "source": [
        "# epsilon is the difference between 1 and the next representable float. \n",
        "import sys\n",
        "sys.float_info.epsilon"
      ],
      "metadata": {
        "colab": {
          "base_uri": "https://localhost:8080/"
        },
        "id": "C3FZ1eHkmXS_",
        "outputId": "170adf2c-dc68-47b1-eca6-c6f492004832"
      },
      "execution_count": null,
      "outputs": [
        {
          "output_type": "execute_result",
          "data": {
            "text/plain": [
              "2.220446049250313e-16"
            ]
          },
          "metadata": {},
          "execution_count": 2
        }
      ]
    },
    {
      "cell_type": "markdown",
      "source": [
        "### Vermeidung von Typfehlern mit der Funktion str()\n",
        "\n",
        "Oft möchten Sie den Wert einer Variablen in einer Nachricht verwenden. Ein Beispiel: Sie wollen jemandem zum Geburtstag gratulieren. Sie könnten Code wie diesen schreiben:"
      ],
      "metadata": {
        "id": "4m0Jxu99lODb"
      }
    },
    {
      "cell_type": "code",
      "source": [
        "age = 23\n",
        "message = \"Happy \" + age + \"rd Birthday!\"\n",
        "print(message)"
      ],
      "metadata": {
        "colab": {
          "base_uri": "https://localhost:8080/",
          "height": 200
        },
        "id": "dcmSgQnGkkw8",
        "outputId": "2df0fb39-85b5-45d0-a95c-d103a2ab1512"
      },
      "execution_count": null,
      "outputs": [
        {
          "output_type": "error",
          "ename": "TypeError",
          "evalue": "ignored",
          "traceback": [
            "\u001b[0;31m---------------------------------------------------------------------------\u001b[0m",
            "\u001b[0;31mTypeError\u001b[0m                                 Traceback (most recent call last)",
            "\u001b[0;32m<ipython-input-8-80a141e301d6>\u001b[0m in \u001b[0;36m<module>\u001b[0;34m()\u001b[0m\n\u001b[1;32m      1\u001b[0m \u001b[0mage\u001b[0m \u001b[0;34m=\u001b[0m \u001b[0;36m23\u001b[0m\u001b[0;34m\u001b[0m\u001b[0;34m\u001b[0m\u001b[0m\n\u001b[0;32m----> 2\u001b[0;31m \u001b[0mmessage\u001b[0m \u001b[0;34m=\u001b[0m \u001b[0;34m\"Happy \"\u001b[0m \u001b[0;34m+\u001b[0m \u001b[0mage\u001b[0m \u001b[0;34m+\u001b[0m \u001b[0;34m\"rd Birthday!\"\u001b[0m\u001b[0;34m\u001b[0m\u001b[0;34m\u001b[0m\u001b[0m\n\u001b[0m\u001b[1;32m      3\u001b[0m \u001b[0mprint\u001b[0m\u001b[0;34m(\u001b[0m\u001b[0mmessage\u001b[0m\u001b[0;34m)\u001b[0m\u001b[0;34m\u001b[0m\u001b[0;34m\u001b[0m\u001b[0m\n",
            "\u001b[0;31mTypeError\u001b[0m: can only concatenate str (not \"int\") to str"
          ]
        }
      ]
    },
    {
      "cell_type": "markdown",
      "source": [
        "Sie könnten erwarten, dass dieser Code den einfachen Geburtstagsgruß \"Happy 23rd Birthday!\" erzeugt. Aber wenn Sie diesen Code ausführen, werden Sie feststellen, dass er einen Fehler erzeugt. \n",
        "\n",
        "Dies ist ein Typfehler. Er bedeutet, dass Python die Art der Information, die Sie verwenden, nicht verarbeiten kann. In diesem Beispiel sieht Python, dass Sie eine Variable verwenden, die einen ganzzahligen Wert (int) hat, aber Python ist nicht sicher, wie es diesen Wert interpretieren soll. Python weiß, dass die Variable entweder für den numerischen Wert 23 oder für die Zeichen 2 und 3 stehen könnte. Wenn Sie Ganzzahlen in Zeichenketten wie dieser verwenden, müssen Sie explizit angeben, dass Python die Ganzzahl als Zeichenkette verwenden soll. Sie können dies tun, indem Sie die Variable in die ```str()```-Funktion einschließen, die Python anweist, Nicht-String-Werte als Strings darzustellen:\n"
      ],
      "metadata": {
        "id": "ia6Uo09qlXrb"
      }
    },
    {
      "cell_type": "code",
      "source": [
        "age = 23\n",
        "message = \"Happy \" + str(age) + \"rd Birthday!\"\n",
        "print(message)"
      ],
      "metadata": {
        "colab": {
          "base_uri": "https://localhost:8080/"
        },
        "id": "eG37CFL1lUGc",
        "outputId": "d7a00e15-720b-419a-9952-7125c1c6c11f"
      },
      "execution_count": null,
      "outputs": [
        {
          "output_type": "stream",
          "name": "stdout",
          "text": [
            "Happy 23rd Birthday!\n"
          ]
        }
      ]
    },
    {
      "cell_type": "markdown",
      "source": [
        "Das Ändern des Typs einer Variablen (hier von Integer zu String) wird Casting genannt. Wir haben das schon einmal gesehen, als wir mit Zahlen gearbeitet haben. Im folgenden Beispiel wurden die Ganzzahlen 3 und 2 implizit in Fließkommazahlen umgewandelt, um das Ergebnis zu berechnen, das eine Fließkommazahl ist.\n"
      ],
      "metadata": {
        "id": "QiEXKjAGl5TK"
      }
    },
    {
      "cell_type": "code",
      "source": [
        "3 / 2"
      ],
      "metadata": {
        "colab": {
          "base_uri": "https://localhost:8080/"
        },
        "id": "BP7q2_GQlWpb",
        "outputId": "09ffa349-0b37-4dec-8bab-b3f21d45d5de"
      },
      "execution_count": null,
      "outputs": [
        {
          "output_type": "execute_result",
          "data": {
            "text/plain": [
              "1.5"
            ]
          },
          "metadata": {},
          "execution_count": 36
        }
      ]
    },
    {
      "cell_type": "markdown",
      "source": [
        "#### Explizite Umwandlungen mit Zahlen\n",
        "\n",
        "Mit der Funktion `int()` kann ein beliebiger Wert explizit in eine ganze Zahl umgewandelt werden, sofern dies überhaupt möglich ist. Der zu umzuwandelnde Wert wird als Eingabeparameter übergeben.\n",
        "\n",
        "Mit der Funktion `float()` kann ein beliebiger Wert explizit in eine Fließkommazahl umgewandelt werden, sofern dies möglich ist. Der zu gießende Wert wird als Eingabeparameter übergeben.\n",
        "\n",
        "Mit der Funktion `complex()` kann ein beliebiger Wert explizit in eine komplexe Zahl umgewandelt werden, sofern dies möglich ist. Der zu umzuwandelnde Wert wird als Eingabeparameter übergeben.\n",
        "\n",
        "✍️ **Aufgabe**: Prüfen Sie, ob Sie die folgenden Variablen in int, float oder sting umwandeln können.\n",
        "\n"
      ],
      "metadata": {
        "id": "Rn2ilmUfmpvr"
      }
    },
    {
      "cell_type": "code",
      "source": [
        "number = \"12\""
      ],
      "metadata": {
        "id": "7ElNXM1wmpHT"
      },
      "execution_count": 10,
      "outputs": []
    },
    {
      "cell_type": "code",
      "source": [
        "int(number)\n",
        "float(number)\n",
        "str(number)"
      ],
      "metadata": {
        "colab": {
          "base_uri": "https://localhost:8080/",
          "height": 36
        },
        "id": "a3FyRjTGtrLp",
        "outputId": "a6f251cb-68bd-4f28-fcc3-9cde04590b97"
      },
      "execution_count": 11,
      "outputs": [
        {
          "output_type": "execute_result",
          "data": {
            "text/plain": [
              "'12'"
            ],
            "application/vnd.google.colaboratory.intrinsic+json": {
              "type": "string"
            }
          },
          "metadata": {},
          "execution_count": 11
        }
      ]
    },
    {
      "cell_type": "code",
      "source": [
        "number = \"1,2\""
      ],
      "metadata": {
        "id": "lSkK3ElUmVlb"
      },
      "execution_count": 13,
      "outputs": []
    },
    {
      "cell_type": "code",
      "source": [
        "#int(number)\n",
        "#float(number)\n",
        "str(number)"
      ],
      "metadata": {
        "colab": {
          "base_uri": "https://localhost:8080/",
          "height": 36
        },
        "id": "nQPwqDNztrsI",
        "outputId": "53b371ab-21bc-4c77-fef5-ce225f0c93fe"
      },
      "execution_count": 16,
      "outputs": [
        {
          "output_type": "execute_result",
          "data": {
            "text/plain": [
              "'1,2'"
            ],
            "application/vnd.google.colaboratory.intrinsic+json": {
              "type": "string"
            }
          },
          "metadata": {},
          "execution_count": 16
        }
      ]
    },
    {
      "cell_type": "code",
      "source": [
        "number = \"1.2\""
      ],
      "metadata": {
        "id": "fxq2Nxo8m4k5"
      },
      "execution_count": 17,
      "outputs": []
    },
    {
      "cell_type": "code",
      "source": [
        "#int(number)\n",
        "float(number)\n",
        "str(number)"
      ],
      "metadata": {
        "colab": {
          "base_uri": "https://localhost:8080/",
          "height": 36
        },
        "id": "LaqCuYCHtsEu",
        "outputId": "355fe042-f26b-42ef-e841-50d6bf51c742"
      },
      "execution_count": 19,
      "outputs": [
        {
          "output_type": "execute_result",
          "data": {
            "text/plain": [
              "'1.2'"
            ],
            "application/vnd.google.colaboratory.intrinsic+json": {
              "type": "string"
            }
          },
          "metadata": {},
          "execution_count": 19
        }
      ]
    },
    {
      "cell_type": "code",
      "source": [
        "number = 12"
      ],
      "metadata": {
        "id": "dqRbgohdm6SB"
      },
      "execution_count": 20,
      "outputs": []
    },
    {
      "cell_type": "code",
      "source": [
        "int(number)\n",
        "float(number)\n",
        "str(number)"
      ],
      "metadata": {
        "colab": {
          "base_uri": "https://localhost:8080/",
          "height": 36
        },
        "id": "ua1QyROktsWv",
        "outputId": "64bed533-f6dc-491b-d133-d6545085cf38"
      },
      "execution_count": 21,
      "outputs": [
        {
          "output_type": "execute_result",
          "data": {
            "text/plain": [
              "'12'"
            ],
            "application/vnd.google.colaboratory.intrinsic+json": {
              "type": "string"
            }
          },
          "metadata": {},
          "execution_count": 21
        }
      ]
    },
    {
      "cell_type": "code",
      "source": [
        "number = 1,2"
      ],
      "metadata": {
        "id": "lYxECHB6m8Ri"
      },
      "execution_count": 28,
      "outputs": []
    },
    {
      "cell_type": "code",
      "source": [
        "#int(number)\n",
        "#float(number)\n",
        "str(number)"
      ],
      "metadata": {
        "colab": {
          "base_uri": "https://localhost:8080/",
          "height": 36
        },
        "id": "HJfgz_OGtsiv",
        "outputId": "a8a39563-10d1-4aca-846f-e6c820762aff"
      },
      "execution_count": 29,
      "outputs": [
        {
          "output_type": "execute_result",
          "data": {
            "text/plain": [
              "'(1, 2)'"
            ],
            "application/vnd.google.colaboratory.intrinsic+json": {
              "type": "string"
            }
          },
          "metadata": {},
          "execution_count": 29
        }
      ]
    },
    {
      "cell_type": "code",
      "source": [
        "number = 1.2"
      ],
      "metadata": {
        "id": "gpHqlKlEm-oj"
      },
      "execution_count": 31,
      "outputs": []
    },
    {
      "cell_type": "code",
      "source": [
        "int(number)\n",
        "float(number)\n",
        "str(number)"
      ],
      "metadata": {
        "colab": {
          "base_uri": "https://localhost:8080/",
          "height": 36
        },
        "id": "nyWlD_S_ts3I",
        "outputId": "69ce2b92-c307-44ef-a0cf-22cbd7e4265c"
      },
      "execution_count": 32,
      "outputs": [
        {
          "output_type": "execute_result",
          "data": {
            "text/plain": [
              "'1.2'"
            ],
            "application/vnd.google.colaboratory.intrinsic+json": {
              "type": "string"
            }
          },
          "metadata": {},
          "execution_count": 32
        }
      ]
    },
    {
      "cell_type": "markdown",
      "source": [
        "## Rechnen mit Python\n",
        "\n",
        "Die Verwendung von Programmiersprachen für Berechnungen macht die Wiederverwendung und den Austausch von Informationen viel einfacher. Außerdem lassen sich so Fehler und Tippfehler leichter erkennen. \n",
        "\n",
        "Programmiersprachen haben unterschiedliche Anwendungen. Während einige Sprachen wie Matlab speziell für das wissenschaftliche Rechnen entwickelt wurden, ist Python als Mehrzwecksprache für verschiedene Anwendungen wie Webentwicklung, wissenschaftliches Rechnen, Data Science usw. konzipiert.\n",
        "\n",
        "Nicht jede denkbare Funktion ist Teil der Basisprogrammiersprache. Zusätzliche Funktionen können über verschiedene Pakete nachgeladen werden. Ein Paket für mathematische Berechnungen in Python ist `math`. Ein Paket wird mit dem Befehl `import` und dem Paketnamen geladen:"
      ],
      "metadata": {
        "id": "HmIocmB6nvFl"
      }
    },
    {
      "cell_type": "code",
      "source": [
        "import math"
      ],
      "metadata": {
        "id": "uFUPKGCym_yM"
      },
      "execution_count": 33,
      "outputs": []
    },
    {
      "cell_type": "markdown",
      "source": [
        "Das Paket [math](https://docs.python.org/3/library/math.html) liefert nun Werte und Methoden, die mit dem Namen des Pakets verwendet werden können.\n",
        "\n",
        "Zum Beispiel bietet das Paket math die Zahl $\\pi$ als Fließkommazahl an:"
      ],
      "metadata": {
        "id": "TyKWyfXXplgJ"
      }
    },
    {
      "cell_type": "code",
      "source": [
        "math.pi"
      ],
      "metadata": {
        "colab": {
          "base_uri": "https://localhost:8080/"
        },
        "id": "-XtAK-BuoLS7",
        "outputId": "cd76f802-394d-49e5-d730-46ded8bf314f"
      },
      "execution_count": 34,
      "outputs": [
        {
          "output_type": "execute_result",
          "data": {
            "text/plain": [
              "3.141592653589793"
            ]
          },
          "metadata": {},
          "execution_count": 34
        }
      ]
    },
    {
      "cell_type": "markdown",
      "source": [
        "Alle Variablen und Methoden der Bibliothek können in der [Dokumentation](https://docs.python.org/3/library/math.html#) nachgelesen werden. Die mathematische Bibliothek ermöglicht zum Beispiel die Berechnung der Sinusfunktion mit `math.sin()` zuvor können wir noch die Funktion `math.radians()` einsetzen, um Winkelwerte in Grad in Radiant umzuwandeln:"
      ],
      "metadata": {
        "id": "YbRY6-CRrybx"
      }
    },
    {
      "cell_type": "code",
      "source": [
        "# Return the sine value of 30 degrees\n",
        "print(math.sin(math.radians(30)))\n",
        "\n",
        "# Return the sine value of 90 degrees\n",
        "print(math.sin(math.radians(90)))\n"
      ],
      "metadata": {
        "colab": {
          "base_uri": "https://localhost:8080/"
        },
        "id": "9-0iKXk0pOrZ",
        "outputId": "39801ead-83f0-4cc2-d83c-a35735072762"
      },
      "execution_count": 35,
      "outputs": [
        {
          "output_type": "stream",
          "name": "stdout",
          "text": [
            "0.49999999999999994\n",
            "1.0\n"
          ]
        }
      ]
    },
    {
      "cell_type": "markdown",
      "source": [
        "## Besprechung der Aufgaben\n",
        "\n",
        "- Sind Sie mit ein Aufgaben bis hierhin fertig geworden und haben Sie keine Fragen, so legen Sie die grüne Karte nach oben\n",
        "- Sind Sie mit den Aufgaben fertig, aber hätten gerne, dass die Lösungen nocheinmal gemeinsam besprochen werden, legen Sie die gelbe Karte nach oben\n",
        "\n",
        "![](https://www.lokalinfo.ch/fileadmin/news_import/image003_03.jpg)"
      ],
      "metadata": {
        "id": "43AItBXnXsTT"
      }
    },
    {
      "cell_type": "markdown",
      "source": [
        "🏆 **Aufgabe**\n",
        "\n",
        "Viele Prozesse folgen einem [Beschränktem Wachstum](\n",
        "https://de.wikipedia.org/wiki/Beschr%C3%A4nktes_Wachstum), das durch die folgende Formel beschrieben werden kann:\n",
        "\n",
        "$$B(t)=S-(S-B_0)\\cdot e^{-kt}$$\n",
        "\n",
        "* $t$ ... Zeit\n",
        "* $B(t)$ ... Bestandsgröße / Temperatur\n",
        "* $B_0$ ... Ausgangsbestand / initiale Temperatur\n",
        "* $S$ ... Natürliche Schranke / maximale Temperatur\n",
        "* $k$ ... Wachstumskonstante \n",
        "\n",
        "![](https://upload.wikimedia.org/wikipedia/commons/f/fa/Wachstum_nach_oben.png)\n",
        "\n",
        "\n",
        "Das bedeutet, dass das Wachstum relativ schnell beginnt und sich später verlangsamt, um sich einem Maximum zu nähern. \n",
        "\n",
        "Ihre Aufgabe besteht darin, eine wiederverwendbare Zelle in diesem Notebook zu definieren, in der der Benutzer folgendes eingeben und anpassen kann:\n",
        "\n",
        "- alle Variablen ($B_0$, $S$, $k$) zur Berechnung der Temperatur zum Zeitpunkt $t$ eingeben und anpassen kann\n",
        "\n",
        "Die Ergebnisse für den Zeitpunkt sollen berechnet und als als Text ausgegeben werden:\n",
        "\n",
        " \"Simulation mit den folgenden Parametern gestartet:\n",
        "    - anfängliche Temperatur: 10\n",
        "    - maximale  Temperatur: 20\n",
        "    - Wachstumsrate: 0.1\n",
        "  Die Temperatur nach x Zeitschritten ist y\"\n",
        "\n",
        "*Hinweise*:\n",
        "  - Schauen Sie in der Dokumentation der [Mathematikbibliothek](https://docs.python.org/3/library/math.html) nach, um die Methode zur Berechnung von $e^x$ zu finden oder implementieren Sie sie über eine Näherung der Eulerschen Zahl\n",
        "  \n",
        "🤓 Bonus:\n",
        "  - Finden Sie heraus, wie man Zeilenumbrüche in eine Zeichenkette integrieren kann, um den Ergebnistext schöner darzustellen\n",
        "  - Finden Sie  heraus, wie man mit der Methode ```format()``` mehrere Variablen in einen String integrieren kann\n",
        "  - Verwenden Sie Kommentare ```#```, um die verschiedenen Teile Ihres Codes zu trennen und zu erklären\n",
        "  - Bonus: Finden Sie einen Weg, um nur die ersten beiden Dezimalstellen der Grundgesamtheit auszugeben."
      ],
      "metadata": {
        "id": "MulJzwkOsQnl"
      }
    },
    {
      "cell_type": "code",
      "source": [
        "# importing the math library\n",
        "import math\n",
        "\n",
        "# here the user can define the input\n",
        "inital_temp = 10\n",
        "max_temp = 20\n",
        "growth_rate = 0.1\n",
        "\n",
        "t = 10\n",
        "\n",
        "\n",
        "# here the caclulation is made\n",
        "\n",
        "temp = max_temp / (1+((max_temp - inital_temp)/inital_temp) * math.exp(- growth_rate*t))\n",
        "\n",
        "# here, we print out the results\n",
        "print(\"Started simulation with the following parameters: \\n inital population size: {} \\n carrying capacity: {} \\n growth rate: {}  \\n The population after {} time steps is {}\".format(inital_temp, max_temp, growth_rate, t, temp))\n",
        "\n"
      ],
      "metadata": {
        "colab": {
          "base_uri": "https://localhost:8080/"
        },
        "id": "37sUYdk6sk8f",
        "outputId": "9b729e35-3236-40d5-e2f3-3dd4cabf64b2"
      },
      "execution_count": 36,
      "outputs": [
        {
          "output_type": "stream",
          "name": "stdout",
          "text": [
            "Started simulation with the following parameters: \n",
            " inital population size: 10 \n",
            " carrying capacity: 20 \n",
            " growth rate: 0.1  \n",
            " The population after 10 time steps is 14.621171572600097\n"
          ]
        }
      ]
    },
    {
      "cell_type": "markdown",
      "source": [
        "## 🎯 Zusammenfassung\n",
        "\n",
        "In diesem Kapitel haben Sie gelernt, mit Variablen zu arbeiten. Sie können beschreibende Variablennamen zu verwenden und wissen wie man Namens- und Syntaxfehler behebt und Syntaxfehler behebt, wenn diese auftreten. Sie haben gelernt, was Zeichenketten sind und wie man Zeichenketten in Klein- und Großbuchstaben und mit Großbuchstaben darstellt.\n",
        "\n",
        "Sie haben begonnen, mit Ganzzahlen und Gleitkommazahlen zu arbeiten, und Sie haben über einige unerwartete Verhaltensweisen gelesen, auf die Sie bei der Arbeit mit numerischen Daten achten sollten. Sie haben auch gelernt, erklärende Kommentare zu schreiben, damit Ihr Code für Sie und andere leichter zu lesen ist."
      ],
      "metadata": {
        "id": "lfCv7asI0dYe"
      }
    }
  ]
}