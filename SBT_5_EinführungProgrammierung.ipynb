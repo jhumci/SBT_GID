{
  "cells": [
    {
      "cell_type": "markdown",
      "metadata": {
        "id": "G1Ingk5cAudG"
      },
      "source": [
        "<table style=\"width: 100%\">\n",
        "    <tr style=\"background: #ffffff\">\n",
        "        <td style=\"padding-top:25px;width: 180px\"><img src=\"https://mci.edu/templates/mci/images/logo.svg\" alt=\"Logo\"></td>\n",
        "        <td style=\"width: 100%\">\n",
        "            <div style=\"text-align:right; width: 100%; text-align:right\"><font style=\"font-size:38px\"><b>Grundlagen Programmierung</b></font></div>\n",
        "            <div style=\"padding-top:0px; width: 100%; text-align:right\"><font size=\"4\"><b>WS 2023</b></font></div>\n",
        "        </td>\n",
        "    </tr>\n",
        "</table>\n",
        "\n",
        "---\n",
        "\n",
        "# 5 Funktionen\n",
        "\n",
        "In diesem Kapitel werden Sie lernen, wie man Funktionen schreibt. Diese sind benannte Codeblöcke für eine bestimmte Aufgabe.\n",
        "Wenn Sie eine bestimmte Aufgabe ausführen wollen, die Sie in einer Funktion definiert haben, rufen Sie den Namen der Funktion auf.\n",
        "Wenn Sie diese Aufgabe mehrmals in Ihrem Programm ausführen müssen, müssen Sie nicht den gesamten Code für dieselbe Aufgabe wieder und wieder eingeben; Sie rufen einfach die Funktion auf, die für diese Aufgabe zuständig ist.\n",
        "Sie werden feststellen, dass die Verwendung von Funktionen Ihre Programme einfacher zu schreiben, zu lesen, zu testen und zu korrigieren macht."
      ]
    },
    {
      "cell_type": "markdown",
      "metadata": {
        "id": "3Xn_KqIrA8P4"
      },
      "source": [
        "## Definieren einer Funktion\n",
        "Hier ist eine einfache Funktion namens `greet_user()`, die eine Begrüßung ausgibt:"
      ]
    },
    {
      "cell_type": "code",
      "execution_count": 1,
      "metadata": {
        "colab": {
          "base_uri": "https://localhost:8080/"
        },
        "id": "LOvKgI1DAsQH",
        "outputId": "89cab111-2e23-4e93-e538-e885bc9b4963"
      },
      "outputs": [
        {
          "name": "stdout",
          "output_type": "stream",
          "text": [
            "Hello!\n"
          ]
        }
      ],
      "source": [
        "def greet_user():\n",
        "  \"\"\"Display a simple greeting.\"\"\"\n",
        "  print(\"Hello!\")\n",
        "\n",
        "greet_user()"
      ]
    },
    {
      "cell_type": "code",
      "execution_count": 2,
      "metadata": {},
      "outputs": [
        {
          "name": "stdout",
          "output_type": "stream",
          "text": [
            "Hello!\n"
          ]
        }
      ],
      "source": [
        "# Aufruf der Funktion nachdem diese definiert wurde:\n",
        "greet_user()"
      ]
    },
    {
      "cell_type": "markdown",
      "metadata": {
        "id": "gqNN14yQBGGD"
      },
      "source": [
        "Dieses Beispiel zeigt die einfachste Struktur einer Funktion. Zunächst informiert das Schlüsselwort `def` Python darüber, dass Sie eine Funktion definieren. Dies ist die Funktionsdefinition, die Python den Namen der Funktion mitteilt und, falls zutreffend, welche Art von Informationen die Funktion benötigt, um ihre Aufgabe zu erfüllen. Die Klammern enthalten diese Informationen. In diesem Fall ist der Name der Funktion `greet_user()`, und sie braucht keine Informationen, um ihre Aufgabe zu erfüllen, also sind die Klammern leer. (Trotzdem sind die Klammern erforderlich.) Schließlich endet die Definition mit einem Doppelpunkt.\n",
        "Alle eingerückten Zeilen, die auf ```def greet_user():``` folgen, bilden den Körper der Funktion. Der Text in der zweiten Zeile ist ein Kommentar, ein sogenannter Docstring, der beschreibt, was die Funktion tut. Docstrings sind in dreifachen Anführungszeichen eingeschlossen, nach denen Python sucht, wenn es Dokumentation für die Funktionen in Ihren Programmen erzeugt.\n",
        "Die Zeile ```print(\"Hallo!\")``` ist die einzige Zeile tatsächlichen Codes im Körper dieser Funktion, also hat ```greet_user()``` nur eine Aufgabe: ```print(\"Hallo!\")```.\n",
        "Wenn Sie diese Funktion benutzen wollen, rufen Sie sie auf. Ein Funktionsaufruf weist Python an, den Code der Funktion auszuführen. Um eine Funktion aufzurufen, schreiben Sie den Namen der Funktion, gefolgt von allen notwendigen Informationen in Klammern. Da hier keine Informationen benötigt werden, ist der Aufruf unserer Funktion so einfach wie die Eingabe von ```greet_user()```. Wie erwartet, wird ```Hallo!``` gedruckt."
      ]
    },
    {
      "cell_type": "markdown",
      "metadata": {
        "id": "a-MrdvBFCxTU"
      },
      "source": [
        "## Übergabe von Informationen an eine Funktion\n",
        "\n",
        "Leicht modifiziert kann die Funktion `greet_user()` den Benutzer nicht nur `Hello!` sondern ihn auch mit seinem Namen begrüßen. Damit die Funktion dies tun kann, geben Sie `username` in die Klammern der Funktionsdefinition bei `def greet_user()` ein. Durch Hinzufügen von Benutzernamen erlauben Sie der Funktion, jeden beliebigen Wert des Benutzernamens zu akzeptieren, den Sie angeben. Die Funktion erwartet nun, dass Sie bei jedem Aufruf einen Wert für `username` wenn Sie sie aufrufen. Wenn Sie `greet_user()` aufrufen, können Sie der Funktion einen Namen übergeben, z. B. `'Tom'`, innerhalb der Klammern übergeben:"
      ]
    },
    {
      "cell_type": "code",
      "execution_count": 3,
      "metadata": {
        "colab": {
          "base_uri": "https://localhost:8080/"
        },
        "id": "WNjW-dLaBCEt",
        "outputId": "e1624493-fbb8-4c3b-aac1-ecf8b9b1ab14"
      },
      "outputs": [
        {
          "name": "stdout",
          "output_type": "stream",
          "text": [
            "Hello, Tom!\n"
          ]
        }
      ],
      "source": [
        "def greet_user(user_name):\n",
        "  \"\"\"Display a simple greeting.\"\"\"\n",
        "  print(\"Hello, {}!\".format(user_name))\n",
        "\n",
        "greet_user(\"Tom\")"
      ]
    },
    {
      "cell_type": "markdown",
      "metadata": {
        "id": "RZ2Ed93oDDLD"
      },
      "source": [
        "### Argumente und Parameter\n",
        "\n",
        "In der vorangegangenen Funktion ```greet_user()``` haben wir ```greet_user()``` so definiert, dass sie einen Wert für die Variable `user_name` benötigt. Nachdem wir die Funktion aufgerufen und ihr die Informationen (den Namen einer Person) gegeben hatten, druckte sie die richtige Begrüßung.\n",
        "Die Variable `user_name` in der Definition von ```greet_user()``` ist ein Beispiel für einen **Parameter**, eine Information, die die Funktion benötigt, um ihre Aufgabe zu erfüllen. Der Wert ```'Tom'``` in ```greet_user('Tom')``` ist ein Beispiel für ein übergebenes **Argument**.\n"
      ]
    },
    {
      "cell_type": "markdown",
      "metadata": {
        "id": "EyxlkH4hDokN"
      },
      "source": [
        "## Positionale Argumente\n",
        "\n",
        "Wenn Sie eine Funktion aufrufen, muss Python jedes Argument im Funktionsaufruf\n",
        "Aufruf mit einem Parameter in der Funktionsdefinition übereinstimmen.\n",
        "Dies geschieht am einfachsten auf der Grundlage der Reihenfolge der übergebenen Argumente."
      ]
    },
    {
      "cell_type": "code",
      "execution_count": null,
      "metadata": {
        "colab": {
          "base_uri": "https://localhost:8080/"
        },
        "id": "iVqnoN-1C549",
        "outputId": "e3823d93-1f40-4052-9b73-1d39d5ebf924"
      },
      "outputs": [
        {
          "name": "stdout",
          "output_type": "stream",
          "text": [
            "\n",
            "I have a hamster.\n",
            "My hamster's name is Harry.\n"
          ]
        }
      ],
      "source": [
        "def describe_pet(animal_type, pet_name):\n",
        "  \"\"\"Display information about a pet.\"\"\"\n",
        "  print(\"\\nI have a \" + animal_type + \".\")\n",
        "  print(\"My \" + animal_type + \"'s name is \" + pet_name.title() + \".\")\n",
        "\n",
        "describe_pet('hamster', 'harry')"
      ]
    },
    {
      "cell_type": "markdown",
      "metadata": {
        "id": "oukG24vbDvR3"
      },
      "source": [
        "✍️ **Aufgabe**\n",
        "\n",
        "Geben Sie eine Liste von Personen `my_persons` an, schreiben Sie eine Funktion ```look_for_person```, die die Position des ersten Auftretens der Person  in der Liste herausfindet und diese ausgibt.\n",
        "\n",
        "Die `persons` und das `person_to_look_for` sind die Parameter der Funktion."
      ]
    },
    {
      "cell_type": "code",
      "execution_count": 10,
      "metadata": {},
      "outputs": [],
      "source": [
        "my_persons = [\"Julian\", \"Andreas\", \"Philipp\", \"Manuel\"]\n",
        "my_person = \"Andreas\"\n",
        "\n",
        "def look_for_person(persons, person_to_look_for):\n",
        "  position = 0\n",
        "  # Start here"
      ]
    },
    {
      "cell_type": "code",
      "execution_count": 12,
      "metadata": {
        "colab": {
          "base_uri": "https://localhost:8080/"
        },
        "id": "xhsS7HhiD7Zw",
        "outputId": "ab07e1e0-7bab-450d-e797-23c2c06545a8"
      },
      "outputs": [
        {
          "name": "stdout",
          "output_type": "stream",
          "text": [
            "Found person Andreas at position 2!\n"
          ]
        }
      ],
      "source": [
        "#@title ❓ Click `Show code` in the code cell to show the solution. { display-mode: \"form\" }\n",
        "\n",
        "my_persons = [\"Julian\", \"Andreas\", \"Philipp\", \"Manuel\"]\n",
        "my_person = \"Andreas\"\n",
        "\n",
        "\n",
        "\n",
        "def look_for_person(persons, person_to_look_for):\n",
        "  position = 0\n",
        "  for current_person in persons:\n",
        "    position = position + 1\n",
        "    if current_person == person_to_look_for:\n",
        "      print(\"Found person {} at position {}!\".format(person_to_look_for, position))\n",
        "\n",
        "look_for_person(persons  = my_persons, person_to_look_for = my_person)"
      ]
    },
    {
      "cell_type": "markdown",
      "metadata": {
        "id": "yxDV3bruFZDu"
      },
      "source": [
        "#### Mehrere Funktionsaufrufe\n",
        "Sie können eine Funktion so oft wie nötig aufrufen."
      ]
    },
    {
      "cell_type": "code",
      "execution_count": 16,
      "metadata": {
        "colab": {
          "base_uri": "https://localhost:8080/"
        },
        "id": "2KHq53ZzFXy2",
        "outputId": "fdb39451-233d-4972-f85b-a7dd81f3075b"
      },
      "outputs": [
        {
          "name": "stdout",
          "output_type": "stream",
          "text": [
            "Found person Tim at position 1!\n",
            "Found person Philipp at position 4!\n"
          ]
        }
      ],
      "source": [
        "my_persons = [\"Tim\", \"Julian\", \"Andreas\", \"Philipp\", \"Manuel\", \"Jim\"]\n",
        "\n",
        "look_for_person(my_persons, \"Tim\")\n",
        "look_for_person(my_persons, \"Philipp\")\n"
      ]
    },
    {
      "cell_type": "markdown",
      "metadata": {
        "id": "kFajpd6TFjwf"
      },
      "source": [
        "#### Reihenfolge in Positionsargumenten ist wichtig\n",
        "Sie können unerwartete Ergebnisse erhalten, wenn Sie die Reihenfolge der Argumente eines Funktionsaufrufs vertauschen:"
      ]
    },
    {
      "cell_type": "code",
      "execution_count": 17,
      "metadata": {
        "colab": {
          "base_uri": "https://localhost:8080/",
          "height": 172
        },
        "id": "LfZjSJTeFjL_",
        "outputId": "cc4fd36e-5d57-48bf-b310-5ce0f62e6a41"
      },
      "outputs": [],
      "source": [
        "look_for_person( \"Tim\", my_persons)"
      ]
    },
    {
      "cell_type": "markdown",
      "metadata": {
        "id": "Ue84cXA6Fra3"
      },
      "source": [
        "### Schlüsselwort-Argumente\n",
        "Ein Schlüsselwortargument ist ein Name-Wert-Paar, das Sie an eine Funktion übergeben. Sie assoziieren den Namen und den Wert direkt mit dem Argument, so dass zu keinen Verwechslungen kommen kann, wenn Sie das Argument an die Funktion übergeben."
      ]
    },
    {
      "cell_type": "code",
      "execution_count": 19,
      "metadata": {
        "colab": {
          "base_uri": "https://localhost:8080/"
        },
        "id": "js7wn4Y3EqZW",
        "outputId": "df58cf77-6509-411c-cc9e-4834298934f6"
      },
      "outputs": [
        {
          "name": "stdout",
          "output_type": "stream",
          "text": [
            "Found person Tim at position 1!\n"
          ]
        }
      ],
      "source": [
        "look_for_person(persons  = [\"Tim\", \"Julian\", \"Andreas\", \"Philipp\", \"Manuel\", \"Jim\"], person_to_look_for = \"Tim\")"
      ]
    },
    {
      "cell_type": "code",
      "execution_count": 21,
      "metadata": {
        "colab": {
          "base_uri": "https://localhost:8080/"
        },
        "id": "RP2BrQNoF0kY",
        "outputId": "33af0e58-7ae6-4e92-fb8c-9c67b881ebd1"
      },
      "outputs": [
        {
          "name": "stdout",
          "output_type": "stream",
          "text": [
            "Found person Tim at position 1!\n"
          ]
        }
      ],
      "source": [
        "look_for_person(person_to_look_for = \"Tim\", persons  = [\"Tim\", \"Julian\", \"Andreas\", \"Philipp\", \"Manuel\", \"Jim\"])"
      ]
    },
    {
      "cell_type": "markdown",
      "metadata": {
        "id": "HyiuLw1h69RM"
      },
      "source": [
        "## Besprechung der Aufgaben\n",
        "\n",
        "- Sind Sie mit ein Aufgaben bis hierhin fertig geworden und haben Sie keine Fragen, so legen Sie die grüne Karte nach oben\n",
        "- Sind Sie mit den Aufgaben fertig, aber hätten gerne, dass die Lösungen nocheinmal gemeinsam besprochen werden, legen Sie die gelbe Karte nach oben\n",
        "\n",
        "![](https://www.lokalinfo.ch/fileadmin/news_import/image003_03.jpg)"
      ]
    },
    {
      "cell_type": "markdown",
      "metadata": {
        "id": "obbng2ugGGvY"
      },
      "source": [
        "#### Vermeidung von Argumentfehlern\n",
        "\n",
        "Wenn Sie anfangen, Funktionen zu verwenden, sollten Sie nicht überrascht sein, wenn Sie auf Fehler durch nicht übereinstimmende Argumente treffen.\n",
        "Nicht übereinstimmende Argumente treten auf, wenn Sie weniger oder mehr Argumente angeben, als eine Funktion für ihre Arbeit benötigt.\n",
        "Zum Beispiel passiert folgendes, wenn wir versuchen, `describe_lab` ohne\n",
        "Argumenten aufzurufen:\n",
        "\n",
        "Das `lab_supervisor='Alex'` in der Funktions-Definition setzt einen Default, wenn kein `lab_supervisor` übergeben wird."
      ]
    },
    {
      "cell_type": "code",
      "execution_count": 22,
      "metadata": {
        "colab": {
          "base_uri": "https://localhost:8080/",
          "height": 172
        },
        "id": "B7c5ex2nGGib",
        "outputId": "67aa26a5-0ab4-4a9d-8e9f-db0fd3c22dd8"
      },
      "outputs": [
        {
          "name": "stdout",
          "output_type": "stream",
          "text": [
            "The Chemistry is supervised by Alex\n",
            "The IT is supervised by Julian\n"
          ]
        },
        {
          "ename": "TypeError",
          "evalue": "describe_lab() missing 1 required positional argument: 'lab_name'",
          "output_type": "error",
          "traceback": [
            "\u001b[1;31m---------------------------------------------------------------------------\u001b[0m",
            "\u001b[1;31mTypeError\u001b[0m                                 Traceback (most recent call last)",
            "\u001b[1;32m<ipython-input-22-c40fa05a56fb>\u001b[0m in \u001b[0;36m<module>\u001b[1;34m\u001b[0m\n\u001b[0;32m      6\u001b[0m \u001b[0mdescribe_lab\u001b[0m\u001b[1;33m(\u001b[0m\u001b[0mlab_name\u001b[0m\u001b[1;33m=\u001b[0m\u001b[1;34m'IT'\u001b[0m\u001b[1;33m,\u001b[0m \u001b[0mlab_supervisor\u001b[0m \u001b[1;33m=\u001b[0m \u001b[1;34m'Julian'\u001b[0m\u001b[1;33m)\u001b[0m\u001b[1;33m\u001b[0m\u001b[1;33m\u001b[0m\u001b[0m\n\u001b[0;32m      7\u001b[0m \u001b[1;33m\u001b[0m\u001b[0m\n\u001b[1;32m----> 8\u001b[1;33m \u001b[0mdescribe_lab\u001b[0m\u001b[1;33m(\u001b[0m\u001b[1;33m)\u001b[0m\u001b[1;33m\u001b[0m\u001b[1;33m\u001b[0m\u001b[0m\n\u001b[0m",
            "\u001b[1;31mTypeError\u001b[0m: describe_lab() missing 1 required positional argument: 'lab_name'"
          ]
        }
      ],
      "source": [
        "def describe_lab(lab_name, lab_supervisor='Alex'):\n",
        "  \"\"\"Display information about a lab.\"\"\"\n",
        "  print(\"The {} is supervised by {}\".format(lab_name, lab_supervisor))\n",
        "\n",
        "describe_lab(lab_name='Chemistry')\n",
        "describe_lab(lab_name='IT', lab_supervisor = 'Julian')\n",
        "\n",
        "describe_lab()"
      ]
    },
    {
      "cell_type": "markdown",
      "metadata": {
        "id": "LUPprAfPRS-a"
      },
      "source": [
        "Der Traceback verrät uns, wo das Problem liegt, so dass wir sehen, dass bei unserem Funktionsaufruf etwas schief gelaufen ist. Es wird der fehlerhafte Funktionsaufruf für uns angezeigt. Als nächstes sagt uns der Traceback, dass dem Aufruf ein Argument fehlt, und gibt den Namen des fehlenden Argumentes (```lab_name```)."
      ]
    },
    {
      "cell_type": "markdown",
      "metadata": {
        "id": "R72ny9MxRt7T"
      },
      "source": [
        "## Rückgabewerte\n",
        "Eine Funktion muss ihre Ausgabe nicht immer direkt anzeigen. Stattdessen kann sie einige Daten verarbeiten und dann einen Wert oder eine Reihe von Werten zurückgeben. Der Wert, den die Funktion zurückgibt, wird Rückgabewert genannt. Die Anweisung `return` nimmt einen Wert innerhalb einer Funktion und sendet ihn zurück an die Zeile, die die Funktion aufgerufen hat.\n",
        "Rückgabewerte ermöglichen es Ihnen, einen Großteil der Routinearbeit Ihres Programms in Funktionen zu verlagern, was den Hauptteil Ihres Programms vereinfachen kann."
      ]
    },
    {
      "cell_type": "code",
      "execution_count": 23,
      "metadata": {
        "colab": {
          "base_uri": "https://localhost:8080/"
        },
        "id": "Zp0LUN2qF3io",
        "outputId": "df5e96cb-dc65-4735-b68b-9ea1a89b02bb"
      },
      "outputs": [
        {
          "name": "stdout",
          "output_type": "stream",
          "text": [
            "Julian Huber\n"
          ]
        }
      ],
      "source": [
        "def get_formatted_name(first_name, last_name):\n",
        "  \"\"\"Return a full name, neatly formatted.\"\"\"\n",
        "  full_name = first_name + ' ' + last_name\n",
        "  return full_name.title()\n",
        "\n",
        "person_1 = get_formatted_name('julian', 'huber')\n",
        "print(person_1)"
      ]
    },
    {
      "cell_type": "markdown",
      "metadata": {
        "id": "zkPlL4phSNDj"
      },
      "source": [
        "### Rückgabe eines Dictionaries\n",
        "\n",
        "Dictionaries sind komplexe Datenstrukturen bestehend aus einem oder mehreren Schlüssel-Werte-Paaren nach dem Schema:\n",
        "\n",
        "`dictionay = {<schuessel> : <wert>}`\n",
        "\n",
        "In einem Dictionary können sowohl mehre Werte zu mehreren Schlüsseln gespeichert werden:\n",
        "\n",
        "```Python\n",
        "dictionay = { <schuessel1> : <wert2>\n",
        "              <schuessel2> : <wert2>\n",
        "}\n",
        "```\n",
        "\n",
        "Oder auch weitere Dictionaries als Werte. Diese Struktur nennt man nested Dictionaries:\n",
        "\n",
        "```Python\n",
        "dictionay = { <schuessel1> : {<schuessel2> : <wert2>}}\n",
        "```"
      ]
    },
    {
      "cell_type": "code",
      "execution_count": null,
      "metadata": {
        "colab": {
          "base_uri": "https://localhost:8080/"
        },
        "id": "7Bw-oX8VSC5k",
        "outputId": "6d5dfd5c-0a86-49c5-df36-4e2578f1c84b"
      },
      "outputs": [
        {
          "name": "stdout",
          "output_type": "stream",
          "text": [
            "{'first': 'Julian', 'last': 'Huber'}\n"
          ]
        }
      ],
      "source": [
        "def build_person(first_name, last_name):\n",
        "  \"\"\"Return a dictionary of information about a person.\"\"\"\n",
        "  person = {'first': first_name, 'last': last_name}\n",
        "  return person\n",
        "\n",
        "person_1 = build_person('Julian', 'Huber')\n",
        "print(person_1)"
      ]
    },
    {
      "cell_type": "markdown",
      "metadata": {
        "id": "_fi4V1-wSTdb"
      },
      "source": [
        "✍️ **Task**\n",
        "\n",
        "Schreiben Sie eine Funktion, um ein Wörterbuch für ein Experiment zu erstellen, das welche folgenden Argumente hat:\n",
        "- Experiment Name\n",
        "- Datum\n",
        "- Betreuer\n",
        "  - Vorname\n",
        "  - Nachname\n",
        "\n",
        "🤓 Geben Sie den Vor- und Nachnamen der Aufsichtsperson in ein Weiteres-Wörterbuch innerhalb des Wörterbuchs ein."
      ]
    },
    {
      "cell_type": "code",
      "execution_count": null,
      "metadata": {},
      "outputs": [],
      "source": []
    },
    {
      "cell_type": "code",
      "execution_count": 24,
      "metadata": {
        "colab": {
          "base_uri": "https://localhost:8080/"
        },
        "id": "qwTwTG1rTYpj",
        "outputId": "6a40d919-713a-4b1c-b211-e70e5fb2f920"
      },
      "outputs": [
        {
          "name": "stdout",
          "output_type": "stream",
          "text": [
            "{'experiment_name': 'First Experiment', 'date': '22.3.2023', 'supervisors': {'first_name': 'Julian', 'last_name': 'Huber'}}\n"
          ]
        }
      ],
      "source": [
        "#@title ❓ Click `Show code` in the code cell to show the solution. { display-mode: \"form\" }\n",
        "\n",
        "def build_experiment(experiment_name ,date, first_name, last_name):\n",
        "    \"\"\"Return a dictionary of information about an experiment.\"\"\"\n",
        "    dict = {\"experiment_name\" : experiment_name,\n",
        "            \"date\" : date,\n",
        "            \"supervisors\" :   { \"first_name\" : first_name,\n",
        "                                \"last_name\" : last_name}\n",
        "            }\n",
        "    return dict\n",
        "\n",
        "experiment_1 = build_experiment(\"First Experiment\" ,\"22.3.2023\", \"Julian\", \"Huber\")\n",
        "print(experiment_1)"
      ]
    },
    {
      "cell_type": "markdown",
      "metadata": {
        "id": "L75q_AJoUPWj"
      },
      "source": [
        "## Verwendung von Funktionen zur Strukturierung von Code\n",
        "\n",
        "Funktionen helfen dabei, Ihren Code zu strukturieren, damit er leichter zu verstehen und zu ändern ist. Zum Beispiel können wir die obige Funktion in eine Funktion zur Erstellung des Supervisors und eine andere zum Aufbau des Experiments aufteilen."
      ]
    },
    {
      "cell_type": "code",
      "execution_count": null,
      "metadata": {
        "colab": {
          "base_uri": "https://localhost:8080/"
        },
        "id": "u5e18uSOUAwU",
        "outputId": "673f8885-d876-4038-9df0-04824ff1b764"
      },
      "outputs": [
        {
          "name": "stdout",
          "output_type": "stream",
          "text": [
            "{'experiment_name': 'First Experiment', 'date': '22.3.2023', 'supervisors': {'first_name': 'Julian', 'last_name': 'Huber'}}\n"
          ]
        }
      ],
      "source": [
        "def build_supervisor(first_name, last_name):\n",
        "    \"\"\"Return a dictionary of information about a supervisor.\"\"\"\n",
        "    dict = { \"first_name\" : first_name,\n",
        "             \"last_name\" : last_name}\n",
        "    return dict\n",
        "\n",
        "def build_experiment(experiment_name ,date, supervisor):\n",
        "    \"\"\"Return a dictionary of information about an experiment.\"\"\"\n",
        "    dict = {\"experiment_name\" : experiment_name,\n",
        "            \"date\" : date,\n",
        "            \"supervisors\" :   supervisor\n",
        "            }\n",
        "    return dict\n",
        "\n",
        "supervisor_1 = build_supervisor(\"Julian\", \"Huber\")\n",
        "experiment_2 = build_experiment(\"First Experiment\" ,\"22.3.2023\", supervisor_1)\n",
        "print(experiment_2)"
      ]
    },
    {
      "cell_type": "markdown",
      "metadata": {
        "id": "1ytTPxr1fBi6"
      },
      "source": [
        "🏆 **Aufgabe**\n",
        "\n",
        "Zerlegen Sie Ihre Simulation von letzter Woche (Quellcode ist unten angegeben) in einzelne Funktionen, die sinnvolle Parameter annehmen und eine passende Datenstruktur zurückgeben.\n",
        "\n",
        "Verwenden Sie die von Ihnen erstellten Funktionen, um die Erwärmung mit den Daten der Heinzung 1 und 2 zu simulieren.\n",
        "\n",
        "|  | Heizung 1 | Heizung 2 | Heizung ... |\n",
        "|:---:|:---:|:---:|:---:|\n",
        "| $\\epsilon$ | 1 | 2 | ... |\n",
        "| Anfangstemperatur | 20 | 18 | ... |\n",
        "| Maximaltemperatur | 34 | 32 | ... |\n",
        "| Steigerungsrate| 0.1 | 0.05 | ... |\n",
        "\n",
        "z.B. für Heizung 1:\n",
        "\n",
        "```\n",
        "epsilon = 1\n",
        "inital_temp = 20\n",
        "final_temp = 34\n",
        "growth_rate = 0.01\n",
        "```\n",
        "\n",
        "Definieren sie zunächst eine Funktion, die das beschränkte Wachstum beschreibt und die akutelle Temperatur zurückgibt.\n",
        "\n",
        "```\n",
        "current_temp = final_temp - (final_temp-inital_temp) * math.exp(- growth_rate*t)\n",
        "```\n",
        "\n",
        "\n",
        "Zweitens, eine Funktion, die die Simulation ausführt indem sie die zuvor geschriebene Funktion aufruft und die Ergebnisse in einer Liste speichert:\n",
        "\n",
        "```\n",
        "# importing the math library\n",
        "import math\n",
        "\n",
        "\n",
        "t = 0\n",
        "epsilon = 0.1\n",
        "\n",
        "# here the user can define the input\n",
        "inital_temp = 20\n",
        "final_temp = 34\n",
        "growth_rate = 0.01\n",
        "\n",
        "results = []\n",
        "\n",
        "print(\"Started simulation with the following parameters: \\n inital temperature: {} \\n final temperature: {} \\n growth rate: {}\".format(inital_temp, final_temp, growth_rate))\n",
        "\n",
        "while current_temp + epsilon  < final_temp:\n",
        "\n",
        "  last_temp = current_temp\n",
        "\n",
        "  current_temp = final_temp - (final_temp-inital_temp) * math.exp(- growth_rate*t)\n",
        "\n",
        "  growth = current_temp - last_temp\n",
        "\n",
        "  print(\"The temperature after {} time steps is {}\".format(t, current_temp))\n",
        "\n",
        "  t = t + 1  \n",
        "\n",
        "  new_result = {\"Time step\" : t, \"Current temperature\" : current_temp, \"Temperature Increase\" : growth}\n",
        "  results.append(new_result)\n",
        "```\n",
        "\n",
        "\n",
        "Schreiben Sie zuletzt eine Funktion, die die Ergebnisliste als Argument übernimmt und den Zeitschritt mit dem größten Wachstum findet:\n",
        "\n",
        "```\n",
        "last_growth = 0\n",
        "\n",
        "for data_point in results:\n",
        "  growth = data_point[\"Growth\"]\n",
        "  is_current_groth_lower_than_before = (last_growth > growth)\n",
        "\n",
        "  if is_current_groth_lower_than_before:\n",
        "    print(\"Found maximum growth of {} at {}!\".format(last_data_point[\"Growth\"],last_data_point[\"Time step\"] ))\n",
        "    break\n",
        "  last_growth = data_point[\"Growth\"]\n",
        "  last_data_point = data_point\n",
        "```"
      ]
    },
    {
      "cell_type": "code",
      "execution_count": 33,
      "metadata": {},
      "outputs": [],
      "source": [
        "import math\n",
        "def calculate_limited_growth(final_temp,initial_temp,growth_rate,t):\n",
        "    \"\"\"returns the temperature at a given time t\"\"\"\n",
        "    # Add code here\n",
        "\n",
        "    return current_temp"
      ]
    },
    {
      "cell_type": "code",
      "execution_count": null,
      "metadata": {},
      "outputs": [],
      "source": [
        "def carry_out_simulation(epsilon, final_temp, initial_temp, growth_rate):\n",
        "  \"\"\"runs the simulation and returns a list with the results\"\"\"\n",
        "  t = 0\n",
        "  results = []\n",
        "  current_temp = initial_temp\n",
        "\n",
        "  return results"
      ]
    },
    {
      "cell_type": "code",
      "execution_count": null,
      "metadata": {},
      "outputs": [],
      "source": [
        "def find_highest_growth(results):\n",
        "    \"\"\"returns the time step with the highest growth \"\"\""
      ]
    },
    {
      "cell_type": "code",
      "execution_count": null,
      "metadata": {},
      "outputs": [],
      "source": [
        "# Set parameter and execute simulation\n",
        "\n",
        "t = 0\n",
        "epsilon = 0.1\n",
        "initial_temp = 20\n",
        "final_temp = 34\n",
        "growth_rate = 0.01\n",
        "\n",
        "results = carry_out_simulation(epsilon, final_temp, initial_temp, growth_rate)"
      ]
    },
    {
      "cell_type": "code",
      "execution_count": 27,
      "metadata": {
        "id": "UXrn7tc5bUO5"
      },
      "outputs": [],
      "source": [
        "#@title ❓ Click `Show code` in the code cell to show the solution. { display-mode: \"form\" }\n",
        "\n",
        "import math\n",
        "def calculate_limited_growth(final_temp,initial_temp,growth_rate,t):\n",
        "\n",
        "  \"\"\"returns the temperature at a given time t\"\"\"\n",
        "  current_temp = final_temp - (final_temp-initial_temp) * math.exp(- growth_rate*t)\n",
        "  return (current_temp)"
      ]
    },
    {
      "cell_type": "code",
      "execution_count": 28,
      "metadata": {
        "id": "Tkz-mRTkiOvu"
      },
      "outputs": [],
      "source": [
        "#@title ❓ Click `Show code` in the code cell to show the solution. { display-mode: \"form\" }\n",
        "\n",
        "def carry_out_simulation(epsilon, final_temp, initial_temp, growth_rate):\n",
        "  \"\"\"runs the simulation and returns a list with the results\"\"\"\n",
        "  t = 0\n",
        "  results = []\n",
        "  current_temp = initial_temp\n",
        "\n",
        "  print(\"Started simulation with the following parameters: \\n initial temperature: {} \\n final temperature: {} \\n growth rate: {}\".format(initial_temp, final_temp, growth_rate))\n",
        "\n",
        "  while current_temp + epsilon  < final_temp:\n",
        "\n",
        "    last_temp = current_temp\n",
        "\n",
        "    current_temp = calculate_limited_growth(final_temp,initial_temp,growth_rate,t)\n",
        "\n",
        "    growth = current_temp - last_temp\n",
        "\n",
        "    print(\"The temperature after {} time steps is {}\".format(t, current_temp))\n",
        "\n",
        "    t = t + 1\n",
        "\n",
        "    new_result = {\"Time step\" : t, \"Temperature\" : current_temp, \"Temperature increase\" : growth}\n",
        "    results.append(new_result)\n",
        "\n",
        "  return results"
      ]
    },
    {
      "cell_type": "code",
      "execution_count": 29,
      "metadata": {
        "id": "WGs_JfT2jUzE"
      },
      "outputs": [],
      "source": [
        "#@title ❓ Click `Show code` in the code cell to show the solution. { display-mode: \"form\" }\n",
        "\n",
        "def find_highest_growth(results):\n",
        "  \"\"\"returns the time step with the highest growth \"\"\"\n",
        "\n",
        "  last_growth = 0\n",
        "\n",
        "  for data_point in results:\n",
        "    growth = data_point[\"Temperature increase\"]\n",
        "    is_current_growth_lower_than_before = (last_growth > growth)\n",
        "\n",
        "    if is_current_growth_lower_than_before:\n",
        "      print(\"Found maximum growth of {} at {}!\".format(last_data_point[\"Temperature increase\"],last_data_point[\"Time step\"] ))\n",
        "      break\n",
        "    last_growth = data_point[\"Temperature increase\"]\n",
        "    last_data_point = data_point\n"
      ]
    },
    {
      "cell_type": "code",
      "execution_count": 31,
      "metadata": {
        "colab": {
          "base_uri": "https://localhost:8080/"
        },
        "id": "VJNaLJ1jiZ9G",
        "outputId": "1845df2f-e565-4938-e859-935136ed0cf8"
      },
      "outputs": [
        {
          "name": "stdout",
          "output_type": "stream",
          "text": [
            "Started simulation with the following parameters: \n",
            " initial temperature: 20 \n",
            " final temperature: 34 \n",
            " growth rate: 0.01\n",
            "The temperature after 0 time steps is 20.0\n",
            "The temperature after 1 time steps is 20.139302327511647\n",
            "The temperature after 2 time steps is 20.277218573705426\n",
            "The temperature after 3 time steps is 20.413762530320888\n",
            "The temperature after 4 time steps is 20.548947851867474\n",
            "The temperature after 5 time steps is 20.682788056990006\n",
            "The temperature after 6 time steps is 20.815296529820518\n",
            "The temperature after 7 time steps is 20.946486521316725\n",
            "The temperature after 8 time steps is 21.0763711505871\n",
            "The temperature after 9 time steps is 21.204963406202808\n",
            "The temperature after 10 time steps is 21.332276147496565\n",
            "The temperature after 11 time steps is 21.458322105848605\n",
            "The temperature after 12 time steps is 21.583113885959797\n",
            "The temperature after 13 time steps is 21.706663967112142\n",
            "The temperature after 14 time steps is 21.82898470441672\n",
            "The temperature after 15 time steps is 21.95008833004919\n",
            "The temperature after 16 time steps is 22.06998695447304\n",
            "The temperature after 17 time steps is 22.188692567650627\n",
            "The temperature after 18 time steps is 22.306217040242192\n",
            "The temperature after 19 time steps is 22.42257212479293\n",
            "The temperature after 20 time steps is 22.537769456908254\n",
            "The temperature after 21 time steps is 22.65182055641738\n",
            "The temperature after 22 time steps is 22.7647368285253\n",
            "The temperature after 23 time steps is 22.876529564953323\n",
            "The temperature after 24 time steps is 22.98720994506825\n",
            "The temperature after 25 time steps is 23.09678903700033\n",
            "The temperature after 26 time steps is 23.205277798750075\n",
            "The temperature after 27 time steps is 23.312687079284053\n",
            "The temperature after 28 time steps is 23.419027619619843\n",
            "The temperature after 29 time steps is 23.524310053900088\n",
            "The temperature after 30 time steps is 23.62854491045595\n",
            "The temperature after 31 time steps is 23.73174261285995\n",
            "The temperature after 32 time steps is 23.833913480968327\n",
            "The temperature after 33 time steps is 23.935067731953033\n",
            "The temperature after 34 time steps is 24.035215481323466\n",
            "The temperature after 35 time steps is 24.13436674393801\n",
            "The temperature after 36 time steps is 24.232531435005566\n",
            "The temperature after 37 time steps is 24.329719371077033\n",
            "The temperature after 38 time steps is 24.425940271027017\n",
            "The temperature after 39 time steps is 24.521203757025695\n",
            "The temperature after 40 time steps is 24.61551935550105\n",
            "The temperature after 41 time steps is 24.708896498091526\n",
            "The temperature after 42 time steps is 24.801344522589204\n",
            "The temperature after 43 time steps is 24.89287267387357\n",
            "The temperature after 44 time steps is 24.983490104836022\n",
            "The temperature after 45 time steps is 25.073205877295173\n",
            "The temperature after 46 time steps is 25.162028962903037\n",
            "The temperature after 47 time steps is 25.24996824404219\n",
            "The temperature after 48 time steps is 25.33703251471403\n",
            "The temperature after 49 time steps is 25.423230481418173\n",
            "The temperature after 50 time steps is 25.508570764023133\n",
            "The temperature after 51 time steps is 25.593061896628278\n",
            "The temperature after 52 time steps is 25.67671232841728\n",
            "The temperature after 53 time steps is 25.759530424503026\n",
            "The temperature after 54 time steps is 25.841524466764145\n",
            "The temperature after 55 time steps is 25.922702654673188\n",
            "The temperature after 56 time steps is 26.00307310611659\n",
            "The temperature after 57 time steps is 26.08264385820648\n",
            "The temperature after 58 time steps is 26.161422868084372\n",
            "The temperature after 59 time steps is 26.2394180137169\n",
            "The temperature after 60 time steps is 26.316637094683628\n",
            "The temperature after 61 time steps is 26.393087832957\n",
            "The temperature after 62 time steps is 26.468777873674558\n",
            "The temperature after 63 time steps is 26.54371478590344\n",
            "The temperature after 64 time steps is 26.61790606339732\n",
            "The temperature after 65 time steps is 26.691359125345777\n",
            "The temperature after 66 time steps is 26.76408131711621\n",
            "The temperature after 67 time steps is 26.836079910988406\n",
            "The temperature after 68 time steps is 26.907362106881745\n",
            "The temperature after 69 time steps is 26.977935033075223\n",
            "The temperature after 70 time steps is 27.047805746920268\n",
            "The temperature after 71 time steps is 27.11698123554649\n",
            "The temperature after 72 time steps is 27.185468416560397\n",
            "The temperature after 73 time steps is 27.253274138737165\n",
            "The temperature after 74 time steps is 27.320405182705517\n",
            "The temperature after 75 time steps is 27.386868261625793\n",
            "The temperature after 76 time steps is 27.45267002186127\n",
            "The temperature after 77 time steps is 27.517817043642808\n",
            "The temperature after 78 time steps is 27.58231584172687\n",
            "The temperature after 79 time steps is 27.646172866047017\n",
            "The temperature after 80 time steps is 27.709394502358897\n",
            "The temperature after 81 time steps is 27.771987072878822\n",
            "The temperature after 82 time steps is 27.83395683691601\n",
            "The temperature after 83 time steps is 27.8953099914985\n",
            "The temperature after 84 time steps is 27.956052671992886\n",
            "The temperature after 85 time steps is 28.016190952717828\n",
            "The temperature after 86 time steps is 28.075730847551515\n",
            "The temperature after 87 time steps is 28.134678310533054\n",
            "The temperature after 88 time steps is 28.19303923645786\n",
            "The temperature after 89 time steps is 28.250819461467163\n",
            "The temperature after 90 time steps is 28.308024763631614\n",
            "The temperature after 91 time steps is 28.364660863529096\n",
            "The temperature after 92 time steps is 28.420733424816802\n",
            "The temperature after 93 time steps is 28.476248054797587\n",
            "The temperature after 94 time steps is 28.531210304980704\n",
            "The temperature after 95 time steps is 28.585625671636983\n",
            "The temperature after 96 time steps is 28.63949959634843\n",
            "The temperature after 97 time steps is 28.692837466552415\n",
            "The temperature after 98 time steps is 28.745644616080405\n",
            "The temperature after 99 time steps is 28.79792632569136\n",
            "The temperature after 100 time steps is 28.849687823599808\n",
            "The temperature after 101 time steps is 28.900934285998673\n",
            "The temperature after 102 time steps is 28.951670837576906\n",
            "The temperature after 103 time steps is 29.001902552031936\n",
            "The temperature after 104 time steps is 29.051634452577076\n",
            "The temperature after 105 time steps is 29.100871512443824\n",
            "The temperature after 106 time steps is 29.149618655379196\n",
            "The temperature after 107 time steps is 29.197880756138108\n",
            "The temperature after 108 time steps is 29.245662640970853\n",
            "The temperature after 109 time steps is 29.292969088105735\n",
            "The temperature after 110 time steps is 29.339804828226885\n",
            "The temperature after 111 time steps is 29.38617454494735\n",
            "The temperature after 112 time steps is 29.432082875277448\n",
            "The temperature after 113 time steps is 29.47753441008846\n",
            "The temperature after 114 time steps is 29.522533694571745\n",
            "The temperature after 115 time steps is 29.567085228693255\n",
            "The temperature after 116 time steps is 29.611193467643524\n",
            "The temperature after 117 time steps is 29.65486282228321\n",
            "The temperature after 118 time steps is 29.698097659584164\n",
            "The temperature after 119 time steps is 29.740902303066143\n",
            "The temperature after 120 time steps is 29.78328103322917\n",
            "The temperature after 121 time steps is 29.825238087981575\n",
            "The temperature after 122 time steps is 29.8667776630638\n",
            "The temperature after 123 time steps is 29.90790391246797\n",
            "The temperature after 124 time steps is 29.94862094885329\n",
            "The temperature after 125 time steps is 29.98893284395734\n",
            "The temperature after 126 time steps is 30.028843629003216\n",
            "The temperature after 127 time steps is 30.068357295102683\n",
            "The temperature after 128 time steps is 30.10747779365528\n",
            "The temperature after 129 time steps is 30.146209036743468\n",
            "The temperature after 130 time steps is 30.184554897523824\n",
            "The temperature after 131 time steps is 30.222519210614387\n",
            "The temperature after 132 time steps is 30.260105772478095\n",
            "The temperature after 133 time steps is 30.297318341802466\n",
            "The temperature after 134 time steps is 30.334160639875435\n",
            "The temperature after 135 time steps is 30.37063635095752\n",
            "The temperature after 136 time steps is 30.40674912265022\n",
            "The temperature after 137 time steps is 30.442502566260796\n",
            "The temperature after 138 time steps is 30.47790025716341\n",
            "The temperature after 139 time steps is 30.512945735156645\n",
            "The temperature after 140 time steps is 30.54764250481751\n",
            "The temperature after 141 time steps is 30.58199403585188\n",
            "The temperature after 142 time steps is 30.61600376344149\n",
            "The temperature after 143 time steps is 30.649675088587436\n",
            "The temperature after 144 time steps is 30.683011378450296\n",
            "The temperature after 145 time steps is 30.716015966686832\n",
            "The temperature after 146 time steps is 30.748692153783377\n",
            "The temperature after 147 time steps is 30.781043207385867\n",
            "The temperature after 148 time steps is 30.81307236262662\n",
            "The temperature after 149 time steps is 30.844782822447858\n",
            "The temperature after 150 time steps is 30.876177757921983\n",
            "The temperature after 151 time steps is 30.907260308568706\n",
            "The temperature after 152 time steps is 30.938033582668993\n",
            "The temperature after 153 time steps is 30.968500657575902\n",
            "The temperature after 154 time steps is 30.998664580022307\n",
            "The temperature after 155 time steps is 31.028528366425597\n",
            "The temperature after 156 time steps is 31.058095003189294\n",
            "The temperature after 157 time steps is 31.087367447001714\n",
            "The temperature after 158 time steps is 31.116348625131632\n",
            "The temperature after 159 time steps is 31.145041435721012\n",
            "The temperature after 160 time steps is 31.173448748074826\n",
            "The temperature after 161 time steps is 31.20157340294798\n",
            "The temperature after 162 time steps is 31.229418212829394\n",
            "The temperature after 163 time steps is 31.25698596222327\n",
            "The temperature after 164 time steps is 31.284279407927514\n",
            "The temperature after 165 time steps is 31.311301279309443\n",
            "The temperature after 166 time steps is 31.338054278578714\n",
            "The temperature after 167 time steps is 31.364541081057546\n",
            "The temperature after 168 time steps is 31.39076433544826\n",
            "The temperature after 169 time steps is 31.41672666409815\n",
            "The temperature after 170 time steps is 31.442430663261714\n",
            "The temperature after 171 time steps is 31.46787890336029\n",
            "The temperature after 172 time steps is 31.493073929239095\n",
            "The temperature after 173 time steps is 31.518018260421712\n",
            "The temperature after 174 time steps is 31.542714391362043\n",
            "The temperature after 175 time steps is 31.567164791693767\n",
            "The temperature after 176 time steps is 31.591371906477292\n",
            "The temperature after 177 time steps is 31.615338156444267\n",
            "The temperature after 178 time steps is 31.639065938239664\n",
            "The temperature after 179 time steps is 31.66255762466143\n",
            "The temperature after 180 time steps is 31.685815564897787\n",
            "The temperature after 181 time steps is 31.708842084762143\n",
            "The temperature after 182 time steps is 31.73163948692567\n",
            "The temperature after 183 time steps is 31.75421005114758\n",
            "The temperature after 184 time steps is 31.77655603450311\n",
            "The temperature after 185 time steps is 31.798679671609214\n",
            "The temperature after 186 time steps is 31.82058317484804\n",
            "The temperature after 187 time steps is 31.84226873458816\n",
            "The temperature after 188 time steps is 31.863738519403626\n",
            "The temperature after 189 time steps is 31.88499467629081\n",
            "The temperature after 190 time steps is 31.90603933088311\n",
            "The temperature after 191 time steps is 31.926874587663526\n",
            "The temperature after 192 time steps is 31.947502530175097\n",
            "The temperature after 193 time steps is 31.96792522122927\n",
            "The temperature after 194 time steps is 31.98814470311216\n",
            "The temperature after 195 time steps is 32.00816299778881\n",
            "The temperature after 196 time steps is 32.02798210710537\n",
            "The temperature after 197 time steps is 32.04760401298929\n",
            "The temperature after 198 time steps is 32.0670306776475\n",
            "The temperature after 199 time steps is 32.08626404376267\n",
            "The temperature after 200 time steps is 32.10530603468742\n",
            "The temperature after 201 time steps is 32.12415855463673\n",
            "The temperature after 202 time steps is 32.14282348887829\n",
            "The temperature after 203 time steps is 32.161302703921095\n",
            "The temperature after 204 time steps is 32.17959804770204\n",
            "The temperature after 205 time steps is 32.19771134977074\n",
            "The temperature after 206 time steps is 32.21564442147251\n",
            "The temperature after 207 time steps is 32.23339905612946\n",
            "The temperature after 208 time steps is 32.25097702921985\n",
            "The temperature after 209 time steps is 32.26838009855563\n",
            "The temperature after 210 time steps is 32.285610004458256\n",
            "The temperature after 211 time steps is 32.302668469932655\n",
            "The temperature after 212 time steps is 32.319557200839604\n",
            "The temperature after 213 time steps is 32.33627788606626\n",
            "The temperature after 214 time steps is 32.35283219769509\n",
            "The temperature after 215 time steps is 32.36922179117104\n",
            "The temperature after 216 time steps is 32.38544830546712\n",
            "The temperature after 217 time steps is 32.40151336324829\n",
            "The temperature after 218 time steps is 32.4174185710337\n",
            "The temperature after 219 time steps is 32.433165519357395\n",
            "The temperature after 220 time steps is 32.44875578292733\n",
            "The temperature after 221 time steps is 32.46419092078284\n",
            "The temperature after 222 time steps is 32.47947247645059\n",
            "The temperature after 223 time steps is 32.49460197809887\n",
            "The temperature after 224 time steps is 32.50958093869046\n",
            "The temperature after 225 time steps is 32.5244108561339\n",
            "The temperature after 226 time steps is 32.53909321343329\n",
            "The temperature after 227 time steps is 32.5536294788366\n",
            "The temperature after 228 time steps is 32.568021105982474\n",
            "The temperature after 229 time steps is 32.58226953404563\n",
            "The temperature after 230 time steps is 32.59637618788075\n",
            "The temperature after 231 time steps is 32.61034247816496\n",
            "The temperature after 232 time steps is 32.62416980153894\n",
            "The temperature after 233 time steps is 32.63785954074654\n",
            "The temperature after 234 time steps is 32.651413064773095\n",
            "The temperature after 235 time steps is 32.66483172898231\n",
            "The temperature after 236 time steps is 32.67811687525177\n",
            "The temperature after 237 time steps is 32.69126983210718\n",
            "The temperature after 238 time steps is 32.70429191485519\n",
            "The temperature after 239 time steps is 32.71718442571493\n",
            "The temperature after 240 time steps is 32.72994865394823\n",
            "The temperature after 241 time steps is 32.74258587598853\n",
            "The temperature after 242 time steps is 32.755097355568594\n",
            "The temperature after 243 time steps is 32.76748434384678\n",
            "The temperature after 244 time steps is 32.77974807953226\n",
            "The temperature after 245 time steps is 32.79188978900881\n",
            "The temperature after 246 time steps is 32.803910686457506\n",
            "The temperature after 247 time steps is 32.81581197397809\n",
            "The temperature after 248 time steps is 32.82759484170926\n",
            "The temperature after 249 time steps is 32.83926046794758\n",
            "The temperature after 250 time steps is 32.85081001926542\n",
            "The temperature after 251 time steps is 32.86224465062752\n",
            "The temperature after 252 time steps is 32.87356550550655\n",
            "The temperature after 253 time steps is 32.884773715997426\n",
            "The temperature after 254 time steps is 32.89587040293055\n",
            "The temperature after 255 time steps is 32.90685667598385\n",
            "The temperature after 256 time steps is 32.9177336337938\n",
            "The temperature after 257 time steps is 32.92850236406524\n",
            "The temperature after 258 time steps is 32.939163943680164\n",
            "The temperature after 259 time steps is 32.949719438805424\n",
            "The temperature after 260 time steps is 32.960169904999326\n",
            "The temperature after 261 time steps is 32.970516387317204\n",
            "The temperature after 262 time steps is 32.9807599204159\n",
            "The temperature after 263 time steps is 32.990901528657275\n",
            "The temperature after 264 time steps is 33.0009422262106\n",
            "The temperature after 265 time steps is 33.010883017153986\n",
            "The temperature after 266 time steps is 33.02072489557482\n",
            "The temperature after 267 time steps is 33.030468845669155\n",
            "The temperature after 268 time steps is 33.04011584184011\n",
            "The temperature after 269 time steps is 33.04966684879534\n",
            "The temperature after 270 time steps is 33.059122821643506\n",
            "The temperature after 271 time steps is 33.06848470598976\n",
            "The temperature after 272 time steps is 33.077753438030356\n",
            "The temperature after 273 time steps is 33.086929944646215\n",
            "The temperature after 274 time steps is 33.09601514349564\n",
            "The temperature after 275 time steps is 33.1050099431061\n",
            "The temperature after 276 time steps is 33.11391524296503\n",
            "The temperature after 277 time steps is 33.122731933609856\n",
            "The temperature after 278 time steps is 33.13146089671699\n",
            "The temperature after 279 time steps is 33.14010300519\n",
            "The temperature after 280 time steps is 33.14865912324695\n",
            "The temperature after 281 time steps is 33.15713010650677\n",
            "The temperature after 282 time steps is 33.16551680207485\n",
            "The temperature after 283 time steps is 33.17382004862773\n",
            "The temperature after 284 time steps is 33.18204067649699\n",
            "The temperature after 285 time steps is 33.19017950775226\n",
            "The temperature after 286 time steps is 33.19823735628346\n",
            "The temperature after 287 time steps is 33.206215027882145\n",
            "The temperature after 288 time steps is 33.21411332032213\n",
            "The temperature after 289 time steps is 33.221933023439234\n",
            "The temperature after 290 time steps is 33.2296749192103\n",
            "The temperature after 291 time steps is 33.237339781831345\n",
            "The temperature after 292 time steps is 33.24492837779501\n",
            "The temperature after 293 time steps is 33.25244146596724\n",
            "The temperature after 294 time steps is 33.259879797663096\n",
            "The temperature after 295 time steps is 33.26724411672195\n",
            "The temperature after 296 time steps is 33.27453515958184\n",
            "The temperature after 297 time steps is 33.281753655353135\n",
            "The temperature after 298 time steps is 33.28890032589142\n",
            "The temperature after 299 time steps is 33.295975885869716\n",
            "The temperature after 300 time steps is 33.30298104284991\n",
            "The temperature after 301 time steps is 33.30991649735353\n",
            "The temperature after 302 time steps is 33.316782942931816\n",
            "The temperature after 303 time steps is 33.32358106623505\n",
            "The temperature after 304 time steps is 33.33031154708122\n",
            "The temperature after 305 time steps is 33.336975058524025\n",
            "The temperature after 306 time steps is 33.34357226692016\n",
            "The temperature after 307 time steps is 33.35010383199596\n",
            "The temperature after 308 time steps is 33.356570406913384\n",
            "The temperature after 309 time steps is 33.3629726383353\n",
            "The temperature after 310 time steps is 33.36931116649019\n",
            "The temperature after 311 time steps is 33.37558662523616\n",
            "The temperature after 312 time steps is 33.3817996421243\n",
            "The temperature after 313 time steps is 33.387950838461485\n",
            "The temperature after 314 time steps is 33.39404082937248\n",
            "The temperature after 315 time steps is 33.40007022386144\n",
            "The temperature after 316 time steps is 33.40603962487284\n",
            "The temperature after 317 time steps is 33.41194962935176\n",
            "The temperature after 318 time steps is 33.41780082830358\n",
            "The temperature after 319 time steps is 33.42359380685305\n",
            "The temperature after 320 time steps is 33.429329144302876\n",
            "The temperature after 321 time steps is 33.43500741419157\n",
            "The temperature after 322 time steps is 33.44062918435085\n",
            "The temperature after 323 time steps is 33.44619501696242\n",
            "The temperature after 324 time steps is 33.45170546861418\n",
            "The temperature after 325 time steps is 33.45716109035589\n",
            "The temperature after 326 time steps is 33.46256242775427\n",
            "The temperature after 327 time steps is 33.467910020947556\n",
            "The temperature after 328 time steps is 33.47320440469953\n",
            "The temperature after 329 time steps is 33.47844610845298\n",
            "The temperature after 330 time steps is 33.48363565638264\n",
            "The temperature after 331 time steps is 33.48877356744764\n",
            "The temperature after 332 time steps is 33.49386035544335\n",
            "The temperature after 333 time steps is 33.49889652905283\n",
            "The temperature after 334 time steps is 33.50388259189762\n",
            "The temperature after 335 time steps is 33.50881904258817\n",
            "The temperature after 336 time steps is 33.51370637477366\n",
            "The temperature after 337 time steps is 33.51854507719138\n",
            "The temperature after 338 time steps is 33.52333563371561\n",
            "The temperature after 339 time steps is 33.52807852340599\n",
            "The temperature after 340 time steps is 33.53277422055543\n",
            "The temperature after 341 time steps is 33.537423194737585\n",
            "The temperature after 342 time steps is 33.542025910853724\n",
            "The temperature after 343 time steps is 33.5465828291793\n",
            "The temperature after 344 time steps is 33.55109440540995\n",
            "The temperature after 345 time steps is 33.55556109070705\n",
            "The temperature after 346 time steps is 33.55998333174285\n",
            "The temperature after 347 time steps is 33.56436157074515\n",
            "The temperature after 348 time steps is 33.56869624554148\n",
            "The temperature after 349 time steps is 33.572987789602955\n",
            "The temperature after 350 time steps is 33.57723663208754\n",
            "The temperature after 351 time steps is 33.58144319788303\n",
            "The temperature after 352 time steps is 33.58560790764951\n",
            "The temperature after 353 time steps is 33.58973117786143\n",
            "The temperature after 354 time steps is 33.593813420849244\n",
            "The temperature after 355 time steps is 33.59785504484065\n",
            "The temperature after 356 time steps is 33.601856454001414\n",
            "The temperature after 357 time steps is 33.6058180484758\n",
            "The temperature after 358 time steps is 33.609740224426545\n",
            "The temperature after 359 time steps is 33.61362337407451\n",
            "The temperature after 360 time steps is 33.6174678857379\n",
            "The temperature after 361 time steps is 33.62127414387109\n",
            "The temperature after 362 time steps is 33.62504252910306\n",
            "The temperature after 363 time steps is 33.62877341827548\n",
            "The temperature after 364 time steps is 33.63246718448037\n",
            "The temperature after 365 time steps is 33.63612419709742\n",
            "The temperature after 366 time steps is 33.63974482183096\n",
            "The temperature after 367 time steps is 33.64332942074647\n",
            "The temperature after 368 time steps is 33.64687835230682\n",
            "The temperature after 369 time steps is 33.65039197140813\n",
            "The temperature after 370 time steps is 33.65387062941525\n",
            "The temperature after 371 time steps is 33.65731467419686\n",
            "The temperature after 372 time steps is 33.66072445016032\n",
            "The temperature after 373 time steps is 33.66410029828607\n",
            "The temperature after 374 time steps is 33.66744255616173\n",
            "The temperature after 375 time steps is 33.67075155801587\n",
            "The temperature after 376 time steps is 33.67402763475144\n",
            "The temperature after 377 time steps is 33.67727111397884\n",
            "The temperature after 378 time steps is 33.6804823200487\n",
            "The temperature after 379 time steps is 33.6836615740843\n",
            "The temperature after 380 time steps is 33.686809194013684\n",
            "The temperature after 381 time steps is 33.689925494601475\n",
            "The temperature after 382 time steps is 33.69301078748034\n",
            "The temperature after 383 time steps is 33.69606538118212\n",
            "The temperature after 384 time steps is 33.69908958116874\n",
            "The temperature after 385 time steps is 33.70208368986272\n",
            "The temperature after 386 time steps is 33.70504800667742\n",
            "The temperature after 387 time steps is 33.707982828046994\n",
            "The temperature after 388 time steps is 33.71088844745602\n",
            "The temperature after 389 time steps is 33.71376515546887\n",
            "The temperature after 390 time steps is 33.716613239758736\n",
            "The temperature after 391 time steps is 33.71943298513642\n",
            "The temperature after 392 time steps is 33.722224673578815\n",
            "The temperature after 393 time steps is 33.72498858425708\n",
            "The temperature after 394 time steps is 33.72772499356461\n",
            "The temperature after 395 time steps is 33.73043417514458\n",
            "The temperature after 396 time steps is 33.733116399917435\n",
            "The temperature after 397 time steps is 33.73577193610788\n",
            "The temperature after 398 time steps is 33.738401049271744\n",
            "The temperature after 399 time steps is 33.74100400232253\n",
            "The temperature after 400 time steps is 33.74358105555772\n",
            "The temperature after 401 time steps is 33.746132466684784\n",
            "The temperature after 402 time steps is 33.74865849084696\n",
            "The temperature after 403 time steps is 33.751159380648765\n",
            "The temperature after 404 time steps is 33.75363538618127\n",
            "The temperature after 405 time steps is 33.75608675504709\n",
            "The temperature after 406 time steps is 33.758513732385154\n",
            "The temperature after 407 time steps is 33.76091656089521\n",
            "The temperature after 408 time steps is 33.763295480862126\n",
            "The temperature after 409 time steps is 33.76565073017987\n",
            "The temperature after 410 time steps is 33.76798254437534\n",
            "The temperature after 411 time steps is 33.770291156631906\n",
            "The temperature after 412 time steps is 33.772576797812704\n",
            "The temperature after 413 time steps is 33.77483969648376\n",
            "The temperature after 414 time steps is 33.777080078936834\n",
            "The temperature after 415 time steps is 33.77929816921204\n",
            "The temperature after 416 time steps is 33.78149418912024\n",
            "The temperature after 417 time steps is 33.78366835826527\n",
            "The temperature after 418 time steps is 33.78582089406584\n",
            "The temperature after 419 time steps is 33.78795201177734\n",
            "The temperature after 420 time steps is 33.79006192451331\n",
            "The temperature after 421 time steps is 33.79215084326678\n",
            "The temperature after 422 time steps is 33.794218976931376\n",
            "The temperature after 423 time steps is 33.79626653232217\n",
            "The temperature after 424 time steps is 33.798293714196426\n",
            "The temperature after 425 time steps is 33.80030072527401\n",
            "The temperature after 426 time steps is 33.802287766257706\n",
            "The temperature after 427 time steps is 33.80425503585327\n",
            "The temperature after 428 time steps is 33.80620273078929\n",
            "The temperature after 429 time steps is 33.80813104583689\n",
            "The temperature after 430 time steps is 33.81004017382919\n",
            "The temperature after 431 time steps is 33.81193030568057\n",
            "The temperature after 432 time steps is 33.813801630405784\n",
            "The temperature after 433 time steps is 33.81565433513888\n",
            "The temperature after 434 time steps is 33.81748860515187\n",
            "The temperature after 435 time steps is 33.81930462387328\n",
            "The temperature after 436 time steps is 33.8211025729065\n",
            "The temperature after 437 time steps is 33.82288263204793\n",
            "The temperature after 438 time steps is 33.824644979304956\n",
            "The temperature after 439 time steps is 33.826389790913794\n",
            "The temperature after 440 time steps is 33.82811724135704\n",
            "The temperature after 441 time steps is 33.82982750338119\n",
            "The temperature after 442 time steps is 33.831520748013865\n",
            "The temperature after 443 time steps is 33.83319714458094\n",
            "The temperature after 444 time steps is 33.83485686072348\n",
            "The temperature after 445 time steps is 33.836500062414466\n",
            "The temperature after 446 time steps is 33.838126913975444\n",
            "The temperature after 447 time steps is 33.83973757809292\n",
            "The temperature after 448 time steps is 33.841332215834655\n",
            "The temperature after 449 time steps is 33.84291098666575\n",
            "The temperature after 450 time steps is 33.844474048464605\n",
            "The temperature after 451 time steps is 33.846021557538705\n",
            "The temperature after 452 time steps is 33.84755366864024\n",
            "The temperature after 453 time steps is 33.8490705349816\n",
            "The temperature after 454 time steps is 33.850572308250676\n",
            "The temperature after 455 time steps is 33.85205913862606\n",
            "The temperature after 456 time steps is 33.853531174792025\n",
            "The temperature after 457 time steps is 33.854988563953405\n",
            "The temperature after 458 time steps is 33.85643145185034\n",
            "The temperature after 459 time steps is 33.85785998277282\n",
            "The temperature after 460 time steps is 33.85927429957513\n",
            "The temperature after 461 time steps is 33.86067454369012\n",
            "The temperature after 462 time steps is 33.862060855143376\n",
            "The temperature after 463 time steps is 33.8634333725672\n",
            "The temperature after 464 time steps is 33.86479223321447\n",
            "The temperature after 465 time steps is 33.86613757297239\n",
            "The temperature after 466 time steps is 33.867469526376055\n",
            "The temperature after 467 time steps is 33.868788226621916\n",
            "The temperature after 468 time steps is 33.87009380558109\n",
            "The temperature after 469 time steps is 33.87138639381257\n",
            "The temperature after 470 time steps is 33.872666120576255\n",
            "The temperature after 471 time steps is 33.87393311384589\n",
            "The temperature after 472 time steps is 33.87518750032184\n",
            "The temperature after 473 time steps is 33.87642940544382\n",
            "The temperature after 474 time steps is 33.877658953403376\n",
            "The temperature after 475 time steps is 33.87887626715631\n",
            "The temperature after 476 time steps is 33.88008146843503\n",
            "The temperature after 477 time steps is 33.88127467776066\n",
            "The temperature after 478 time steps is 33.88245601445512\n",
            "The temperature after 479 time steps is 33.883625596653076\n",
            "The temperature after 480 time steps is 33.884783541313716\n",
            "The temperature after 481 time steps is 33.88592996423248\n",
            "The temperature after 482 time steps is 33.88706498005261\n",
            "The temperature after 483 time steps is 33.88818870227662\n",
            "The temperature after 484 time steps is 33.88930124327769\n",
            "The temperature after 485 time steps is 33.89040271431084\n",
            "The temperature after 486 time steps is 33.89149322552409\n",
            "The temperature after 487 time steps is 33.892572885969464\n",
            "The temperature after 488 time steps is 33.89364180361392\n",
            "The temperature after 489 time steps is 33.894700085350095\n",
            "The temperature after 490 time steps is 33.89574783700706\n",
            "The temperature after 491 time steps is 33.896785163360846\n",
            "The temperature after 492 time steps is 33.89781216814496\n",
            "The temperature after 493 time steps is 33.89882895406073\n",
            "The temperature after 494 time steps is 33.8998356227876\n",
            "The temperature after 495 time steps is 33.90083227499327\n"
          ]
        }
      ],
      "source": [
        "#@title ❓ Click `Show code` in the code cell to show the solution. { display-mode: \"form\" }\n",
        "\n",
        "t = 0\n",
        "epsilon = 0.1\n",
        "initial_temp = 20\n",
        "final_temp = 34\n",
        "growth_rate = 0.01\n",
        "\n",
        "results = carry_out_simulation(epsilon, final_temp, initial_temp, growth_rate)"
      ]
    },
    {
      "cell_type": "code",
      "execution_count": 32,
      "metadata": {
        "colab": {
          "base_uri": "https://localhost:8080/"
        },
        "id": "ln3gV3iBi3dE",
        "outputId": "65a16ec7-a1e1-4a0c-d7ba-dcaf8cebb4ea"
      },
      "outputs": [
        {
          "name": "stdout",
          "output_type": "stream",
          "text": [
            "Found maximum growth of 0.13930232751164695 at 2!\n"
          ]
        }
      ],
      "source": [
        "find_highest_growth(results)\n"
      ]
    },
    {
      "cell_type": "markdown",
      "metadata": {
        "id": "eHumkaBJ-egV"
      },
      "source": [
        "## Besprechung der Aufgaben\n",
        "\n",
        "- Sind Sie mit ein Aufgaben bis hierhin fertig geworden und haben Sie keine Fragen, so legen Sie die grüne Karte nach oben\n",
        "- Sind Sie mit den Aufgaben fertig, aber hätten gerne, dass die Lösungen nocheinmal gemeinsam besprochen werden, legen Sie die gelbe Karte nach oben\n",
        "\n",
        "![](https://www.lokalinfo.ch/fileadmin/news_import/image003_03.jpg)"
      ]
    },
    {
      "cell_type": "markdown",
      "metadata": {
        "id": "VVQyuc2xF_-Q"
      },
      "source": [
        "#### 🤓 Default Values\n",
        "\n",
        "Wenn Sie eine Funktion schreiben, können Sie für jeden Parameter einen Standardwert festlegen.\n",
        "Wenn im Funktionsaufruf ein Argument für einen Parameter angegeben wird, verwendet Python den Wert des Arguments. Wenn nicht, wird der Standardwert des Parameters verwendet. Wenn Sie also Sie einen Standardwert für einen Parameter definieren, können Sie das entsprechende Argument ausschließen, das Sie normalerweise in den Funktionsaufruf schreiben würden. Die Verwendung von Standardwerten kann Ihre Funktionsaufrufe vereinfachen und die Art und Weise verdeutlichen, in der Ihre Funktionen typischerweise verwendet werden."
      ]
    },
    {
      "cell_type": "code",
      "execution_count": null,
      "metadata": {
        "colab": {
          "base_uri": "https://localhost:8080/"
        },
        "id": "fOve03CdF6BQ",
        "outputId": "191883f2-4ff8-4a0e-d8dc-6bbcc6d0382e"
      },
      "outputs": [
        {
          "name": "stdout",
          "output_type": "stream",
          "text": [
            "The Chemistry is supervised by Alex\n",
            "The IT is supervised by Julian\n"
          ]
        }
      ],
      "source": [
        "def describe_lab(lab_name, lab_supervisor='Alex'):\n",
        "  \"\"\"Display information about a lab.\"\"\"\n",
        "  print(\"The {} is supervised by {}\".format(lab_name, lab_supervisor))\n",
        "\n",
        "describe_lab(lab_name='Chemistry')\n",
        "describe_lab(lab_name='IT', lab_supervisor = 'Julian')"
      ]
    },
    {
      "cell_type": "markdown",
      "metadata": {
        "id": "8ZTP1Rt5V1wn"
      },
      "source": [
        "#### 🤓 Ein Argument optional machen\n",
        "\n",
        "Manchmal ist es sinnvoll, ein Argument optional zu machen, damit die Benutzer der Funktion nur dann zusätzliche Informationen angeben müssen, wenn sie wollen. Sie können leere Standardwerte verwenden, um ein Argument optional zu machen.\n",
        "\n"
      ]
    },
    {
      "cell_type": "code",
      "execution_count": null,
      "metadata": {
        "colab": {
          "base_uri": "https://localhost:8080/"
        },
        "id": "Fa1GVJSHV9DE",
        "outputId": "fba8d838-6fc1-4923-8223-d6b39db90ad6"
      },
      "outputs": [
        {
          "name": "stdout",
          "output_type": "stream",
          "text": [
            "The Chemistry is supervised by Alex\n",
            "The IT is supervised by Julian\n",
            "The IT is supervised by Julian\n"
          ]
        }
      ],
      "source": [
        "def describe_lab(lab_name, lab_supervisor = 'Alex', room_number = ''):\n",
        "  \"\"\"Display information about a lab.\"\"\"\n",
        "  print(\"The {} is supervised by {}\".format(lab_name, lab_supervisor))\n",
        "\n",
        "describe_lab(lab_name='Chemistry')\n",
        "describe_lab(lab_name='IT', lab_supervisor = 'Julian')\n",
        "describe_lab(lab_name='IT', lab_supervisor = 'Julian', room_number = 2)"
      ]
    },
    {
      "cell_type": "markdown",
      "metadata": {
        "id": "TyiamK8lVldV"
      },
      "source": [
        "🤓 **Aufgabe**\n",
        "\n",
        "Passen Sie die Funktion ```build_supervisor(first_name, last_name)``` so an, dass sie einen optionalen mittleren Vornamen annimmt und diesen verwendet.\n",
        "\n",
        "Erstellen Sie zwei Experimente, von denen einer der Supervisoren einen mittleren Namen hat, der andere nicht."
      ]
    },
    {
      "cell_type": "code",
      "execution_count": null,
      "metadata": {
        "colab": {
          "base_uri": "https://localhost:8080/"
        },
        "id": "so7-bs8oVUAS",
        "outputId": "56b64922-ca63-475c-e2f1-35ca03a83c98"
      },
      "outputs": [
        {
          "name": "stdout",
          "output_type": "stream",
          "text": [
            "{'experiment_name': 'First Experiment', 'date': '22.3.2023', 'supervisors': {'first_name': 'Julian', 'last_name': 'Huber'}}\n",
            "{'experiment_name': 'First Experiment', 'date': '22.3.2023', 'supervisors': {'first_name': 'Julian', 'middle_name': 'C.', 'last_name': 'Huber'}}\n"
          ]
        }
      ],
      "source": [
        "def build_supervisor(first_name, last_name, middle_name = \"\"):\n",
        "    \"\"\"Return a dictionary of information about a supervisor.\"\"\"\n",
        "    if middle_name == \"\":\n",
        "      dict = { \"first_name\" : first_name,\n",
        "             \"last_name\" : last_name}\n",
        "    else:\n",
        "      dict = { \"first_name\" : first_name,\n",
        "              \"middle_name\" : middle_name,\n",
        "             \"last_name\" : last_name}\n",
        "    return dict\n",
        "\n",
        "\n",
        "supervisor_1 = build_supervisor(\"Julian\", \"Huber\")\n",
        "supervisor_2 = build_supervisor(\"Julian\", \"Huber\", middle_name = \"C.\" )\n",
        "\n",
        "experiment_3 = build_experiment(\"First Experiment\" ,\"22.3.2023\", supervisor_1)\n",
        "experiment_4 = build_experiment(\"First Experiment\" ,\"22.3.2023\", supervisor_2)\n",
        "\n",
        "print(experiment_3)\n",
        "print(experiment_4)"
      ]
    },
    {
      "cell_type": "markdown",
      "metadata": {
        "id": "pbzjFkZ2Xqhy"
      },
      "source": [
        "## 🤓 Übergabe von Listen in einer Funktion\n",
        "\n",
        "Seien Sie vorsichtig, wenn Sie Listen an eine Funktion übergeben, da diese die Liste selbst ohne eine Retrun-Anweisung verändern können:\n",
        "\n"
      ]
    },
    {
      "cell_type": "code",
      "execution_count": null,
      "metadata": {
        "colab": {
          "base_uri": "https://localhost:8080/"
        },
        "id": "cQdlV1p-XWGq",
        "outputId": "bce72a52-f0fe-4b40-d4ff-6ee31d3ab5e5"
      },
      "outputs": [
        {
          "name": "stdout",
          "output_type": "stream",
          "text": [
            "[1, 'b', 'c']\n"
          ]
        }
      ],
      "source": [
        "list = [\"a\", \"b\", \"c\"]\n",
        "\n",
        "def change_list(list):\n",
        "  list[0] = 1\n",
        "\n",
        "change_list(list)\n",
        "\n",
        "print(list)"
      ]
    },
    {
      "cell_type": "markdown",
      "metadata": {
        "id": "NylmT22TYcjF"
      },
      "source": [
        "Sie können dieses Verhalten verhindern, indem Sie die Liste kopieren, wenn Sie sie an die Fuktion übergeben:"
      ]
    },
    {
      "cell_type": "code",
      "execution_count": null,
      "metadata": {
        "colab": {
          "base_uri": "https://localhost:8080/"
        },
        "id": "XjZ4tIPBYbsM",
        "outputId": "6b5c04f4-c1fc-48b4-bac1-33c6bb3d09db"
      },
      "outputs": [
        {
          "name": "stdout",
          "output_type": "stream",
          "text": [
            "['a', 'b', 'c']\n"
          ]
        }
      ],
      "source": [
        "list = [\"a\", \"b\", \"c\"]\n",
        "\n",
        "def change_list(list):\n",
        "  list[0] = 1\n",
        "\n",
        "change_list(list[:])\n",
        "\n",
        "print(list)"
      ]
    },
    {
      "cell_type": "markdown",
      "metadata": {
        "id": "nxfDMJO1Y0Hk"
      },
      "source": [
        "## 🤓 Übergabe einer beliebigen Anzahl von Argumenten\n",
        "\n",
        "Manchmal weiß man im Voraus nicht, wie viele Argumente eine Funktion\n",
        "akzeptieren muss. Glücklicherweise erlaubt Python einer Funktion, eine beliebige\n",
        "Anzahl von Argumenten von der aufrufenden Anweisung zu sammeln:"
      ]
    },
    {
      "cell_type": "code",
      "execution_count": null,
      "metadata": {
        "colab": {
          "base_uri": "https://localhost:8080/"
        },
        "id": "wliA61baYDLj",
        "outputId": "68b95389-b2bc-4107-f1d1-8ee053aadf43"
      },
      "outputs": [
        {
          "name": "stdout",
          "output_type": "stream",
          "text": [
            "('A', 'G', 'T')\n",
            "('A', 'G', 'T', 'C')\n"
          ]
        }
      ],
      "source": [
        "def make_dna_sequence(*nucleotides):\n",
        "  \"\"\"Print the list of nucleotides that have been given.\"\"\"\n",
        "  print(nucleotides)\n",
        "\n",
        "make_dna_sequence(\"A\",\"G\",\"T\")\n",
        "make_dna_sequence(\"A\",\"G\",\"T\",\"C\")"
      ]
    },
    {
      "cell_type": "markdown",
      "metadata": {
        "id": "0WrydTciZOYD"
      },
      "source": [
        "### 🤓 Mischen von Positionsargumenten und willkürlichen Argumenten\n",
        "Wenn eine Funktion mehrere verschiedene Arten von Argumenten akzeptieren soll, muss der Parameter, der eine beliebige Anzahl von Argumenten akzeptiert, an letzter Stelle in der Funktionsdefinition stehen. Python ordnet Positions- und Schlüsselwortargumente zuerst an und fasst dann alle übrigen Argumente im letzten Parameter zusammen.\n",
        "Wenn die Funktion z. B. den Namen des Organismus, von dem die Sequenz stammt, entgegennehmen muss, muss dieser Parameter vor dem Parameter *Nukleotide stehen:"
      ]
    },
    {
      "cell_type": "code",
      "execution_count": null,
      "metadata": {
        "colab": {
          "base_uri": "https://localhost:8080/"
        },
        "id": "94hGSCqCZRPO",
        "outputId": "8c6a7f74-c5fe-4dd1-e7d1-e0851c302629"
      },
      "outputs": [
        {
          "name": "stdout",
          "output_type": "stream",
          "text": [
            "E. Coli -- ('A', 'G', 'T')\n"
          ]
        }
      ],
      "source": [
        "def make_dna_sequence(organism, *nucleotides):\n",
        "  \"\"\"Print the list of nucleotides that have been given.\"\"\"\n",
        "  print(organism + \" -- \" + str(nucleotides))\n",
        "\n",
        "make_dna_sequence(\"E. Coli\",\"A\",\"G\",\"T\")"
      ]
    },
    {
      "cell_type": "markdown",
      "metadata": {
        "id": "IkORHY-SZekL"
      },
      "source": [
        "### 🤓 Beliebige Schlüsselwortargumente verwenden\n",
        "Manchmal werden Sie eine beliebige Anzahl von Argumenten akzeptieren wollen, aber nicht im Voraus wissen, welche Art von Informationen an die Funktion übergeben werden. In diesem Fall können Sie Funktionen schreiben, die so viele Schlüssel-Werte-Paare akzeptieren, wie die aufrufende Anweisung vorsieht.\n",
        "\n",
        "Ein Beispiel ist die Erstellung von Benutzer-Profilen: Sie wissen, dass Sie Informationen über einen Benutzer erhalten werden, aber Sie sind nicht sicher\n",
        "welche Art von Informationen Sie erhalten werden. Die Funktion `build_profile()` im folgenden Beispiel nimmt immer einen Vor- und Nachnamen an, akzeptiert aber auch eine beliebige Anzahl von weiteren Schlüsselwortargumenten:"
      ]
    },
    {
      "cell_type": "code",
      "execution_count": null,
      "metadata": {
        "colab": {
          "base_uri": "https://localhost:8080/"
        },
        "id": "2-5JeJnCZXKi",
        "outputId": "7f814daa-14fc-40df-b5be-47a1982b4aa4"
      },
      "outputs": [
        {
          "name": "stdout",
          "output_type": "stream",
          "text": [
            "{'first_name': 'albert', 'last_name': 'einstein', 'location': 'princeton', 'field': 'physics'}\n"
          ]
        }
      ],
      "source": [
        "def build_profile(first, last, **user_info):\n",
        "  \"\"\"Build a dictionary containing everything we know about a user.\"\"\"\n",
        "  profile = {}\n",
        "  profile['first_name'] = first\n",
        "  profile['last_name'] = last\n",
        "  for key, value in user_info.items():\n",
        "    profile[key] = value\n",
        "  return profile\n",
        "\n",
        "user_profile = build_profile('albert', 'einstein',\n",
        "location='princeton',\n",
        "field='physics')\n",
        "print(user_profile)"
      ]
    }
  ],
  "metadata": {
    "colab": {
      "provenance": []
    },
    "kernelspec": {
      "display_name": "Python 3.8.8 ('base')",
      "language": "python",
      "name": "python3"
    },
    "language_info": {
      "codemirror_mode": {
        "name": "ipython",
        "version": 3
      },
      "file_extension": ".py",
      "mimetype": "text/x-python",
      "name": "python",
      "nbconvert_exporter": "python",
      "pygments_lexer": "ipython3",
      "version": "3.8.8"
    },
    "vscode": {
      "interpreter": {
        "hash": "91b5df634ae01e052c095f84ce6ac57f1bf815a7c386b368c11e7051e1049005"
      }
    }
  },
  "nbformat": 4,
  "nbformat_minor": 0
}
