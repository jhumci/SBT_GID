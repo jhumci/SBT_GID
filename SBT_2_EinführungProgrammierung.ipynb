{
  "cells": [
    {
      "cell_type": "markdown",
      "metadata": {
        "id": "olx8H8f62Pvw"
      },
      "source": [
        "<table style=\"width: 100%\">\n",
        "    <tr style=\"background: #ffffff\">\n",
        "        <td style=\"padding-top:25px;width: 180px\"><img src=\"https://mci.edu/templates/mci/images/logo.svg\" alt=\"Logo\"></td>\n",
        "        <td style=\"width: 100%\">\n",
        "            <div style=\"text-align:right; width: 100%; text-align:right\"><font style=\"font-size:38px\"><b>Grundlagen Programmierung</b></font></div>\n",
        "            <div style=\"padding-top:0px; width: 100%; text-align:right\"><font size=\"4\"><b>WS 2022</b></font></div>\n",
        "        </td>\n",
        "    </tr>\n",
        "</table>\n",
        "\n",
        "---\n",
        "\n",
        "# 2 Listen und Schleifen\n",
        "\n",
        "Listen sind eine einfache Form Daten zu speichern. Kontrollstrukturen steuern den Programmablauf in imperativen Programmiersprachen. Im folgenden Notebook lernen Sie den Umgang mit Listen und for-Schleifen kennen. "
      ]
    },
    {
      "cell_type": "markdown",
      "metadata": {
        "id": "_qn1Nb-J5N-l"
      },
      "source": [
        "## Datentypen\n",
        "\n",
        "Letztes Mal haben wir verschiedene Datentypen vorgestellt, die Variablen haben können."
      ]
    },
    {
      "cell_type": "code",
      "execution_count": null,
      "metadata": {
        "colab": {
          "base_uri": "https://localhost:8080/"
        },
        "id": "vwHEDRlM2MQG",
        "outputId": "bbc644e9-4091-4070-8cb2-94ab0c1b0674"
      },
      "outputs": [
        {
          "data": {
            "text/plain": [
              "str"
            ]
          },
          "execution_count": 1,
          "metadata": {},
          "output_type": "execute_result"
        }
      ],
      "source": [
        "type(\"ABC\")"
      ]
    },
    {
      "cell_type": "code",
      "execution_count": null,
      "metadata": {
        "colab": {
          "base_uri": "https://localhost:8080/"
        },
        "id": "9isLxqfS2anA",
        "outputId": "98f3b30e-6774-4ffe-f53d-f41b5a4666ef"
      },
      "outputs": [
        {
          "data": {
            "text/plain": [
              "int"
            ]
          },
          "execution_count": 2,
          "metadata": {},
          "output_type": "execute_result"
        }
      ],
      "source": [
        "type(1)"
      ]
    },
    {
      "cell_type": "code",
      "execution_count": null,
      "metadata": {
        "colab": {
          "base_uri": "https://localhost:8080/"
        },
        "id": "RyH_lkiH2cQf",
        "outputId": "eec6ff0b-8c3d-45f0-9f64-369a4ff8bba5"
      },
      "outputs": [
        {
          "data": {
            "text/plain": [
              "float"
            ]
          },
          "execution_count": 3,
          "metadata": {},
          "output_type": "execute_result"
        }
      ],
      "source": [
        "type(1.1)"
      ]
    },
    {
      "cell_type": "markdown",
      "metadata": {
        "id": "NQbLnSK32rYf"
      },
      "source": [
        "### Der Datentyp \"None\"\n",
        "\n",
        "Es gibt immer wieder Situationen, in denen ein Eingabeparameter (etwa weil er optional ist) oder ein Rückgabewert (etwa weil ein Fehler aufgetreten ist) den Wert \"None\" annehmen soll. In Python gibt es dafür einen speziellen Datentyp `NoneType`, dessen Wertebereich genau einen Wert enthält, nämlich `None`.\n",
        "\n",
        "None steht für die Abwesenheit eines Wertes. Dass die \"Abwesenheit eines Wertes\" durch einen speziellen Wert dargestellt wird (was eigentlich ein Widerspruch in sich ist), hat damit zu tun, dass der Computer mit \"Nichts\" nicht anders umgehen kann. Der Computer versteht nur Bitfolgen, und deshalb muss das \"Nichts\" durch eine spezielle Bitfolge dargestellt werden. Und in Python heißt diese spezielle Bitfolge `None`.\n",
        "\n",
        "Wir wollen zum Beispiel eine neue Variable definieren, aber die Variable hat noch keinen Wert:"
      ]
    },
    {
      "cell_type": "code",
      "execution_count": null,
      "metadata": {
        "colab": {
          "base_uri": "https://localhost:8080/"
        },
        "id": "s5O5LqeO2pqX",
        "outputId": "c5291e8d-374f-42f3-a7d7-805bbdef71ea"
      },
      "outputs": [
        {
          "data": {
            "text/plain": [
              "NoneType"
            ]
          },
          "execution_count": 3,
          "metadata": {},
          "output_type": "execute_result"
        }
      ],
      "source": [
        "# Storing the winner of a race\n",
        "first_cyclist_to_cross_the_line = None\n",
        "type(first_cyclist_to_cross_the_line)"
      ]
    },
    {
      "cell_type": "markdown",
      "metadata": {
        "id": "iIDFIKBd3jWY"
      },
      "source": [
        "### Boolesche Ausdrücke\n",
        "\n",
        "Wie Sie gelernt haben, arbeiten Computer mit binären Ausdrücken (z.B. `True` oder `False`). Solche Informationen können in einem einzigen Bit gespeichert werden.  Ein boolescher Wert ist entweder `True` oder `False`. Boolesche Werte werden häufig verwendet, um bestimmte Bedingungen zu erfassen, z. B. ob ein Spiel läuft oder ob ein Benutzer bestimmte Inhalte auf einer Website bearbeiten kann:\n"
      ]
    },
    {
      "cell_type": "code",
      "execution_count": null,
      "metadata": {
        "id": "5juVNDF-2eGu"
      },
      "outputs": [],
      "source": [
        "game_active = True\n",
        "can_edit = False"
      ]
    },
    {
      "cell_type": "markdown",
      "metadata": {
        "id": "ZQosHc8v4V-4"
      },
      "source": [
        "Wenn wir den Status einer booleschen Variable überprüfen wollen, können wir den Operator ```==``` verwenden. Wenn der Status von ```game_active``` tatsächlich ```True``` ist, ergibt die Auswertung einen anderen booleschen Wert ```True```. "
      ]
    },
    {
      "cell_type": "code",
      "execution_count": null,
      "metadata": {
        "colab": {
          "base_uri": "https://localhost:8080/"
        },
        "id": "tBYYozy84VXG",
        "outputId": "6cac3c28-6c76-4fe6-88d9-ace8accb92ab"
      },
      "outputs": [
        {
          "data": {
            "text/plain": [
              "True"
            ]
          },
          "execution_count": 6,
          "metadata": {},
          "output_type": "execute_result"
        }
      ],
      "source": [
        "\n",
        "game_active = True  # Zuweisung, setzt den Wert\n",
        "game_active == True # Vergleich "
      ]
    },
    {
      "cell_type": "markdown",
      "metadata": {
        "id": "MrX-a61r0MGP"
      },
      "source": [
        "Der aktuelle Wert von `game_active` ist nicht `False` deswegen gibt der folgende Vergleich `False` zurück:"
      ]
    },
    {
      "cell_type": "code",
      "execution_count": null,
      "metadata": {
        "colab": {
          "base_uri": "https://localhost:8080/"
        },
        "id": "6DJvzjID0IuJ",
        "outputId": "e8139b97-358f-4d6d-ecfb-3d243a489ae9"
      },
      "outputs": [
        {
          "data": {
            "text/plain": [
              "False"
            ]
          },
          "execution_count": 7,
          "metadata": {},
          "output_type": "execute_result"
        }
      ],
      "source": [
        "game_active == False "
      ]
    },
    {
      "cell_type": "markdown",
      "metadata": {
        "id": "eBn_8yMh42fd"
      },
      "source": [
        "Vergleichende Auswertungen sind nicht auf boolesche Werte beschränkt. Wir können auch Zeichenketten oder Zahlen vergleichen:"
      ]
    },
    {
      "cell_type": "code",
      "execution_count": null,
      "metadata": {
        "colab": {
          "base_uri": "https://localhost:8080/"
        },
        "id": "lS9VQyCy4MZg",
        "outputId": "c708723b-f96c-4ca5-cfec-3e853a7f38d7"
      },
      "outputs": [
        {
          "data": {
            "text/plain": [
              "True"
            ]
          },
          "execution_count": 8,
          "metadata": {},
          "output_type": "execute_result"
        }
      ],
      "source": [
        "\"abc\" == \"abc\""
      ]
    },
    {
      "cell_type": "code",
      "execution_count": null,
      "metadata": {
        "colab": {
          "base_uri": "https://localhost:8080/"
        },
        "id": "j4BXPq5S5CQu",
        "outputId": "61d3cc35-4818-4019-9e6b-f9e162fdf0cb"
      },
      "outputs": [
        {
          "data": {
            "text/plain": [
              "False"
            ]
          },
          "execution_count": 9,
          "metadata": {},
          "output_type": "execute_result"
        }
      ],
      "source": [
        "\"Abc\" == \"abc\""
      ]
    },
    {
      "cell_type": "code",
      "execution_count": null,
      "metadata": {
        "colab": {
          "base_uri": "https://localhost:8080/"
        },
        "id": "xexSYrPp5Dtd",
        "outputId": "da7cc917-196a-4496-83b0-e05cd91e6a11"
      },
      "outputs": [
        {
          "data": {
            "text/plain": [
              "True"
            ]
          },
          "execution_count": 13,
          "metadata": {},
          "output_type": "execute_result"
        }
      ],
      "source": [
        "1 == 1"
      ]
    },
    {
      "cell_type": "code",
      "execution_count": null,
      "metadata": {
        "colab": {
          "base_uri": "https://localhost:8080/"
        },
        "id": "rfS9Kym15FM9",
        "outputId": "9b4402ef-642f-4dcb-d56a-7cb5b600ef76"
      },
      "outputs": [
        {
          "data": {
            "text/plain": [
              "False"
            ]
          },
          "execution_count": 14,
          "metadata": {},
          "output_type": "execute_result"
        }
      ],
      "source": [
        "1 == 1.1"
      ]
    },
    {
      "cell_type": "code",
      "execution_count": null,
      "metadata": {
        "colab": {
          "base_uri": "https://localhost:8080/"
        },
        "id": "XatLbb4f5Gjs",
        "outputId": "899e84cc-643a-45c8-ce5f-a58b2efdda77"
      },
      "outputs": [
        {
          "data": {
            "text/plain": [
              "True"
            ]
          },
          "execution_count": 15,
          "metadata": {},
          "output_type": "execute_result"
        }
      ],
      "source": [
        "1 <= 1.1"
      ]
    },
    {
      "cell_type": "markdown",
      "metadata": {},
      "source": [
        "### Boolean Algebra\n",
        "\n",
        "Python kann Boolesche Ausdrücke mit den Schlüsselwörtern `and`, `or`, and `not` auswerten:"
      ]
    },
    {
      "cell_type": "code",
      "execution_count": 1,
      "metadata": {},
      "outputs": [
        {
          "name": "stdout",
          "output_type": "stream",
          "text": [
            "a and b is: False\n",
            "a or b is: True\n",
            "not a is: True\n",
            "c is: True\n"
          ]
        }
      ],
      "source": [
        "a = True\n",
        "b = False\n",
        "\n",
        "print(\"a and b is: \" + str(a and b))\n",
        "\n",
        "print(\"a or b is: \" + str(a or b))\n",
        "\n",
        "print(\"not a is: \" + str(not(b)))\n",
        "\n",
        "# we can also store the result in a new variable\n",
        "\n",
        "c = (a or b) and a\n",
        "print(\"c is: \" + str(c))"
      ]
    },
    {
      "cell_type": "markdown",
      "metadata": {
        "id": "np0wSuOn5d2G"
      },
      "source": [
        "## Listen\n",
        "\n",
        "In diesem und dem nächsten Kapitel lernen Sie was Listen sind und wie man mit den Elementen einer den Elementen einer Liste arbeitet. Mit Listen können Sie Informationen an einem Ort zu speichern, egal ob Sie nur ein paar Elemente oder Millionen von Elementen haben. Listen sind eine der mächtigsten Funktionalitäten in Python und verbinden viele wichtige Konzepte der Programmierung.\n",
        "\n",
        "\n",
        "\n",
        "\n",
        "\n",
        "\n"
      ]
    },
    {
      "cell_type": "markdown",
      "metadata": {
        "id": "9nRKlKnx5s8-"
      },
      "source": [
        "Letztes Mal haben wir eine Funktion geschrieben, die das Beschränkte Wachstum zu einem einzigen Zeitpunkt $t$ auswertet.\n",
        "Wenn wir mehrere Zeitpunkte speichern wollen, an denen wir die Ergebnisse auswerten wollen, könnten wir mehrere Variablen verwenden\n",
        "\n",
        "```\n",
        "t_in_minutes_2 = 5\n",
        "t_in_minutes_2 = 10\n",
        "t_in_minutes_2 = 15\n",
        "t_in_minutes_2 = 20\n",
        "...\n",
        "```\n",
        "\n",
        "Listen sind eine elegantere Möglichkeit, dies zu tun. Unten finden Sie nocheinmal die Implementierung des beschränkten Wachstums. Wenn wir die Temperaturentwicklung über die Zeit ausrechnen wollten, könnten wir dies auch ohne eine Liste oder Schleifer tun, indem wir die Werte der Variablen `t_in_minutes` immer wieder anpassen:\n",
        "\n",
        "\n",
        "```\n",
        "# importing the math library\n",
        "import math\n",
        "\n",
        "# here the user can define the input\n",
        "initial_temperature = 0\n",
        "maximum_temperature = 30\n",
        "growth_rate = 0.02\n",
        "\n",
        "t_in_minutes = 10\n",
        "\n",
        "\n",
        "# here the caclulation is made\n",
        "current_temperature = maximum_temperature - (maximum_temperature - initial_temperature)   * math.exp(- growth_rate*t_in_minutes)\n",
        "current_temperature\n",
        "```"
      ]
    },
    {
      "cell_type": "markdown",
      "metadata": {
        "id": "_XaT29JoESQI"
      },
      "source": [
        "#### Was ist eine Liste?\n",
        "\n",
        "Eine Liste ist eine Sammlung von Elementen in einer bestimmten Reihenfolge. Sie können eine Liste erstellen, die die Buchstaben des Alphabets, die Ziffern von 0-9 oder die Namen aller Personen in Ihrer Familie enthält. Sie können alles in eine Liste schreiben, was Sie wollen, und die Elemente in Ihrer Liste müssen nicht in einem bestimmten Zusammenhang stehen.\n",
        "\n",
        "Da eine Liste normalerweise mehr als ein Element enthält, ist es eine gute Idee, den Namen der Liste im Plural zu schreiben, wie `letters`, `digits` oder `names`.\n",
        "\n",
        "In Python zeigen eckige Klammern (``[]``) eine Liste an, und einzelne Elemente\n",
        "in der Liste werden durch Kommas getrennt. Hier ist ein einfaches Beispiel für eine Liste, die einige Arten von Fahrrädern enthält:\n",
        "\n",
        "\n"
      ]
    },
    {
      "cell_type": "code",
      "execution_count": null,
      "metadata": {
        "colab": {
          "base_uri": "https://localhost:8080/"
        },
        "id": "EWm5zz8pEZcK",
        "outputId": "ea0c29e2-1950-4cec-b1c1-f47d7b219f38"
      },
      "outputs": [
        {
          "name": "stdout",
          "output_type": "stream",
          "text": [
            "['trek', 'cannondale', 'redline', 'specialized']\n"
          ]
        }
      ],
      "source": [
        "bicycles = ['trek', 'cannondale', 'redline', 'specialized']\n",
        "print(bicycles)"
      ]
    },
    {
      "cell_type": "code",
      "execution_count": null,
      "metadata": {
        "colab": {
          "base_uri": "https://localhost:8080/"
        },
        "id": "Pz5V5RtqEppi",
        "outputId": "5a3f0a81-341f-452d-fcbe-893ff7f99501"
      },
      "outputs": [
        {
          "data": {
            "text/plain": [
              "list"
            ]
          },
          "execution_count": 18,
          "metadata": {},
          "output_type": "execute_result"
        }
      ],
      "source": [
        "type(bicycles)"
      ]
    },
    {
      "cell_type": "markdown",
      "metadata": {
        "id": "zwzxEWdyEziY"
      },
      "source": [
        "#### Zugriff auf Elemente in einer Liste\n",
        "\n",
        "Listen sind geordnete Sammlungen, so dass Sie auf jedes Element in einer Liste zugreifen können, indem Sie Python die Position oder den ``index`` des gewünschten Elements mitteilen. Um auf ein Element in einer Liste zuzugreifen, schreiben Sie den Namen der Liste gefolgt vom Index des Elements in eckigen Klammern.\n",
        "Ein Beispiel: Ziehen wir das erste Fahrrad aus der Liste Fahrräder heraus:\n"
      ]
    },
    {
      "cell_type": "code",
      "execution_count": null,
      "metadata": {
        "colab": {
          "base_uri": "https://localhost:8080/"
        },
        "id": "-182YkEHEruw",
        "outputId": "4a8e6b30-d257-4e95-e8ce-9442a9cc3da9"
      },
      "outputs": [
        {
          "name": "stdout",
          "output_type": "stream",
          "text": [
            "trek\n"
          ]
        }
      ],
      "source": [
        "print(bicycles[0])"
      ]
    },
    {
      "cell_type": "markdown",
      "metadata": {
        "id": "M2J7UgVTFCfi"
      },
      "source": [
        "##### Index Positions start at `0`, Not `1` \n",
        "\n",
        "Python betrachtet das erste Element in einer Liste als Position 0, nicht als Position 1. Dies gilt für die meisten Programmiersprachen, und der Grund hat damit zu tun, wie die Listenoperationen auf einer niedrigeren Ebene implementiert sind. \n",
        "Wenn Sie unerwartete Ergebnisse erhalten, kann dies häufig an einem einfachen Off-by-One-Fehler liegen."
      ]
    },
    {
      "cell_type": "code",
      "execution_count": null,
      "metadata": {
        "colab": {
          "base_uri": "https://localhost:8080/",
          "height": 235
        },
        "id": "iM3ja-dfE8Mg",
        "outputId": "3fd52b3f-8e61-4fcb-a122-81903bb8f8a5"
      },
      "outputs": [
        {
          "name": "stdout",
          "output_type": "stream",
          "text": [
            "cannondale\n",
            "specialized\n"
          ]
        },
        {
          "ename": "IndexError",
          "evalue": "ignored",
          "output_type": "error",
          "traceback": [
            "\u001b[0;31m---------------------------------------------------------------------------\u001b[0m",
            "\u001b[0;31mIndexError\u001b[0m                                Traceback (most recent call last)",
            "\u001b[0;32m<ipython-input-21-c25d2f545035>\u001b[0m in \u001b[0;36m<module>\u001b[0;34m()\u001b[0m\n\u001b[1;32m      2\u001b[0m \u001b[0mprint\u001b[0m\u001b[0;34m(\u001b[0m\u001b[0mbicycles\u001b[0m\u001b[0;34m[\u001b[0m\u001b[0;36m1\u001b[0m\u001b[0;34m]\u001b[0m\u001b[0;34m)\u001b[0m\u001b[0;34m\u001b[0m\u001b[0;34m\u001b[0m\u001b[0m\n\u001b[1;32m      3\u001b[0m \u001b[0mprint\u001b[0m\u001b[0;34m(\u001b[0m\u001b[0mbicycles\u001b[0m\u001b[0;34m[\u001b[0m\u001b[0;36m3\u001b[0m\u001b[0;34m]\u001b[0m\u001b[0;34m)\u001b[0m\u001b[0;34m\u001b[0m\u001b[0;34m\u001b[0m\u001b[0m\n\u001b[0;32m----> 4\u001b[0;31m \u001b[0mprint\u001b[0m\u001b[0;34m(\u001b[0m\u001b[0mbicycles\u001b[0m\u001b[0;34m[\u001b[0m\u001b[0;36m4\u001b[0m\u001b[0;34m]\u001b[0m\u001b[0;34m)\u001b[0m\u001b[0;34m\u001b[0m\u001b[0;34m\u001b[0m\u001b[0m\n\u001b[0m",
            "\u001b[0;31mIndexError\u001b[0m: list index out of range"
          ]
        }
      ],
      "source": [
        "bicycles = ['trek', 'cannondale', 'redline', 'specialized']\n",
        "print(bicycles[1])\n",
        "print(bicycles[3])\n",
        "print(bicycles[4])"
      ]
    },
    {
      "cell_type": "code",
      "execution_count": null,
      "metadata": {
        "id": "Go4jth2pz22I"
      },
      "outputs": [],
      "source": []
    },
    {
      "cell_type": "markdown",
      "metadata": {
        "id": "shBVR7cGFNLD"
      },
      "source": [
        "Python hat eine spezielle Syntax für den Zugriff auf das letzte Element in einer Liste. Wenn Sie nach dem Element bei Index `-1` fragen, gibt Python immer das letzte Element in der Liste zurück:"
      ]
    },
    {
      "cell_type": "code",
      "execution_count": null,
      "metadata": {
        "colab": {
          "base_uri": "https://localhost:8080/"
        },
        "id": "0A6I39PVFG9w",
        "outputId": "56a04bd7-a720-4d41-9251-d4a2029f178b"
      },
      "outputs": [
        {
          "name": "stdout",
          "output_type": "stream",
          "text": [
            "specialized\n"
          ]
        }
      ],
      "source": [
        "bicycles = ['trek', 'cannondale', 'redline', 'specialized']\n",
        "print(bicycles[-1])"
      ]
    },
    {
      "cell_type": "markdown",
      "metadata": {
        "id": "_IEz6BwRz2oZ"
      },
      "source": [
        "## Besprechung der Aufgaben\n",
        "\n",
        "- Sind Sie mit ein Aufgaben bis hierhin fertig geworden und haben Sie keine Fragen, so legen Sie die grüne Karte nach oben\n",
        "- Sind Sie mit den Aufgaben fertig, aber hätten gerne, dass die Lösungen nocheinmal gemeinsam besprochen werden, legen Sie die gelbe Karte nach oben\n",
        "\n",
        "![](https://www.lokalinfo.ch/fileadmin/news_import/image003_03.jpg)"
      ]
    },
    {
      "cell_type": "markdown",
      "metadata": {
        "id": "V3U_7smaFb1Q"
      },
      "source": [
        "✍️ **Aufgabe**\n",
        "\n",
        "Speichern Sie die vollständigen Namen der vier DNA-Nukleotide (Thymine, Adenine, Cytosine, Guanine) in einer Liste und verwenden Sie die ```print()```-Funktion zum Ausgeben des Satzes:\n",
        "\n",
        "\"Mein Lieblingsnukleotid ist Guanin!\"\n",
        "\n",
        "Verwenden Sie dabei die Position in der Liste.\n",
        "\n",
        "![](https://www.genome.gov/sites/default/files/media/images/tg/Nucleotide.jpg)"
      ]
    },
    {
      "cell_type": "code",
      "execution_count": 4,
      "metadata": {
        "colab": {
          "base_uri": "https://localhost:8080/"
        },
        "id": "vuHZFT782taB",
        "outputId": "e272075a-c09b-4a03-ce47-042cbc66a857"
      },
      "outputs": [
        {
          "name": "stdout",
          "output_type": "stream",
          "text": [
            "Mein Lieblingsnukleotid ist Guanine!\n"
          ]
        }
      ],
      "source": [
        "nukleotides = [\"Thymine\", \"Adenine\", \"Cytosine\", \"Guanine\"]\n",
        "print(\"Mein Lieblingsnukleotid ist {}!\".format(nukleotides[3]))"
      ]
    },
    {
      "cell_type": "markdown",
      "metadata": {
        "id": "S48u5RUSGeiT"
      },
      "source": [
        "#### Hinzufügen und Entfernen von Elementen zu/von einer Liste\n",
        "\n",
        "Python bietet mehrere Möglichkeiten, neue Daten zu bestehenden Listen hinzuzufügen.\n",
        "\n",
        "**Anhängen/Append**\n",
        "\n",
        "Anhängen von Elementen an das Ende einer Liste Die einfachste Art, ein neues Element zu einer Liste hinzuzufügen, ist das Anhängen des Elements an die Liste. Wenn Sie ein Element an eine Liste anhängen, wird das neue Element an das Ende der Liste angefügt."
      ]
    },
    {
      "cell_type": "code",
      "execution_count": null,
      "metadata": {
        "colab": {
          "base_uri": "https://localhost:8080/"
        },
        "id": "qqpMRcPKFPh_",
        "outputId": "5cbd2af9-209b-4a70-826e-bb5df7759e91"
      },
      "outputs": [
        {
          "name": "stdout",
          "output_type": "stream",
          "text": [
            "['honda', 'yamaha', 'suzuki']\n",
            "['honda', 'yamaha', 'suzuki', 'ducati']\n"
          ]
        }
      ],
      "source": [
        "motorcycles = ['honda', 'yamaha', 'suzuki']\n",
        "print(motorcycles)\n",
        "motorcycles.append('ducati')\n",
        "print(motorcycles)"
      ]
    },
    {
      "cell_type": "markdown",
      "metadata": {
        "id": "dsv18UDNGzXT"
      },
      "source": [
        "Die `append()`-Methode macht es einfach, Listen dynamisch aufzubauen. Sie können zum Beispiel mit einer leeren Liste beginnen und der Liste dann Elemente hinzufügen mit einer Reihe von append()-Anweisungen hinzufügen."
      ]
    },
    {
      "cell_type": "code",
      "execution_count": null,
      "metadata": {
        "colab": {
          "base_uri": "https://localhost:8080/"
        },
        "id": "MjQKWXQ2GniT",
        "outputId": "610f5c49-415b-48f0-ef11-745af7bad8f0"
      },
      "outputs": [
        {
          "name": "stdout",
          "output_type": "stream",
          "text": [
            "['honda', 'yamaha', 'suzuki']\n"
          ]
        }
      ],
      "source": [
        "motorcycles = []\n",
        "motorcycles.append('honda')\n",
        "motorcycles.append('yamaha')\n",
        "motorcycles.append('suzuki')\n",
        "print(motorcycles)"
      ]
    },
    {
      "cell_type": "markdown",
      "metadata": {
        "id": "Gw-EUr1CG59c"
      },
      "source": [
        "🤓 **Inserting**\n",
        "\n",
        "Sie können ein neues Element an einer beliebigen Position in Ihrer Liste hinzufügen, indem Sie die ```insert()```-Methode. Sie tun dies, indem Sie den Index des neuen Elements und den Wert des neuen Elements."
      ]
    },
    {
      "cell_type": "code",
      "execution_count": null,
      "metadata": {
        "colab": {
          "base_uri": "https://localhost:8080/"
        },
        "id": "V1-nDLbTG0n0",
        "outputId": "a16a63eb-f10f-476d-9118-9beccc4a09f3"
      },
      "outputs": [
        {
          "name": "stdout",
          "output_type": "stream",
          "text": [
            "['ducati', 'honda', 'yamaha', 'suzuki']\n"
          ]
        }
      ],
      "source": [
        "motorcycles = ['honda', 'yamaha', 'suzuki']\n",
        "motorcycles.insert(0, 'ducati')\n",
        "print(motorcycles)"
      ]
    },
    {
      "cell_type": "markdown",
      "metadata": {
        "id": "fp1SVDqBHKK7"
      },
      "source": [
        "🤓 **Removing**\n",
        "\n",
        "Entfernen eines Elements mit der Anweisung `del`\n",
        "Wenn Sie die Position des Elements kennen, das Sie aus einer Liste entfernen möchten, können Sie die `del`-Anweisung verwenden."
      ]
    },
    {
      "cell_type": "code",
      "execution_count": null,
      "metadata": {
        "colab": {
          "base_uri": "https://localhost:8080/"
        },
        "id": "d0EOBEGEHBKT",
        "outputId": "3606480b-011e-4d51-bd03-546636170214"
      },
      "outputs": [
        {
          "name": "stdout",
          "output_type": "stream",
          "text": [
            "['honda', 'yamaha', 'suzuki']\n",
            "['yamaha', 'suzuki']\n"
          ]
        }
      ],
      "source": [
        "motorcycles = ['honda', 'yamaha', 'suzuki']\n",
        "print(motorcycles)\n",
        "del motorcycles[0]\n",
        "print(motorcycles)"
      ]
    },
    {
      "cell_type": "markdown",
      "metadata": {
        "id": "SkkSBOPmHaBE"
      },
      "source": [
        "🤓 **Popping**\n",
        "\n",
        "Manchmal werden Sie den Wert eines Elements verwenden wollen, nachdem Sie es aus einer Liste entfernt haben. Zum Beispiel könnten Sie die Daten eines Experiments von allen Experimenten, die Sie auswerten müssen, erhalten wollen. \n",
        "\n",
        "Die `pop()`-Methode entfernt das letzte Element in einer Liste, aber sie lässt Sie mit diesem Element arbeiten, nachdem es entfernt wurde."
      ]
    },
    {
      "cell_type": "code",
      "execution_count": null,
      "metadata": {
        "colab": {
          "base_uri": "https://localhost:8080/"
        },
        "id": "oi8DI40-HZZT",
        "outputId": "369bd1bf-7daf-4a7d-f211-9c9be87a6d90"
      },
      "outputs": [
        {
          "name": "stdout",
          "output_type": "stream",
          "text": [
            "['21.03.2023', '22.03.2023', '24.03.2023']\n",
            "['21.03.2023', '22.03.2023']\n",
            "24.03.2023\n"
          ]
        }
      ],
      "source": [
        "lab_dates = ['21.03.2023', '22.03.2023', '24.03.2023']\n",
        "print(lab_dates)\n",
        "popped_lab_date = lab_dates.pop()\n",
        "print(lab_dates)\n",
        "print(popped_lab_date)"
      ]
    },
    {
      "cell_type": "markdown",
      "metadata": {
        "id": "L3d4iz94IXwi"
      },
      "source": [
        "Ähnlich wie `del` funktioniert auch `pop()` für jeden Index in der Liste."
      ]
    },
    {
      "cell_type": "code",
      "execution_count": null,
      "metadata": {
        "colab": {
          "base_uri": "https://localhost:8080/"
        },
        "id": "K4N_xZazIUSM",
        "outputId": "a5391165-e4c4-40b6-812f-0a857899eba9"
      },
      "outputs": [
        {
          "name": "stdout",
          "output_type": "stream",
          "text": [
            "['21.03.2023', '22.03.2023', '24.03.2023']\n",
            "['21.03.2023', '24.03.2023']\n",
            "22.03.2023\n"
          ]
        }
      ],
      "source": [
        "lab_dates = ['21.03.2023', '22.03.2023', '24.03.2023']\n",
        "print(lab_dates)\n",
        "popped_lab_dates = lab_dates.pop(1)\n",
        "print(lab_dates)\n",
        "print(popped_lab_dates)"
      ]
    },
    {
      "cell_type": "markdown",
      "metadata": {
        "id": "XnzBvVKTIkRs"
      },
      "source": [
        "🤓 **Entfernen eines Elements nach Wert**\n",
        "\n",
        "Manchmal kennt man die Position des Wertes, den man aus einer Liste entfernen möchte. Wenn Sie nur den Wert des Elements kennen, das Sie entfernen möchten, können Sie die Methode ```remove()``` verwenden.\n",
        "\n",
        "Sie wissen zum Beispiel, dass alle Experimente am 21.03.2023 fehlgeschlagen sind und möchten sie aus dem Stapel entfernen."
      ]
    },
    {
      "cell_type": "code",
      "execution_count": null,
      "metadata": {
        "colab": {
          "base_uri": "https://localhost:8080/"
        },
        "id": "DLLLcsjQHMnE",
        "outputId": "d11380f0-69ff-4a8d-f9d2-9f8080651fd6"
      },
      "outputs": [
        {
          "name": "stdout",
          "output_type": "stream",
          "text": [
            "['21.03.2023', '22.03.2023', '24.03.2023']\n",
            "['22.03.2023', '24.03.2023']\n",
            "21.03.2023\n",
            "\n",
            " Experiments on 21.03.2023 all failed.\n"
          ]
        }
      ],
      "source": [
        "lab_dates = ['21.03.2023', '22.03.2023', '24.03.2023']\n",
        "print(lab_dates)\n",
        "failed_experiments = '21.03.2023'\n",
        "lab_dates.remove(failed_experiments)\n",
        "print(lab_dates)\n",
        "print(failed_experiments)\n",
        "\n",
        "print(\"\\n Experiments on \" + failed_experiments + \" all failed.\")\n",
        "\n"
      ]
    },
    {
      "cell_type": "markdown",
      "metadata": {
        "id": "kpzfT_odP69e"
      },
      "source": [
        "#### Ordnen einer Liste\n",
        "\n",
        "Oft werden Ihre Listen in einer unvorhersehbaren Reihenfolge erstellt, weil Sie nicht immer kontrollieren können in welcher Reihenfolge die Benutzer ihre Daten eingeben. Obwohl dies in den meisten Fällen unvermeidbar ist, werden Sie Ihre Informationen häufig in einer Informationen in einer bestimmten Reihenfolge präsentieren. Manchmal möchten Sie die ursprüngliche Reihenfolge Ihrer Liste beibehalten, und ein anderes Mal wollen Sie die ursprüngliche\n",
        "Reihenfolge ändern. Python bietet eine Reihe von Möglichkeiten, Ihre Listen zu organisieren, abhängig von der jeweiligen Situation.\n",
        "\n"
      ]
    },
    {
      "cell_type": "markdown",
      "metadata": {
        "id": "7W75Eo-XQEs2"
      },
      "source": [
        "##### Dauerhaftes Sortieren einer Liste mit der Methode `sort()`\n",
        "\n",
        "Die Methode  `sort()` operiert auf der Liste und verändert diese. "
      ]
    },
    {
      "cell_type": "code",
      "execution_count": null,
      "metadata": {
        "colab": {
          "base_uri": "https://localhost:8080/"
        },
        "id": "YXG7ApQ0Ix4U",
        "outputId": "86916797-4e0f-4a95-9bda-3487adf24d79"
      },
      "outputs": [
        {
          "name": "stdout",
          "output_type": "stream",
          "text": [
            "['audi', 'bmw', 'subaru', 'toyota']\n"
          ]
        }
      ],
      "source": [
        "cars = ['bmw', 'audi', 'toyota', 'subaru']\n",
        "cars.sort()\n",
        "print(cars)"
      ]
    },
    {
      "cell_type": "code",
      "execution_count": null,
      "metadata": {
        "colab": {
          "base_uri": "https://localhost:8080/"
        },
        "id": "A_NXL7K8QFav",
        "outputId": "7e907442-43f5-42b8-b2d8-487e24ce62c1"
      },
      "outputs": [
        {
          "name": "stdout",
          "output_type": "stream",
          "text": [
            "['toyota', 'subaru', 'bmw', 'audi']\n"
          ]
        }
      ],
      "source": [
        "cars = ['bmw', 'audi', 'toyota', 'subaru']\n",
        "cars.sort(reverse=True)\n",
        "print(cars)"
      ]
    },
    {
      "cell_type": "markdown",
      "metadata": {},
      "source": [
        "Allerdings hat diese Funktion keine Rückgabe (Rückgabe-Typ `None`)"
      ]
    },
    {
      "cell_type": "code",
      "execution_count": null,
      "metadata": {},
      "outputs": [],
      "source": [
        "my_sorted_list = cars.sort(reverse=True)\n",
        "print(type(my_sorted_list))\n",
        "print(cars)\n",
        "print(my_sorted_list)"
      ]
    },
    {
      "cell_type": "markdown",
      "metadata": {
        "id": "p47OM16_QMu2"
      },
      "source": [
        "##### 🤓 Vorübergehendes Sortieren einer Liste \n",
        "\n",
        "mit der Funktion `sorted()`\n",
        "Um die ursprüngliche Reihenfolge einer Liste beizubehalten, sie aber in einer sortierten Reihenfolge darzustellen, können Sie\n",
        "können Sie die Funktion `sorted()` verwenden. Die Funktion `sorted()` übernimmt eine Liste als Parameter und gibt eine sortierte Liste zurück. Die originale Liste wird dabei nicht verändert."
      ]
    },
    {
      "cell_type": "code",
      "execution_count": null,
      "metadata": {
        "colab": {
          "base_uri": "https://localhost:8080/",
          "height": 252
        },
        "id": "4T4TWT_6QH5-",
        "outputId": "0cd246f4-d6a6-4b7c-ed88-4568336c31aa"
      },
      "outputs": [
        {
          "name": "stdout",
          "output_type": "stream",
          "text": [
            "Here is the original list:\n"
          ]
        },
        {
          "ename": "NameError",
          "evalue": "ignored",
          "output_type": "error",
          "traceback": [
            "\u001b[0;31m---------------------------------------------------------------------------\u001b[0m",
            "\u001b[0;31mNameError\u001b[0m                                 Traceback (most recent call last)",
            "\u001b[0;32m<ipython-input-27-6fdf4427dc37>\u001b[0m in \u001b[0;36m<module>\u001b[0;34m()\u001b[0m\n\u001b[1;32m      1\u001b[0m \u001b[0mprint\u001b[0m\u001b[0;34m(\u001b[0m\u001b[0;34m\"Here is the original list:\"\u001b[0m\u001b[0;34m)\u001b[0m\u001b[0;34m\u001b[0m\u001b[0;34m\u001b[0m\u001b[0m\n\u001b[0;32m----> 2\u001b[0;31m \u001b[0mprint\u001b[0m\u001b[0;34m(\u001b[0m\u001b[0mcars\u001b[0m\u001b[0;34m)\u001b[0m\u001b[0;34m\u001b[0m\u001b[0;34m\u001b[0m\u001b[0m\n\u001b[0m\u001b[1;32m      3\u001b[0m \u001b[0mprint\u001b[0m\u001b[0;34m(\u001b[0m\u001b[0;34m\"\\nHere is the sorted list:\"\u001b[0m\u001b[0;34m)\u001b[0m\u001b[0;34m\u001b[0m\u001b[0;34m\u001b[0m\u001b[0m\n\u001b[1;32m      4\u001b[0m \u001b[0mprint\u001b[0m\u001b[0;34m(\u001b[0m\u001b[0msorted\u001b[0m\u001b[0;34m(\u001b[0m\u001b[0mcars\u001b[0m\u001b[0;34m)\u001b[0m\u001b[0;34m)\u001b[0m\u001b[0;34m\u001b[0m\u001b[0;34m\u001b[0m\u001b[0m\n\u001b[1;32m      5\u001b[0m \u001b[0mprint\u001b[0m\u001b[0;34m(\u001b[0m\u001b[0;34m\"\\nHere is the original list again:\"\u001b[0m\u001b[0;34m)\u001b[0m\u001b[0;34m\u001b[0m\u001b[0;34m\u001b[0m\u001b[0m\n",
            "\u001b[0;31mNameError\u001b[0m: name 'cars' is not defined"
          ]
        }
      ],
      "source": [
        "print(\"Here is the original list:\")\n",
        "print(cars)\n",
        "print(\"\\nHere is the sorted list:\")\n",
        "print(sorted(cars))\n",
        "print(\"\\nHere is the original list again:\")\n",
        "print(cars)"
      ]
    },
    {
      "cell_type": "markdown",
      "metadata": {
        "id": "AA6QlQRBQYrH"
      },
      "source": [
        "#### Ermitteln der Länge einer Liste\n",
        "\n",
        "Mit der Funktion 'len()' können Sie schnell die Länge einer Liste ermitteln. Die Liste in diesem Beispiel hat vier Elemente, ihre Länge ist also 4:"
      ]
    },
    {
      "cell_type": "code",
      "execution_count": null,
      "metadata": {
        "colab": {
          "base_uri": "https://localhost:8080/"
        },
        "id": "KCQhB7dHQX23",
        "outputId": "7fb47f2c-1d17-4ab1-d322-069d07dc606c"
      },
      "outputs": [
        {
          "data": {
            "text/plain": [
              "4"
            ]
          },
          "execution_count": 28,
          "metadata": {},
          "output_type": "execute_result"
        }
      ],
      "source": [
        "cars = ['bmw', 'audi', 'toyota', 'subaru']\n",
        "len(cars)"
      ]
    },
    {
      "cell_type": "markdown",
      "metadata": {
        "id": "kkGlltF7RBFx"
      },
      "source": [
        "#### Vermeidung von Indexfehlern bei der Arbeit mit Listen\n",
        "\n",
        "Beachten Sie, dass der Index von 0 bis 3 reicht!"
      ]
    },
    {
      "cell_type": "code",
      "execution_count": null,
      "metadata": {
        "colab": {
          "base_uri": "https://localhost:8080/",
          "height": 167
        },
        "id": "oOm9eHQGQRDP",
        "outputId": "79168c29-b2de-4dbd-b298-fa5b04bdce1e"
      },
      "outputs": [
        {
          "ename": "IndexError",
          "evalue": "ignored",
          "output_type": "error",
          "traceback": [
            "\u001b[0;31m---------------------------------------------------------------------------\u001b[0m",
            "\u001b[0;31mIndexError\u001b[0m                                Traceback (most recent call last)",
            "\u001b[0;32m<ipython-input-40-daa29e89cfd9>\u001b[0m in \u001b[0;36m<module>\u001b[0;34m()\u001b[0m\n\u001b[0;32m----> 1\u001b[0;31m \u001b[0mcars\u001b[0m\u001b[0;34m[\u001b[0m\u001b[0;36m4\u001b[0m\u001b[0;34m]\u001b[0m\u001b[0;34m\u001b[0m\u001b[0;34m\u001b[0m\u001b[0m\n\u001b[0m",
            "\u001b[0;31mIndexError\u001b[0m: list index out of range"
          ]
        }
      ],
      "source": [
        "cars[4]"
      ]
    },
    {
      "cell_type": "markdown",
      "metadata": {
        "id": "z3uciYhjRNQq"
      },
      "source": [
        "Denken Sie daran, dass Sie immer dann, wenn Sie auf das letzte Element in einer Liste zugreifen wollen\n",
        "verwenden Sie den Index -1. Dies funktioniert immer, auch wenn sich die Liste seit dem letzten Zugriff geändert hat\n",
        "Größe geändert hat, seit Sie das letzte Mal auf sie zugegriffen haben:"
      ]
    },
    {
      "cell_type": "code",
      "execution_count": null,
      "metadata": {
        "colab": {
          "base_uri": "https://localhost:8080/",
          "height": 35
        },
        "id": "Yv6sO0_NRMbq",
        "outputId": "66b9ac86-0b39-407a-df08-7c67c3fdecd5"
      },
      "outputs": [
        {
          "data": {
            "application/vnd.google.colaboratory.intrinsic+json": {
              "type": "string"
            },
            "text/plain": [
              "'subaru'"
            ]
          },
          "execution_count": 29,
          "metadata": {},
          "output_type": "execute_result"
        }
      ],
      "source": [
        "cars[-1]"
      ]
    },
    {
      "cell_type": "code",
      "execution_count": null,
      "metadata": {
        "colab": {
          "base_uri": "https://localhost:8080/",
          "height": 35
        },
        "id": "ZFqbhXLWRQLi",
        "outputId": "274ffb45-10dd-488c-bbe6-055b9a1d3bb0"
      },
      "outputs": [
        {
          "data": {
            "application/vnd.google.colaboratory.intrinsic+json": {
              "type": "string"
            },
            "text/plain": [
              "'subaru'"
            ]
          },
          "execution_count": 30,
          "metadata": {},
          "output_type": "execute_result"
        }
      ],
      "source": [
        "cars[len(cars)-1]"
      ]
    },
    {
      "cell_type": "markdown",
      "metadata": {
        "id": "1s1zdv0bQs-Z"
      },
      "source": [
        "✍️ **Aufgabe**\n",
        "\n",
        "Die Welt sehen: Denken Sie an mindestens fünf Orte auf der Welt, die Sie gerne\n",
        "besuchen.\n",
        "- Speichern Sie die Orte in einer Liste. Achten Sie darauf, dass die Liste nicht in alphabetischer Reihenfolge ist.\n",
        "- Drucken Sie Ihre Liste in ihrer ursprünglichen Reihenfolge aus. Kümmern Sie sich nicht darum, die Liste ordentlich zu drucken, drucken Sie sie einfach als rohe Python-Liste aus.\n",
        "- 🤓 Verwenden Sie sorted(), um die Liste in alphabetischer Reihenfolge zu drucken, ohne die eigentlichen Liste zu ändern.\n",
        "- 🤓 Zeigen Sie, dass Ihre Liste immer noch in ihrer ursprünglichen Reihenfolge ist, indem Sie sie ausdrucken.\n",
        "- 🤓 Verwenden Sie sorted(), um Ihre Liste in umgekehrter alphabetischer Reihenfolge zu drucken, ohne die\n",
        "ohne die Reihenfolge der ursprünglichen Liste zu ändern.\n",
        "- 🤓 Zeigen Sie, dass Ihre Liste immer noch in der ursprünglichen Reihenfolge ist, indem Sie sie erneut ausdrucken.\n",
        "- 🤓 Verwenden Sie reverse=True, um die Reihenfolge der Liste zu ändern. Drucken Sie die Liste aus, um zu zeigen, dass ihre\n",
        "Reihenfolge geändert hat.\n",
        "- 🤓Verwenden Sie reverse=True, um die Reihenfolge der Liste erneut zu ändern. Drucken Sie die Liste aus, um zu zeigen\n",
        "- Verwenden Sie sort(), um die Liste so zu ändern, dass sie in alphabetischer Reihenfolge gespeichert ist. Drucken Sie die\n",
        "Liste aus, um zu zeigen, dass die Reihenfolge geändert wurde.\n",
        "- Verwenden Sie sort(), um die Liste in umgekehrter alphabetischer Reihenfolge zu speichern.\n",
        "\n",
        "Drucken Sie die Liste aus, um zu zeigen, dass die Reihenfolge geändert wurde."
      ]
    },
    {
      "cell_type": "code",
      "execution_count": null,
      "metadata": {
        "id": "ZXMjL4daRD9Z"
      },
      "outputs": [],
      "source": [
        "#1\n",
        "list_of_places = [\"Tirol\", \"Burgenland\", \"Wachau\", \"Finale Ligure\", \"Provence\"]\n",
        "\n",
        "#2\n",
        "print(list_of_places)\n",
        "\n",
        "#3\n",
        "print(sorted(list_of_places))\n",
        "\n",
        "#4\n",
        "print(list_of_places)\n",
        "\n",
        "#5\n",
        "print(sorted(list_of_places,reverse=False))\n",
        "\n",
        "#6\n",
        "print(list_of_places)\n",
        "\n",
        "#7\n",
        "print(sorted(list_of_places,reverse=True))\n",
        "\n",
        "#8\n",
        "print(list_of_places)\n",
        "\n",
        "#9\n",
        "list_of_places.sort(reverse=False)\n",
        "print(list_of_places)\n",
        "\n",
        "#10\n",
        "list_of_places.sort(reverse=False)"
      ]
    },
    {
      "cell_type": "markdown",
      "metadata": {
        "id": "wWEpM86UbSEJ"
      },
      "source": [
        "## Besprechung der Aufgaben\n",
        "\n",
        "- Sind Sie mit ein Aufgaben bis hierhin fertig geworden und haben Sie keine Fragen, so legen Sie die grüne Karte nach oben\n",
        "- Sind Sie mit den Aufgaben fertig, aber hätten gerne, dass die Lösungen nocheinmal gemeinsam besprochen werden, legen Sie die gelbe Karte nach oben\n",
        "\n",
        "![](https://www.lokalinfo.ch/fileadmin/news_import/image003_03.jpg)"
      ]
    },
    {
      "cell_type": "markdown",
      "metadata": {
        "id": "id86f6xNRady"
      },
      "source": [
        "## Arbeiten mit Listen\n",
        "\n",
        "Sie können nun Listen erstellen und mit den einzelnen Elementen einer Liste zu arbeiten. In diesem Kapitel lernen Sie, wie Sie mit wenigen Zeilen Code durch eine ganze Liste durchlaufen, egal wie lang die Liste ist. Mit einer Schleife können Sie die gleiche Aktion oder eine Reihe von Aktionen durchführen,\n",
        "mit jedem Element in einer Liste durchführen. So können Sie effizient arbeiten mit Listen beliebiger Länge arbeiten, einschließlich solcher mit Tausenden oder sogar Millionen von Elementen.\n",
        "\n",
        "\n",
        "\n"
      ]
    },
    {
      "cell_type": "markdown",
      "metadata": {
        "id": "rFSTdPwdTd1P"
      },
      "source": [
        "### Schleifen über eine ganze Liste\n",
        "\n",
        "Oft möchte man alle Einträge in einer Liste durchlaufen und mit jedem Eintrag die gleiche Aufgabe mit jedem Eintrag durchführen. In einem Spiel möchten Sie zum Beispiel jedes Element auf dem Bildschirm um denselben Betrag verschieben.\n",
        "Element auf dem Bildschirm um denselben Betrag verschieben, oder in einer Liste mit Zahlen vielleicht dieselbe statistische Operation für jedes Element durchführen. Oder vielleicht möchten Sie jede Überschrift aus einer Liste von Artikeln auf einer Website anzeigen lassen.\n",
        "Wenn Sie die gleiche Aktion mit jedem Element in einer Liste durchführen wollen, können Sie die for-Schleife von Python verwenden.\n",
        "\n",
        "Stellen Sie sich vor, Sie haben eine Liste mit allen Terminen, an denen Sie `n` Experimente im Labor gemacht haben. Mit dem Befehl ``for`` können Sie eine Schleife durch die Liste ziehen.\n",
        "\n",
        "- Wir beginnen damit, eine Liste zu definieren, wie wir es zuvor getan haben. Als nächstes, definieren wir eine **for-Schleife**. Diese Zeile weist Python an, ein Datum aus der Liste `lab_dates` zu ziehen und es in der Variablen `lab_date` zu speichern. Dann sagen wir Python, dass es das Datum ausgeben soll, das gerade in `lab_date` gespeichert wurde. Python wiederholt dann die Zeilen 2 und 3, einmal für jedes Datum in der Liste."
      ]
    },
    {
      "cell_type": "code",
      "execution_count": null,
      "metadata": {
        "colab": {
          "base_uri": "https://localhost:8080/"
        },
        "id": "OeEwsQuYQqhx",
        "outputId": "1ce88088-827b-45ab-9db5-8498d2a8e148"
      },
      "outputs": [
        {
          "name": "stdout",
          "output_type": "stream",
          "text": [
            "There was a lab on 21.03.2023.\n",
            "There was a lab on 22.03.2023.\n",
            "There was a lab on 24.03.2023.\n"
          ]
        }
      ],
      "source": [
        "lab_dates = ['21.03.2023', '22.03.2023', '24.03.2023']\n",
        "for lab_date in lab_dates:\n",
        "  print(\"There was a lab on {}.\".format(lab_date))"
      ]
    },
    {
      "cell_type": "markdown",
      "metadata": {
        "id": "VZ524WX8TKI1"
      },
      "source": [
        "Wenn Sie zum ersten Mal Schleifen verwenden, denken Sie daran, dass der Satz von\n",
        "Schritten für jedes Element in der Liste einmal wiederholt wird, unabhängig davon, wie viele Elemente in der Liste sind. Wenn Sie eine Million Einträge in Ihrer Liste haben, wiederholt Python diese Schritte eine Million Mal - und normalerweise sehr schnell.\n",
        "\n",
        "Denken Sie beim Schreiben Ihrer eigenen for-Schleifen auch daran, dass Sie\n",
        "Namen für die temporäre Variable, die jeden Wert in der Liste enthält, frei wählen können.\n",
        "Es ist jedoch hilfreich, einen aussagekräftigen Namen zu wählen, der für ein\n",
        "einzelnes Element der Liste darstellt. So können Sie beispielsweise eine for-Schleife wie folgt beginnen für eine Liste von Katzen, eine Liste von Hunden und eine allgemeine Liste von Elementen:"
      ]
    },
    {
      "cell_type": "markdown",
      "metadata": {
        "id": "yEuILf7TTJv9"
      },
      "source": [
        "```\n",
        "for lab_date in lab_dates:\n",
        "for cat in cats:\n",
        "for dog in dogs:\n",
        "for item in list_of_items:\n",
        "```"
      ]
    },
    {
      "cell_type": "markdown",
      "metadata": {
        "id": "qKaniznTTZU-"
      },
      "source": [
        "Umfang der Schleife\n",
        "\n",
        "Python verwendet Einrückungen (Leerzeichen), um anzuzeigen, dass eine Zeile Code Teil der Schleife ist. Die ersten beiden `print()`-Anweisungen stehen innerhalb der Schleife. Die letzte Anweisung liegt außerhalb der Schleife und wird daher nur einmal am Ende ausgeführt.\n",
        "\n",
        "Eine Einrückung in Python besteht normalerweise aus vier Leerzeichen (`\"    \"`), der schnellere Weg eine Einrückung zu erzeugen ist die Tabulator-Taste (↹)\n"
      ]
    },
    {
      "cell_type": "code",
      "execution_count": null,
      "metadata": {
        "colab": {
          "base_uri": "https://localhost:8080/"
        },
        "id": "3r3FHyelTJkI",
        "outputId": "ff5259e5-38e5-4235-b16f-d684098df64b"
      },
      "outputs": [
        {
          "name": "stdout",
          "output_type": "stream",
          "text": [
            "There was a lab on 21.03.2023.\n",
            "The lab was a great sucess!\n",
            "There was a lab on 22.03.2023.\n",
            "The lab was a great sucess!\n",
            "There was a lab on 24.03.2023.\n",
            "The lab was a great sucess!\n",
            "There were 3 labs in total.\n"
          ]
        }
      ],
      "source": [
        "lab_dates = ['21.03.2023', '22.03.2023', '24.03.2023']\n",
        "for lab_date in lab_dates:\n",
        "  print(\"There was a lab on {}.\".format(lab_date))\n",
        "  print(\"The lab was a great sucess!\")\n",
        "print(\"There were {} labs in total.\".format(len(lab_dates)))"
      ]
    },
    {
      "cell_type": "markdown",
      "metadata": {
        "id": "8CHZH2DWUXrH"
      },
      "source": [
        "### Fehler bei der Einrückung vermeiden\n",
        "\n",
        "Python verwendet Einrückungen, um festzustellen, wann eine Codezeile mit der darüber liegenden Zeile verbunden ist.\n",
        "Die Einrückung in Python macht den Code sehr einfach zu lesen. Im Grunde verwendet Python Leerraum, um Sie zu zwingen, sauber formatierten Code mit einer klaren visuellen Struktur zu schreiben. In längeren Python-Programmen werden Sie feststellen, dass Codeblöcke auf verschiedenen Ebenen eingerückt sind. Diese Einrückungsebenen helfen Ihnen, einen Überblick über die Gesamtorganisation des Programms zu bekommen.\n",
        "\n",
        "Wenn Sie anfangen, Code zu schreiben, der auf die richtige Einrückung angewiesen ist, müssen Sie\n",
        "müssen Sie auf einige häufige Einrückungsfehler achten."
      ]
    },
    {
      "cell_type": "code",
      "execution_count": null,
      "metadata": {
        "colab": {
          "base_uri": "https://localhost:8080/",
          "height": 132
        },
        "id": "T6tYf4AAR0d0",
        "outputId": "13d7592c-e54a-46ec-ff5c-bbe96203c8b1"
      },
      "outputs": [
        {
          "ename": "IndentationError",
          "evalue": "ignored",
          "output_type": "error",
          "traceback": [
            "\u001b[0;36m  File \u001b[0;32m\"<ipython-input-50-bc3e0c643e2b>\"\u001b[0;36m, line \u001b[0;32m3\u001b[0m\n\u001b[0;31m    print(magician)\u001b[0m\n\u001b[0m        ^\u001b[0m\n\u001b[0;31mIndentationError\u001b[0m\u001b[0;31m:\u001b[0m expected an indented block\n"
          ]
        }
      ],
      "source": [
        "magicians = ['alice', 'david', 'carolina']\n",
        "for magician in magicians:\n",
        "print(magician)"
      ]
    },
    {
      "cell_type": "markdown",
      "metadata": {
        "id": "VNf1E2WsUqgh"
      },
      "source": [
        "Sie können diese Art von Einrückungsfehler in der Regel beheben, indem Sie die\n",
        "Zeile oder Zeilen unmittelbar nach der for-Anweisung einrücken.\n",
        "\n",
        "Wenn Sie versehentlich eine Zeile einrücken, die nicht eingerückt werden muss, informiert Python Sie über den unerwarteten Einzug:"
      ]
    },
    {
      "cell_type": "code",
      "execution_count": null,
      "metadata": {
        "colab": {
          "base_uri": "https://localhost:8080/",
          "height": 132
        },
        "id": "HOIB42ObUwBH",
        "outputId": "d523b5f5-3f5b-4224-ffe5-104d9f4ca6a6"
      },
      "outputs": [
        {
          "ename": "IndentationError",
          "evalue": "ignored",
          "output_type": "error",
          "traceback": [
            "\u001b[0;36m  File \u001b[0;32m\"<ipython-input-51-f718f9c5ce5d>\"\u001b[0;36m, line \u001b[0;32m2\u001b[0m\n\u001b[0;31m    print(message)\u001b[0m\n\u001b[0m    ^\u001b[0m\n\u001b[0;31mIndentationError\u001b[0m\u001b[0;31m:\u001b[0m unexpected indent\n"
          ]
        }
      ],
      "source": [
        "message = \"Hello Python world!\"\n",
        "  print(message)"
      ]
    },
    {
      "cell_type": "markdown",
      "metadata": {
        "id": "pxOYyOecVkG7"
      },
      "source": [
        "### Numerische Listen erstellen\n",
        "\n",
        "Es gibt viele Gründe, eine Reihe von Zahlen zu speichern. Zum Beispiel müssen Sie die Positionen der einzelnen Spielfiguren in einem Spiel aufzeichnen, und Sie möchten vielleicht auch die Highscores der Spieler speichern. Bei Datenvisualisierungen werden Sie fast immer mit Zahlenreihen arbeiten, z. B. Temperaturen, Entfernungen, Bevölkerungsgrößen oder Längen- und Breitengrade, neben anderen Arten von numerischen Mengen.\n",
        "Listen sind ideal zum Speichern von Zahlenmengen, und Python bietet eine Reihe von Werkzeuge zur Verfügung, die Ihnen helfen, effizient mit Listen von Zahlen zu arbeiten. Sobald Sie verstanden haben, wie man diese Werkzeuge effektiv einsetzt, wird Ihr Code auch dann gut funktionieren wenn Ihre Listen Millionen von Elementen enthalten."
      ]
    },
    {
      "cell_type": "markdown",
      "metadata": {
        "id": "w1muWG4XYoBl"
      },
      "source": [
        "#### Verwendung der Funktion range()\n",
        "Pythons Funktion `range()` macht es einfach, eine Reihe von Zahlen zu erzeugen.\n",
        "Zum Beispiel können Sie die Funktion `range()` verwenden, um eine Reihe von Zahlen zu drucken wie hier:"
      ]
    },
    {
      "cell_type": "code",
      "execution_count": null,
      "metadata": {
        "colab": {
          "base_uri": "https://localhost:8080/"
        },
        "id": "Gwna3ZN0Uv-w",
        "outputId": "6c00adef-591c-4933-d690-07d4e80abb14"
      },
      "outputs": [
        {
          "name": "stdout",
          "output_type": "stream",
          "text": [
            "1\n",
            "2\n",
            "3\n",
            "4\n"
          ]
        }
      ],
      "source": [
        "for value in range(1,5):\n",
        "  print(value)"
      ]
    },
    {
      "cell_type": "markdown",
      "metadata": {
        "id": "sUHlJS_XY653"
      },
      "source": [
        "Obwohl dieser Code so aussieht, als sollte er die Zahlen von 1 bis 5 ausgeben, wird die Zahl 5 nicht ausgegeben.\n",
        "Wenn Ihre Ausgabe anders ist als das, was Sie erwarten, wenn Sie die Funktion\n",
        "`range()` verwenden, versuchen Sie, den Endwert um 1 zu erhöhen.\n"
      ]
    },
    {
      "cell_type": "markdown",
      "metadata": {
        "id": "z-nbxfC5ZNzV"
      },
      "source": [
        "#### Mit range() eine Liste von Zahlen erstellen\n",
        "\n",
        "Wie Sie in der nächsten Zeile sehen, ist ein Bereich ein spezieller Datentyp in Python. Wie Listen können wir auch Bereiche in einer for-Schleife verwenden (Siehe Beispiel zuvor). "
      ]
    },
    {
      "cell_type": "code",
      "execution_count": null,
      "metadata": {
        "colab": {
          "base_uri": "https://localhost:8080/"
        },
        "id": "JWLp0UWiZROU",
        "outputId": "39bc8d9b-afd6-49ce-abe4-d4740f3ce03a"
      },
      "outputs": [
        {
          "data": {
            "text/plain": [
              "range"
            ]
          },
          "execution_count": 2,
          "metadata": {},
          "output_type": "execute_result"
        }
      ],
      "source": [
        "type(range(1,5))"
      ]
    },
    {
      "cell_type": "markdown",
      "metadata": {
        "id": "oE55QVtOZRtV"
      },
      "source": [
        "Mit `range()` kann aber auch eine Liste von Zahlen erstellt werden, wenn Sie die Range mit der Funtion ``list()`` in eine Liste umwandeln (dies ist ähnlich zum Prinzip das Castings, das wir bereits angewendet haben). Wenn Sie `list()` um einen Aufruf der Funktion `range()` einschließen, wird die Ausgabe eine Liste von Zahlen sein."
      ]
    },
    {
      "cell_type": "code",
      "execution_count": null,
      "metadata": {
        "colab": {
          "base_uri": "https://localhost:8080/"
        },
        "id": "N_rUDyabY542",
        "outputId": "7d0c64f8-1ace-4ce8-dc64-52a9258ffce3"
      },
      "outputs": [
        {
          "name": "stdout",
          "output_type": "stream",
          "text": [
            "[1, 2, 3, 4, 5]\n"
          ]
        }
      ],
      "source": [
        "numbers = list(range(1,6))\n",
        "print(numbers)"
      ]
    },
    {
      "cell_type": "markdown",
      "metadata": {
        "id": "gs1xGDTnaEF-"
      },
      "source": [
        "Wir können auch die Funktion `range()` verwenden, um Python anzuweisen, die Zahlen in einem bestimmten Bereich zu überspringen.\n",
        "Gewöhnen Sie sich an die [Dokumentation](https://docs.python.org/3/library/stdtypes.html#range) von Funktionen zu lesen. Hier stehen häufig Informationen, die Ihnen das Schreiben von Code erleichtern.\n",
        "So würden wir zum Beispiel die geraden Zahlen auflisten zwischen 1 und 10 auflisten:"
      ]
    },
    {
      "cell_type": "code",
      "execution_count": null,
      "metadata": {
        "colab": {
          "base_uri": "https://localhost:8080/"
        },
        "id": "Njlm4x-taFmA",
        "outputId": "1651c9e1-93da-4d2e-d75c-d3da1461c966"
      },
      "outputs": [
        {
          "name": "stdout",
          "output_type": "stream",
          "text": [
            "[2, 4, 6, 8, 10]\n"
          ]
        }
      ],
      "source": [
        "even_numbers = list(range(2,11,2))\n",
        "print(even_numbers)"
      ]
    },
    {
      "cell_type": "markdown",
      "metadata": {
        "id": "hNaO6oSgbaOJ"
      },
      "source": [
        "## Besprechung der Aufgaben\n",
        "\n",
        "- Sind Sie mit ein Aufgaben bis hierhin fertig geworden und haben Sie keine Fragen, so legen Sie die grüne Karte nach oben\n",
        "- Sind Sie mit den Aufgaben fertig, aber hätten gerne, dass die Lösungen nocheinmal gemeinsam besprochen werden, legen Sie die gelbe Karte nach oben\n",
        "\n",
        "![](https://www.lokalinfo.ch/fileadmin/news_import/image003_03.jpg)"
      ]
    },
    {
      "cell_type": "markdown",
      "metadata": {
        "id": "XAzyDh7dV4IC"
      },
      "source": [
        "🏆 **Aufgabe**\n",
        "\n",
        "Fügen Sie den Code aus dem Beschränkten Wachstum in eine for-Schleife ein, um die Ergebnisse von $t=0$ bis $t=100$ in Schritten von $5$ zu erhalten. Nutzen Sie dafür eine Range oder eine Liste, die Sie aus der Range erstellen.\n",
        "\n",
        "Passen Sie auch den String an, so dass die Simulationsparameter zu Beginn der Simulation nur einmal erwähnt werden\n",
        "\n",
        "*Hinweis*: Überlegen sie zunächst, welche bereiche des Codes in der Schleife müssen (also wiederholt werden) und welche nicht.\n",
        "\n",
        "```\n",
        "# importing the math library\n",
        "import math\n",
        "\n",
        "# here the user can define the input\n",
        "initial_temperature = 0\n",
        "maximum_temperature = 30\n",
        "growth_rate = 0.02\n",
        "\n",
        "t_in_minutes = 10\n",
        "\n",
        "\n",
        "# here the caclulation is made\n",
        "current_temperature = maximum_temperatur - (maximum_temperatur - initial_temperature)   * math.exp(- growth_rate*t_in_minutes)\n",
        "\n",
        "\n",
        "# here, we print out the results\n",
        "print(\"Started simulation with the following parameters: \\n inital temperature: {} \\n maximum temperature: {} \\n growth rate: {}\".format(initial_temperature, maximum_temperature, growth_rate)) \n",
        "\n",
        "print(\"The temperature after {0} minutes is {1:.2f} °C\".format(t_in_minutes, current_temperature))\n",
        "```\n",
        "\n"
      ]
    },
    {
      "cell_type": "code",
      "execution_count": 14,
      "metadata": {
        "colab": {
          "base_uri": "https://localhost:8080/"
        },
        "id": "YtC6fnaMUmo6",
        "outputId": "b7efe4bd-8f1f-4404-e77c-937e4468e405"
      },
      "outputs": [
        {
          "name": "stdout",
          "output_type": "stream",
          "text": [
            "Started simulation with the following parameters: \n",
            " inital temperature: 0 \n",
            " maximum temperature: 30 \n",
            " growth rate: 0.02\n",
            "The temperature after 0 minutes is 0.00 °C\n",
            "The temperature after 5 minutes is 2.85 °C\n",
            "The temperature after 10 minutes is 5.44 °C\n",
            "The temperature after 15 minutes is 7.78 °C\n",
            "The temperature after 20 minutes is 9.89 °C\n",
            "The temperature after 25 minutes is 11.80 °C\n",
            "The temperature after 30 minutes is 13.54 °C\n",
            "The temperature after 35 minutes is 15.10 °C\n",
            "The temperature after 40 minutes is 16.52 °C\n",
            "The temperature after 45 minutes is 17.80 °C\n",
            "The temperature after 50 minutes is 18.96 °C\n",
            "The temperature after 55 minutes is 20.01 °C\n",
            "The temperature after 60 minutes is 20.96 °C\n",
            "The temperature after 65 minutes is 21.82 °C\n",
            "The temperature after 70 minutes is 22.60 °C\n",
            "The temperature after 75 minutes is 23.31 °C\n",
            "The temperature after 80 minutes is 23.94 °C\n",
            "The temperature after 85 minutes is 24.52 °C\n",
            "The temperature after 90 minutes is 25.04 °C\n",
            "The temperature after 95 minutes is 25.51 °C\n",
            "The temperature after 100 minutes is 25.94 °C\n"
          ]
        }
      ],
      "source": [
        "# importing the math library\n",
        "import math\n",
        "\n",
        "# here the user can define the input\n",
        "initial_temperature = 0\n",
        "maximum_temperature = 30\n",
        "growth_rate = 0.02\n",
        "\n",
        "t_in_minutes = 10\n",
        "\n",
        "print(\"Started simulation with the following parameters: \\n initial temperature: {} \\n maximum temperature: {} \\n growth rate: {}\".format(initial_temperature, maximum_temperature, growth_rate)) \n",
        "\n",
        "for t_in_minutes in range(0,101,5):\n",
        "  current_temperature = maximum_temperature - (maximum_temperature - initial_temperature)   * math.exp(- growth_rate*t_in_minutes)\n",
        "\n",
        "\n",
        "  print(\"The temperature after {0} minutes is {1:.2f} °C\".format(t_in_minutes, current_temperature))\n",
        "\n"
      ]
    },
    {
      "cell_type": "markdown",
      "metadata": {
        "id": "OprKjLA53QH6"
      },
      "source": [
        "## Besprechung der Aufgaben\n",
        "\n",
        "- Sind Sie mit ein Aufgaben bis hierhin fertig geworden und haben Sie keine Fragen, so legen Sie die grüne Karte nach oben\n",
        "- Sind Sie mit den Aufgaben fertig, aber hätten gerne, dass die Lösungen nocheinmal gemeinsam besprochen werden, legen Sie die gelbe Karte nach oben\n",
        "\n",
        "![](https://www.lokalinfo.ch/fileadmin/news_import/image003_03.jpg)"
      ]
    },
    {
      "cell_type": "markdown",
      "metadata": {
        "id": "k-AgawptePEk"
      },
      "source": [
        "#### Einfache Statistik mit einer Liste von Zahlen\n",
        "\n",
        "Einige Python-Funktionen sind spezifisch für Listen von Zahlen. Zum Beispiel können Sie auf einfache Weise das Minimum, Maximum und die Summe einer Liste von Zahlen ermitteln:"
      ]
    },
    {
      "cell_type": "code",
      "execution_count": null,
      "metadata": {
        "colab": {
          "base_uri": "https://localhost:8080/"
        },
        "id": "Xa5UVDD9eXWW",
        "outputId": "36862123-27be-4ac7-faf8-4c5cbf56ef31"
      },
      "outputs": [
        {
          "data": {
            "text/plain": [
              "0"
            ]
          },
          "execution_count": 13,
          "metadata": {},
          "output_type": "execute_result"
        }
      ],
      "source": [
        "digits = [1, 2, 3, 4, 5, 6, 7, 8, 9, 0]\n",
        "min(digits)"
      ]
    },
    {
      "cell_type": "code",
      "execution_count": null,
      "metadata": {
        "colab": {
          "base_uri": "https://localhost:8080/"
        },
        "id": "Q1daHA3xeXPr",
        "outputId": "c8889a05-5360-42f6-9a56-a7bf74d0bf60"
      },
      "outputs": [
        {
          "data": {
            "text/plain": [
              "9"
            ]
          },
          "execution_count": 14,
          "metadata": {},
          "output_type": "execute_result"
        }
      ],
      "source": [
        "max(digits)"
      ]
    },
    {
      "cell_type": "code",
      "execution_count": null,
      "metadata": {
        "colab": {
          "base_uri": "https://localhost:8080/"
        },
        "id": "q9nrWLxMeXIS",
        "outputId": "4eded3fb-6c1a-488f-81f7-2d80ed6ccb3b"
      },
      "outputs": [
        {
          "data": {
            "text/plain": [
              "45"
            ]
          },
          "execution_count": 15,
          "metadata": {},
          "output_type": "execute_result"
        }
      ],
      "source": [
        "sum(digits)"
      ]
    },
    {
      "cell_type": "markdown",
      "metadata": {
        "id": "I4UywqU4efEj"
      },
      "source": [
        "✍️  **Aufgabe**\n",
        "\n",
        "Berechnen Sie den Mittelwert (Durchschnitt) der Liste `digits` indem Sie die Funktionen `sum()` und `len()` nutzen. "
      ]
    },
    {
      "cell_type": "code",
      "execution_count": null,
      "metadata": {
        "colab": {
          "base_uri": "https://localhost:8080/"
        },
        "id": "IZiklKBAeeki",
        "outputId": "9b5efdd4-7e9b-488a-b58a-0f6d11d175d0"
      },
      "outputs": [
        {
          "data": {
            "text/plain": [
              "4.5"
            ]
          },
          "execution_count": 16,
          "metadata": {},
          "output_type": "execute_result"
        }
      ],
      "source": [
        "mean =  sum(digits) / len(digits)\n",
        "mean"
      ]
    },
    {
      "cell_type": "markdown",
      "metadata": {
        "id": "KUUuWLcBezIX"
      },
      "source": [
        "#### 🤓 List Comprehensions\n",
        "\n",
        "sind eine elegante (pythonische) Methode zur Erzeugung numerischer Listen.\n",
        "\n",
        "Eine List Comprehension kombiniert die for-Schleife und die Erzeugung neuer Elemente in einer Zeile und hängt automatisch fügt jedes neue Element an. List Comprehensions werden Anfängern nicht immer vorgestellt, da sie etwas umgewöhnlich aussehen. Allerdings werden Sie ihnen sicher bald im Code anderer Programmierer begegnen.\n",
        "\n",
        "🤓✍️ **Aufgabe**\n",
        "Schreiben Sie das folgende List Comprehension in eine reguläre Form mit einem for-loop um.\n"
      ]
    },
    {
      "cell_type": "code",
      "execution_count": null,
      "metadata": {
        "colab": {
          "base_uri": "https://localhost:8080/"
        },
        "id": "_ZNv1V7ufBH8",
        "outputId": "e47c8b69-cb94-4ef4-96e8-8fc4e7924b13"
      },
      "outputs": [
        {
          "name": "stdout",
          "output_type": "stream",
          "text": [
            "[1, 4, 9, 16, 25, 36, 49, 64, 81, 100]\n"
          ]
        }
      ],
      "source": [
        "squares = [value**2 for value in range(1,11)]\n",
        "print(squares)"
      ]
    },
    {
      "cell_type": "code",
      "execution_count": null,
      "metadata": {
        "colab": {
          "base_uri": "https://localhost:8080/"
        },
        "id": "fFoHTV0yfBAb",
        "outputId": "d6a2e642-fe2b-4ed6-a971-1f9b9fa2bedf"
      },
      "outputs": [
        {
          "name": "stdout",
          "output_type": "stream",
          "text": [
            "[1, 4, 9, 16, 25, 36, 49, 64, 81, 100]\n"
          ]
        }
      ],
      "source": [
        "squares = []\n",
        "for value in range(1,11):\n",
        "  squares.append(value**2)\n",
        "print(squares)"
      ]
    },
    {
      "cell_type": "markdown",
      "metadata": {
        "id": "bS0sgd6Kfutf"
      },
      "source": [
        "✍️ **Aufgabe**\n",
        "\n",
        "- Zählen bis zwanzig: Verwenden Sie eine for-Schleife, um die Zahlen von 1 bis einschließlich 20 auszugeben.\n",
        "- Eine Million: Erstellen Sie eine Liste mit den Zahlen von eins bis eine Million und verwenden Sie dann `min()` und `max()`, um sicherzustellen, dass Ihre Liste tatsächlich bei eins beginnt und bei einer Million endet. Verwenden Sie auch die Funktion `sum()`, um zu sehen, wie schnell Python eine Million Zahlen addieren kann.\n",
        "- Berechnen Sie dann den Mittelwert."
      ]
    },
    {
      "cell_type": "code",
      "execution_count": null,
      "metadata": {
        "colab": {
          "base_uri": "https://localhost:8080/"
        },
        "id": "0tBx6ONSfTFV",
        "outputId": "dd387b93-1a16-4fa6-b06d-7b4e606c4ea1"
      },
      "outputs": [
        {
          "name": "stdout",
          "output_type": "stream",
          "text": [
            "1\n",
            "2\n",
            "3\n",
            "4\n",
            "5\n",
            "6\n",
            "7\n",
            "8\n",
            "9\n",
            "10\n",
            "11\n",
            "12\n",
            "13\n",
            "14\n",
            "15\n",
            "16\n",
            "17\n",
            "18\n",
            "19\n",
            "20\n"
          ]
        }
      ],
      "source": [
        "for value in range(1,21):\n",
        "  print(value)"
      ]
    },
    {
      "cell_type": "code",
      "execution_count": null,
      "metadata": {
        "colab": {
          "base_uri": "https://localhost:8080/"
        },
        "id": "-jcQ5KA5vXAn",
        "outputId": "72b0e982-cd67-4873-8fc6-37583bb31c03"
      },
      "outputs": [
        {
          "name": "stdout",
          "output_type": "stream",
          "text": [
            "Minimum is: 1\n",
            "Maximum is: 1000000\n",
            "Sum is: 500000500000\n",
            "Mean is: 500000.5\n"
          ]
        }
      ],
      "source": [
        "numbers = []\n",
        "for value in range(1,10**6+1):\n",
        "  numbers.append(value)\n",
        "print(\"Minimum is: {}\".format(min(numbers)))\n",
        "print(\"Maximum is: {}\".format(max(numbers)))\n",
        "print(\"Sum is: {}\".format(sum(numbers)))\n",
        "print(\"Mean is: {}\".format(sum(numbers)/len(numbers)))"
      ]
    },
    {
      "cell_type": "markdown",
      "metadata": {
        "id": "zX-RloyTV10a"
      },
      "source": [
        "### Arbeiten mit einem Teil einer Liste\n",
        "\n",
        "#### Aufteilen einer Liste\n",
        "\n",
        "Um ein Slice zu erstellen, geben Sie den Index des ersten und letzten Elements an, mit dem Sie arbeiten wollen. Wie bei der Funktion `range()` stoppt Python ein Element vor dem zweiten Index, den Sie angeben. Zur Ausgabe der ersten drei Elemente, würden Sie die Indizes 0 bis 3 anfordern, was die Elemente\n",
        "0, 1 und 2.\n",
        "\n",
        "Im folgenden Beispiel geht es um eine Liste von Spielern einer Mannschaft:"
      ]
    },
    {
      "cell_type": "code",
      "execution_count": null,
      "metadata": {
        "colab": {
          "base_uri": "https://localhost:8080/"
        },
        "id": "GjQi5MRUfnAn",
        "outputId": "be3c8d53-15d7-4200-9473-d355550774ab"
      },
      "outputs": [
        {
          "name": "stdout",
          "output_type": "stream",
          "text": [
            "['charles', 'martina', 'michael']\n"
          ]
        }
      ],
      "source": [
        "players = ['charles', 'martina', 'michael', 'florence', 'eli']\n",
        "print(players[0:3])"
      ]
    },
    {
      "cell_type": "markdown",
      "metadata": {
        "id": "HFuESxMvgmGS"
      },
      "source": [
        "Sie können eine beliebige Teilmenge einer Liste erzeugen. Wenn Sie zum Beispiel das zweite, dritte und vierte Element einer Liste benötigen, beginnen Sie das Slice bei Index 1 und bei Index 4 enden:"
      ]
    },
    {
      "cell_type": "code",
      "execution_count": null,
      "metadata": {
        "colab": {
          "base_uri": "https://localhost:8080/"
        },
        "id": "Cnz8Hw6qftUw",
        "outputId": "4a1adb12-c0d1-4887-e092-bb7adbd3dd87"
      },
      "outputs": [
        {
          "name": "stdout",
          "output_type": "stream",
          "text": [
            "['martina', 'michael', 'florence']\n"
          ]
        }
      ],
      "source": [
        "print(players[1:4])"
      ]
    },
    {
      "cell_type": "markdown",
      "metadata": {
        "id": "gM2B1r89grBk"
      },
      "source": [
        "Wenn Sie den ersten Index in einem Slice weglassen, beginnt Python automatisch am Anfang der Liste:"
      ]
    },
    {
      "cell_type": "code",
      "execution_count": null,
      "metadata": {
        "colab": {
          "base_uri": "https://localhost:8080/"
        },
        "id": "4daPtT_2gqUZ",
        "outputId": "d08da340-e056-4de4-bd91-30000dc026f9"
      },
      "outputs": [
        {
          "name": "stdout",
          "output_type": "stream",
          "text": [
            "['charles', 'martina', 'michael', 'florence']\n"
          ]
        }
      ],
      "source": [
        "print(players[:4])"
      ]
    },
    {
      "cell_type": "markdown",
      "metadata": {
        "id": "GsKv9xhag1Od"
      },
      "source": [
        "Eine ähnliche Syntax funktioniert, wenn Sie einen Ausschnitt wünschen, der das Ende einer Liste umfasst.\n",
        "Wenn Sie zum Beispiel alle Elemente vom dritten bis zum letzten Element haben wollen,\n",
        "können Sie mit Index 2 beginnen und den zweiten Index weglassen:"
      ]
    },
    {
      "cell_type": "code",
      "execution_count": null,
      "metadata": {
        "colab": {
          "base_uri": "https://localhost:8080/"
        },
        "id": "45eaHEiig0qM",
        "outputId": "8bd9a47f-cef2-4474-9e3d-f1cb08c63e9c"
      },
      "outputs": [
        {
          "name": "stdout",
          "output_type": "stream",
          "text": [
            "['michael', 'florence', 'eli']\n"
          ]
        }
      ],
      "source": [
        "print(players[2:])"
      ]
    },
    {
      "cell_type": "markdown",
      "metadata": {
        "id": "YPxet8lfg_Bb"
      },
      "source": [
        "Mit dieser Syntax können Sie alle Elemente von einem beliebigen Punkt in Ihrer Liste bis zum Ende ausgeben, unabhängig von der Länge der Liste. Erinnern Sie sich, dass ein negativer Index ein Element in einer bestimmten Entfernung vom Ende der Liste ausgibt;\n",
        "Daher können Sie jedes beliebige Stück vom Ende einer Liste ausgeben. Zum Beispiel, wenn wir die letzten drei Spieler auf der Liste ausgeben wollen:"
      ]
    },
    {
      "cell_type": "code",
      "execution_count": null,
      "metadata": {
        "colab": {
          "base_uri": "https://localhost:8080/"
        },
        "id": "_CV6oxsjgnT-",
        "outputId": "6fa1215b-a3fe-482b-d70c-aa5f7c843cde"
      },
      "outputs": [
        {
          "name": "stdout",
          "output_type": "stream",
          "text": [
            "['michael', 'florence', 'eli']\n"
          ]
        }
      ],
      "source": [
        "print(players[-3:])"
      ]
    },
    {
      "cell_type": "markdown",
      "metadata": {
        "id": "1AkKlK2-hnNt"
      },
      "source": [
        "### Kopieren einer Liste\n",
        "\n",
        "Oft möchten Sie mit einer bestehenden Liste beginnen und eine völlig neue Liste erstellen die auf der ersten Liste basiert. Wir wollen uns ansehen, wie das Kopieren einer Liste funktioniert und eine Situation, in der das Kopieren einer Liste nützlich ist.\n",
        "Um eine Liste zu kopieren, können Sie ein Slice erstellen, das die gesamte ursprüngliche Liste umfasst indem man den ersten und den zweiten Index (`[:]`) weglässt. Dadurch wird Python angewiesen, ein ein Slice zu erstellen, das mit dem ersten Element beginnt und mit dem letzten Element endet, wodurch eine\n",
        "eine Kopie der gesamten Liste.\n",
        "\n",
        "Nehmen wir an, wir haben eine Liste unserer Lieblingsspeisen und wollen\n",
        "eine separate Liste der Lebensmittel erstellen, die ein Freund mag. Dieser Freund mag alles in unserer Liste, also können wir seine Liste durch Kopieren unserer Liste erstellen:"
      ]
    },
    {
      "cell_type": "code",
      "execution_count": null,
      "metadata": {
        "colab": {
          "base_uri": "https://localhost:8080/"
        },
        "id": "EqQzhrg5g6iM",
        "outputId": "ab6dd26c-b13e-4ca4-d899-01db84b497f1"
      },
      "outputs": [
        {
          "name": "stdout",
          "output_type": "stream",
          "text": [
            "My favorite foods are:\n",
            "['pizza', 'falafel', 'carrot cake']\n",
            "\n",
            "My friend's favorite foods are:\n",
            "['pizza', 'falafel', 'carrot cake']\n"
          ]
        }
      ],
      "source": [
        "my_foods = ['pizza', 'falafel', 'carrot cake']\n",
        "friend_foods = my_foods[:]\n",
        "print(\"My favorite foods are:\")\n",
        "print(my_foods)\n",
        "print(\"\\nMy friend's favorite foods are:\")\n",
        "print(friend_foods)"
      ]
    },
    {
      "cell_type": "markdown",
      "metadata": {
        "id": "X7cfrhZ2h3se"
      },
      "source": [
        "Um zu beweisen, dass wir tatsächlich zwei getrennte Listen haben, fügen wir in jede Liste ein neues Lebensmittel ein und zeigen, dass jede Liste die Lieblingsspeisen der entsprechenden Person aufzeichnet:"
      ]
    },
    {
      "cell_type": "code",
      "execution_count": null,
      "metadata": {
        "colab": {
          "base_uri": "https://localhost:8080/"
        },
        "id": "OwtNbleSh27L",
        "outputId": "1a828a8b-30cf-46c3-89fe-9d23e445b66e"
      },
      "outputs": [
        {
          "name": "stdout",
          "output_type": "stream",
          "text": [
            "My favorite foods are:\n",
            "['pizza', 'falafel', 'carrot cake', 'cannoli']\n",
            "\n",
            "My friend's favorite foods are:\n",
            "['pizza', 'falafel', 'carrot cake', 'ice cream']\n"
          ]
        }
      ],
      "source": [
        "my_foods = ['pizza', 'falafel', 'carrot cake']\n",
        "friend_foods = my_foods[:]\n",
        "my_foods.append('cannoli')\n",
        "friend_foods.append('ice cream')\n",
        "\n",
        "print(\"My favorite foods are:\")\n",
        "print(my_foods)\n",
        "\n",
        "print(\"\\nMy friend's favorite foods are:\")\n",
        "print(friend_foods)"
      ]
    },
    {
      "cell_type": "markdown",
      "metadata": {
        "id": "v3XyJArSiIZe"
      },
      "source": [
        "Die Ausgabe zeigt, dass 'Cannoli' nun in unserer Liste der Lieblingsspeisen erscheint, aber 'Eiscreme' nicht. \n",
        "Bei unserem Freund können wir sehen, dass 'Eiscreme' in der Liste auftaucht, aber 'Cannoli' nicht. \n",
        "\n",
        "Hätten wir einfach `friend_foods` gleich `my_foods` gesetzt, würden wir nicht zwei getrennte Listen erzeugen. \n",
        "\n",
        "Hier sehen Sie, was passiert, wenn Sie versuchen, eine Liste zu kopieren, ohne ein Slice zu verwenden:"
      ]
    },
    {
      "cell_type": "code",
      "execution_count": null,
      "metadata": {
        "colab": {
          "base_uri": "https://localhost:8080/"
        },
        "id": "mgRYYHg8htlN",
        "outputId": "f93b063e-ab0a-4ea7-9388-e8a62a6c4583"
      },
      "outputs": [
        {
          "name": "stdout",
          "output_type": "stream",
          "text": [
            "My favorite foods are:\n",
            "['pizza', 'falafel', 'carrot cake', 'cannoli', 'ice cream']\n",
            "\n",
            "My friend's favorite foods are:\n",
            "['pizza', 'falafel', 'carrot cake', 'cannoli', 'ice cream']\n"
          ]
        }
      ],
      "source": [
        "my_foods = ['pizza', 'falafel', 'carrot cake']\n",
        "\n",
        "# This is dangerous:\n",
        "friend_foods = my_foods\n",
        "\n",
        "my_foods.append('cannoli')\n",
        "friend_foods.append('ice cream')\n",
        "print(\"My favorite foods are:\")\n",
        "print(my_foods)\n",
        "print(\"\\nMy friend's favorite foods are:\")\n",
        "print(friend_foods)"
      ]
    },
    {
      "cell_type": "markdown",
      "metadata": {
        "id": "jIiFsIFziRCe"
      },
      "source": [
        "Anstatt eine Kopie von `my_foods` in `friend_foods` zu speichern, setzen wir\n",
        "`friend_foods` gleich `my_foods`. Diese Syntax sagt Python, dass es die neue Variable `friend_foods` mit der bestehden Liste `my_foods` zu verbinden, so dass nun beide Variablen auf dieselbe Liste (Stelle im Speicher) verweisen. \n",
        "Das Ergebnis ist, dass, wenn wir \"Cannoli\" zu `my_foods` hinzufügen, dies auch in `friend_foods` erscheint. Ebenso taucht \"Eiscreme\" in beiden Listen auf, auch wenn sie nur in `friend_foods` hinzugefügt wird.\n",
        "\n",
        "\n",
        "Dass wird aus versehen ein Objekt verändern, das wir eigentlich kopieren wollten, ist ein häufiger Fehler.\n",
        "\n",
        "Das liegt daran, dass wird es gewohnt sind das dieses Verhalten bei anderen Datentypen, wie Zahlen und Zeichenketten nicht auftritt. Dies liegt draran, das Elementare Datentypen wie Integers nicht veränderbar sind und sich die Zuweisung [deswegen anders verhält](https://www.codingem.com/python-copy-list/).\n",
        "\n",
        "![](https://www.codingem.com/wp-content/uploads/2022/02/reference.jpeg)\n",
        "\n",
        "In der Praxis, sollte man sich angewöhnen. Listen und andere komplexe Datenobjekte zu kopieren und nicht über eine Gleichsetzung zu definieren!"
      ]
    },
    {
      "cell_type": "code",
      "execution_count": 15,
      "metadata": {
        "colab": {
          "base_uri": "https://localhost:8080/"
        },
        "id": "XklxeKutiHGm",
        "outputId": "7839b19e-58dc-49b9-fb86-2d699c114806"
      },
      "outputs": [
        {
          "name": "stdout",
          "output_type": "stream",
          "text": [
            "50 10\n"
          ]
        }
      ],
      "source": [
        "# Mit primitiven Datentypen ist dies jedoch kein Problem:\n",
        "a = 10\n",
        "b = a\n",
        "a = 50\n",
        "print(a, b)"
      ]
    },
    {
      "cell_type": "markdown",
      "metadata": {
        "id": "ZaJkNYvdbrwq"
      },
      "source": [
        "## Besprechung der Aufgaben\n",
        "\n",
        "- Sind Sie mit ein Aufgaben bis hierhin fertig geworden und haben Sie keine Fragen, so legen Sie die grüne Karte nach oben\n",
        "- Sind Sie mit den Aufgaben fertig, aber hätten gerne, dass die Lösungen nocheinmal gemeinsam besprochen werden, legen Sie die gelbe Karte nach oben\n",
        "\n",
        "![](https://www.lokalinfo.ch/fileadmin/news_import/image003_03.jpg)"
      ]
    },
    {
      "cell_type": "markdown",
      "metadata": {
        "id": "jVmuRdhKeN8G"
      },
      "source": [
        "## Zusammenfassung\n",
        "\n",
        "Mit Listen haben Sie nun die wichtigste Datenstruktur kennengelernt, mit denen mehre einzelne Daten in einem Datensatz zusammengefasst werden können. Sie sind nun in der Lage Listen anzulegen und manipulieren. Außerdem haben Sie gelernt Aufgaben für eine gesamte Liste durchzuführen und so zu automatisieren. \n",
        "\n",
        "\n"
      ]
    },
    {
      "cell_type": "markdown",
      "metadata": {
        "id": "AIwaJdBGaTXB"
      },
      "source": [
        "# 🤓Optional"
      ]
    },
    {
      "cell_type": "markdown",
      "metadata": {
        "id": "QT6I33NaiimR"
      },
      "source": [
        "# 🤓 Tupel\n",
        "\n",
        "Listen eignen sich gut für die Speicherung von Elementgruppen, die sich während der Laufzeit eines Programms ändern können. Die Möglichkeit, Listen zu ändern, ist besonders wichtig, wenn Sie mit einer Liste von Benutzern auf einer Website oder einer Liste von Figuren in einem Spiel arbeiten. \n",
        "\n",
        "Manchmal möchten Sie aber auch eine Liste von Elementen erstellen, die sich nicht ändern können. Mit Tupeln können Sie genau das tun. Python bezeichnet Werte, die sich nicht ändern können, als unveränderlich, und eine unveränderliche Liste wird als Tupel bezeichnet.\n",
        "\n",
        "Tupel sind durch   `()` anstelle von `[]` gekennzeichnet und funktionieren sonst wie Listen. "
      ]
    },
    {
      "cell_type": "code",
      "execution_count": null,
      "metadata": {
        "colab": {
          "base_uri": "https://localhost:8080/"
        },
        "id": "0524KTSziMEf",
        "outputId": "35391549-29ec-4d9c-a6f9-d04c6e2fcdb8"
      },
      "outputs": [
        {
          "name": "stdout",
          "output_type": "stream",
          "text": [
            "200\n",
            "50\n"
          ]
        }
      ],
      "source": [
        "dimensions = (200, 50)\n",
        "print(dimensions[0])\n",
        "print(dimensions[1])"
      ]
    },
    {
      "cell_type": "markdown",
      "metadata": {
        "id": "4eZecwaqiuaQ"
      },
      "source": [
        "versuchen, einen Wert innerhalb eines Tupels zu ändern:"
      ]
    },
    {
      "cell_type": "code",
      "execution_count": null,
      "metadata": {
        "colab": {
          "base_uri": "https://localhost:8080/",
          "height": 167
        },
        "id": "AZeTIScjipyQ",
        "outputId": "307ab7af-673d-4da0-a199-f19e43ed7470"
      },
      "outputs": [
        {
          "ename": "TypeError",
          "evalue": "ignored",
          "output_type": "error",
          "traceback": [
            "\u001b[0;31m---------------------------------------------------------------------------\u001b[0m",
            "\u001b[0;31mTypeError\u001b[0m                                 Traceback (most recent call last)",
            "\u001b[0;32m<ipython-input-90-00271e61a311>\u001b[0m in \u001b[0;36m<module>\u001b[0;34m()\u001b[0m\n\u001b[0;32m----> 1\u001b[0;31m \u001b[0mdimensions\u001b[0m\u001b[0;34m[\u001b[0m\u001b[0;36m0\u001b[0m\u001b[0;34m]\u001b[0m \u001b[0;34m=\u001b[0m \u001b[0;36m250\u001b[0m\u001b[0;34m\u001b[0m\u001b[0;34m\u001b[0m\u001b[0m\n\u001b[0m",
            "\u001b[0;31mTypeError\u001b[0m: 'tuple' object does not support item assignment"
          ]
        }
      ],
      "source": [
        "dimensions[0] = 250"
      ]
    },
    {
      "cell_type": "markdown",
      "metadata": {
        "id": "_GMVaK-ai-gQ"
      },
      "source": [
        "Wir können ein Tupel ändern, indem wir es umdefinieren:"
      ]
    },
    {
      "cell_type": "code",
      "execution_count": null,
      "metadata": {
        "colab": {
          "base_uri": "https://localhost:8080/"
        },
        "id": "FSKKs-4sitKA",
        "outputId": "8e41bfaa-462e-42f0-9eb6-c0078738bb6a"
      },
      "outputs": [
        {
          "name": "stdout",
          "output_type": "stream",
          "text": [
            "300\n",
            "25\n"
          ]
        }
      ],
      "source": [
        "dimensions = (300, 25)\n",
        "print(dimensions[0])\n",
        "print(dimensions[1])"
      ]
    },
    {
      "cell_type": "markdown",
      "metadata": {
        "id": "xOqA30lljGvZ"
      },
      "source": [
        "✍️🤓 **Aufgabe**\n",
        "\n",
        "Sie erhalten die Daten der folgenden DNA-Sequenz.\n",
        "\n",
        "```dna_sequence = [\"A\", \"U\", \"C\", \"C\", \"G\", \"A\", \"G\", \"C\", \"U\", \"E\", \"G\",\"A\", \"G\", \"C\", \"U\", \"Z\", \"G\",\"A\", \"G\", \"C\", \"U\",]```\n",
        "\n",
        "Wie Sie sehen, müssen die Daten einige Fehler aufweisen, da Sie nur die Nukleotide A, U, C und G enthalten sollten. Bereinigen Sie zunächst die Daten, indem Sie alle fehlerhaften Elemente aus der Liste entfernen. Sie können die Funktion `remove()` verwenden oder nach einer eleganteren Methode googeln. Die `remove()` Methode entfernt jeweils nur den ersten gefundenen Wert von einer Liste.\n",
        "\n",
        "Eine Sequenz von drei Nukleotiden wird als **Codon** bezeichnet, das in eine bestimmte Aminosäure übersetzt werden kann. \n",
        "\n",
        "Als nächstes erstellen Sie eine Schleife, die nacheinander jeweils in einer Zeile die drei Nukleotid-Buchstaben aller in der Liste enthaltenden Codons ausgibt.\n",
        "\n",
        "![](https://www.genome.gov/sites/default/files/media/images/tg/Genetic-code.jpg)"
      ]
    },
    {
      "cell_type": "code",
      "execution_count": null,
      "metadata": {
        "colab": {
          "base_uri": "https://localhost:8080/"
        },
        "id": "3nbB39LWjBef",
        "outputId": "237afefb-a8ef-4e13-d587-64b81e918ec2"
      },
      "outputs": [
        {
          "name": "stdout",
          "output_type": "stream",
          "text": [
            "['A', 'U', 'C']\n",
            "['C', 'G', 'A']\n",
            "['G', 'C', 'U']\n",
            "['G', 'A', 'G']\n",
            "['C', 'U', 'E']\n",
            "['G', 'A', 'G']\n",
            "['C', 'U', 'U']\n"
          ]
        }
      ],
      "source": [
        "length_of_segments = 3\n",
        "dna_sequence = [\"A\", \"U\", \"C\", \"C\", \"G\",\"A\", \"G\", \"C\", \"U\", \"E\", \"G\",\"A\", \"G\", \"C\", \"U\", \"E\", \"Z\", \"G\",\"A\", \"G\", \"C\", \"U\",\"U\"]\n",
        "\n",
        "dna_sequence.remove(\"E\")\n",
        "dna_sequence.remove(\"Z\")\n",
        "\n",
        "for starting_point in range(0,len(dna_sequence), length_of_segments):\n",
        "  \n",
        "  print(dna_sequence[starting_point:starting_point+3])\n",
        "  "
      ]
    },
    {
      "cell_type": "markdown",
      "metadata": {},
      "source": [
        "🤓 **Bonus Aufgabe**:\n",
        "\n",
        "Finden Sie einen Weg auch Listen mit mehreren falschen Werten auszuräumen indem Sie alle Z und E entfernen.\n",
        "\n",
        "`dna_sequence = [\"A\", \"U\", \"C\", \"C\", \"G\",\"A\", \"G\", \"C\", \"U\", \"E\", \"G\",\"A\", \"G\", \"C\", \"U\", \"E\", \"Z\", \"G\",\"A\", \"G\", \"C\", \"U\",\"U\"]`\n",
        "\n"
      ]
    },
    {
      "cell_type": "code",
      "execution_count": null,
      "metadata": {
        "id": "run6pNzvlBFj"
      },
      "outputs": [],
      "source": [
        "length_of_segments = 3\n",
        "dna_sequence = [\"A\", \"U\", \"C\", \"C\", \"G\",\"A\", \"G\", \"C\", \"U\", \"E\", \"G\",\"A\", \"G\", \"C\", \"U\", \"E\", \"Z\", \"G\",\"A\", \"G\", \"C\", \"U\",\"U\"]\n",
        "\n",
        "#sublist created with list comprehension\n",
        "dna_sequence_updated = [value for value in dna_sequence if (value != \"E\")]\n",
        "dna_sequence_updated = [value for value in dna_sequence_updated if (value != \"Z\")]\n",
        "\n",
        "#print original list\n",
        "print(dna_sequence)\n",
        "\n",
        "#print  new sublist that doesn't contain 'Python'\n",
        "print(dna_sequence_updated)"
      ]
    }
  ],
  "metadata": {
    "colab": {
      "collapsed_sections": [],
      "provenance": [],
      "toc_visible": true
    },
    "kernelspec": {
      "display_name": "Python 3.8.8 ('base')",
      "language": "python",
      "name": "python3"
    },
    "language_info": {
      "codemirror_mode": {
        "name": "ipython",
        "version": 3
      },
      "file_extension": ".py",
      "mimetype": "text/x-python",
      "name": "python",
      "nbconvert_exporter": "python",
      "pygments_lexer": "ipython3",
      "version": "3.8.8"
    },
    "vscode": {
      "interpreter": {
        "hash": "91b5df634ae01e052c095f84ce6ac57f1bf815a7c386b368c11e7051e1049005"
      }
    }
  },
  "nbformat": 4,
  "nbformat_minor": 0
}
