{
  "cells": [
    {
      "cell_type": "markdown",
      "metadata": {
        "id": "G1Ingk5cAudG"
      },
      "source": [
        "<table style=\"width: 100%\">\n",
        "    <tr style=\"background: #ffffff\">\n",
        "        <td style=\"padding-top:25px;width: 180px\"><img src=\"https://mci.edu/templates/mci/images/logo.svg\" alt=\"Logo\"></td>\n",
        "        <td style=\"width: 100%\">\n",
        "            <div style=\"text-align:right; width: 100%; text-align:right\"><font style=\"font-size:38px\"><b>Grundlagen Programmierung</b></font></div>\n",
        "            <div style=\"padding-top:0px; width: 100%; text-align:right\"><font size=\"4\"><b>WS 2023</b></font></div>\n",
        "        </td>\n",
        "    </tr>\n",
        "</table>\n",
        "\n",
        "---\n",
        "\n",
        "# 7 Python Pakete\n",
        "\n"
      ]
    },
    {
      "cell_type": "markdown",
      "metadata": {},
      "source": [
        "## Genau Integration\n",
        "\n",
        "https://docs.scipy.org/doc/scipy/tutorial/integrate.html"
      ]
    },
    {
      "cell_type": "code",
      "execution_count": null,
      "metadata": {},
      "outputs": [],
      "source": []
    },
    {
      "cell_type": "code",
      "execution_count": null,
      "metadata": {},
      "outputs": [],
      "source": []
    },
    {
      "cell_type": "code",
      "execution_count": null,
      "metadata": {},
      "outputs": [],
      "source": []
    },
    {
      "cell_type": "code",
      "execution_count": 353,
      "metadata": {},
      "outputs": [],
      "source": [
        "https://tespy.readthedocs.io/en/main/basics/intro.html"
      ]
    },
    {
      "cell_type": "code",
      "execution_count": 342,
      "metadata": {},
      "outputs": [],
      "source": []
    },
    {
      "cell_type": "code",
      "execution_count": 343,
      "metadata": {},
      "outputs": [
        {
          "data": {
            "text/plain": [
              "array([ 0.,  0.,  0.,  0.,  0.,  0.,  0.,  0.,  0.,  0.,  0.,  0.,  0.,\n",
              "       15.,  0.,  0.,  0.,  0.,  0.,  0.,  0.,  0.,  0.,  0.])"
            ]
          },
          "execution_count": 343,
          "metadata": {},
          "output_type": "execute_result"
        }
      ],
      "source": []
    },
    {
      "cell_type": "markdown",
      "metadata": {},
      "source": [
        "Schreibe eine Funktion, die das Elektrofahrzeug immer dann wenn der SoC unter 25% oder sobald mehr PV-Strom erzeugt wird als das Gebäude verbraucht und nur zurück gibt, ob geladen wird oder nicht."
      ]
    },
    {
      "cell_type": "code",
      "execution_count": 344,
      "metadata": {},
      "outputs": [],
      "source": [
        "def charge_bev(bev_connection, soc, pv_generation_kWh, consumption_kWh):\n",
        "    charge  = False\n",
        "\n",
        "    if bev_connection == False:\n",
        "        return False\n",
        "    elif soc < 10 or pv_generation_kWh > consumption_kWh:\n",
        "        return True\n",
        "    else:\n",
        "        return False"
      ]
    },
    {
      "cell_type": "code",
      "execution_count": 345,
      "metadata": {},
      "outputs": [
        {
          "data": {
            "text/plain": [
              "True"
            ]
          },
          "execution_count": 345,
          "metadata": {},
          "output_type": "execute_result"
        }
      ],
      "source": [
        "# Testen der Funktion\n",
        "charge_bev(bev_connection = True, soc = 50, pv_generation_kWh = 20, consumption_kWh = 10)"
      ]
    },
    {
      "cell_type": "markdown",
      "metadata": {},
      "source": [
        "Schreibe eine Funktion, die die Ladegeschwindigkeit des Fahrzeuges bestimmt. "
      ]
    },
    {
      "cell_type": "code",
      "execution_count": 346,
      "metadata": {},
      "outputs": [],
      "source": [
        "def charge_bev_speed(charge, soc, max_soc, pv_generation_kWh,consumption_kWh):\n",
        "    capacity_left = max_soc - soc\n",
        "    #print(capacity_left)\n",
        "    if charge == False:\n",
        "        return 0\n",
        "    elif soc < 10:\n",
        "        return 11\n",
        "    else:     \n",
        "        return max(0, min(capacity_left, pv_generation_kWh - consumption_kWh))\n"
      ]
    },
    {
      "cell_type": "code",
      "execution_count": 347,
      "metadata": {},
      "outputs": [
        {
          "data": {
            "text/plain": [
              "5"
            ]
          },
          "execution_count": 347,
          "metadata": {},
          "output_type": "execute_result"
        }
      ],
      "source": [
        "# Testen der Funktion\n",
        "charge_bev_speed(charge = True, soc = 70 , max_soc = 75, pv_generation_kWh = 20 ,consumption_kWh = 10)"
      ]
    },
    {
      "cell_type": "code",
      "execution_count": 348,
      "metadata": {},
      "outputs": [],
      "source": [
        "charge = []\n",
        "charging_speed_kWh = []\n",
        "\n",
        "for index, time in enumerate(timestamps):\n",
        "    #print(index)\n",
        "    charge.append(charge_bev(bev_connection[index], bev_soc_kWh[index],pv_generation_kWh[index], consumption_kWh[index]))\n",
        "    current_charging_speed_kWh = charge_bev_speed(charge[index],bev_soc_kWh[index-1], bev_max_soc_kWh,pv_generation_kWh[index], consumption_kWh[index])\n",
        "    charging_speed_kWh.append(current_charging_speed_kWh)\n",
        "    bev_soc_kWh[index] = bev_soc_kWh[index-1] + current_charging_speed_kWh\n",
        "#charge\n",
        "#charging_speed_kWh\n",
        "#bev_soc_kWh"
      ]
    },
    {
      "cell_type": "code",
      "execution_count": 349,
      "metadata": {},
      "outputs": [
        {
          "data": {
            "text/plain": [
              "array([ 0.        ,  0.        ,  0.        ,  0.        ,  0.        ,\n",
              "        0.        ,  0.        ,  0.        ,  0.        ,  0.        ,\n",
              "        0.        ,  0.        ,  0.        , 11.        , 12.69963929,\n",
              "       14.77145379, 19.43713634, 19.43713634, 19.43713634, 19.43713634,\n",
              "       19.43713634, 19.43713634, 19.43713634, 19.43713634])"
            ]
          },
          "execution_count": 349,
          "metadata": {},
          "output_type": "execute_result"
        }
      ],
      "source": [
        "bev_soc_kWh"
      ]
    },
    {
      "cell_type": "code",
      "execution_count": 350,
      "metadata": {},
      "outputs": [
        {
          "data": {
            "text/plain": [
              "<matplotlib.legend.Legend at 0x1334c8e5fa0>"
            ]
          },
          "execution_count": 350,
          "metadata": {},
          "output_type": "execute_result"
        },
        {
          "data": {
            "image/png": "[encoded data removed]",
            "text/plain": [
              "<Figure size 432x288 with 1 Axes>"
            ]
          },
          "metadata": {
            "needs_background": "light"
          },
          "output_type": "display_data"
        }
      ],
      "source": [
        "import matplotlib as mpl\n",
        "import matplotlib.pyplot as plt\n",
        "\n",
        "# Plottet die Daten\n",
        "plt.plot(steps, charging_speed_kWh)\n",
        "plt.plot(steps, consumption_kWh)\n",
        "plt.plot(steps, bev_soc_kWh)\n",
        "plt.plot(steps, pv_generation_kWh)\n",
        "# Integriert einen Titel\n",
        "plt.title(\"This is a title\")\n",
        "\n",
        "# Integriert eine Bezeichnung der x-Achse\n",
        "plt.xlabel(\"This is the x label\")\n",
        "\n",
        "# Integriert eine Bezeichnung der y-Achse\n",
        "plt.ylabel(\"This is the y label\")\n",
        "\n",
        "# Integriert die Legende\n",
        "plt.legend(['Charging in kWh','Consumption in kWh', 'SoC in kWh', 'PV in kWh'])\n"
      ]
    },
    {
      "cell_type": "code",
      "execution_count": 357,
      "metadata": {},
      "outputs": [
        {
          "data": {
            "text/html": [
              "<div>\n",
              "<style scoped>\n",
              "    .dataframe tbody tr th:only-of-type {\n",
              "        vertical-align: middle;\n",
              "    }\n",
              "\n",
              "    .dataframe tbody tr th {\n",
              "        vertical-align: top;\n",
              "    }\n",
              "\n",
              "    .dataframe thead th {\n",
              "        text-align: right;\n",
              "    }\n",
              "</style>\n",
              "<table border=\"1\" class=\"dataframe\">\n",
              "  <thead>\n",
              "    <tr style=\"text-align: right;\">\n",
              "      <th></th>\n",
              "      <th>consumption_kWh</th>\n",
              "      <th>charging_speed_kWh</th>\n",
              "      <th>bev_soc_kWh</th>\n",
              "      <th>pv_generation_kWh</th>\n",
              "      <th>timestamps</th>\n",
              "    </tr>\n",
              "  </thead>\n",
              "  <tbody>\n",
              "    <tr>\n",
              "      <th>0</th>\n",
              "      <td>3.229623</td>\n",
              "      <td>0.0</td>\n",
              "      <td>0.0</td>\n",
              "      <td>0.0</td>\n",
              "      <td>2023-07-17 00:00:00</td>\n",
              "    </tr>\n",
              "    <tr>\n",
              "      <th>1</th>\n",
              "      <td>4.508023</td>\n",
              "      <td>0.0</td>\n",
              "      <td>0.0</td>\n",
              "      <td>0.0</td>\n",
              "      <td>2023-07-17 01:00:00</td>\n",
              "    </tr>\n",
              "    <tr>\n",
              "      <th>2</th>\n",
              "      <td>4.799760</td>\n",
              "      <td>0.0</td>\n",
              "      <td>0.0</td>\n",
              "      <td>0.0</td>\n",
              "      <td>2023-07-17 02:00:00</td>\n",
              "    </tr>\n",
              "    <tr>\n",
              "      <th>3</th>\n",
              "      <td>1.456806</td>\n",
              "      <td>0.0</td>\n",
              "      <td>0.0</td>\n",
              "      <td>0.0</td>\n",
              "      <td>2023-07-17 03:00:00</td>\n",
              "    </tr>\n",
              "    <tr>\n",
              "      <th>4</th>\n",
              "      <td>2.044882</td>\n",
              "      <td>0.0</td>\n",
              "      <td>0.0</td>\n",
              "      <td>0.0</td>\n",
              "      <td>2023-07-17 04:00:00</td>\n",
              "    </tr>\n",
              "  </tbody>\n",
              "</table>\n",
              "</div>"
            ],
            "text/plain": [
              "   consumption_kWh  charging_speed_kWh  bev_soc_kWh  pv_generation_kWh  \\\n",
              "0         3.229623                 0.0          0.0                0.0   \n",
              "1         4.508023                 0.0          0.0                0.0   \n",
              "2         4.799760                 0.0          0.0                0.0   \n",
              "3         1.456806                 0.0          0.0                0.0   \n",
              "4         2.044882                 0.0          0.0                0.0   \n",
              "\n",
              "           timestamps  \n",
              "0 2023-07-17 00:00:00  \n",
              "1 2023-07-17 01:00:00  \n",
              "2 2023-07-17 02:00:00  \n",
              "3 2023-07-17 03:00:00  \n",
              "4 2023-07-17 04:00:00  "
            ]
          },
          "execution_count": 357,
          "metadata": {},
          "output_type": "execute_result"
        }
      ],
      "source": [
        "import pandas as pd\n",
        "all_data = {    \"consumption_kWh\" : consumption_kWh,\n",
        "                \"charging_speed_kWh\" : charging_speed_kWh,\n",
        "                \"bev_soc_kWh\" : bev_soc_kWh,\n",
        "                \"pv_generation_kWh\" : pv_generation_kWh,\n",
        "                \"timestamps\" : timestamps \n",
        "\n",
        "}\n",
        "dataframe = pd.DataFrame(all_data)\n",
        "dataframe.head()"
      ]
    },
    {
      "cell_type": "code",
      "execution_count": 358,
      "metadata": {},
      "outputs": [],
      "source": [
        "dataframe.to_csv(\"results.csv\")"
      ]
    },
    {
      "cell_type": "code",
      "execution_count": 359,
      "metadata": {},
      "outputs": [
        {
          "data": {
            "text/html": [
              "<div>\n",
              "<style scoped>\n",
              "    .dataframe tbody tr th:only-of-type {\n",
              "        vertical-align: middle;\n",
              "    }\n",
              "\n",
              "    .dataframe tbody tr th {\n",
              "        vertical-align: top;\n",
              "    }\n",
              "\n",
              "    .dataframe thead th {\n",
              "        text-align: right;\n",
              "    }\n",
              "</style>\n",
              "<table border=\"1\" class=\"dataframe\">\n",
              "  <thead>\n",
              "    <tr style=\"text-align: right;\">\n",
              "      <th></th>\n",
              "      <th>consumption_kWh</th>\n",
              "      <th>charging_speed_kWh</th>\n",
              "      <th>bev_soc_kWh</th>\n",
              "      <th>pv_generation_kWh</th>\n",
              "    </tr>\n",
              "  </thead>\n",
              "  <tbody>\n",
              "    <tr>\n",
              "      <th>count</th>\n",
              "      <td>24.000000</td>\n",
              "      <td>24.000000</td>\n",
              "      <td>24.000000</td>\n",
              "      <td>24.000000</td>\n",
              "    </tr>\n",
              "    <tr>\n",
              "      <th>mean</th>\n",
              "      <td>3.368432</td>\n",
              "      <td>0.809881</td>\n",
              "      <td>8.082008</td>\n",
              "      <td>2.666667</td>\n",
              "    </tr>\n",
              "    <tr>\n",
              "      <th>std</th>\n",
              "      <td>1.887802</td>\n",
              "      <td>2.415602</td>\n",
              "      <td>9.220116</td>\n",
              "      <td>2.869126</td>\n",
              "    </tr>\n",
              "    <tr>\n",
              "      <th>min</th>\n",
              "      <td>0.184349</td>\n",
              "      <td>0.000000</td>\n",
              "      <td>0.000000</td>\n",
              "      <td>0.000000</td>\n",
              "    </tr>\n",
              "    <tr>\n",
              "      <th>25%</th>\n",
              "      <td>1.702510</td>\n",
              "      <td>0.000000</td>\n",
              "      <td>0.000000</td>\n",
              "      <td>0.000000</td>\n",
              "    </tr>\n",
              "    <tr>\n",
              "      <th>50%</th>\n",
              "      <td>3.656753</td>\n",
              "      <td>0.000000</td>\n",
              "      <td>0.000000</td>\n",
              "      <td>1.500000</td>\n",
              "    </tr>\n",
              "    <tr>\n",
              "      <th>75%</th>\n",
              "      <td>4.837697</td>\n",
              "      <td>0.000000</td>\n",
              "      <td>19.437136</td>\n",
              "      <td>5.250000</td>\n",
              "    </tr>\n",
              "    <tr>\n",
              "      <th>max</th>\n",
              "      <td>5.958227</td>\n",
              "      <td>11.000000</td>\n",
              "      <td>19.437136</td>\n",
              "      <td>7.000000</td>\n",
              "    </tr>\n",
              "  </tbody>\n",
              "</table>\n",
              "</div>"
            ],
            "text/plain": [
              "       consumption_kWh  charging_speed_kWh  bev_soc_kWh  pv_generation_kWh\n",
              "count        24.000000           24.000000    24.000000          24.000000\n",
              "mean          3.368432            0.809881     8.082008           2.666667\n",
              "std           1.887802            2.415602     9.220116           2.869126\n",
              "min           0.184349            0.000000     0.000000           0.000000\n",
              "25%           1.702510            0.000000     0.000000           0.000000\n",
              "50%           3.656753            0.000000     0.000000           1.500000\n",
              "75%           4.837697            0.000000    19.437136           5.250000\n",
              "max           5.958227           11.000000    19.437136           7.000000"
            ]
          },
          "execution_count": 359,
          "metadata": {},
          "output_type": "execute_result"
        }
      ],
      "source": [
        "dataframe.describe()"
      ]
    },
    {
      "cell_type": "code",
      "execution_count": null,
      "metadata": {},
      "outputs": [],
      "source": []
    }
  ],
  "metadata": {
    "colab": {
      "provenance": []
    },
    "kernelspec": {
      "display_name": "Python 3.8.8 ('base')",
      "language": "python",
      "name": "python3"
    },
    "language_info": {
      "codemirror_mode": {
        "name": "ipython",
        "version": 3
      },
      "file_extension": ".py",
      "mimetype": "text/x-python",
      "name": "python",
      "nbconvert_exporter": "python",
      "pygments_lexer": "ipython3",
      "version": "3.8.8"
    },
    "vscode": {
      "interpreter": {
        "hash": "91b5df634ae01e052c095f84ce6ac57f1bf815a7c386b368c11e7051e1049005"
      }
    }
  },
  "nbformat": 4,
  "nbformat_minor": 0
}
