{
  "cells": [
    {
      "cell_type": "markdown",
      "metadata": {
        "id": "G1Ingk5cAudG"
      },
      "source": [
        "<table style=\"width: 100%\">\n",
        "    <tr style=\"background: #ffffff\">\n",
        "        <td style=\"padding-top:25px;width: 180px\"><img src=\"https://mci.edu/templates/mci/images/logo.svg\" alt=\"Logo\"></td>\n",
        "        <td style=\"width: 100%\">\n",
        "            <div style=\"text-align:right; width: 100%; text-align:right\"><font style=\"font-size:38px\"><b>Grundlagen Programmierung</b></font></div>\n",
        "            <div style=\"padding-top:0px; width: 100%; text-align:right\"><font size=\"4\"><b>WS 2023</b></font></div>\n",
        "        </td>\n",
        "    </tr>\n",
        "</table>\n",
        "\n",
        "---\n",
        "\n",
        "# 6 Datenverarbeitung mit numpy und pandas\n",
        "\n",
        "Im folgenden Notebook sollen Sie ein ein Energiemanagementsystem für ein Gebäude mit PV-Anlage und Elektrofahrzeug entwickeln, welches das Elektrofahrzeug mit möglichst mit lokal erzeugtem Strom lädt. Die Aufgaben sollen Ihnen Routine darin vermitteln Aufgabenstellung zu interpretieren und in Code umzusetzen. Zudem arbeiten wir mit Daten in Matrizen, Tabellen und fertigen eigene Plots an.  "
      ]
    },
    {
      "cell_type": "markdown",
      "metadata": {},
      "source": [
        "## 6.1 Arbeiten mit Arrays"
      ]
    },
    {
      "cell_type": "code",
      "execution_count": 13,
      "metadata": {},
      "outputs": [],
      "source": [
        "# Zunächst müssen wir einige Pakte importieren, welche uns bei unseren Aufgaben unterstützen\n",
        "\n",
        "# Numpy erweitert das Konzept der Listen auf Mathematische Matrizen\n",
        "import numpy as np\n",
        "\n",
        "# Datetime erleichtert das Arbeiten mit Zeiten\n",
        "import datetime\n",
        "\n",
        "# Matplotlib is ein Paket zum Erstellen von Plots\n",
        "import matplotlib as mpl\n",
        "import matplotlib.pyplot as plt\n",
        "\n",
        "# Pandas ermöglicht das Arbeiten mit Tabellarischen Daten\n",
        "import pandas as pd"
      ]
    },
    {
      "cell_type": "markdown",
      "metadata": {},
      "source": [
        "Zunächst legen wir einen Tag an. Der Numpy array `timestamps` enthält nur einen Eintrag für jede Stunde des Tages als Datum (schön formatierte Unix-time). `steps` hingegen enthält genau die Stunde als Integer."
      ]
    },
    {
      "cell_type": "code",
      "execution_count": 14,
      "metadata": {},
      "outputs": [
        {
          "data": {
            "text/plain": [
              "array(['2023-07-17T00:00:00.000000', '2023-07-17T01:00:00.000000',\n",
              "       '2023-07-17T02:00:00.000000', '2023-07-17T03:00:00.000000',\n",
              "       '2023-07-17T04:00:00.000000'], dtype='datetime64[us]')"
            ]
          },
          "execution_count": 14,
          "metadata": {},
          "output_type": "execute_result"
        }
      ],
      "source": [
        "# Set the simulation parameters\n",
        "## Startzeitpunkt mit speziellem Datentyp für Zeitpunkte\n",
        "start_time = pd.Timestamp(\"2023-07-17 00:00:00\")\n",
        "end_time = pd.Timestamp(\"2023-07-18 00:00:00\")\n",
        "\n",
        "# Anzahl der 60 Minutenschritte im Zeitraum\n",
        "num_periods = int((end_time - start_time) / pd.Timedelta(minutes=60))\n",
        "steps =  list(range(num_periods))\n",
        "\n",
        "# Create the timestamp array\n",
        "timestamps = np.arange(start_time, end_time, np.timedelta64(60, \"m\"))\n",
        "\n",
        "# Ausgabe zur Kontrolle\n",
        "timestamps[0:5]"
      ]
    },
    {
      "cell_type": "markdown",
      "metadata": {},
      "source": [
        "✍️ **Aufgabe**\n",
        "\n",
        "Zeigen Sie sich die ersten 10 Werte des Arrays `steps` an. Für Arrays gilt die selbe Notation, die Sie von Listen kennen."
      ]
    },
    {
      "cell_type": "code",
      "execution_count": null,
      "metadata": {},
      "outputs": [],
      "source": []
    },
    {
      "cell_type": "code",
      "execution_count": 15,
      "metadata": {},
      "outputs": [
        {
          "data": {
            "text/plain": [
              "[0, 1, 2, 3, 4, 5, 6, 7, 8, 9]"
            ]
          },
          "execution_count": 15,
          "metadata": {},
          "output_type": "execute_result"
        }
      ],
      "source": [
        "#@title ❓ Click `Show code` in the code cell to show the solution. { display-mode: \"form\" }\n",
        "\n",
        "steps[0:10]"
      ]
    },
    {
      "cell_type": "markdown",
      "metadata": {},
      "source": [
        "Als nächstes simulieren wir die Daten des Gebäudes und Plotten diese. Wir beginnen mit dem Strombedarf:"
      ]
    },
    {
      "cell_type": "code",
      "execution_count": 16,
      "metadata": {},
      "outputs": [
        {
          "data": {
            "text/plain": [
              "Text(0, 0.5, 'Strombedarf in kWh')"
            ]
          },
          "execution_count": 16,
          "metadata": {},
          "output_type": "execute_result"
        },
        {
          "data": {
            "image/png": "[encoded data removed]",
            "text/plain": [
              "<Figure size 432x288 with 1 Axes>"
            ]
          },
          "metadata": {
            "needs_background": "light"
          },
          "output_type": "display_data"
        }
      ],
      "source": [
        "# Simulate electricity consumption (kWh)\n",
        "consumption_kWh = np.random.uniform(0, 6, num_periods)\n",
        "\n",
        "\n",
        "# Plottet die Daten\n",
        "plt.plot(steps, consumption_kWh) # Der erste übergebene Array ist die X-, der zweite die Y-Achse\n",
        "\n",
        "# Integriert eine Bezeichnung der x-Achse\n",
        "plt.xlabel(\"Stunde des Tages\")\n",
        "\n",
        "# Integriert eine Bezeichnung der y-Achse\n",
        "plt.ylabel(\"Strombedarf in kWh\")"
      ]
    },
    {
      "cell_type": "markdown",
      "metadata": {},
      "source": [
        "Als nächstes simulieren wir die Erzeugung der PV-Anlage:"
      ]
    },
    {
      "cell_type": "code",
      "execution_count": 17,
      "metadata": {},
      "outputs": [],
      "source": [
        "pv_generation_kWh = np.zeros(len(timestamps))\n",
        "\n",
        "pv_generation_kWh[7:19] = 3\n",
        "pv_generation_kWh[8:18] = 5\n",
        "pv_generation_kWh[10:16] = 6\n",
        "pv_generation_kWh[12:14] = 6.5"
      ]
    },
    {
      "cell_type": "markdown",
      "metadata": {},
      "source": [
        "✍️ **Aufgabe**\n",
        "\n",
        "Erstellen Sie einen Plot, der die PV-Erzeugung visualisiert. Kopieren Sie dazu den Code von oben und passen Sie ihn an."
      ]
    },
    {
      "cell_type": "code",
      "execution_count": null,
      "metadata": {},
      "outputs": [],
      "source": []
    },
    {
      "cell_type": "code",
      "execution_count": 18,
      "metadata": {},
      "outputs": [
        {
          "data": {
            "text/plain": [
              "Text(0, 0.5, 'PV-Erzeugung in kWh')"
            ]
          },
          "execution_count": 18,
          "metadata": {},
          "output_type": "execute_result"
        },
        {
          "data": {
            "image/png": "[encoded data removed]",
            "text/plain": [
              "<Figure size 432x288 with 1 Axes>"
            ]
          },
          "metadata": {
            "needs_background": "light"
          },
          "output_type": "display_data"
        }
      ],
      "source": [
        "#@title ❓ Click `Show code` in the code cell to show the solution. { display-mode: \"form\" }\n",
        "\n",
        "# Plottet die Daten\n",
        "plt.plot(steps, pv_generation_kWh)\n",
        "\n",
        "# Integriert eine Bezeichnung der x-Achse\n",
        "plt.xlabel(\"Stunde des Tages\")\n",
        "\n",
        "# Integriert eine Bezeichnung der y-Achse\n",
        "plt.ylabel(\"PV-Erzeugung in kWh\")"
      ]
    },
    {
      "cell_type": "markdown",
      "metadata": {},
      "source": [
        "Zuletzt bereiten wir Daten für das Elektrofahrzeug (Battery Electric Vehicle / BEV) vor. Der Array `bev_connection` speichert, ob ein Elektrofahrzeug gerade mit der Ladestation verbunden ist. In `bev_soc_kWh` wird der aktuelle Füllstand der Batterie (State of Charge / SoC) gespeichert.\n",
        "\n",
        "Wir nehmen an, dass das Fahrzeug um 13 Uhr eingesteckt wird und zu diesem Zeitpunkt mit 15 kWh geladen ist. Die Batteriegröße `bev_max_soc_kWh` beträgt 75 kWh."
      ]
    },
    {
      "cell_type": "code",
      "execution_count": 19,
      "metadata": {},
      "outputs": [
        {
          "data": {
            "text/plain": [
              "Text(0, 0.5, 'Anwesenheit des Elektrofahrzeuges')"
            ]
          },
          "execution_count": 19,
          "metadata": {},
          "output_type": "execute_result"
        },
        {
          "data": {
            "image/png": "[encoded data removed]",
            "text/plain": [
              "<Figure size 432x288 with 1 Axes>"
            ]
          },
          "metadata": {
            "needs_background": "light"
          },
          "output_type": "display_data"
        }
      ],
      "source": [
        "# Lege zunächst einen Array mit 24 Nullen an\n",
        "bev_connection = np.zeros(len(timestamps))\n",
        "# Fülle alle Werte ab dem 13. mit 1 (=BEV ist verbunden)\n",
        "bev_connection[13:] = 1\n",
        "\n",
        "# Lege zunächst einen Array mit 24 Nullen an\n",
        "bev_soc_kWh = np.zeros(len(timestamps))\n",
        "# Zu Beginn ist das Fahrzeug mit 15 kWh geladen. Alle Werte dahinter bleiben zunächst mit 0 befüllt, da wir diese noch nicht kennen.\n",
        "bev_soc_kWh[13] = 15\n",
        "\n",
        "# Maximaler SoC des Fahrzeugs\n",
        "bev_max_soc_kWh = 75\n",
        "\n",
        "# Plottet die Daten\n",
        "plt.plot(steps, bev_connection)\n",
        "\n",
        "# Integriert eine Bezeichnung der x-Achse\n",
        "plt.xlabel(\"Stunde des Tages\")\n",
        "\n",
        "# Integriert eine Bezeichnung der y-Achse\n",
        "plt.ylabel(\"Anwesenheit des Elektrofahrzeuges\")"
      ]
    },
    {
      "cell_type": "markdown",
      "metadata": {},
      "source": [
        "✍️ **Aufgabe**\n",
        "\n",
        "Schreiben Sie eine Funktion, die für einen Zeitpunkt zurück gibt, ob gerade geladen wird oder nicht (`True` (es wird geladen) oder `False`).\n",
        "\n",
        "Geladen werden kann nur, wenn das BEV gerade verbunden ist (`bev_connection == True`). Das Elektrofahrzeug lädt immer, wenn der SoC (`soc`) unter 10 kWh ist oder sobald mehr PV-Strom (`pv_generation_kWh`) erzeugt wird als das Gebäude verbraucht (`consumption_kWh`).\n",
        "\n",
        "Wenn es Ihnen hilft, zeichnen Sie zunächst ein UML-Aktivitätsdiagramm."
      ]
    },
    {
      "cell_type": "code",
      "execution_count": 20,
      "metadata": {},
      "outputs": [
        {
          "ename": "SyntaxError",
          "evalue": "unexpected EOF while parsing (<ipython-input-20-ab64d4b4803c>, line 2)",
          "output_type": "error",
          "traceback": [
            "\u001b[1;36m  File \u001b[1;32m\"<ipython-input-20-ab64d4b4803c>\"\u001b[1;36m, line \u001b[1;32m2\u001b[0m\n\u001b[1;33m    # Fügen Sie hier Ihren Code ein:\u001b[0m\n\u001b[1;37m                                    ^\u001b[0m\n\u001b[1;31mSyntaxError\u001b[0m\u001b[1;31m:\u001b[0m unexpected EOF while parsing\n"
          ]
        }
      ],
      "source": [
        "def charge_bev(bev_connection, soc, pv_generation_kWh, consumption_kWh):\n",
        "    # Fügen Sie hier Ihren Code ein:"
      ]
    },
    {
      "cell_type": "code",
      "execution_count": null,
      "metadata": {},
      "outputs": [
        {
          "ename": "NameError",
          "evalue": "name 'charge_bev' is not defined",
          "output_type": "error",
          "traceback": [
            "\u001b[1;31m---------------------------------------------------------------------------\u001b[0m",
            "\u001b[1;31mNameError\u001b[0m                                 Traceback (most recent call last)",
            "\u001b[1;32m<ipython-input-9-d721a2dac821>\u001b[0m in \u001b[0;36m<module>\u001b[1;34m\u001b[0m\n\u001b[0;32m      1\u001b[0m \u001b[1;31m# Testen der Funktion: Sollte True ausgeben\u001b[0m\u001b[1;33m\u001b[0m\u001b[1;33m\u001b[0m\u001b[1;33m\u001b[0m\u001b[0m\n\u001b[1;32m----> 2\u001b[1;33m \u001b[0mcharge_bev\u001b[0m\u001b[1;33m(\u001b[0m\u001b[0mbev_connection\u001b[0m \u001b[1;33m=\u001b[0m \u001b[1;32mTrue\u001b[0m\u001b[1;33m,\u001b[0m \u001b[0msoc\u001b[0m \u001b[1;33m=\u001b[0m \u001b[1;36m50\u001b[0m\u001b[1;33m,\u001b[0m \u001b[0mpv_generation_kWh\u001b[0m \u001b[1;33m=\u001b[0m \u001b[1;36m20\u001b[0m\u001b[1;33m,\u001b[0m \u001b[0mconsumption_kWh\u001b[0m \u001b[1;33m=\u001b[0m \u001b[1;36m10\u001b[0m\u001b[1;33m)\u001b[0m\u001b[1;33m\u001b[0m\u001b[1;33m\u001b[0m\u001b[0m\n\u001b[0m",
            "\u001b[1;31mNameError\u001b[0m: name 'charge_bev' is not defined"
          ]
        }
      ],
      "source": [
        "# Testen der Funktion: Sollte True ausgeben\n",
        "charge_bev(bev_connection = True, soc = 50, pv_generation_kWh = 20, consumption_kWh = 10)"
      ]
    },
    {
      "cell_type": "code",
      "execution_count": 21,
      "metadata": {},
      "outputs": [
        {
          "ename": "NameError",
          "evalue": "name 'charge_bev' is not defined",
          "output_type": "error",
          "traceback": [
            "\u001b[1;31m---------------------------------------------------------------------------\u001b[0m",
            "\u001b[1;31mNameError\u001b[0m                                 Traceback (most recent call last)",
            "\u001b[1;32m<ipython-input-21-83e42c1852e9>\u001b[0m in \u001b[0;36m<module>\u001b[1;34m\u001b[0m\n\u001b[0;32m      1\u001b[0m \u001b[1;31m# Testen der Funktion: Sollte False ausgeben\u001b[0m\u001b[1;33m\u001b[0m\u001b[1;33m\u001b[0m\u001b[1;33m\u001b[0m\u001b[0m\n\u001b[1;32m----> 2\u001b[1;33m \u001b[0mcharge_bev\u001b[0m\u001b[1;33m(\u001b[0m\u001b[0mbev_connection\u001b[0m \u001b[1;33m=\u001b[0m \u001b[1;32mTrue\u001b[0m\u001b[1;33m,\u001b[0m \u001b[0msoc\u001b[0m \u001b[1;33m=\u001b[0m \u001b[1;36m50\u001b[0m\u001b[1;33m,\u001b[0m \u001b[0mpv_generation_kWh\u001b[0m \u001b[1;33m=\u001b[0m \u001b[1;36m5\u001b[0m\u001b[1;33m,\u001b[0m \u001b[0mconsumption_kWh\u001b[0m \u001b[1;33m=\u001b[0m \u001b[1;36m10\u001b[0m\u001b[1;33m)\u001b[0m\u001b[1;33m\u001b[0m\u001b[1;33m\u001b[0m\u001b[0m\n\u001b[0m",
            "\u001b[1;31mNameError\u001b[0m: name 'charge_bev' is not defined"
          ]
        }
      ],
      "source": [
        "# Testen der Funktion: Sollte False ausgeben\n",
        "charge_bev(bev_connection = True, soc = 50, pv_generation_kWh = 5, consumption_kWh = 10)"
      ]
    },
    {
      "cell_type": "code",
      "execution_count": null,
      "metadata": {},
      "outputs": [
        {
          "ename": "NameError",
          "evalue": "name 'charge_bev' is not defined",
          "output_type": "error",
          "traceback": [
            "\u001b[1;31m---------------------------------------------------------------------------\u001b[0m",
            "\u001b[1;31mNameError\u001b[0m                                 Traceback (most recent call last)",
            "\u001b[1;32m<ipython-input-30-eb15735f9d1b>\u001b[0m in \u001b[0;36m<module>\u001b[1;34m\u001b[0m\n\u001b[0;32m      1\u001b[0m \u001b[1;31m# Testen der Funktion: Sollte True ausgeben\u001b[0m\u001b[1;33m\u001b[0m\u001b[1;33m\u001b[0m\u001b[1;33m\u001b[0m\u001b[0m\n\u001b[1;32m----> 2\u001b[1;33m \u001b[0mcharge_bev\u001b[0m\u001b[1;33m(\u001b[0m\u001b[0mbev_connection\u001b[0m \u001b[1;33m=\u001b[0m \u001b[1;32mTrue\u001b[0m\u001b[1;33m,\u001b[0m \u001b[0msoc\u001b[0m \u001b[1;33m=\u001b[0m \u001b[1;36m5\u001b[0m\u001b[1;33m,\u001b[0m \u001b[0mpv_generation_kWh\u001b[0m \u001b[1;33m=\u001b[0m \u001b[1;36m5\u001b[0m\u001b[1;33m,\u001b[0m \u001b[0mconsumption_kWh\u001b[0m \u001b[1;33m=\u001b[0m \u001b[1;36m10\u001b[0m\u001b[1;33m)\u001b[0m\u001b[1;33m\u001b[0m\u001b[1;33m\u001b[0m\u001b[0m\n\u001b[0m",
            "\u001b[1;31mNameError\u001b[0m: name 'charge_bev' is not defined"
          ]
        }
      ],
      "source": [
        "# Testen der Funktion: Sollte True ausgeben\n",
        "charge_bev(bev_connection = True, soc = 5, pv_generation_kWh = 5, consumption_kWh = 10)"
      ]
    },
    {
      "cell_type": "code",
      "execution_count": 22,
      "metadata": {},
      "outputs": [],
      "source": [
        "#@title ❓ Click `Show code` in the code cell to show the solution. { display-mode: \"form\" }\n",
        " \n",
        "def charge_bev(bev_connection, soc, pv_generation_kWh, consumption_kWh):\n",
        "    charge  = False\n",
        "\n",
        "    if bev_connection == False:\n",
        "        return False\n",
        "    elif soc < 10 or pv_generation_kWh > consumption_kWh:\n",
        "        return True\n",
        "    else:\n",
        "        return False"
      ]
    },
    {
      "cell_type": "markdown",
      "metadata": {},
      "source": [
        "✍️ **Aufgabe**\n",
        "\n",
        "Schreiben Sie eine Funktion, die die Ladeleistung des Fahrzeuges in kW als `float` zurück gibt. Dabei soll folgendes gelten: Die Ladeleistung ist 0 kW, wenn nicht geladen wird. Bei einem Ladestand (SoC) unter 10 kWh wird immer mit der maximal möglichen Ladeleistung und 11 kW geladen. In allen anderen Fällen wird maximal mit der Überschussleistung der PV-Anlage geladen werden. \n",
        "Hierzu müssen Sie den Gebäudestrombedarf von der Erzeugung abziehen. Beachten Sie, dass wir die Erzeugung und den Gebäudestrombedarf als Energie und nicht als Leistung gegeben haben. Achten Sie zudem darauf, dass sie die Batterie des Fahrzeuges nicht überladen können."
      ]
    },
    {
      "cell_type": "code",
      "execution_count": 23,
      "metadata": {},
      "outputs": [
        {
          "ename": "SyntaxError",
          "evalue": "unexpected EOF while parsing (<ipython-input-23-21310d62f1b4>, line 2)",
          "output_type": "error",
          "traceback": [
            "\u001b[1;36m  File \u001b[1;32m\"<ipython-input-23-21310d62f1b4>\"\u001b[1;36m, line \u001b[1;32m2\u001b[0m\n\u001b[1;33m    # Fügen Sie hier Ihren Code ein:\u001b[0m\n\u001b[1;37m                                    ^\u001b[0m\n\u001b[1;31mSyntaxError\u001b[0m\u001b[1;31m:\u001b[0m unexpected EOF while parsing\n"
          ]
        }
      ],
      "source": [
        "def charge_bev_speed(charge, soc, max_soc, pv_generation_kWh, consumption_kWh):\n",
        "    # Fügen Sie hier Ihren Code ein:"
      ]
    },
    {
      "cell_type": "code",
      "execution_count": 24,
      "metadata": {},
      "outputs": [],
      "source": [
        "#@title ❓ Click `Show code` in the code cell to show the solution. { display-mode: \"form\" }\n",
        "# Da wird in einem Raster von 1h Arbeiten, können wir direkt von kW ind kWh umrechnen, indem wir wir Werte mit 1 (h) multiplizieren\n",
        "\n",
        "\n",
        "def charge_bev_speed(charge, soc, max_soc, pv_generation_kWh, consumption_kWh):\n",
        "    capacity_left = max_soc - soc\n",
        "    #print(capacity_left)\n",
        "    if charge == False:\n",
        "        return 0\n",
        "    elif soc < 10:\n",
        "        return 11\n",
        "    else:     \n",
        "        return max(0, min(capacity_left, pv_generation_kWh - consumption_kWh))\n"
      ]
    },
    {
      "cell_type": "code",
      "execution_count": 25,
      "metadata": {},
      "outputs": [
        {
          "data": {
            "text/plain": [
              "5"
            ]
          },
          "execution_count": 25,
          "metadata": {},
          "output_type": "execute_result"
        }
      ],
      "source": [
        "# Testen der Funktion\n",
        "charge_bev_speed(charge = True, soc = 70 , max_soc = 75, pv_generation_kWh = 20 ,consumption_kWh = 10)"
      ]
    },
    {
      "cell_type": "markdown",
      "metadata": {},
      "source": [
        "Nun, da Ihre Funktionen funktionieren, können wir diese in ein simuliertes System einbauen. Um das Zusammenspiel zu evaluieren, werden wir aber zunächst einen Tag simulieren. Im echten System würden die Funktionen z.B. in einer `while`-Schleife verwendet und immer wieder aufgerufen werden. Da wir nur einen Tag simulieren, nutzen wir die `for`-Schleife durch unseren simulierten Tag iteriert. \n",
        "Über `index, time in enumerate(timestamps)` können wir in die Schleife über `index` den jeweils n-ten-Eintrag in jeder Liste abgreifen. Da allen Liste genau 24 Einträge lang sind, erhalten wir so immer genau die Einträge, die zusammen gehören. "
      ]
    },
    {
      "cell_type": "code",
      "execution_count": 26,
      "metadata": {},
      "outputs": [
        {
          "name": "stdout",
          "output_type": "stream",
          "text": [
            "Jetzt ist die 0. Stunde. Genauer gesagt 2023-07-17T00:00:00.000000\n",
            "Jetzt ist die 1. Stunde. Genauer gesagt 2023-07-17T01:00:00.000000\n",
            "Jetzt ist die 2. Stunde. Genauer gesagt 2023-07-17T02:00:00.000000\n",
            "Jetzt ist die 3. Stunde. Genauer gesagt 2023-07-17T03:00:00.000000\n",
            "Jetzt ist die 4. Stunde. Genauer gesagt 2023-07-17T04:00:00.000000\n",
            "Jetzt ist die 5. Stunde. Genauer gesagt 2023-07-17T05:00:00.000000\n",
            "Jetzt ist die 6. Stunde. Genauer gesagt 2023-07-17T06:00:00.000000\n",
            "Jetzt ist die 7. Stunde. Genauer gesagt 2023-07-17T07:00:00.000000\n",
            "Jetzt ist die 8. Stunde. Genauer gesagt 2023-07-17T08:00:00.000000\n",
            "Jetzt ist die 9. Stunde. Genauer gesagt 2023-07-17T09:00:00.000000\n",
            "Jetzt ist die 10. Stunde. Genauer gesagt 2023-07-17T10:00:00.000000\n",
            "Jetzt ist die 11. Stunde. Genauer gesagt 2023-07-17T11:00:00.000000\n",
            "Jetzt ist die 12. Stunde. Genauer gesagt 2023-07-17T12:00:00.000000\n",
            "Jetzt ist die 13. Stunde. Genauer gesagt 2023-07-17T13:00:00.000000\n",
            "Jetzt ist die 14. Stunde. Genauer gesagt 2023-07-17T14:00:00.000000\n",
            "Jetzt ist die 15. Stunde. Genauer gesagt 2023-07-17T15:00:00.000000\n",
            "Jetzt ist die 16. Stunde. Genauer gesagt 2023-07-17T16:00:00.000000\n",
            "Jetzt ist die 17. Stunde. Genauer gesagt 2023-07-17T17:00:00.000000\n",
            "Jetzt ist die 18. Stunde. Genauer gesagt 2023-07-17T18:00:00.000000\n",
            "Jetzt ist die 19. Stunde. Genauer gesagt 2023-07-17T19:00:00.000000\n",
            "Jetzt ist die 20. Stunde. Genauer gesagt 2023-07-17T20:00:00.000000\n",
            "Jetzt ist die 21. Stunde. Genauer gesagt 2023-07-17T21:00:00.000000\n",
            "Jetzt ist die 22. Stunde. Genauer gesagt 2023-07-17T22:00:00.000000\n",
            "Jetzt ist die 23. Stunde. Genauer gesagt 2023-07-17T23:00:00.000000\n"
          ]
        }
      ],
      "source": [
        "charge = []\n",
        "charging_speed_kW = []\n",
        "\n",
        "for index, time in enumerate(timestamps):\n",
        "    print(\"Jetzt ist die {}. Stunde. Genauer gesagt {}\".format(index, timestamps[index]))\n",
        "\n",
        "    # Rufen Sie charge_bev() auf, um zu überprüfen, ob gerade geladen werden sollte und fügen Sei das Ergebnis an die Liste charge an\n",
        "    ## Kopieren Sie einen der Test von oben hinein und passen diesen dann so an, dass er auf die richtigen Element der richtigen Liste zugreift\n",
        "    ## Zudem sollten Sie das Ergebnis an die leere Liste charge anhängen\n",
        "\n",
        "    # Rufen Sie current_charging_speed_kWh() auf, um die aktuelle Ladegeschwindigkeit zu bestimmen.\n",
        "    # Beachten Sie dabei, dass Sie dazu den aktuellen SoC berücksichtigen müssen, der in der Zeile index-1 steht!\n",
        "    \n",
        "    # fügen Sei das Ergebnis an die Liste charging_speed_kW an\n",
        "\n",
        "    # Updaten sie die Liste bev_soc_kWh an der aktuellen Stelle. \n",
        "    # Beachten Sie dabei, dass Sie dazu den aktuellen SoC aus der Zeile davor mit der charging_speed_kW (*1h) addieren müssen"
      ]
    },
    {
      "cell_type": "code",
      "execution_count": 27,
      "metadata": {},
      "outputs": [],
      "source": [
        "#@title ❓ Click `Show code` in the code cell to show the solution. { display-mode: \"form\" }\n",
        "\n",
        "charge = []\n",
        "charging_speed_kW = []\n",
        "\n",
        "for index, time in enumerate(timestamps):\n",
        "    #print(index)\n",
        "    charge.append(charge_bev(bev_connection[index], bev_soc_kWh[index],pv_generation_kWh[index], consumption_kWh[index]))\n",
        "    current_charging_speed_kW = charge_bev_speed(charge[index],bev_soc_kWh[index-1], bev_max_soc_kWh,pv_generation_kWh[index], consumption_kWh[index])\n",
        "    charging_speed_kW.append(current_charging_speed_kW)\n",
        "    bev_soc_kWh[index] = bev_soc_kWh[index-1] + current_charging_speed_kW\n",
        "#charge\n",
        "#charging_speed_kWh\n",
        "#bev_soc_kWh"
      ]
    },
    {
      "cell_type": "markdown",
      "metadata": {},
      "source": [
        "Herzlichen Glückwunsch. Sie haben nun erfolgreich simuliert, wie das Fahrzeug geladen werden würde. Lassen Sie uns die verschiedenen Lastgänge in einer Grafik zusammenfassen:"
      ]
    },
    {
      "cell_type": "code",
      "execution_count": 28,
      "metadata": {},
      "outputs": [
        {
          "data": {
            "text/plain": [
              "<matplotlib.legend.Legend at 0x266cb700670>"
            ]
          },
          "execution_count": 28,
          "metadata": {},
          "output_type": "execute_result"
        },
        {
          "data": {
            "image/png": "[encoded data removed]",
            "text/plain": [
              "<Figure size 432x288 with 1 Axes>"
            ]
          },
          "metadata": {
            "needs_background": "light"
          },
          "output_type": "display_data"
        }
      ],
      "source": [
        "import matplotlib as mpl\n",
        "import matplotlib.pyplot as plt\n",
        "\n",
        "# Plottet die Daten\n",
        "plt.plot(steps, charging_speed_kW)\n",
        "plt.plot(steps, consumption_kWh)\n",
        "plt.plot(steps, bev_soc_kWh)\n",
        "plt.plot(steps, pv_generation_kWh)\n",
        "# Integriert einen Titel\n",
        "plt.title(\"This is a title\")\n",
        "\n",
        "# Integriert eine Bezeichnung der x-Achse\n",
        "plt.xlabel(\"Stunde des Tages\")\n",
        "\n",
        "# Integriert eine Bezeichnung der y-Achse\n",
        "plt.ylabel(\"Stündliche Energiemengen in kWh\")\n",
        "\n",
        "# Integriert die Legende\n",
        "plt.legend(['Charging in kWh','Consumption in kWh', 'SoC in kWh', 'PV in kWh'])\n"
      ]
    },
    {
      "cell_type": "code",
      "execution_count": 29,
      "metadata": {},
      "outputs": [
        {
          "data": {
            "text/plain": [
              "[<matplotlib.lines.Line2D at 0x266cb7974f0>]"
            ]
          },
          "execution_count": 29,
          "metadata": {},
          "output_type": "execute_result"
        },
        {
          "data": {
            "image/png": "[encoded data removed]",
            "text/plain": [
              "<Figure size 432x288 with 1 Axes>"
            ]
          },
          "metadata": {
            "needs_background": "light"
          },
          "output_type": "display_data"
        }
      ],
      "source": [
        "last_an_hausanschluss = consumption_kWh + charging_speed_kW - pv_generation_kWh\n",
        "last_an_hausanschluss\n",
        "plt.plot(steps, last_an_hausanschluss)"
      ]
    },
    {
      "cell_type": "markdown",
      "metadata": {},
      "source": [
        "## 6.2 Vektoroperationen"
      ]
    },
    {
      "cell_type": "markdown",
      "metadata": {},
      "source": [
        "✍️ **Aufgabe**\n",
        "\n",
        "Bestimmen Sie wie viel Energie das Gebäude an diesem Tag vom Netz bezogen hat, wie viel es eingespeist hat und was die maximale durchschnittliche Last für eine Stunde am Hausanschluss an diesem Tag war.\n",
        "\n",
        "Anschaulich müssen Sie die Zeitreihe `last_an_hausanschluss` in ihre positiven und negativen Bestandteile zerlegen und dann die Fläche unter den verbleibenden Kurven summieren. \n",
        "\n",
        "Berechnen Sie auch die Stromkosten für diesen Tag. Rechen Sie mit einer Einspeisevergütung von 0.20 Cent / kWh und einen Strompreis von 30 Cent /kWh."
      ]
    },
    {
      "cell_type": "markdown",
      "metadata": {},
      "source": [
        "#### Tipp 1: Subsets von Arrays auswählen\n",
        "\n",
        "Wir haben schon gelernt, dass wir auf Subsets von Listen zugreifen können, z.B: auf das dritte bist fünfte Element `meine_liste[2:5]`. Bei numpy-Arrays Vektoren und Matrizen können wir auch einen gleich langen Array mit `True` und `False` übergeben, um nur bestimmte Elemente auszuwählen.\n"
      ]
    },
    {
      "cell_type": "code",
      "execution_count": 30,
      "metadata": {},
      "outputs": [
        {
          "data": {
            "text/plain": [
              "array([ 12, 134,  14])"
            ]
          },
          "execution_count": 30,
          "metadata": {},
          "output_type": "execute_result"
        }
      ],
      "source": [
        "my_array = np.array([12,134,14,14])\n",
        "my_array[np.array([True,True, False, True])]"
      ]
    },
    {
      "cell_type": "markdown",
      "metadata": {},
      "source": [
        "#### Tipp 2: Elementweise Operationen\n",
        "\n",
        "Wenn wir einen numpy-Arrays mit einem Skalar multiplizieren, addieren etc. Wir jedes Element des Arrays mit dieser Operation ausgeführt und ein Array mit gleicher Größe zurückgegeben."
      ]
    },
    {
      "cell_type": "code",
      "execution_count": 31,
      "metadata": {},
      "outputs": [
        {
          "data": {
            "text/plain": [
              "array([ 6.58189765,  1.60272649,  1.66125288,  4.38347466, 11.0831716 ,\n",
              "        2.98868633, 11.14620037, -4.96097951, -5.55718638, -6.64027795,\n",
              "       -4.38520623, -9.39981611, -1.07332689, 15.98106853,  0.        ,\n",
              "        0.        ,  0.98960271,  0.        ,  2.62710648, 10.76409745,\n",
              "        4.05295904, 11.59014613,  0.30161037,  3.47908919])"
            ]
          },
          "execution_count": 31,
          "metadata": {},
          "output_type": "execute_result"
        }
      ],
      "source": [
        "# Multiplikation mit 2\n",
        "last_an_hausanschluss * 2"
      ]
    },
    {
      "cell_type": "markdown",
      "metadata": {},
      "source": [
        "Dies gilt auch für andere Operationen"
      ]
    },
    {
      "cell_type": "code",
      "execution_count": 32,
      "metadata": {},
      "outputs": [
        {
          "data": {
            "text/plain": [
              "array([ True,  True,  True,  True,  True,  True,  True, False, False,\n",
              "       False, False, False, False,  True, False, False,  True, False,\n",
              "        True,  True,  True,  True,  True,  True])"
            ]
          },
          "execution_count": 32,
          "metadata": {},
          "output_type": "execute_result"
        }
      ],
      "source": [
        "# Multiplikation mit Vergleich mit 0\n",
        "# True erhalten wir nur an den Positionen mit positiven Zahlen\n",
        "\n",
        "last_an_hausanschluss > 0"
      ]
    },
    {
      "cell_type": "code",
      "execution_count": 33,
      "metadata": {},
      "outputs": [
        {
          "data": {
            "text/plain": [
              "array([3.29094882, 0.80136324, 0.83062644, 2.19173733, 5.5415858 ,\n",
              "       1.49434316, 5.57310019, 7.99053427, 0.49480136, 1.31355324,\n",
              "       5.38204872, 2.02647952, 5.79507307, 0.15080519, 1.7395446 ])"
            ]
          },
          "execution_count": 33,
          "metadata": {},
          "output_type": "execute_result"
        }
      ],
      "source": [
        "last_an_hausanschluss[last_an_hausanschluss > 0]\n"
      ]
    },
    {
      "cell_type": "markdown",
      "metadata": {},
      "source": [
        "#### Tipp 3: Kombination\n",
        "\n",
        "In der Regel werden solche Matrixoperationen vom Rechner um Größenordnungen schneller durchgeführt, als wenn wir das gleiche mit einem `for` Loop durch die Liste implementiert hätten. Außerdem erfordert es deutlich weniger Schreibarbeit.\n",
        "\n",
        "Die folgende Zeile gibt ein Beispiel dafür:"
      ]
    },
    {
      "cell_type": "code",
      "execution_count": 34,
      "metadata": {},
      "outputs": [
        {
          "data": {
            "text/plain": [
              "3.2016793054974992"
            ]
          },
          "execution_count": 34,
          "metadata": {},
          "output_type": "execute_result"
        }
      ],
      "source": [
        "erloes_einspeisung_euro = - sum(last_an_hausanschluss[last_an_hausanschluss < 0]*0.20)\n",
        "erloes_einspeisung_euro"
      ]
    },
    {
      "cell_type": "code",
      "execution_count": 35,
      "metadata": {},
      "outputs": [
        {
          "data": {
            "text/plain": [
              "3.2016793054974992"
            ]
          },
          "execution_count": 35,
          "metadata": {},
          "output_type": "execute_result"
        }
      ],
      "source": [
        "# Hier wird das gleiche noch einmal schrittweise zerlegt\n",
        "stunden_mit_einspeisung = last_an_hausanschluss < 0\n",
        "einspeisung_pro_stunde_kwh = last_an_hausanschluss[stunden_mit_einspeisung]\n",
        "erloes_einspeisung_pro_stunde_euro = einspeisung_pro_stunde_kwh* 0.2\n",
        "erloes_einspeisung_pro_tag_euro = -sum(erloes_einspeisung_pro_stunde_euro)\n",
        "erloes_einspeisung_pro_tag_euro"
      ]
    },
    {
      "cell_type": "markdown",
      "metadata": {},
      "source": [
        "✍️ **Aufgabe**\n",
        "\n",
        "Bestimmen Sie wie viel Energie das Gebäude an diesem Tag vom Netz bezogen hat, wie viel es eingespeist hat und was die maximale durchschnittliche Last am Hausanschluss an diesem Tag war.\n",
        "\n",
        "Anschaulich müssen Sie die Zeitreihe `last_an_hausanschluss` in ihre positiven und negativen Bestandteile zerlegen und dann die Fläche unter den verbleibenden Kurven summieren. \n",
        "\n",
        "Berechnen Sie auch die Stromkosten für diesen Tag. Rechen Sie mit einer Einspeisevergütung von 0.20 Cent / kWh und einen Strompreis von 30 Cent /kWh."
      ]
    },
    {
      "cell_type": "code",
      "execution_count": null,
      "metadata": {},
      "outputs": [],
      "source": []
    },
    {
      "cell_type": "code",
      "execution_count": 37,
      "metadata": {},
      "outputs": [
        {
          "name": "stdout",
          "output_type": "stream",
          "text": [
            "3.2016793054974992\n",
            "13.384963484302038\n",
            "7.99053426634484\n"
          ]
        }
      ],
      "source": [
        "#@title ❓ Click `Show code` in the code cell to show the solution. { display-mode: \"form\" }\n",
        "erloes_einspeisung_euro = - sum(last_an_hausanschluss[last_an_hausanschluss < 0]*0.20)\n",
        "kosten_bezug_euro = sum(last_an_hausanschluss[last_an_hausanschluss > 0]*0.30)\n",
        "maximale_durchschnittliche_last = max(last_an_hausanschluss[last_an_hausanschluss > 0])\n",
        "\n",
        "print(erloes_einspeisung_euro)\n",
        "print(kosten_bezug_euro)\n",
        "print(maximale_durchschnittliche_last)\n"
      ]
    },
    {
      "cell_type": "markdown",
      "metadata": {},
      "source": [
        "## 6.3 Arbeiten mit tabularen Daten\n",
        "\n",
        "So effizient und elegant die Arbeit mit Vekoren ist auch ist. In der Praxis, sind Daten in Tabellen meist Verständlicher zu handhaben. Mit dem Paket `pandas` können wir aus Listen gleicher Länge Tabellen, sogenannte `DataFrames` erstellen."
      ]
    },
    {
      "cell_type": "code",
      "execution_count": 36,
      "metadata": {},
      "outputs": [
        {
          "data": {
            "text/html": [
              "<div>\n",
              "<style scoped>\n",
              "    .dataframe tbody tr th:only-of-type {\n",
              "        vertical-align: middle;\n",
              "    }\n",
              "\n",
              "    .dataframe tbody tr th {\n",
              "        vertical-align: top;\n",
              "    }\n",
              "\n",
              "    .dataframe thead th {\n",
              "        text-align: right;\n",
              "    }\n",
              "</style>\n",
              "<table border=\"1\" class=\"dataframe\">\n",
              "  <thead>\n",
              "    <tr style=\"text-align: right;\">\n",
              "      <th></th>\n",
              "      <th>consumption_kWh</th>\n",
              "      <th>charging_speed_kWh</th>\n",
              "      <th>bev_soc_kWh</th>\n",
              "      <th>pv_generation_kWh</th>\n",
              "      <th>timestamps</th>\n",
              "    </tr>\n",
              "  </thead>\n",
              "  <tbody>\n",
              "    <tr>\n",
              "      <th>0</th>\n",
              "      <td>1.334000</td>\n",
              "      <td>0.0</td>\n",
              "      <td>0.0</td>\n",
              "      <td>0.0</td>\n",
              "      <td>2023-07-17 00:00:00</td>\n",
              "    </tr>\n",
              "    <tr>\n",
              "      <th>1</th>\n",
              "      <td>4.318880</td>\n",
              "      <td>0.0</td>\n",
              "      <td>0.0</td>\n",
              "      <td>0.0</td>\n",
              "      <td>2023-07-17 01:00:00</td>\n",
              "    </tr>\n",
              "    <tr>\n",
              "      <th>2</th>\n",
              "      <td>0.103945</td>\n",
              "      <td>0.0</td>\n",
              "      <td>0.0</td>\n",
              "      <td>0.0</td>\n",
              "      <td>2023-07-17 02:00:00</td>\n",
              "    </tr>\n",
              "    <tr>\n",
              "      <th>3</th>\n",
              "      <td>5.671750</td>\n",
              "      <td>0.0</td>\n",
              "      <td>0.0</td>\n",
              "      <td>0.0</td>\n",
              "      <td>2023-07-17 03:00:00</td>\n",
              "    </tr>\n",
              "    <tr>\n",
              "      <th>4</th>\n",
              "      <td>0.504343</td>\n",
              "      <td>0.0</td>\n",
              "      <td>0.0</td>\n",
              "      <td>0.0</td>\n",
              "      <td>2023-07-17 04:00:00</td>\n",
              "    </tr>\n",
              "  </tbody>\n",
              "</table>\n",
              "</div>"
            ],
            "text/plain": [
              "   consumption_kWh  charging_speed_kWh  bev_soc_kWh  pv_generation_kWh  \\\n",
              "0         1.334000                 0.0          0.0                0.0   \n",
              "1         4.318880                 0.0          0.0                0.0   \n",
              "2         0.103945                 0.0          0.0                0.0   \n",
              "3         5.671750                 0.0          0.0                0.0   \n",
              "4         0.504343                 0.0          0.0                0.0   \n",
              "\n",
              "           timestamps  \n",
              "0 2023-07-17 00:00:00  \n",
              "1 2023-07-17 01:00:00  \n",
              "2 2023-07-17 02:00:00  \n",
              "3 2023-07-17 03:00:00  \n",
              "4 2023-07-17 04:00:00  "
            ]
          },
          "execution_count": 36,
          "metadata": {},
          "output_type": "execute_result"
        }
      ],
      "source": [
        "import pandas as pd\n",
        "# Zwischeschritt: Erzeugen eines Dictionaries\n",
        "optimized_charging = {    \"consumption_kWh\" : consumption_kWh,\n",
        "                \"charging_speed_kWh\" : charging_speed_kW,\n",
        "                \"bev_soc_kWh\" : bev_soc_kWh,\n",
        "                \"pv_generation_kWh\" : pv_generation_kWh,\n",
        "                \"timestamps\" : timestamps \n",
        "\n",
        "}\n",
        "# Erzeugen des Datafames\n",
        "dataframe = pd.DataFrame(optimized_charging)\n",
        "\n",
        "# Ausgeben des Kopfes des Dataframes\n",
        "dataframe.head()"
      ]
    },
    {
      "cell_type": "markdown",
      "metadata": {},
      "source": [
        "Dataframes lassen sich schnell als `csv`-Dateiein speichern und auch wieder laden."
      ]
    },
    {
      "cell_type": "code",
      "execution_count": 37,
      "metadata": {},
      "outputs": [],
      "source": [
        "dataframe.to_csv(\"results_optimized_charging.csv\")"
      ]
    },
    {
      "cell_type": "markdown",
      "metadata": {},
      "source": [
        "Zudem stehen viele Pakte zur Auswertung und Visualisierung bereit:"
      ]
    },
    {
      "cell_type": "code",
      "execution_count": 38,
      "metadata": {},
      "outputs": [
        {
          "data": {
            "text/html": [
              "<div>\n",
              "<style scoped>\n",
              "    .dataframe tbody tr th:only-of-type {\n",
              "        vertical-align: middle;\n",
              "    }\n",
              "\n",
              "    .dataframe tbody tr th {\n",
              "        vertical-align: top;\n",
              "    }\n",
              "\n",
              "    .dataframe thead th {\n",
              "        text-align: right;\n",
              "    }\n",
              "</style>\n",
              "<table border=\"1\" class=\"dataframe\">\n",
              "  <thead>\n",
              "    <tr style=\"text-align: right;\">\n",
              "      <th></th>\n",
              "      <th>consumption_kWh</th>\n",
              "      <th>charging_speed_kWh</th>\n",
              "      <th>bev_soc_kWh</th>\n",
              "      <th>pv_generation_kWh</th>\n",
              "    </tr>\n",
              "  </thead>\n",
              "  <tbody>\n",
              "    <tr>\n",
              "      <th>count</th>\n",
              "      <td>24.000000</td>\n",
              "      <td>24.000000</td>\n",
              "      <td>24.000000</td>\n",
              "      <td>24.000000</td>\n",
              "    </tr>\n",
              "    <tr>\n",
              "      <th>mean</th>\n",
              "      <td>2.992889</td>\n",
              "      <td>0.887786</td>\n",
              "      <td>8.805287</td>\n",
              "      <td>2.625000</td>\n",
              "    </tr>\n",
              "    <tr>\n",
              "      <th>std</th>\n",
              "      <td>1.934606</td>\n",
              "      <td>2.433366</td>\n",
              "      <td>10.046605</td>\n",
              "      <td>2.806243</td>\n",
              "    </tr>\n",
              "    <tr>\n",
              "      <th>min</th>\n",
              "      <td>0.103945</td>\n",
              "      <td>0.000000</td>\n",
              "      <td>0.000000</td>\n",
              "      <td>0.000000</td>\n",
              "    </tr>\n",
              "    <tr>\n",
              "      <th>25%</th>\n",
              "      <td>1.299874</td>\n",
              "      <td>0.000000</td>\n",
              "      <td>0.000000</td>\n",
              "      <td>0.000000</td>\n",
              "    </tr>\n",
              "    <tr>\n",
              "      <th>50%</th>\n",
              "      <td>2.734396</td>\n",
              "      <td>0.000000</td>\n",
              "      <td>0.000000</td>\n",
              "      <td>1.500000</td>\n",
              "    </tr>\n",
              "    <tr>\n",
              "      <th>75%</th>\n",
              "      <td>4.752429</td>\n",
              "      <td>0.000000</td>\n",
              "      <td>21.306852</td>\n",
              "      <td>5.250000</td>\n",
              "    </tr>\n",
              "    <tr>\n",
              "      <th>max</th>\n",
              "      <td>5.762117</td>\n",
              "      <td>11.000000</td>\n",
              "      <td>21.306852</td>\n",
              "      <td>6.500000</td>\n",
              "    </tr>\n",
              "  </tbody>\n",
              "</table>\n",
              "</div>"
            ],
            "text/plain": [
              "       consumption_kWh  charging_speed_kWh  bev_soc_kWh  pv_generation_kWh\n",
              "count        24.000000           24.000000    24.000000          24.000000\n",
              "mean          2.992889            0.887786     8.805287           2.625000\n",
              "std           1.934606            2.433366    10.046605           2.806243\n",
              "min           0.103945            0.000000     0.000000           0.000000\n",
              "25%           1.299874            0.000000     0.000000           0.000000\n",
              "50%           2.734396            0.000000     0.000000           1.500000\n",
              "75%           4.752429            0.000000    21.306852           5.250000\n",
              "max           5.762117           11.000000    21.306852           6.500000"
            ]
          },
          "execution_count": 38,
          "metadata": {},
          "output_type": "execute_result"
        }
      ],
      "source": [
        "dataframe.describe()"
      ]
    },
    {
      "cell_type": "code",
      "execution_count": 39,
      "metadata": {},
      "outputs": [
        {
          "data": {
            "application/vnd.plotly.v1+json": {
              "config": {
                "plotlyServerURL": "https://plot.ly"
              },
              "data": [
                {
                  "hovertemplate": "variable=bev_soc_kWh<br>timestamps=%{x}<br>value=%{y}<extra></extra>",
                  "legendgroup": "bev_soc_kWh",
                  "line": {
                    "color": "#636efa",
                    "dash": "solid"
                  },
                  "marker": {
                    "symbol": "circle"
                  },
                  "mode": "lines",
                  "name": "bev_soc_kWh",
                  "orientation": "v",
                  "showlegend": true,
                  "type": "scatter",
                  "x": [
                    "2023-07-17T00:00:00",
                    "2023-07-17T01:00:00",
                    "2023-07-17T02:00:00",
                    "2023-07-17T03:00:00",
                    "2023-07-17T04:00:00",
                    "2023-07-17T05:00:00",
                    "2023-07-17T06:00:00",
                    "2023-07-17T07:00:00",
                    "2023-07-17T08:00:00",
                    "2023-07-17T09:00:00",
                    "2023-07-17T10:00:00",
                    "2023-07-17T11:00:00",
                    "2023-07-17T12:00:00",
                    "2023-07-17T13:00:00",
                    "2023-07-17T14:00:00",
                    "2023-07-17T15:00:00",
                    "2023-07-17T16:00:00",
                    "2023-07-17T17:00:00",
                    "2023-07-17T18:00:00",
                    "2023-07-17T19:00:00",
                    "2023-07-17T20:00:00",
                    "2023-07-17T21:00:00",
                    "2023-07-17T22:00:00",
                    "2023-07-17T23:00:00",
                    "2023-07-17T00:00:00",
                    "2023-07-17T01:00:00",
                    "2023-07-17T02:00:00",
                    "2023-07-17T03:00:00",
                    "2023-07-17T04:00:00",
                    "2023-07-17T05:00:00",
                    "2023-07-17T06:00:00",
                    "2023-07-17T07:00:00",
                    "2023-07-17T08:00:00",
                    "2023-07-17T09:00:00",
                    "2023-07-17T10:00:00",
                    "2023-07-17T11:00:00",
                    "2023-07-17T12:00:00",
                    "2023-07-17T13:00:00",
                    "2023-07-17T14:00:00",
                    "2023-07-17T15:00:00",
                    "2023-07-17T16:00:00",
                    "2023-07-17T17:00:00",
                    "2023-07-17T18:00:00",
                    "2023-07-17T19:00:00",
                    "2023-07-17T20:00:00",
                    "2023-07-17T21:00:00",
                    "2023-07-17T22:00:00",
                    "2023-07-17T23:00:00"
                  ],
                  "xaxis": "x",
                  "y": [
                    0,
                    0,
                    0,
                    0,
                    0,
                    0,
                    0,
                    0,
                    0,
                    0,
                    0,
                    0,
                    0,
                    11,
                    14.442277100811399,
                    18.229278540702424,
                    18.50736578332252,
                    21.306852154639255,
                    21.306852154639255,
                    21.306852154639255,
                    21.306852154639255,
                    21.306852154639255,
                    21.306852154639255,
                    21.306852154639255,
                    0,
                    0,
                    0,
                    0,
                    0,
                    0,
                    0,
                    0,
                    0,
                    0,
                    0,
                    0,
                    0,
                    11,
                    14.442277100811399,
                    18.229278540702424,
                    18.50736578332252,
                    21.306852154639255,
                    21.306852154639255,
                    21.306852154639255,
                    21.306852154639255,
                    21.306852154639255,
                    21.306852154639255,
                    21.306852154639255
                  ],
                  "yaxis": "y"
                },
                {
                  "hovertemplate": "variable=consumption_kWh<br>timestamps=%{x}<br>value=%{y}<extra></extra>",
                  "legendgroup": "consumption_kWh",
                  "line": {
                    "color": "#EF553B",
                    "dash": "solid"
                  },
                  "marker": {
                    "symbol": "circle"
                  },
                  "mode": "lines",
                  "name": "consumption_kWh",
                  "orientation": "v",
                  "showlegend": true,
                  "type": "scatter",
                  "x": [
                    "2023-07-17T00:00:00",
                    "2023-07-17T01:00:00",
                    "2023-07-17T02:00:00",
                    "2023-07-17T03:00:00",
                    "2023-07-17T04:00:00",
                    "2023-07-17T05:00:00",
                    "2023-07-17T06:00:00",
                    "2023-07-17T07:00:00",
                    "2023-07-17T08:00:00",
                    "2023-07-17T09:00:00",
                    "2023-07-17T10:00:00",
                    "2023-07-17T11:00:00",
                    "2023-07-17T12:00:00",
                    "2023-07-17T13:00:00",
                    "2023-07-17T14:00:00",
                    "2023-07-17T15:00:00",
                    "2023-07-17T16:00:00",
                    "2023-07-17T17:00:00",
                    "2023-07-17T18:00:00",
                    "2023-07-17T19:00:00",
                    "2023-07-17T20:00:00",
                    "2023-07-17T21:00:00",
                    "2023-07-17T22:00:00",
                    "2023-07-17T23:00:00"
                  ],
                  "xaxis": "x",
                  "y": [
                    1.334000019228136,
                    4.318880169889554,
                    0.1039448567826049,
                    5.671749785034184,
                    0.5043430966975158,
                    3.4550755305875906,
                    4.214607576025581,
                    0.5845502891673633,
                    5.762116708039993,
                    5.083808119252129,
                    4.843979545586199,
                    5.675377932183514,
                    2.1452384935752695,
                    0.5206098892909334,
                    2.557722899188601,
                    2.212998560108975,
                    4.7219127573799025,
                    2.2005136286832636,
                    3.962019440880173,
                    1.197494353673986,
                    5.599047752082559,
                    0.6260713501880801,
                    1.622210670392941,
                    2.9110692143269556
                  ],
                  "yaxis": "y"
                },
                {
                  "hovertemplate": "variable=charging_speed_kWh<br>timestamps=%{x}<br>value=%{y}<extra></extra>",
                  "legendgroup": "charging_speed_kWh",
                  "line": {
                    "color": "#00cc96",
                    "dash": "solid"
                  },
                  "marker": {
                    "symbol": "circle"
                  },
                  "mode": "lines",
                  "name": "charging_speed_kWh",
                  "orientation": "v",
                  "showlegend": true,
                  "type": "scatter",
                  "x": [
                    "2023-07-17T00:00:00",
                    "2023-07-17T01:00:00",
                    "2023-07-17T02:00:00",
                    "2023-07-17T03:00:00",
                    "2023-07-17T04:00:00",
                    "2023-07-17T05:00:00",
                    "2023-07-17T06:00:00",
                    "2023-07-17T07:00:00",
                    "2023-07-17T08:00:00",
                    "2023-07-17T09:00:00",
                    "2023-07-17T10:00:00",
                    "2023-07-17T11:00:00",
                    "2023-07-17T12:00:00",
                    "2023-07-17T13:00:00",
                    "2023-07-17T14:00:00",
                    "2023-07-17T15:00:00",
                    "2023-07-17T16:00:00",
                    "2023-07-17T17:00:00",
                    "2023-07-17T18:00:00",
                    "2023-07-17T19:00:00",
                    "2023-07-17T20:00:00",
                    "2023-07-17T21:00:00",
                    "2023-07-17T22:00:00",
                    "2023-07-17T23:00:00"
                  ],
                  "xaxis": "x",
                  "y": [
                    0,
                    0,
                    0,
                    0,
                    0,
                    0,
                    0,
                    0,
                    0,
                    0,
                    0,
                    0,
                    0,
                    11,
                    3.442277100811399,
                    3.787001439891025,
                    0.27808724262009754,
                    2.7994863713167364,
                    0,
                    0,
                    0,
                    0,
                    0,
                    0
                  ],
                  "yaxis": "y"
                },
                {
                  "hovertemplate": "variable=pv_generation_kWh<br>timestamps=%{x}<br>value=%{y}<extra></extra>",
                  "legendgroup": "pv_generation_kWh",
                  "line": {
                    "color": "#ab63fa",
                    "dash": "solid"
                  },
                  "marker": {
                    "symbol": "circle"
                  },
                  "mode": "lines",
                  "name": "pv_generation_kWh",
                  "orientation": "v",
                  "showlegend": true,
                  "type": "scatter",
                  "x": [
                    "2023-07-17T00:00:00",
                    "2023-07-17T01:00:00",
                    "2023-07-17T02:00:00",
                    "2023-07-17T03:00:00",
                    "2023-07-17T04:00:00",
                    "2023-07-17T05:00:00",
                    "2023-07-17T06:00:00",
                    "2023-07-17T07:00:00",
                    "2023-07-17T08:00:00",
                    "2023-07-17T09:00:00",
                    "2023-07-17T10:00:00",
                    "2023-07-17T11:00:00",
                    "2023-07-17T12:00:00",
                    "2023-07-17T13:00:00",
                    "2023-07-17T14:00:00",
                    "2023-07-17T15:00:00",
                    "2023-07-17T16:00:00",
                    "2023-07-17T17:00:00",
                    "2023-07-17T18:00:00",
                    "2023-07-17T19:00:00",
                    "2023-07-17T20:00:00",
                    "2023-07-17T21:00:00",
                    "2023-07-17T22:00:00",
                    "2023-07-17T23:00:00"
                  ],
                  "xaxis": "x",
                  "y": [
                    0,
                    0,
                    0,
                    0,
                    0,
                    0,
                    0,
                    3,
                    5,
                    5,
                    6,
                    6,
                    6.5,
                    6.5,
                    6,
                    6,
                    5,
                    5,
                    3,
                    0,
                    0,
                    0,
                    0,
                    0
                  ],
                  "yaxis": "y"
                }
              ],
              "layout": {
                "legend": {
                  "title": {
                    "text": "variable"
                  },
                  "tracegroupgap": 0
                },
                "margin": {
                  "t": 60
                },
                "template": {
                  "data": {
                    "bar": [
                      {
                        "error_x": {
                          "color": "#2a3f5f"
                        },
                        "error_y": {
                          "color": "#2a3f5f"
                        },
                        "marker": {
                          "line": {
                            "color": "#E5ECF6",
                            "width": 0.5
                          },
                          "pattern": {
                            "fillmode": "overlay",
                            "size": 10,
                            "solidity": 0.2
                          }
                        },
                        "type": "bar"
                      }
                    ],
                    "barpolar": [
                      {
                        "marker": {
                          "line": {
                            "color": "#E5ECF6",
                            "width": 0.5
                          },
                          "pattern": {
                            "fillmode": "overlay",
                            "size": 10,
                            "solidity": 0.2
                          }
                        },
                        "type": "barpolar"
                      }
                    ],
                    "carpet": [
                      {
                        "aaxis": {
                          "endlinecolor": "#2a3f5f",
                          "gridcolor": "white",
                          "linecolor": "white",
                          "minorgridcolor": "white",
                          "startlinecolor": "#2a3f5f"
                        },
                        "baxis": {
                          "endlinecolor": "#2a3f5f",
                          "gridcolor": "white",
                          "linecolor": "white",
                          "minorgridcolor": "white",
                          "startlinecolor": "#2a3f5f"
                        },
                        "type": "carpet"
                      }
                    ],
                    "choropleth": [
                      {
                        "colorbar": {
                          "outlinewidth": 0,
                          "ticks": ""
                        },
                        "type": "choropleth"
                      }
                    ],
                    "contour": [
                      {
                        "colorbar": {
                          "outlinewidth": 0,
                          "ticks": ""
                        },
                        "colorscale": [
                          [
                            0,
                            "#0d0887"
                          ],
                          [
                            0.1111111111111111,
                            "#46039f"
                          ],
                          [
                            0.2222222222222222,
                            "#7201a8"
                          ],
                          [
                            0.3333333333333333,
                            "#9c179e"
                          ],
                          [
                            0.4444444444444444,
                            "#bd3786"
                          ],
                          [
                            0.5555555555555556,
                            "#d8576b"
                          ],
                          [
                            0.6666666666666666,
                            "#ed7953"
                          ],
                          [
                            0.7777777777777778,
                            "#fb9f3a"
                          ],
                          [
                            0.8888888888888888,
                            "#fdca26"
                          ],
                          [
                            1,
                            "#f0f921"
                          ]
                        ],
                        "type": "contour"
                      }
                    ],
                    "contourcarpet": [
                      {
                        "colorbar": {
                          "outlinewidth": 0,
                          "ticks": ""
                        },
                        "type": "contourcarpet"
                      }
                    ],
                    "heatmap": [
                      {
                        "colorbar": {
                          "outlinewidth": 0,
                          "ticks": ""
                        },
                        "colorscale": [
                          [
                            0,
                            "#0d0887"
                          ],
                          [
                            0.1111111111111111,
                            "#46039f"
                          ],
                          [
                            0.2222222222222222,
                            "#7201a8"
                          ],
                          [
                            0.3333333333333333,
                            "#9c179e"
                          ],
                          [
                            0.4444444444444444,
                            "#bd3786"
                          ],
                          [
                            0.5555555555555556,
                            "#d8576b"
                          ],
                          [
                            0.6666666666666666,
                            "#ed7953"
                          ],
                          [
                            0.7777777777777778,
                            "#fb9f3a"
                          ],
                          [
                            0.8888888888888888,
                            "#fdca26"
                          ],
                          [
                            1,
                            "#f0f921"
                          ]
                        ],
                        "type": "heatmap"
                      }
                    ],
                    "heatmapgl": [
                      {
                        "colorbar": {
                          "outlinewidth": 0,
                          "ticks": ""
                        },
                        "colorscale": [
                          [
                            0,
                            "#0d0887"
                          ],
                          [
                            0.1111111111111111,
                            "#46039f"
                          ],
                          [
                            0.2222222222222222,
                            "#7201a8"
                          ],
                          [
                            0.3333333333333333,
                            "#9c179e"
                          ],
                          [
                            0.4444444444444444,
                            "#bd3786"
                          ],
                          [
                            0.5555555555555556,
                            "#d8576b"
                          ],
                          [
                            0.6666666666666666,
                            "#ed7953"
                          ],
                          [
                            0.7777777777777778,
                            "#fb9f3a"
                          ],
                          [
                            0.8888888888888888,
                            "#fdca26"
                          ],
                          [
                            1,
                            "#f0f921"
                          ]
                        ],
                        "type": "heatmapgl"
                      }
                    ],
                    "histogram": [
                      {
                        "marker": {
                          "pattern": {
                            "fillmode": "overlay",
                            "size": 10,
                            "solidity": 0.2
                          }
                        },
                        "type": "histogram"
                      }
                    ],
                    "histogram2d": [
                      {
                        "colorbar": {
                          "outlinewidth": 0,
                          "ticks": ""
                        },
                        "colorscale": [
                          [
                            0,
                            "#0d0887"
                          ],
                          [
                            0.1111111111111111,
                            "#46039f"
                          ],
                          [
                            0.2222222222222222,
                            "#7201a8"
                          ],
                          [
                            0.3333333333333333,
                            "#9c179e"
                          ],
                          [
                            0.4444444444444444,
                            "#bd3786"
                          ],
                          [
                            0.5555555555555556,
                            "#d8576b"
                          ],
                          [
                            0.6666666666666666,
                            "#ed7953"
                          ],
                          [
                            0.7777777777777778,
                            "#fb9f3a"
                          ],
                          [
                            0.8888888888888888,
                            "#fdca26"
                          ],
                          [
                            1,
                            "#f0f921"
                          ]
                        ],
                        "type": "histogram2d"
                      }
                    ],
                    "histogram2dcontour": [
                      {
                        "colorbar": {
                          "outlinewidth": 0,
                          "ticks": ""
                        },
                        "colorscale": [
                          [
                            0,
                            "#0d0887"
                          ],
                          [
                            0.1111111111111111,
                            "#46039f"
                          ],
                          [
                            0.2222222222222222,
                            "#7201a8"
                          ],
                          [
                            0.3333333333333333,
                            "#9c179e"
                          ],
                          [
                            0.4444444444444444,
                            "#bd3786"
                          ],
                          [
                            0.5555555555555556,
                            "#d8576b"
                          ],
                          [
                            0.6666666666666666,
                            "#ed7953"
                          ],
                          [
                            0.7777777777777778,
                            "#fb9f3a"
                          ],
                          [
                            0.8888888888888888,
                            "#fdca26"
                          ],
                          [
                            1,
                            "#f0f921"
                          ]
                        ],
                        "type": "histogram2dcontour"
                      }
                    ],
                    "mesh3d": [
                      {
                        "colorbar": {
                          "outlinewidth": 0,
                          "ticks": ""
                        },
                        "type": "mesh3d"
                      }
                    ],
                    "parcoords": [
                      {
                        "line": {
                          "colorbar": {
                            "outlinewidth": 0,
                            "ticks": ""
                          }
                        },
                        "type": "parcoords"
                      }
                    ],
                    "pie": [
                      {
                        "automargin": true,
                        "type": "pie"
                      }
                    ],
                    "scatter": [
                      {
                        "marker": {
                          "colorbar": {
                            "outlinewidth": 0,
                            "ticks": ""
                          }
                        },
                        "type": "scatter"
                      }
                    ],
                    "scatter3d": [
                      {
                        "line": {
                          "colorbar": {
                            "outlinewidth": 0,
                            "ticks": ""
                          }
                        },
                        "marker": {
                          "colorbar": {
                            "outlinewidth": 0,
                            "ticks": ""
                          }
                        },
                        "type": "scatter3d"
                      }
                    ],
                    "scattercarpet": [
                      {
                        "marker": {
                          "colorbar": {
                            "outlinewidth": 0,
                            "ticks": ""
                          }
                        },
                        "type": "scattercarpet"
                      }
                    ],
                    "scattergeo": [
                      {
                        "marker": {
                          "colorbar": {
                            "outlinewidth": 0,
                            "ticks": ""
                          }
                        },
                        "type": "scattergeo"
                      }
                    ],
                    "scattergl": [
                      {
                        "marker": {
                          "colorbar": {
                            "outlinewidth": 0,
                            "ticks": ""
                          }
                        },
                        "type": "scattergl"
                      }
                    ],
                    "scattermapbox": [
                      {
                        "marker": {
                          "colorbar": {
                            "outlinewidth": 0,
                            "ticks": ""
                          }
                        },
                        "type": "scattermapbox"
                      }
                    ],
                    "scatterpolar": [
                      {
                        "marker": {
                          "colorbar": {
                            "outlinewidth": 0,
                            "ticks": ""
                          }
                        },
                        "type": "scatterpolar"
                      }
                    ],
                    "scatterpolargl": [
                      {
                        "marker": {
                          "colorbar": {
                            "outlinewidth": 0,
                            "ticks": ""
                          }
                        },
                        "type": "scatterpolargl"
                      }
                    ],
                    "scatterternary": [
                      {
                        "marker": {
                          "colorbar": {
                            "outlinewidth": 0,
                            "ticks": ""
                          }
                        },
                        "type": "scatterternary"
                      }
                    ],
                    "surface": [
                      {
                        "colorbar": {
                          "outlinewidth": 0,
                          "ticks": ""
                        },
                        "colorscale": [
                          [
                            0,
                            "#0d0887"
                          ],
                          [
                            0.1111111111111111,
                            "#46039f"
                          ],
                          [
                            0.2222222222222222,
                            "#7201a8"
                          ],
                          [
                            0.3333333333333333,
                            "#9c179e"
                          ],
                          [
                            0.4444444444444444,
                            "#bd3786"
                          ],
                          [
                            0.5555555555555556,
                            "#d8576b"
                          ],
                          [
                            0.6666666666666666,
                            "#ed7953"
                          ],
                          [
                            0.7777777777777778,
                            "#fb9f3a"
                          ],
                          [
                            0.8888888888888888,
                            "#fdca26"
                          ],
                          [
                            1,
                            "#f0f921"
                          ]
                        ],
                        "type": "surface"
                      }
                    ],
                    "table": [
                      {
                        "cells": {
                          "fill": {
                            "color": "#EBF0F8"
                          },
                          "line": {
                            "color": "white"
                          }
                        },
                        "header": {
                          "fill": {
                            "color": "#C8D4E3"
                          },
                          "line": {
                            "color": "white"
                          }
                        },
                        "type": "table"
                      }
                    ]
                  },
                  "layout": {
                    "annotationdefaults": {
                      "arrowcolor": "#2a3f5f",
                      "arrowhead": 0,
                      "arrowwidth": 1
                    },
                    "autotypenumbers": "strict",
                    "coloraxis": {
                      "colorbar": {
                        "outlinewidth": 0,
                        "ticks": ""
                      }
                    },
                    "colorscale": {
                      "diverging": [
                        [
                          0,
                          "#8e0152"
                        ],
                        [
                          0.1,
                          "#c51b7d"
                        ],
                        [
                          0.2,
                          "#de77ae"
                        ],
                        [
                          0.3,
                          "#f1b6da"
                        ],
                        [
                          0.4,
                          "#fde0ef"
                        ],
                        [
                          0.5,
                          "#f7f7f7"
                        ],
                        [
                          0.6,
                          "#e6f5d0"
                        ],
                        [
                          0.7,
                          "#b8e186"
                        ],
                        [
                          0.8,
                          "#7fbc41"
                        ],
                        [
                          0.9,
                          "#4d9221"
                        ],
                        [
                          1,
                          "#276419"
                        ]
                      ],
                      "sequential": [
                        [
                          0,
                          "#0d0887"
                        ],
                        [
                          0.1111111111111111,
                          "#46039f"
                        ],
                        [
                          0.2222222222222222,
                          "#7201a8"
                        ],
                        [
                          0.3333333333333333,
                          "#9c179e"
                        ],
                        [
                          0.4444444444444444,
                          "#bd3786"
                        ],
                        [
                          0.5555555555555556,
                          "#d8576b"
                        ],
                        [
                          0.6666666666666666,
                          "#ed7953"
                        ],
                        [
                          0.7777777777777778,
                          "#fb9f3a"
                        ],
                        [
                          0.8888888888888888,
                          "#fdca26"
                        ],
                        [
                          1,
                          "#f0f921"
                        ]
                      ],
                      "sequentialminus": [
                        [
                          0,
                          "#0d0887"
                        ],
                        [
                          0.1111111111111111,
                          "#46039f"
                        ],
                        [
                          0.2222222222222222,
                          "#7201a8"
                        ],
                        [
                          0.3333333333333333,
                          "#9c179e"
                        ],
                        [
                          0.4444444444444444,
                          "#bd3786"
                        ],
                        [
                          0.5555555555555556,
                          "#d8576b"
                        ],
                        [
                          0.6666666666666666,
                          "#ed7953"
                        ],
                        [
                          0.7777777777777778,
                          "#fb9f3a"
                        ],
                        [
                          0.8888888888888888,
                          "#fdca26"
                        ],
                        [
                          1,
                          "#f0f921"
                        ]
                      ]
                    },
                    "colorway": [
                      "#636efa",
                      "#EF553B",
                      "#00cc96",
                      "#ab63fa",
                      "#FFA15A",
                      "#19d3f3",
                      "#FF6692",
                      "#B6E880",
                      "#FF97FF",
                      "#FECB52"
                    ],
                    "font": {
                      "color": "#2a3f5f"
                    },
                    "geo": {
                      "bgcolor": "white",
                      "lakecolor": "white",
                      "landcolor": "#E5ECF6",
                      "showlakes": true,
                      "showland": true,
                      "subunitcolor": "white"
                    },
                    "hoverlabel": {
                      "align": "left"
                    },
                    "hovermode": "closest",
                    "mapbox": {
                      "style": "light"
                    },
                    "paper_bgcolor": "white",
                    "plot_bgcolor": "#E5ECF6",
                    "polar": {
                      "angularaxis": {
                        "gridcolor": "white",
                        "linecolor": "white",
                        "ticks": ""
                      },
                      "bgcolor": "#E5ECF6",
                      "radialaxis": {
                        "gridcolor": "white",
                        "linecolor": "white",
                        "ticks": ""
                      }
                    },
                    "scene": {
                      "xaxis": {
                        "backgroundcolor": "#E5ECF6",
                        "gridcolor": "white",
                        "gridwidth": 2,
                        "linecolor": "white",
                        "showbackground": true,
                        "ticks": "",
                        "zerolinecolor": "white"
                      },
                      "yaxis": {
                        "backgroundcolor": "#E5ECF6",
                        "gridcolor": "white",
                        "gridwidth": 2,
                        "linecolor": "white",
                        "showbackground": true,
                        "ticks": "",
                        "zerolinecolor": "white"
                      },
                      "zaxis": {
                        "backgroundcolor": "#E5ECF6",
                        "gridcolor": "white",
                        "gridwidth": 2,
                        "linecolor": "white",
                        "showbackground": true,
                        "ticks": "",
                        "zerolinecolor": "white"
                      }
                    },
                    "shapedefaults": {
                      "line": {
                        "color": "#2a3f5f"
                      }
                    },
                    "ternary": {
                      "aaxis": {
                        "gridcolor": "white",
                        "linecolor": "white",
                        "ticks": ""
                      },
                      "baxis": {
                        "gridcolor": "white",
                        "linecolor": "white",
                        "ticks": ""
                      },
                      "bgcolor": "#E5ECF6",
                      "caxis": {
                        "gridcolor": "white",
                        "linecolor": "white",
                        "ticks": ""
                      }
                    },
                    "title": {
                      "x": 0.05
                    },
                    "xaxis": {
                      "automargin": true,
                      "gridcolor": "white",
                      "linecolor": "white",
                      "ticks": "",
                      "title": {
                        "standoff": 15
                      },
                      "zerolinecolor": "white",
                      "zerolinewidth": 2
                    },
                    "yaxis": {
                      "automargin": true,
                      "gridcolor": "white",
                      "linecolor": "white",
                      "ticks": "",
                      "title": {
                        "standoff": 15
                      },
                      "zerolinecolor": "white",
                      "zerolinewidth": 2
                    }
                  }
                },
                "xaxis": {
                  "anchor": "y",
                  "domain": [
                    0,
                    1
                  ],
                  "title": {
                    "text": "timestamps"
                  }
                },
                "yaxis": {
                  "anchor": "x",
                  "domain": [
                    0,
                    1
                  ],
                  "title": {
                    "text": "value"
                  }
                }
              }
            }
          },
          "metadata": {},
          "output_type": "display_data"
        }
      ],
      "source": [
        "import plotly.express as px\n",
        "\n",
        "# List arguments in wide form\n",
        "fig = px.line(data_frame=dataframe, x = \"timestamps\", y=[\"bev_soc_kWh\",\"consumption_kWh\",\"charging_speed_kWh\",\"bev_soc_kWh\",\"pv_generation_kWh\"])\n",
        "fig.show()"
      ]
    },
    {
      "cell_type": "markdown",
      "metadata": {},
      "source": [
        "✍️ **Aufgabe**\n",
        "\n",
        "Passen Sie den Code oben, so an, dass auch Spalten für `erloes_einspeisung_euro` und `kosten_bezug_euro` vorkommen und  speichern Sie die Datei mit einem `;` als Trennzeichen. Nutzen Sie zudem ein ASCII-Encoding. Schauen Sie sich die [Dokumentation der Funktion](https://pandas.pydata.org/docs/reference/api/pandas.DataFrame.to_csv.html) an, um die Richtigen Befehle zu finden.\n",
        "\n"
      ]
    },
    {
      "cell_type": "code",
      "execution_count": 41,
      "metadata": {},
      "outputs": [],
      "source": [
        "dataframe[\"erloes_einspeisung_euro\"] = erloes_einspeisung_euro\n",
        "\n",
        "\n",
        "dataframe.to_csv(\"results_optimized_charging.csv\", encoding = \"ASCII\", sep =\";\")"
      ]
    },
    {
      "cell_type": "code",
      "execution_count": null,
      "metadata": {},
      "outputs": [],
      "source": []
    },
    {
      "cell_type": "code",
      "execution_count": null,
      "metadata": {},
      "outputs": [],
      "source": []
    }
  ],
  "metadata": {
    "colab": {
      "provenance": []
    },
    "kernelspec": {
      "display_name": "Python 3.8.8 ('base')",
      "language": "python",
      "name": "python3"
    },
    "language_info": {
      "codemirror_mode": {
        "name": "ipython",
        "version": 3
      },
      "file_extension": ".py",
      "mimetype": "text/x-python",
      "name": "python",
      "nbconvert_exporter": "python",
      "pygments_lexer": "ipython3",
      "version": "3.8.8"
    },
    "vscode": {
      "interpreter": {
        "hash": "91b5df634ae01e052c095f84ce6ac57f1bf815a7c386b368c11e7051e1049005"
      }
    }
  },
  "nbformat": 4,
  "nbformat_minor": 0
}
